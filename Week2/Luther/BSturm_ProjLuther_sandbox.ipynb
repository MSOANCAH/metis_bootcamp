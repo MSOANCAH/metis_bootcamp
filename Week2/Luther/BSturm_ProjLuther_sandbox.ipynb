{
 "cells": [
  {
   "cell_type": "markdown",
   "metadata": {},
   "source": [
    "Let's try to scrape some data from Zillow"
   ]
  },
  {
   "cell_type": "code",
   "execution_count": 123,
   "metadata": {},
   "outputs": [],
   "source": [
    "import os\n",
    "import requests\n",
    "from bs4 import BeautifulSoup\n",
    "from selenium import webdriver\n",
    "from selenium.webdriver.common.keys import Keys\n",
    "from selenium.webdriver.common.by import By\n",
    "from selenium.webdriver.support.ui import WebDriverWait\n",
    "from selenium.webdriver.support import expected_conditions as EC\n",
    "from selenium.common.exceptions import TimeoutException\n",
    "from selenium.common.exceptions import StaleElementReferenceException\n",
    "import numpy as np\n",
    "\n",
    "import time\n",
    "import sys"
   ]
  },
  {
   "cell_type": "code",
   "execution_count": 147,
   "metadata": {},
   "outputs": [
    {
     "name": "stdout",
     "output_type": "stream",
     "text": [
      "chromedriver path: /Users/bwsturm/Downloads/chromedriver\n"
     ]
    }
   ],
   "source": [
    "chromedriver = \"~/Downloads/chromedriver\" # path to the chromedriver executable\n",
    "chromedriver = os.path.expanduser(chromedriver)\n",
    "print('chromedriver path: {}'.format(chromedriver))\n",
    "sys.path.append(chromedriver)\n",
    "\n",
    "driver = webdriver.Chrome(chromedriver)"
   ]
  },
  {
   "cell_type": "code",
   "execution_count": 148,
   "metadata": {},
   "outputs": [],
   "source": [
    "zillow_pleasanton_url = \"https://www.zillow.com/homes/recently_sold/Pleasanton-CA/_type/47164_rid/globalrelevanceex_sort/37.739091,-121.749974,37.583085,-122.028065_rect/11_zm/\"\n",
    "driver.get(zillow_pleasanton_url)"
   ]
  },
  {
   "cell_type": "code",
   "execution_count": 22,
   "metadata": {},
   "outputs": [],
   "source": [
    "#add a wait\n",
    "#selenium Timeout exception\n",
    "time.sleep(3)\n",
    "links = driver.find_element_by_class_name(\"zsg-photo-card-overlay-link\")"
   ]
  },
  {
   "cell_type": "code",
   "execution_count": 23,
   "metadata": {},
   "outputs": [],
   "source": [
    "links.send_keys(Keys.RETURN)"
   ]
  },
  {
   "cell_type": "code",
   "execution_count": 25,
   "metadata": {},
   "outputs": [],
   "source": [
    "time.sleep(3)\n",
    "header = driver.find_element_by_class_name(\"zsg-content-header\")"
   ]
  },
  {
   "cell_type": "code",
   "execution_count": 26,
   "metadata": {},
   "outputs": [
    {
     "data": {
      "text/plain": [
       "'5650 Hansen Dr,\\nPleasanton, CA 94566\\n4 beds 2 baths 1,527 sqft'"
      ]
     },
     "execution_count": 26,
     "metadata": {},
     "output_type": "execute_result"
    }
   ],
   "source": [
    "header.text"
   ]
  },
  {
   "cell_type": "code",
   "execution_count": 27,
   "metadata": {},
   "outputs": [],
   "source": [
    "home_data = driver.find_element_by_class_name(\"z-moreless-content\")"
   ]
  },
  {
   "cell_type": "code",
   "execution_count": 28,
   "metadata": {},
   "outputs": [
    {
     "data": {
      "text/plain": [
       "'INTERIOR FEATURES\\nBedrooms\\nBeds: 4\\nBathrooms\\nBATH-MASTER INCLUDES: Updated Baths\\nBATH NON-MSTR INCLUDE: Updated Baths\\nKitchen\\nKITCHEN FEATURES: Dishwasher, Garbage Disposal, Microwave, Breakfast Nook, Pantry, Ice Maker Hookup, Updated Kitchen, Breakfast Bar, Island, Counter - Stone\\nOther Rooms\\nLEVEL - STREET: Laundry Facility, Main Entry, 2 Baths, 4 Bedrooms\\nROOM - ADDITIONAL: Dining Area, Kitchen/Family Combo, Dining Ell\\nLAUNDRY: 220 Volt Outlet\\nHeating and Cooling\\nCOOLING: Central 1 Zone A/C\\nHEATING: Forced Air 1 Zone\\nFlooring\\nFloor size: 1,527 sqft\\nFLOORING: Wall to Wall Carpeting, Hardwood Floors, Stone (Marble, Slate etc.\\nOther Interior Features\\nEQUIPMENT ADDITIONAL: Garage Door Opener, Water Heater Gas, Window Coverings, Security Alarm - Owned\\nFIREPLACES: 1\\nBUILDING\\nSize\\nStories: One Story\\nCONSTRUCTION\\nType and Style\\nSingle Family\\nClass: RESIDENTIAL\\nSTYLE: Ranch\\nMaterials\\nEXTERIOR: Stucco, Wood Siding, Dual Pane Windows\\nROOF: Composition Shingles\\nCondition\\nCONSTRUCTION STATUS: Existing\\nDates\\nBuilt in 1973\\nOther Construction Features\\nStories: 0\\nEXTERIOR FEATURES\\nYard\\nYARD DESCRIPTION: Back Yard, Sprinklers Automatic, Fenced, Front Yard, Garden/Play, Side Yard\\nLot\\nLot: 6,699 sqft\\nLOT DESCRIPTION: Level, Regular\\nOther Exterior Features\\nParcel #: 946340416\\nCOMMUNITY AND NEIGHBORHOOD\\nLocation\\nCity: PLEASANTON\\nPARKING\\nGARAGE/PARKING: Attached Garage\\nGarage (Y/N): Yes\\nUTILITIES\\nWATER/SEWER: Sewer System - Public, Water - Public\\nGreen Energy\\nGreat solar potential\\nSun Number™: 71\\nSOURCES\\nSource: Public Records\\nOTHER\\nLast sold: Apr 2018 for $1,200,000\\nLast sale price/sqft: $786\\nCounty websiteSee data sources'"
      ]
     },
     "execution_count": 28,
     "metadata": {},
     "output_type": "execute_result"
    }
   ],
   "source": [
    "home_data.text"
   ]
  },
  {
   "cell_type": "code",
   "execution_count": 33,
   "metadata": {},
   "outputs": [],
   "source": [
    "driver.find_element_by_class_name(\"hc-back-to-list\").click()"
   ]
  },
  {
   "cell_type": "code",
   "execution_count": 196,
   "metadata": {},
   "outputs": [],
   "source": [
    "links = driver.find_elements_by_class_name(\"zsg-photo-card-overlay-link\")"
   ]
  },
  {
   "cell_type": "code",
   "execution_count": 197,
   "metadata": {},
   "outputs": [],
   "source": [
    "driver.implicitly_wait(10)"
   ]
  },
  {
   "cell_type": "code",
   "execution_count": 76,
   "metadata": {},
   "outputs": [
    {
     "name": "stdout",
     "output_type": "stream",
     "text": [
      "5650 Hansen Dr,\n",
      "Pleasanton, CA 94566\n",
      "4 beds 2 baths 1,527 sqft\n",
      "6048 Inglewood Dr,\n",
      "Pleasanton, CA 94588\n",
      "4 beds 2 baths 1,733 sqft\n",
      "2668 Calle Morelia,\n",
      "Pleasanton, CA 94566\n",
      "5 beds 3 baths 2,422 sqft\n",
      "3884 Vineyard Ave,\n",
      "Pleasanton, CA 94566\n",
      "3 beds 2 baths 1,652 sqft\n",
      "6570 Arlington Dr,\n",
      "Pleasanton, CA 94566\n",
      "4 beds 3 baths 2,652 sqft\n",
      "681 Norante Ct,\n",
      "Pleasanton, CA 94566\n",
      "5 beds 6 baths 6,132 sqft\n",
      "4553 Carver Ct,\n",
      "Pleasanton, CA 94588\n",
      "4 beds 2 baths 1,552 sqft\n",
      "4078 Cristobal Way,\n",
      "Pleasanton, CA 94566\n",
      "3 beds 2 baths 1,159 sqft\n"
     ]
    },
    {
     "ename": "StaleElementReferenceException",
     "evalue": "Message: stale element reference: element is not attached to the page document\n  (Session info: chrome=66.0.3359.117)\n  (Driver info: chromedriver=2.38.551581 (2c9c29527ada10af4745ab26dd000ebb6d5e055e),platform=Mac OS X 10.13.4 x86_64)\n",
     "output_type": "error",
     "traceback": [
      "\u001b[0;31m---------------------------------------------------------------------------\u001b[0m",
      "\u001b[0;31mStaleElementReferenceException\u001b[0m            Traceback (most recent call last)",
      "\u001b[0;32m<ipython-input-76-8dac07848c53>\u001b[0m in \u001b[0;36m<module>\u001b[0;34m()\u001b[0m\n\u001b[1;32m      1\u001b[0m \u001b[0;32mfor\u001b[0m \u001b[0mlink\u001b[0m \u001b[0;32min\u001b[0m \u001b[0mlinks\u001b[0m\u001b[0;34m:\u001b[0m\u001b[0;34m\u001b[0m\u001b[0m\n\u001b[0;32m----> 2\u001b[0;31m     \u001b[0mlink\u001b[0m\u001b[0;34m.\u001b[0m\u001b[0msend_keys\u001b[0m\u001b[0;34m(\u001b[0m\u001b[0mKeys\u001b[0m\u001b[0;34m.\u001b[0m\u001b[0mRETURN\u001b[0m\u001b[0;34m)\u001b[0m\u001b[0;34m\u001b[0m\u001b[0m\n\u001b[0m\u001b[1;32m      3\u001b[0m     \u001b[0mtime\u001b[0m\u001b[0;34m.\u001b[0m\u001b[0msleep\u001b[0m\u001b[0;34m(\u001b[0m\u001b[0;36m3\u001b[0m\u001b[0;34m)\u001b[0m\u001b[0;34m\u001b[0m\u001b[0m\n\u001b[1;32m      4\u001b[0m     \u001b[0mheader\u001b[0m \u001b[0;34m=\u001b[0m \u001b[0mdriver\u001b[0m\u001b[0;34m.\u001b[0m\u001b[0mfind_element_by_class_name\u001b[0m\u001b[0;34m(\u001b[0m\u001b[0;34m\"zsg-content-header\"\u001b[0m\u001b[0;34m)\u001b[0m\u001b[0;34m\u001b[0m\u001b[0m\n\u001b[1;32m      5\u001b[0m     \u001b[0mprint\u001b[0m\u001b[0;34m(\u001b[0m\u001b[0mheader\u001b[0m\u001b[0;34m.\u001b[0m\u001b[0mtext\u001b[0m\u001b[0;34m)\u001b[0m\u001b[0;34m\u001b[0m\u001b[0m\n",
      "\u001b[0;32m~/anaconda/lib/python3.6/site-packages/selenium/webdriver/remote/webelement.py\u001b[0m in \u001b[0;36msend_keys\u001b[0;34m(self, *value)\u001b[0m\n\u001b[1;32m    477\u001b[0m         self._execute(Command.SEND_KEYS_TO_ELEMENT,\n\u001b[1;32m    478\u001b[0m                       {'text': \"\".join(keys_to_typing(value)),\n\u001b[0;32m--> 479\u001b[0;31m                        'value': keys_to_typing(value)})\n\u001b[0m\u001b[1;32m    480\u001b[0m \u001b[0;34m\u001b[0m\u001b[0m\n\u001b[1;32m    481\u001b[0m     \u001b[0;31m# RenderedWebElement Items\u001b[0m\u001b[0;34m\u001b[0m\u001b[0;34m\u001b[0m\u001b[0m\n",
      "\u001b[0;32m~/anaconda/lib/python3.6/site-packages/selenium/webdriver/remote/webelement.py\u001b[0m in \u001b[0;36m_execute\u001b[0;34m(self, command, params)\u001b[0m\n\u001b[1;32m    626\u001b[0m             \u001b[0mparams\u001b[0m \u001b[0;34m=\u001b[0m \u001b[0;34m{\u001b[0m\u001b[0;34m}\u001b[0m\u001b[0;34m\u001b[0m\u001b[0m\n\u001b[1;32m    627\u001b[0m         \u001b[0mparams\u001b[0m\u001b[0;34m[\u001b[0m\u001b[0;34m'id'\u001b[0m\u001b[0;34m]\u001b[0m \u001b[0;34m=\u001b[0m \u001b[0mself\u001b[0m\u001b[0;34m.\u001b[0m\u001b[0m_id\u001b[0m\u001b[0;34m\u001b[0m\u001b[0m\n\u001b[0;32m--> 628\u001b[0;31m         \u001b[0;32mreturn\u001b[0m \u001b[0mself\u001b[0m\u001b[0;34m.\u001b[0m\u001b[0m_parent\u001b[0m\u001b[0;34m.\u001b[0m\u001b[0mexecute\u001b[0m\u001b[0;34m(\u001b[0m\u001b[0mcommand\u001b[0m\u001b[0;34m,\u001b[0m \u001b[0mparams\u001b[0m\u001b[0;34m)\u001b[0m\u001b[0;34m\u001b[0m\u001b[0m\n\u001b[0m\u001b[1;32m    629\u001b[0m \u001b[0;34m\u001b[0m\u001b[0m\n\u001b[1;32m    630\u001b[0m     \u001b[0;32mdef\u001b[0m \u001b[0mfind_element\u001b[0m\u001b[0;34m(\u001b[0m\u001b[0mself\u001b[0m\u001b[0;34m,\u001b[0m \u001b[0mby\u001b[0m\u001b[0;34m=\u001b[0m\u001b[0mBy\u001b[0m\u001b[0;34m.\u001b[0m\u001b[0mID\u001b[0m\u001b[0;34m,\u001b[0m \u001b[0mvalue\u001b[0m\u001b[0;34m=\u001b[0m\u001b[0;32mNone\u001b[0m\u001b[0;34m)\u001b[0m\u001b[0;34m:\u001b[0m\u001b[0;34m\u001b[0m\u001b[0m\n",
      "\u001b[0;32m~/anaconda/lib/python3.6/site-packages/selenium/webdriver/remote/webdriver.py\u001b[0m in \u001b[0;36mexecute\u001b[0;34m(self, driver_command, params)\u001b[0m\n\u001b[1;32m    310\u001b[0m         \u001b[0mresponse\u001b[0m \u001b[0;34m=\u001b[0m \u001b[0mself\u001b[0m\u001b[0;34m.\u001b[0m\u001b[0mcommand_executor\u001b[0m\u001b[0;34m.\u001b[0m\u001b[0mexecute\u001b[0m\u001b[0;34m(\u001b[0m\u001b[0mdriver_command\u001b[0m\u001b[0;34m,\u001b[0m \u001b[0mparams\u001b[0m\u001b[0;34m)\u001b[0m\u001b[0;34m\u001b[0m\u001b[0m\n\u001b[1;32m    311\u001b[0m         \u001b[0;32mif\u001b[0m \u001b[0mresponse\u001b[0m\u001b[0;34m:\u001b[0m\u001b[0;34m\u001b[0m\u001b[0m\n\u001b[0;32m--> 312\u001b[0;31m             \u001b[0mself\u001b[0m\u001b[0;34m.\u001b[0m\u001b[0merror_handler\u001b[0m\u001b[0;34m.\u001b[0m\u001b[0mcheck_response\u001b[0m\u001b[0;34m(\u001b[0m\u001b[0mresponse\u001b[0m\u001b[0;34m)\u001b[0m\u001b[0;34m\u001b[0m\u001b[0m\n\u001b[0m\u001b[1;32m    313\u001b[0m             response['value'] = self._unwrap_value(\n\u001b[1;32m    314\u001b[0m                 response.get('value', None))\n",
      "\u001b[0;32m~/anaconda/lib/python3.6/site-packages/selenium/webdriver/remote/errorhandler.py\u001b[0m in \u001b[0;36mcheck_response\u001b[0;34m(self, response)\u001b[0m\n\u001b[1;32m    240\u001b[0m                 \u001b[0malert_text\u001b[0m \u001b[0;34m=\u001b[0m \u001b[0mvalue\u001b[0m\u001b[0;34m[\u001b[0m\u001b[0;34m'alert'\u001b[0m\u001b[0;34m]\u001b[0m\u001b[0;34m.\u001b[0m\u001b[0mget\u001b[0m\u001b[0;34m(\u001b[0m\u001b[0;34m'text'\u001b[0m\u001b[0;34m)\u001b[0m\u001b[0;34m\u001b[0m\u001b[0m\n\u001b[1;32m    241\u001b[0m             \u001b[0;32mraise\u001b[0m \u001b[0mexception_class\u001b[0m\u001b[0;34m(\u001b[0m\u001b[0mmessage\u001b[0m\u001b[0;34m,\u001b[0m \u001b[0mscreen\u001b[0m\u001b[0;34m,\u001b[0m \u001b[0mstacktrace\u001b[0m\u001b[0;34m,\u001b[0m \u001b[0malert_text\u001b[0m\u001b[0;34m)\u001b[0m\u001b[0;34m\u001b[0m\u001b[0m\n\u001b[0;32m--> 242\u001b[0;31m         \u001b[0;32mraise\u001b[0m \u001b[0mexception_class\u001b[0m\u001b[0;34m(\u001b[0m\u001b[0mmessage\u001b[0m\u001b[0;34m,\u001b[0m \u001b[0mscreen\u001b[0m\u001b[0;34m,\u001b[0m \u001b[0mstacktrace\u001b[0m\u001b[0;34m)\u001b[0m\u001b[0;34m\u001b[0m\u001b[0m\n\u001b[0m\u001b[1;32m    243\u001b[0m \u001b[0;34m\u001b[0m\u001b[0m\n\u001b[1;32m    244\u001b[0m     \u001b[0;32mdef\u001b[0m \u001b[0m_value_or_default\u001b[0m\u001b[0;34m(\u001b[0m\u001b[0mself\u001b[0m\u001b[0;34m,\u001b[0m \u001b[0mobj\u001b[0m\u001b[0;34m,\u001b[0m \u001b[0mkey\u001b[0m\u001b[0;34m,\u001b[0m \u001b[0mdefault\u001b[0m\u001b[0;34m)\u001b[0m\u001b[0;34m:\u001b[0m\u001b[0;34m\u001b[0m\u001b[0m\n",
      "\u001b[0;31mStaleElementReferenceException\u001b[0m: Message: stale element reference: element is not attached to the page document\n  (Session info: chrome=66.0.3359.117)\n  (Driver info: chromedriver=2.38.551581 (2c9c29527ada10af4745ab26dd000ebb6d5e055e),platform=Mac OS X 10.13.4 x86_64)\n"
     ]
    }
   ],
   "source": [
    "for link in links:\n",
    "    link.send_keys(Keys.RETURN)\n",
    "    time.sleep(3)\n",
    "    header = driver.find_element_by_class_name(\"zsg-content-header\")\n",
    "    print(header.text)\n",
    "    driver.find_element_by_class_name(\"hc-back-to-list\").click()"
   ]
  },
  {
   "cell_type": "code",
   "execution_count": 130,
   "metadata": {},
   "outputs": [
    {
     "name": "stdout",
     "output_type": "stream",
     "text": [
      "5650 Hansen Dr,\n",
      "Pleasanton, CA 94566\n",
      "4 beds 2 baths 1,527 sqft\n",
      "5650 Hansen Dr,\n",
      "Pleasanton, CA 94566\n",
      "4 beds 2 baths 1,527 sqft\n",
      "5650 Hansen Dr,\n",
      "Pleasanton, CA 94566\n",
      "4 beds 2 baths 1,527 sqft\n",
      "5650 Hansen Dr,\n",
      "Pleasanton, CA 94566\n",
      "4 beds 2 baths 1,527 sqft\n",
      "5650 Hansen Dr,\n",
      "Pleasanton, CA 94566\n",
      "4 beds 2 baths 1,527 sqft\n",
      "5650 Hansen Dr,\n",
      "Pleasanton, CA 94566\n",
      "4 beds 2 baths 1,527 sqft\n",
      "5650 Hansen Dr,\n",
      "Pleasanton, CA 94566\n",
      "4 beds 2 baths 1,527 sqft\n",
      "5650 Hansen Dr,\n",
      "Pleasanton, CA 94566\n",
      "4 beds 2 baths 1,527 sqft\n",
      "5650 Hansen Dr,\n",
      "Pleasanton, CA 94566\n",
      "4 beds 2 baths 1,527 sqft\n",
      "5650 Hansen Dr,\n",
      "Pleasanton, CA 94566\n",
      "4 beds 2 baths 1,527 sqft\n",
      "5650 Hansen Dr,\n",
      "Pleasanton, CA 94566\n",
      "4 beds 2 baths 1,527 sqft\n"
     ]
    },
    {
     "ename": "KeyboardInterrupt",
     "evalue": "",
     "output_type": "error",
     "traceback": [
      "\u001b[0;31m---------------------------------------------------------------------------\u001b[0m",
      "\u001b[0;31mKeyboardInterrupt\u001b[0m                         Traceback (most recent call last)",
      "\u001b[0;32m<ipython-input-130-ba4814170012>\u001b[0m in \u001b[0;36m<module>\u001b[0;34m()\u001b[0m\n\u001b[1;32m      4\u001b[0m     \u001b[0;32mtry\u001b[0m\u001b[0;34m:\u001b[0m\u001b[0;34m\u001b[0m\u001b[0m\n\u001b[1;32m      5\u001b[0m         \u001b[0mpic\u001b[0m \u001b[0;34m=\u001b[0m \u001b[0mdriver\u001b[0m\u001b[0;34m.\u001b[0m\u001b[0mwait\u001b[0m\u001b[0;34m.\u001b[0m\u001b[0muntil\u001b[0m\u001b[0;34m(\u001b[0m\u001b[0mEC\u001b[0m\u001b[0;34m.\u001b[0m\u001b[0mpresence_of_element_located\u001b[0m\u001b[0;34m(\u001b[0m\u001b[0;34m(\u001b[0m\u001b[0mBy\u001b[0m\u001b[0;34m.\u001b[0m\u001b[0mCLASS_NAME\u001b[0m\u001b[0;34m,\u001b[0m \u001b[0;34m\"zsg-photo-card-overlay-link\"\u001b[0m\u001b[0;34m)\u001b[0m\u001b[0;34m)\u001b[0m\u001b[0;34m)\u001b[0m\u001b[0;34m\u001b[0m\u001b[0m\n\u001b[0;32m----> 6\u001b[0;31m         \u001b[0mpic\u001b[0m\u001b[0;34m.\u001b[0m\u001b[0msend_keys\u001b[0m\u001b[0;34m(\u001b[0m\u001b[0mKeys\u001b[0m\u001b[0;34m.\u001b[0m\u001b[0mRETURN\u001b[0m\u001b[0;34m)\u001b[0m\u001b[0;34m\u001b[0m\u001b[0m\n\u001b[0m\u001b[1;32m      7\u001b[0m     \u001b[0;32mexcept\u001b[0m \u001b[0mTimeoutException\u001b[0m\u001b[0;34m:\u001b[0m\u001b[0;34m\u001b[0m\u001b[0m\n\u001b[1;32m      8\u001b[0m         \u001b[0;32mpass\u001b[0m\u001b[0;34m\u001b[0m\u001b[0m\n",
      "\u001b[0;32m~/anaconda/lib/python3.6/site-packages/selenium/webdriver/remote/webelement.py\u001b[0m in \u001b[0;36msend_keys\u001b[0;34m(self, *value)\u001b[0m\n\u001b[1;32m    477\u001b[0m         self._execute(Command.SEND_KEYS_TO_ELEMENT,\n\u001b[1;32m    478\u001b[0m                       {'text': \"\".join(keys_to_typing(value)),\n\u001b[0;32m--> 479\u001b[0;31m                        'value': keys_to_typing(value)})\n\u001b[0m\u001b[1;32m    480\u001b[0m \u001b[0;34m\u001b[0m\u001b[0m\n\u001b[1;32m    481\u001b[0m     \u001b[0;31m# RenderedWebElement Items\u001b[0m\u001b[0;34m\u001b[0m\u001b[0;34m\u001b[0m\u001b[0m\n",
      "\u001b[0;32m~/anaconda/lib/python3.6/site-packages/selenium/webdriver/remote/webelement.py\u001b[0m in \u001b[0;36m_execute\u001b[0;34m(self, command, params)\u001b[0m\n\u001b[1;32m    626\u001b[0m             \u001b[0mparams\u001b[0m \u001b[0;34m=\u001b[0m \u001b[0;34m{\u001b[0m\u001b[0;34m}\u001b[0m\u001b[0;34m\u001b[0m\u001b[0m\n\u001b[1;32m    627\u001b[0m         \u001b[0mparams\u001b[0m\u001b[0;34m[\u001b[0m\u001b[0;34m'id'\u001b[0m\u001b[0;34m]\u001b[0m \u001b[0;34m=\u001b[0m \u001b[0mself\u001b[0m\u001b[0;34m.\u001b[0m\u001b[0m_id\u001b[0m\u001b[0;34m\u001b[0m\u001b[0m\n\u001b[0;32m--> 628\u001b[0;31m         \u001b[0;32mreturn\u001b[0m \u001b[0mself\u001b[0m\u001b[0;34m.\u001b[0m\u001b[0m_parent\u001b[0m\u001b[0;34m.\u001b[0m\u001b[0mexecute\u001b[0m\u001b[0;34m(\u001b[0m\u001b[0mcommand\u001b[0m\u001b[0;34m,\u001b[0m \u001b[0mparams\u001b[0m\u001b[0;34m)\u001b[0m\u001b[0;34m\u001b[0m\u001b[0m\n\u001b[0m\u001b[1;32m    629\u001b[0m \u001b[0;34m\u001b[0m\u001b[0m\n\u001b[1;32m    630\u001b[0m     \u001b[0;32mdef\u001b[0m \u001b[0mfind_element\u001b[0m\u001b[0;34m(\u001b[0m\u001b[0mself\u001b[0m\u001b[0;34m,\u001b[0m \u001b[0mby\u001b[0m\u001b[0;34m=\u001b[0m\u001b[0mBy\u001b[0m\u001b[0;34m.\u001b[0m\u001b[0mID\u001b[0m\u001b[0;34m,\u001b[0m \u001b[0mvalue\u001b[0m\u001b[0;34m=\u001b[0m\u001b[0;32mNone\u001b[0m\u001b[0;34m)\u001b[0m\u001b[0;34m:\u001b[0m\u001b[0;34m\u001b[0m\u001b[0m\n",
      "\u001b[0;32m~/anaconda/lib/python3.6/site-packages/selenium/webdriver/remote/webdriver.py\u001b[0m in \u001b[0;36mexecute\u001b[0;34m(self, driver_command, params)\u001b[0m\n\u001b[1;32m    308\u001b[0m \u001b[0;34m\u001b[0m\u001b[0m\n\u001b[1;32m    309\u001b[0m         \u001b[0mparams\u001b[0m \u001b[0;34m=\u001b[0m \u001b[0mself\u001b[0m\u001b[0;34m.\u001b[0m\u001b[0m_wrap_value\u001b[0m\u001b[0;34m(\u001b[0m\u001b[0mparams\u001b[0m\u001b[0;34m)\u001b[0m\u001b[0;34m\u001b[0m\u001b[0m\n\u001b[0;32m--> 310\u001b[0;31m         \u001b[0mresponse\u001b[0m \u001b[0;34m=\u001b[0m \u001b[0mself\u001b[0m\u001b[0;34m.\u001b[0m\u001b[0mcommand_executor\u001b[0m\u001b[0;34m.\u001b[0m\u001b[0mexecute\u001b[0m\u001b[0;34m(\u001b[0m\u001b[0mdriver_command\u001b[0m\u001b[0;34m,\u001b[0m \u001b[0mparams\u001b[0m\u001b[0;34m)\u001b[0m\u001b[0;34m\u001b[0m\u001b[0m\n\u001b[0m\u001b[1;32m    311\u001b[0m         \u001b[0;32mif\u001b[0m \u001b[0mresponse\u001b[0m\u001b[0;34m:\u001b[0m\u001b[0;34m\u001b[0m\u001b[0m\n\u001b[1;32m    312\u001b[0m             \u001b[0mself\u001b[0m\u001b[0;34m.\u001b[0m\u001b[0merror_handler\u001b[0m\u001b[0;34m.\u001b[0m\u001b[0mcheck_response\u001b[0m\u001b[0;34m(\u001b[0m\u001b[0mresponse\u001b[0m\u001b[0;34m)\u001b[0m\u001b[0;34m\u001b[0m\u001b[0m\n",
      "\u001b[0;32m~/anaconda/lib/python3.6/site-packages/selenium/webdriver/remote/remote_connection.py\u001b[0m in \u001b[0;36mexecute\u001b[0;34m(self, command, params)\u001b[0m\n\u001b[1;32m    464\u001b[0m         \u001b[0mdata\u001b[0m \u001b[0;34m=\u001b[0m \u001b[0mutils\u001b[0m\u001b[0;34m.\u001b[0m\u001b[0mdump_json\u001b[0m\u001b[0;34m(\u001b[0m\u001b[0mparams\u001b[0m\u001b[0;34m)\u001b[0m\u001b[0;34m\u001b[0m\u001b[0m\n\u001b[1;32m    465\u001b[0m         \u001b[0murl\u001b[0m \u001b[0;34m=\u001b[0m \u001b[0;34m'%s%s'\u001b[0m \u001b[0;34m%\u001b[0m \u001b[0;34m(\u001b[0m\u001b[0mself\u001b[0m\u001b[0;34m.\u001b[0m\u001b[0m_url\u001b[0m\u001b[0;34m,\u001b[0m \u001b[0mpath\u001b[0m\u001b[0;34m)\u001b[0m\u001b[0;34m\u001b[0m\u001b[0m\n\u001b[0;32m--> 466\u001b[0;31m         \u001b[0;32mreturn\u001b[0m \u001b[0mself\u001b[0m\u001b[0;34m.\u001b[0m\u001b[0m_request\u001b[0m\u001b[0;34m(\u001b[0m\u001b[0mcommand_info\u001b[0m\u001b[0;34m[\u001b[0m\u001b[0;36m0\u001b[0m\u001b[0;34m]\u001b[0m\u001b[0;34m,\u001b[0m \u001b[0murl\u001b[0m\u001b[0;34m,\u001b[0m \u001b[0mbody\u001b[0m\u001b[0;34m=\u001b[0m\u001b[0mdata\u001b[0m\u001b[0;34m)\u001b[0m\u001b[0;34m\u001b[0m\u001b[0m\n\u001b[0m\u001b[1;32m    467\u001b[0m \u001b[0;34m\u001b[0m\u001b[0m\n\u001b[1;32m    468\u001b[0m     \u001b[0;32mdef\u001b[0m \u001b[0m_request\u001b[0m\u001b[0;34m(\u001b[0m\u001b[0mself\u001b[0m\u001b[0;34m,\u001b[0m \u001b[0mmethod\u001b[0m\u001b[0;34m,\u001b[0m \u001b[0murl\u001b[0m\u001b[0;34m,\u001b[0m \u001b[0mbody\u001b[0m\u001b[0;34m=\u001b[0m\u001b[0;32mNone\u001b[0m\u001b[0;34m)\u001b[0m\u001b[0;34m:\u001b[0m\u001b[0;34m\u001b[0m\u001b[0m\n",
      "\u001b[0;32m~/anaconda/lib/python3.6/site-packages/selenium/webdriver/remote/remote_connection.py\u001b[0m in \u001b[0;36m_request\u001b[0;34m(self, method, url, body)\u001b[0m\n\u001b[1;32m    488\u001b[0m             \u001b[0;32mtry\u001b[0m\u001b[0;34m:\u001b[0m\u001b[0;34m\u001b[0m\u001b[0m\n\u001b[1;32m    489\u001b[0m                 \u001b[0mself\u001b[0m\u001b[0;34m.\u001b[0m\u001b[0m_conn\u001b[0m\u001b[0;34m.\u001b[0m\u001b[0mrequest\u001b[0m\u001b[0;34m(\u001b[0m\u001b[0mmethod\u001b[0m\u001b[0;34m,\u001b[0m \u001b[0mparsed_url\u001b[0m\u001b[0;34m.\u001b[0m\u001b[0mpath\u001b[0m\u001b[0;34m,\u001b[0m \u001b[0mbody\u001b[0m\u001b[0;34m,\u001b[0m \u001b[0mheaders\u001b[0m\u001b[0;34m)\u001b[0m\u001b[0;34m\u001b[0m\u001b[0m\n\u001b[0;32m--> 490\u001b[0;31m                 \u001b[0mresp\u001b[0m \u001b[0;34m=\u001b[0m \u001b[0mself\u001b[0m\u001b[0;34m.\u001b[0m\u001b[0m_conn\u001b[0m\u001b[0;34m.\u001b[0m\u001b[0mgetresponse\u001b[0m\u001b[0;34m(\u001b[0m\u001b[0;34m)\u001b[0m\u001b[0;34m\u001b[0m\u001b[0m\n\u001b[0m\u001b[1;32m    491\u001b[0m             \u001b[0;32mexcept\u001b[0m \u001b[0;34m(\u001b[0m\u001b[0mhttplib\u001b[0m\u001b[0;34m.\u001b[0m\u001b[0mHTTPException\u001b[0m\u001b[0;34m,\u001b[0m \u001b[0msocket\u001b[0m\u001b[0;34m.\u001b[0m\u001b[0merror\u001b[0m\u001b[0;34m)\u001b[0m\u001b[0;34m:\u001b[0m\u001b[0;34m\u001b[0m\u001b[0m\n\u001b[1;32m    492\u001b[0m                 \u001b[0mself\u001b[0m\u001b[0;34m.\u001b[0m\u001b[0m_conn\u001b[0m\u001b[0;34m.\u001b[0m\u001b[0mclose\u001b[0m\u001b[0;34m(\u001b[0m\u001b[0;34m)\u001b[0m\u001b[0;34m\u001b[0m\u001b[0m\n",
      "\u001b[0;32m~/anaconda/lib/python3.6/http/client.py\u001b[0m in \u001b[0;36mgetresponse\u001b[0;34m(self)\u001b[0m\n\u001b[1;32m   1329\u001b[0m         \u001b[0;32mtry\u001b[0m\u001b[0;34m:\u001b[0m\u001b[0;34m\u001b[0m\u001b[0m\n\u001b[1;32m   1330\u001b[0m             \u001b[0;32mtry\u001b[0m\u001b[0;34m:\u001b[0m\u001b[0;34m\u001b[0m\u001b[0m\n\u001b[0;32m-> 1331\u001b[0;31m                 \u001b[0mresponse\u001b[0m\u001b[0;34m.\u001b[0m\u001b[0mbegin\u001b[0m\u001b[0;34m(\u001b[0m\u001b[0;34m)\u001b[0m\u001b[0;34m\u001b[0m\u001b[0m\n\u001b[0m\u001b[1;32m   1332\u001b[0m             \u001b[0;32mexcept\u001b[0m \u001b[0mConnectionError\u001b[0m\u001b[0;34m:\u001b[0m\u001b[0;34m\u001b[0m\u001b[0m\n\u001b[1;32m   1333\u001b[0m                 \u001b[0mself\u001b[0m\u001b[0;34m.\u001b[0m\u001b[0mclose\u001b[0m\u001b[0;34m(\u001b[0m\u001b[0;34m)\u001b[0m\u001b[0;34m\u001b[0m\u001b[0m\n",
      "\u001b[0;32m~/anaconda/lib/python3.6/http/client.py\u001b[0m in \u001b[0;36mbegin\u001b[0;34m(self)\u001b[0m\n\u001b[1;32m    295\u001b[0m         \u001b[0;31m# read until we get a non-100 response\u001b[0m\u001b[0;34m\u001b[0m\u001b[0;34m\u001b[0m\u001b[0m\n\u001b[1;32m    296\u001b[0m         \u001b[0;32mwhile\u001b[0m \u001b[0;32mTrue\u001b[0m\u001b[0;34m:\u001b[0m\u001b[0;34m\u001b[0m\u001b[0m\n\u001b[0;32m--> 297\u001b[0;31m             \u001b[0mversion\u001b[0m\u001b[0;34m,\u001b[0m \u001b[0mstatus\u001b[0m\u001b[0;34m,\u001b[0m \u001b[0mreason\u001b[0m \u001b[0;34m=\u001b[0m \u001b[0mself\u001b[0m\u001b[0;34m.\u001b[0m\u001b[0m_read_status\u001b[0m\u001b[0;34m(\u001b[0m\u001b[0;34m)\u001b[0m\u001b[0;34m\u001b[0m\u001b[0m\n\u001b[0m\u001b[1;32m    298\u001b[0m             \u001b[0;32mif\u001b[0m \u001b[0mstatus\u001b[0m \u001b[0;34m!=\u001b[0m \u001b[0mCONTINUE\u001b[0m\u001b[0;34m:\u001b[0m\u001b[0;34m\u001b[0m\u001b[0m\n\u001b[1;32m    299\u001b[0m                 \u001b[0;32mbreak\u001b[0m\u001b[0;34m\u001b[0m\u001b[0m\n",
      "\u001b[0;32m~/anaconda/lib/python3.6/http/client.py\u001b[0m in \u001b[0;36m_read_status\u001b[0;34m(self)\u001b[0m\n\u001b[1;32m    256\u001b[0m \u001b[0;34m\u001b[0m\u001b[0m\n\u001b[1;32m    257\u001b[0m     \u001b[0;32mdef\u001b[0m \u001b[0m_read_status\u001b[0m\u001b[0;34m(\u001b[0m\u001b[0mself\u001b[0m\u001b[0;34m)\u001b[0m\u001b[0;34m:\u001b[0m\u001b[0;34m\u001b[0m\u001b[0m\n\u001b[0;32m--> 258\u001b[0;31m         \u001b[0mline\u001b[0m \u001b[0;34m=\u001b[0m \u001b[0mstr\u001b[0m\u001b[0;34m(\u001b[0m\u001b[0mself\u001b[0m\u001b[0;34m.\u001b[0m\u001b[0mfp\u001b[0m\u001b[0;34m.\u001b[0m\u001b[0mreadline\u001b[0m\u001b[0;34m(\u001b[0m\u001b[0m_MAXLINE\u001b[0m \u001b[0;34m+\u001b[0m \u001b[0;36m1\u001b[0m\u001b[0;34m)\u001b[0m\u001b[0;34m,\u001b[0m \u001b[0;34m\"iso-8859-1\"\u001b[0m\u001b[0;34m)\u001b[0m\u001b[0;34m\u001b[0m\u001b[0m\n\u001b[0m\u001b[1;32m    259\u001b[0m         \u001b[0;32mif\u001b[0m \u001b[0mlen\u001b[0m\u001b[0;34m(\u001b[0m\u001b[0mline\u001b[0m\u001b[0;34m)\u001b[0m \u001b[0;34m>\u001b[0m \u001b[0m_MAXLINE\u001b[0m\u001b[0;34m:\u001b[0m\u001b[0;34m\u001b[0m\u001b[0m\n\u001b[1;32m    260\u001b[0m             \u001b[0;32mraise\u001b[0m \u001b[0mLineTooLong\u001b[0m\u001b[0;34m(\u001b[0m\u001b[0;34m\"status line\"\u001b[0m\u001b[0;34m)\u001b[0m\u001b[0;34m\u001b[0m\u001b[0m\n",
      "\u001b[0;32m~/anaconda/lib/python3.6/socket.py\u001b[0m in \u001b[0;36mreadinto\u001b[0;34m(self, b)\u001b[0m\n\u001b[1;32m    584\u001b[0m         \u001b[0;32mwhile\u001b[0m \u001b[0;32mTrue\u001b[0m\u001b[0;34m:\u001b[0m\u001b[0;34m\u001b[0m\u001b[0m\n\u001b[1;32m    585\u001b[0m             \u001b[0;32mtry\u001b[0m\u001b[0;34m:\u001b[0m\u001b[0;34m\u001b[0m\u001b[0m\n\u001b[0;32m--> 586\u001b[0;31m                 \u001b[0;32mreturn\u001b[0m \u001b[0mself\u001b[0m\u001b[0;34m.\u001b[0m\u001b[0m_sock\u001b[0m\u001b[0;34m.\u001b[0m\u001b[0mrecv_into\u001b[0m\u001b[0;34m(\u001b[0m\u001b[0mb\u001b[0m\u001b[0;34m)\u001b[0m\u001b[0;34m\u001b[0m\u001b[0m\n\u001b[0m\u001b[1;32m    587\u001b[0m             \u001b[0;32mexcept\u001b[0m \u001b[0mtimeout\u001b[0m\u001b[0;34m:\u001b[0m\u001b[0;34m\u001b[0m\u001b[0m\n\u001b[1;32m    588\u001b[0m                 \u001b[0mself\u001b[0m\u001b[0;34m.\u001b[0m\u001b[0m_timeout_occurred\u001b[0m \u001b[0;34m=\u001b[0m \u001b[0;32mTrue\u001b[0m\u001b[0;34m\u001b[0m\u001b[0m\n",
      "\u001b[0;31mKeyboardInterrupt\u001b[0m: "
     ]
    }
   ],
   "source": [
    "driver.wait = WebDriverWait(driver, 10)\n",
    "\n",
    "for link in links:\n",
    "    try:\n",
    "        pic = driver.wait.until(EC.presence_of_element_located((By.CLASS_NAME, \"zsg-photo-card-overlay-link\")))\n",
    "        pic.send_keys(Keys.RETURN)\n",
    "    except TimeoutException:\n",
    "        pass\n",
    "    time.sleep(np.random.lognormal(1,.5))\n",
    "    header = driver.find_element_by_class_name(\"zsg-content-header\")\n",
    "    print(header.text)\n",
    "    time.sleep(np.random.lognormal(1,.5))\n",
    "    try:\n",
    "        button = driver.wait.until(EC.element_to_be_clickable((By.CLASS_NAME, \"hc-back-to-list\")))\n",
    "        button.click()\n",
    "    except TimeoutException:\n",
    "        pass\n",
    "    "
   ]
  },
  {
   "cell_type": "code",
   "execution_count": 134,
   "metadata": {},
   "outputs": [],
   "source": [
    "link = driver.find_element_by_class_name(\"zsg-photo-card-overlay-link\")\n",
    "driver.wait = WebDriverWait(driver, 10)\n",
    "pic = driver.wait.until(EC.presence_of_element_located((By.CLASS_NAME, \"zsg-photo-card-overlay-link\")))\n",
    "pic.send_keys(Keys.RETURN)"
   ]
  },
  {
   "cell_type": "code",
   "execution_count": 136,
   "metadata": {},
   "outputs": [
    {
     "name": "stdout",
     "output_type": "stream",
     "text": [
      "5650 Hansen Dr,\n",
      "Pleasanton, CA 94566\n",
      "4 beds 2 baths 1,527 sqft\n"
     ]
    }
   ],
   "source": [
    "header = driver.find_element_by_class_name(\"zsg-content-header\")\n",
    "print(header.text)"
   ]
  },
  {
   "cell_type": "code",
   "execution_count": 137,
   "metadata": {},
   "outputs": [],
   "source": [
    "button = driver.wait.until(EC.element_to_be_clickable((By.CLASS_NAME, \"hc-back-to-list\")))\n",
    "button.click()"
   ]
  },
  {
   "cell_type": "code",
   "execution_count": 45,
   "metadata": {},
   "outputs": [],
   "source": [
    "links = driver.find_elements_by_class_name(\"zsg-photo-card-overlay-link\")"
   ]
  },
  {
   "cell_type": "code",
   "execution_count": 200,
   "metadata": {},
   "outputs": [
    {
     "name": "stdout",
     "output_type": "stream",
     "text": [
      "[<selenium.webdriver.remote.webelement.WebElement (session=\"7cf9144f2d3db078b1ebc4faa426275d\", element=\"0.6249141594779457-1\")>, <selenium.webdriver.remote.webelement.WebElement (session=\"7cf9144f2d3db078b1ebc4faa426275d\", element=\"0.6249141594779457-2\")>, <selenium.webdriver.remote.webelement.WebElement (session=\"7cf9144f2d3db078b1ebc4faa426275d\", element=\"0.6249141594779457-3\")>, <selenium.webdriver.remote.webelement.WebElement (session=\"7cf9144f2d3db078b1ebc4faa426275d\", element=\"0.6249141594779457-4\")>, <selenium.webdriver.remote.webelement.WebElement (session=\"7cf9144f2d3db078b1ebc4faa426275d\", element=\"0.6249141594779457-5\")>, <selenium.webdriver.remote.webelement.WebElement (session=\"7cf9144f2d3db078b1ebc4faa426275d\", element=\"0.6249141594779457-6\")>, <selenium.webdriver.remote.webelement.WebElement (session=\"7cf9144f2d3db078b1ebc4faa426275d\", element=\"0.6249141594779457-7\")>, <selenium.webdriver.remote.webelement.WebElement (session=\"7cf9144f2d3db078b1ebc4faa426275d\", element=\"0.6249141594779457-8\")>, <selenium.webdriver.remote.webelement.WebElement (session=\"7cf9144f2d3db078b1ebc4faa426275d\", element=\"0.6249141594779457-9\")>, <selenium.webdriver.remote.webelement.WebElement (session=\"7cf9144f2d3db078b1ebc4faa426275d\", element=\"0.6249141594779457-10\")>, <selenium.webdriver.remote.webelement.WebElement (session=\"7cf9144f2d3db078b1ebc4faa426275d\", element=\"0.6249141594779457-11\")>, <selenium.webdriver.remote.webelement.WebElement (session=\"7cf9144f2d3db078b1ebc4faa426275d\", element=\"0.6249141594779457-12\")>, <selenium.webdriver.remote.webelement.WebElement (session=\"7cf9144f2d3db078b1ebc4faa426275d\", element=\"0.6249141594779457-13\")>, <selenium.webdriver.remote.webelement.WebElement (session=\"7cf9144f2d3db078b1ebc4faa426275d\", element=\"0.6249141594779457-14\")>, <selenium.webdriver.remote.webelement.WebElement (session=\"7cf9144f2d3db078b1ebc4faa426275d\", element=\"0.6249141594779457-15\")>, <selenium.webdriver.remote.webelement.WebElement (session=\"7cf9144f2d3db078b1ebc4faa426275d\", element=\"0.6249141594779457-16\")>, <selenium.webdriver.remote.webelement.WebElement (session=\"7cf9144f2d3db078b1ebc4faa426275d\", element=\"0.6249141594779457-17\")>, <selenium.webdriver.remote.webelement.WebElement (session=\"7cf9144f2d3db078b1ebc4faa426275d\", element=\"0.6249141594779457-18\")>, <selenium.webdriver.remote.webelement.WebElement (session=\"7cf9144f2d3db078b1ebc4faa426275d\", element=\"0.6249141594779457-19\")>, <selenium.webdriver.remote.webelement.WebElement (session=\"7cf9144f2d3db078b1ebc4faa426275d\", element=\"0.6249141594779457-20\")>, <selenium.webdriver.remote.webelement.WebElement (session=\"7cf9144f2d3db078b1ebc4faa426275d\", element=\"0.6249141594779457-21\")>, <selenium.webdriver.remote.webelement.WebElement (session=\"7cf9144f2d3db078b1ebc4faa426275d\", element=\"0.6249141594779457-22\")>, <selenium.webdriver.remote.webelement.WebElement (session=\"7cf9144f2d3db078b1ebc4faa426275d\", element=\"0.6249141594779457-23\")>, <selenium.webdriver.remote.webelement.WebElement (session=\"7cf9144f2d3db078b1ebc4faa426275d\", element=\"0.6249141594779457-24\")>, <selenium.webdriver.remote.webelement.WebElement (session=\"7cf9144f2d3db078b1ebc4faa426275d\", element=\"0.6249141594779457-25\")>]\n"
     ]
    }
   ],
   "source": [
    "print(links)"
   ]
  },
  {
   "cell_type": "code",
   "execution_count": 205,
   "metadata": {},
   "outputs": [
    {
     "data": {
      "text/plain": [
       "25"
      ]
     },
     "execution_count": 205,
     "metadata": {},
     "output_type": "execute_result"
    }
   ],
   "source": [
    "len(links)"
   ]
  },
  {
   "cell_type": "code",
   "execution_count": 29,
   "metadata": {},
   "outputs": [],
   "source": [
    "driver.implicitly_wait(10)"
   ]
  },
  {
   "cell_type": "code",
   "execution_count": 126,
   "metadata": {},
   "outputs": [],
   "source": [
    "links = driver.find_elements_by_class_name(\"zsg-photo-card-overlay-link\")"
   ]
  },
  {
   "cell_type": "code",
   "execution_count": 216,
   "metadata": {},
   "outputs": [
    {
     "name": "stdout",
     "output_type": "stream",
     "text": [
      "3410 Cornerstone Ct,\n",
      "Pleasanton, CA 94566\n",
      "Studio -- baths -- sqft\n",
      "583 Montori Ct,\n",
      "Pleasanton, CA 94566\n",
      "4 beds 3 baths 2,296 sqft\n",
      "3637 Touriga Dr,\n",
      "Pleasanton, CA 94566\n",
      "3 beds 2 baths 1,323 sqft\n",
      "7857 Driftwood Way,\n",
      "Pleasanton, CA 94588\n",
      "6 beds 3 baths 2,086 sqft\n",
      "4866 Treewood Ct,\n",
      "Pleasanton, CA 94588\n",
      "3 beds 3 baths 1,721 sqft\n",
      "4248 Bevilacqua Ct,\n",
      "Pleasanton, CA 94566\n",
      "4 beds 3 baths 2,379 sqft\n",
      "5212 Ridgevale Way,\n",
      "Pleasanton, CA 94566\n",
      "4 beds 3 baths 2,256 sqft\n",
      "3546 Ballantyne Dr,\n",
      "Pleasanton, CA 94588\n",
      "5 beds 3 baths 2,464 sqft\n",
      "2915 Calle De La Mesa,\n",
      "Pleasanton, CA 94566\n",
      "4 beds 3 baths 1,984 sqft\n",
      "7492 Alder Ct,\n",
      "Pleasanton, CA 94588\n",
      "4 beds 3 baths 2,444 sqft\n",
      "6232 Roslin Ct,\n",
      "Pleasanton, CA 94588\n",
      "3 beds 2 baths 1,372 sqft\n",
      "got exception\n",
      "got exception\n",
      "got exception\n",
      "got exception\n",
      "got exception\n",
      "got exception\n",
      "got exception\n",
      "got exception\n",
      "got exception\n",
      "got exception\n",
      "got exception\n",
      "got exception\n",
      "got exception\n",
      "got exception\n"
     ]
    }
   ],
   "source": [
    "for link in links:\n",
    "    time.sleep(np.random.lognormal(0,1))\n",
    "    try:\n",
    "        link.send_keys(Keys.RETURN)\n",
    "    except (TimeoutException,StaleElementReferenceException):\n",
    "        print('got exception')\n",
    "        driver.refresh()\n",
    "        continue\n",
    "    time.sleep(np.random.lognormal(0,1))\n",
    "    header = driver.find_element_by_class_name(\"zsg-content-header\")\n",
    "    print(header.text)\n",
    "    time.sleep(np.random.lognormal(0,1))\n",
    "    driver.find_element_by_class_name(\"hc-back-to-list\").click()"
   ]
  },
  {
   "cell_type": "code",
   "execution_count": 220,
   "metadata": {},
   "outputs": [
    {
     "data": {
      "text/plain": [
       "<bound method WebElement.value_of_css_property of <selenium.webdriver.remote.webelement.WebElement (session=\"7d08dfb6ad56e3708ae7f7f48a9c27f0\", element=\"0.5491694599975581-25\")>>"
      ]
     },
     "execution_count": 220,
     "metadata": {},
     "output_type": "execute_result"
    }
   ],
   "source": [
    "link.value_of_css_property"
   ]
  },
  {
   "cell_type": "code",
   "execution_count": 208,
   "metadata": {},
   "outputs": [
    {
     "ename": "WebDriverException",
     "evalue": "Message: chrome not reachable\n  (Session info: chrome=66.0.3359.117)\n  (Driver info: chromedriver=2.38.551581 (2c9c29527ada10af4745ab26dd000ebb6d5e055e),platform=Mac OS X 10.13.4 x86_64)\n",
     "output_type": "error",
     "traceback": [
      "\u001b[0;31m---------------------------------------------------------------------------\u001b[0m",
      "\u001b[0;31mWebDriverException\u001b[0m                        Traceback (most recent call last)",
      "\u001b[0;32m<ipython-input-208-23481b4a054f>\u001b[0m in \u001b[0;36m<module>\u001b[0;34m()\u001b[0m\n\u001b[0;32m----> 1\u001b[0;31m \u001b[0mlink\u001b[0m\u001b[0;34m.\u001b[0m\u001b[0mlocation\u001b[0m\u001b[0;34m\u001b[0m\u001b[0m\n\u001b[0m",
      "\u001b[0;32m~/anaconda/lib/python3.6/site-packages/selenium/webdriver/remote/webelement.py\u001b[0m in \u001b[0;36mlocation\u001b[0;34m(self)\u001b[0m\n\u001b[1;32m    532\u001b[0m             \u001b[0mold_loc\u001b[0m \u001b[0;34m=\u001b[0m \u001b[0mself\u001b[0m\u001b[0;34m.\u001b[0m\u001b[0m_execute\u001b[0m\u001b[0;34m(\u001b[0m\u001b[0mCommand\u001b[0m\u001b[0;34m.\u001b[0m\u001b[0mGET_ELEMENT_RECT\u001b[0m\u001b[0;34m)\u001b[0m\u001b[0;34m[\u001b[0m\u001b[0;34m'value'\u001b[0m\u001b[0;34m]\u001b[0m\u001b[0;34m\u001b[0m\u001b[0m\n\u001b[1;32m    533\u001b[0m         \u001b[0;32melse\u001b[0m\u001b[0;34m:\u001b[0m\u001b[0;34m\u001b[0m\u001b[0m\n\u001b[0;32m--> 534\u001b[0;31m             \u001b[0mold_loc\u001b[0m \u001b[0;34m=\u001b[0m \u001b[0mself\u001b[0m\u001b[0;34m.\u001b[0m\u001b[0m_execute\u001b[0m\u001b[0;34m(\u001b[0m\u001b[0mCommand\u001b[0m\u001b[0;34m.\u001b[0m\u001b[0mGET_ELEMENT_LOCATION\u001b[0m\u001b[0;34m)\u001b[0m\u001b[0;34m[\u001b[0m\u001b[0;34m'value'\u001b[0m\u001b[0;34m]\u001b[0m\u001b[0;34m\u001b[0m\u001b[0m\n\u001b[0m\u001b[1;32m    535\u001b[0m         new_loc = {\"x\": round(old_loc['x']),\n\u001b[1;32m    536\u001b[0m                    \"y\": round(old_loc['y'])}\n",
      "\u001b[0;32m~/anaconda/lib/python3.6/site-packages/selenium/webdriver/remote/webelement.py\u001b[0m in \u001b[0;36m_execute\u001b[0;34m(self, command, params)\u001b[0m\n\u001b[1;32m    626\u001b[0m             \u001b[0mparams\u001b[0m \u001b[0;34m=\u001b[0m \u001b[0;34m{\u001b[0m\u001b[0;34m}\u001b[0m\u001b[0;34m\u001b[0m\u001b[0m\n\u001b[1;32m    627\u001b[0m         \u001b[0mparams\u001b[0m\u001b[0;34m[\u001b[0m\u001b[0;34m'id'\u001b[0m\u001b[0;34m]\u001b[0m \u001b[0;34m=\u001b[0m \u001b[0mself\u001b[0m\u001b[0;34m.\u001b[0m\u001b[0m_id\u001b[0m\u001b[0;34m\u001b[0m\u001b[0m\n\u001b[0;32m--> 628\u001b[0;31m         \u001b[0;32mreturn\u001b[0m \u001b[0mself\u001b[0m\u001b[0;34m.\u001b[0m\u001b[0m_parent\u001b[0m\u001b[0;34m.\u001b[0m\u001b[0mexecute\u001b[0m\u001b[0;34m(\u001b[0m\u001b[0mcommand\u001b[0m\u001b[0;34m,\u001b[0m \u001b[0mparams\u001b[0m\u001b[0;34m)\u001b[0m\u001b[0;34m\u001b[0m\u001b[0m\n\u001b[0m\u001b[1;32m    629\u001b[0m \u001b[0;34m\u001b[0m\u001b[0m\n\u001b[1;32m    630\u001b[0m     \u001b[0;32mdef\u001b[0m \u001b[0mfind_element\u001b[0m\u001b[0;34m(\u001b[0m\u001b[0mself\u001b[0m\u001b[0;34m,\u001b[0m \u001b[0mby\u001b[0m\u001b[0;34m=\u001b[0m\u001b[0mBy\u001b[0m\u001b[0;34m.\u001b[0m\u001b[0mID\u001b[0m\u001b[0;34m,\u001b[0m \u001b[0mvalue\u001b[0m\u001b[0;34m=\u001b[0m\u001b[0;32mNone\u001b[0m\u001b[0;34m)\u001b[0m\u001b[0;34m:\u001b[0m\u001b[0;34m\u001b[0m\u001b[0m\n",
      "\u001b[0;32m~/anaconda/lib/python3.6/site-packages/selenium/webdriver/remote/webdriver.py\u001b[0m in \u001b[0;36mexecute\u001b[0;34m(self, driver_command, params)\u001b[0m\n\u001b[1;32m    310\u001b[0m         \u001b[0mresponse\u001b[0m \u001b[0;34m=\u001b[0m \u001b[0mself\u001b[0m\u001b[0;34m.\u001b[0m\u001b[0mcommand_executor\u001b[0m\u001b[0;34m.\u001b[0m\u001b[0mexecute\u001b[0m\u001b[0;34m(\u001b[0m\u001b[0mdriver_command\u001b[0m\u001b[0;34m,\u001b[0m \u001b[0mparams\u001b[0m\u001b[0;34m)\u001b[0m\u001b[0;34m\u001b[0m\u001b[0m\n\u001b[1;32m    311\u001b[0m         \u001b[0;32mif\u001b[0m \u001b[0mresponse\u001b[0m\u001b[0;34m:\u001b[0m\u001b[0;34m\u001b[0m\u001b[0m\n\u001b[0;32m--> 312\u001b[0;31m             \u001b[0mself\u001b[0m\u001b[0;34m.\u001b[0m\u001b[0merror_handler\u001b[0m\u001b[0;34m.\u001b[0m\u001b[0mcheck_response\u001b[0m\u001b[0;34m(\u001b[0m\u001b[0mresponse\u001b[0m\u001b[0;34m)\u001b[0m\u001b[0;34m\u001b[0m\u001b[0m\n\u001b[0m\u001b[1;32m    313\u001b[0m             response['value'] = self._unwrap_value(\n\u001b[1;32m    314\u001b[0m                 response.get('value', None))\n",
      "\u001b[0;32m~/anaconda/lib/python3.6/site-packages/selenium/webdriver/remote/errorhandler.py\u001b[0m in \u001b[0;36mcheck_response\u001b[0;34m(self, response)\u001b[0m\n\u001b[1;32m    240\u001b[0m                 \u001b[0malert_text\u001b[0m \u001b[0;34m=\u001b[0m \u001b[0mvalue\u001b[0m\u001b[0;34m[\u001b[0m\u001b[0;34m'alert'\u001b[0m\u001b[0;34m]\u001b[0m\u001b[0;34m.\u001b[0m\u001b[0mget\u001b[0m\u001b[0;34m(\u001b[0m\u001b[0;34m'text'\u001b[0m\u001b[0;34m)\u001b[0m\u001b[0;34m\u001b[0m\u001b[0m\n\u001b[1;32m    241\u001b[0m             \u001b[0;32mraise\u001b[0m \u001b[0mexception_class\u001b[0m\u001b[0;34m(\u001b[0m\u001b[0mmessage\u001b[0m\u001b[0;34m,\u001b[0m \u001b[0mscreen\u001b[0m\u001b[0;34m,\u001b[0m \u001b[0mstacktrace\u001b[0m\u001b[0;34m,\u001b[0m \u001b[0malert_text\u001b[0m\u001b[0;34m)\u001b[0m\u001b[0;34m\u001b[0m\u001b[0m\n\u001b[0;32m--> 242\u001b[0;31m         \u001b[0;32mraise\u001b[0m \u001b[0mexception_class\u001b[0m\u001b[0;34m(\u001b[0m\u001b[0mmessage\u001b[0m\u001b[0;34m,\u001b[0m \u001b[0mscreen\u001b[0m\u001b[0;34m,\u001b[0m \u001b[0mstacktrace\u001b[0m\u001b[0;34m)\u001b[0m\u001b[0;34m\u001b[0m\u001b[0m\n\u001b[0m\u001b[1;32m    243\u001b[0m \u001b[0;34m\u001b[0m\u001b[0m\n\u001b[1;32m    244\u001b[0m     \u001b[0;32mdef\u001b[0m \u001b[0m_value_or_default\u001b[0m\u001b[0;34m(\u001b[0m\u001b[0mself\u001b[0m\u001b[0;34m,\u001b[0m \u001b[0mobj\u001b[0m\u001b[0;34m,\u001b[0m \u001b[0mkey\u001b[0m\u001b[0;34m,\u001b[0m \u001b[0mdefault\u001b[0m\u001b[0;34m)\u001b[0m\u001b[0;34m:\u001b[0m\u001b[0;34m\u001b[0m\u001b[0m\n",
      "\u001b[0;31mWebDriverException\u001b[0m: Message: chrome not reachable\n  (Session info: chrome=66.0.3359.117)\n  (Driver info: chromedriver=2.38.551581 (2c9c29527ada10af4745ab26dd000ebb6d5e055e),platform=Mac OS X 10.13.4 x86_64)\n"
     ]
    }
   ],
   "source": [
    "link.location"
   ]
  },
  {
   "cell_type": "code",
   "execution_count": 221,
   "metadata": {},
   "outputs": [],
   "source": [
    "driver.switch_to_default_content()"
   ]
  },
  {
   "cell_type": "code",
   "execution_count": 42,
   "metadata": {},
   "outputs": [
    {
     "name": "stdout",
     "output_type": "stream",
     "text": [
      "Message: stale element reference: element is not attached to the page document\n",
      "  (Session info: chrome=66.0.3359.117)\n",
      "  (Driver info: chromedriver=2.38.551581 (2c9c29527ada10af4745ab26dd000ebb6d5e055e),platform=Mac OS X 10.13.4 x86_64)\n",
      "\n"
     ]
    }
   ],
   "source": [
    "time.sleep(np.random.lognormal(0,1))\n",
    "try:\n",
    "    result = links[13].send_keys(Keys.RETURN)\n",
    "except (TimeoutException,StaleElementReferenceException) as e:\n",
    "    result = e\n",
    "    print(result)\n",
    "    del result\n",
    "else:\n",
    "    time.sleep(np.random.lognormal(0,1))\n",
    "    header = driver.find_element_by_class_name(\"zsg-content-header\")\n",
    "    print(header.text)\n",
    "    time.sleep(np.random.lognormal(0,1))\n",
    "    driver.find_element_by_class_name(\"hc-back-to-list\").click()"
   ]
  },
  {
   "cell_type": "code",
   "execution_count": 21,
   "metadata": {},
   "outputs": [
    {
     "data": {
      "text/plain": [
       "['CDwindow-D60BD93EA558B121B2A7876F9854E401']"
      ]
     },
     "execution_count": 21,
     "metadata": {},
     "output_type": "execute_result"
    }
   ],
   "source": [
    "driver.window_handles"
   ]
  },
  {
   "cell_type": "code",
   "execution_count": 100,
   "metadata": {},
   "outputs": [],
   "source": [
    "result = links[1].send_keys(Keys.RETURN)\n",
    "time.sleep(np.random.lognormal(0,1))"
   ]
  },
  {
   "cell_type": "code",
   "execution_count": 101,
   "metadata": {},
   "outputs": [],
   "source": [
    "from bs4 import BeautifulSoup\n",
    "\n",
    "soup = BeautifulSoup(driver.page_source, 'html.parser')"
   ]
  },
  {
   "cell_type": "code",
   "execution_count": 102,
   "metadata": {},
   "outputs": [
    {
     "name": "stdout",
     "output_type": "stream",
     "text": [
      "<div class=\"estimates\"> <div class=\"main-row status-icon-row recently-sold-row home-summary-row\"> <span class=\"zsg-icon-recently-sold recently-sold\" data-icon-class=\"zsg-icon-recently-sold\" id=\"listing-icon\"></span>  Sold: <span class=\"\"> $1,490,000 <span class=\"value-suffix\"> </span></span> </div> <div class=\" home-summary-row\">  Sold on <span class=\"\"> 04/02/18 <span class=\"value-suffix\"> </span></span> </div> <div class=\" home-summary-row\"> <span class=\"zsg-tooltip-launch zsg-tooltip-launch_keyword\" data-target-id=\"zest-tip-hdp\">Zestimate<sup>®</sup>:</span> <span class=\"\"> $1,514,857 <span class=\"value-suffix\"> </span></span> </div> </div> \n",
      "\n"
     ]
    }
   ],
   "source": [
    "for element in soup.find_all(class_='estimates'):\n",
    "   print(element, '\\n')"
   ]
  },
  {
   "cell_type": "code",
   "execution_count": 62,
   "metadata": {},
   "outputs": [],
   "source": [
    "price = element.find_all(\"span\")[1].text"
   ]
  },
  {
   "cell_type": "code",
   "execution_count": 63,
   "metadata": {},
   "outputs": [],
   "source": [
    "price = price.replace(\",\", \"\").replace(\"+\", \"\").replace(\"$\", \"\").lower()"
   ]
  },
  {
   "cell_type": "code",
   "execution_count": 64,
   "metadata": {},
   "outputs": [
    {
     "data": {
      "text/plain": [
       "' 1490000  '"
      ]
     },
     "execution_count": 64,
     "metadata": {},
     "output_type": "execute_result"
    }
   ],
   "source": [
    "price"
   ]
  },
  {
   "cell_type": "code",
   "execution_count": 65,
   "metadata": {},
   "outputs": [
    {
     "data": {
      "text/plain": [
       "1490000"
      ]
     },
     "execution_count": 65,
     "metadata": {},
     "output_type": "execute_result"
    }
   ],
   "source": [
    "int(price)"
   ]
  },
  {
   "cell_type": "code",
   "execution_count": 70,
   "metadata": {},
   "outputs": [],
   "source": [
    "result = links[2].send_keys(Keys.RETURN)\n",
    "time.sleep(np.random.lognormal(0,1))"
   ]
  },
  {
   "cell_type": "code",
   "execution_count": 71,
   "metadata": {},
   "outputs": [],
   "source": [
    "from bs4 import BeautifulSoup\n",
    "\n",
    "soup = BeautifulSoup(driver.page_source, 'html.parser')"
   ]
  },
  {
   "cell_type": "code",
   "execution_count": 72,
   "metadata": {},
   "outputs": [],
   "source": [
    "for element in soup.find_all(class_='estimates'):\n",
    "   price = element.find_all(\"span\")[1].text"
   ]
  },
  {
   "cell_type": "code",
   "execution_count": 73,
   "metadata": {},
   "outputs": [
    {
     "data": {
      "text/plain": [
       "' $1,045,000  '"
      ]
     },
     "execution_count": 73,
     "metadata": {},
     "output_type": "execute_result"
    }
   ],
   "source": [
    "price"
   ]
  },
  {
   "cell_type": "code",
   "execution_count": 76,
   "metadata": {},
   "outputs": [
    {
     "data": {
      "text/plain": [
       "' 03/30/18  '"
      ]
     },
     "execution_count": 76,
     "metadata": {},
     "output_type": "execute_result"
    }
   ],
   "source": [
    "element.find_all(\"span\")[3].text"
   ]
  },
  {
   "cell_type": "code",
   "execution_count": 77,
   "metadata": {},
   "outputs": [
    {
     "data": {
      "text/plain": [
       "<div class=\"estimates\"> <div class=\"main-row status-icon-row recently-sold-row home-summary-row\"> <span class=\"zsg-icon-recently-sold recently-sold\" data-icon-class=\"zsg-icon-recently-sold\" id=\"listing-icon\"></span>  Sold: <span class=\"\"> $1,045,000 <span class=\"value-suffix\"> </span></span> </div> <div class=\" home-summary-row\">  Sold on <span class=\"\"> 03/30/18 <span class=\"value-suffix\"> </span></span> </div> <div class=\" home-summary-row\"> <span class=\"zsg-tooltip-launch zsg-tooltip-launch_keyword\" data-target-id=\"zest-tip-hdp\">Zestimate<sup>®</sup>:</span> <span class=\"\"> $1,025,501 <span class=\"value-suffix\"> </span></span> </div> </div>"
      ]
     },
     "execution_count": 77,
     "metadata": {},
     "output_type": "execute_result"
    }
   ],
   "source": [
    "element"
   ]
  },
  {
   "cell_type": "code",
   "execution_count": 156,
   "metadata": {},
   "outputs": [
    {
     "data": {
      "text/plain": [
       "[<selenium.webdriver.remote.webelement.WebElement (session=\"52f39e93b3468ccb33d268190613928c\", element=\"0.36896112134091097-2\")>,\n",
       " <selenium.webdriver.remote.webelement.WebElement (session=\"52f39e93b3468ccb33d268190613928c\", element=\"0.36896112134091097-3\")>,\n",
       " <selenium.webdriver.remote.webelement.WebElement (session=\"52f39e93b3468ccb33d268190613928c\", element=\"0.36896112134091097-4\")>,\n",
       " <selenium.webdriver.remote.webelement.WebElement (session=\"52f39e93b3468ccb33d268190613928c\", element=\"0.36896112134091097-5\")>,\n",
       " <selenium.webdriver.remote.webelement.WebElement (session=\"52f39e93b3468ccb33d268190613928c\", element=\"0.36896112134091097-6\")>,\n",
       " <selenium.webdriver.remote.webelement.WebElement (session=\"52f39e93b3468ccb33d268190613928c\", element=\"0.36896112134091097-7\")>,\n",
       " <selenium.webdriver.remote.webelement.WebElement (session=\"52f39e93b3468ccb33d268190613928c\", element=\"0.36896112134091097-8\")>,\n",
       " <selenium.webdriver.remote.webelement.WebElement (session=\"52f39e93b3468ccb33d268190613928c\", element=\"0.36896112134091097-9\")>,\n",
       " <selenium.webdriver.remote.webelement.WebElement (session=\"52f39e93b3468ccb33d268190613928c\", element=\"0.36896112134091097-10\")>,\n",
       " <selenium.webdriver.remote.webelement.WebElement (session=\"52f39e93b3468ccb33d268190613928c\", element=\"0.36896112134091097-11\")>,\n",
       " <selenium.webdriver.remote.webelement.WebElement (session=\"52f39e93b3468ccb33d268190613928c\", element=\"0.36896112134091097-12\")>,\n",
       " <selenium.webdriver.remote.webelement.WebElement (session=\"52f39e93b3468ccb33d268190613928c\", element=\"0.36896112134091097-13\")>,\n",
       " <selenium.webdriver.remote.webelement.WebElement (session=\"52f39e93b3468ccb33d268190613928c\", element=\"0.36896112134091097-14\")>,\n",
       " <selenium.webdriver.remote.webelement.WebElement (session=\"52f39e93b3468ccb33d268190613928c\", element=\"0.36896112134091097-15\")>,\n",
       " <selenium.webdriver.remote.webelement.WebElement (session=\"52f39e93b3468ccb33d268190613928c\", element=\"0.36896112134091097-16\")>,\n",
       " <selenium.webdriver.remote.webelement.WebElement (session=\"52f39e93b3468ccb33d268190613928c\", element=\"0.36896112134091097-17\")>,\n",
       " <selenium.webdriver.remote.webelement.WebElement (session=\"52f39e93b3468ccb33d268190613928c\", element=\"0.36896112134091097-18\")>,\n",
       " <selenium.webdriver.remote.webelement.WebElement (session=\"52f39e93b3468ccb33d268190613928c\", element=\"0.36896112134091097-19\")>,\n",
       " <selenium.webdriver.remote.webelement.WebElement (session=\"52f39e93b3468ccb33d268190613928c\", element=\"0.36896112134091097-20\")>,\n",
       " <selenium.webdriver.remote.webelement.WebElement (session=\"52f39e93b3468ccb33d268190613928c\", element=\"0.36896112134091097-21\")>,\n",
       " <selenium.webdriver.remote.webelement.WebElement (session=\"52f39e93b3468ccb33d268190613928c\", element=\"0.36896112134091097-22\")>,\n",
       " <selenium.webdriver.remote.webelement.WebElement (session=\"52f39e93b3468ccb33d268190613928c\", element=\"0.36896112134091097-23\")>,\n",
       " <selenium.webdriver.remote.webelement.WebElement (session=\"52f39e93b3468ccb33d268190613928c\", element=\"0.36896112134091097-24\")>,\n",
       " <selenium.webdriver.remote.webelement.WebElement (session=\"52f39e93b3468ccb33d268190613928c\", element=\"0.36896112134091097-25\")>,\n",
       " <selenium.webdriver.remote.webelement.WebElement (session=\"52f39e93b3468ccb33d268190613928c\", element=\"0.36896112134091097-26\")>]"
      ]
     },
     "execution_count": 156,
     "metadata": {},
     "output_type": "execute_result"
    }
   ],
   "source": [
    "links = driver.find_elements_by_class_name(\"zsg-photo-card-overlay-link\")\n",
    "links"
   ]
  },
  {
   "cell_type": "code",
   "execution_count": 150,
   "metadata": {},
   "outputs": [],
   "source": [
    "Zillow_output = []"
   ]
  },
  {
   "cell_type": "code",
   "execution_count": 151,
   "metadata": {},
   "outputs": [],
   "source": [
    "def get_Zillow_data(driver):\n",
    "        soup = BeautifulSoup(driver.page_source, 'html.parser')\n",
    "        \n",
    "        sale_price = get_price(soup)\n",
    "        sale_date = get_sale_date(soup)\n",
    "        \n",
    "        return [sale_price,sale_date]\n",
    "        \n",
    "def get_price(soup):\n",
    "    for element in soup.find_all(class_='estimates'):\n",
    "        price = element.find_all(\"span\")[1].text\n",
    "    price = price.replace(\",\", \"\").replace(\"+\", \"\").replace(\"$\", \"\").lower()\n",
    "    return int(price)\n",
    "\n",
    "def get_sale_date(soup):\n",
    "    for element in soup.find_all(class_='estimates'):\n",
    "        sale_date = element.find_all(\"span\")[3].text\n",
    "    sale_date = sale_date.strip()\n",
    "    return sale_date"
   ]
  },
  {
   "cell_type": "code",
   "execution_count": 138,
   "metadata": {},
   "outputs": [
    {
     "name": "stdout",
     "output_type": "stream",
     "text": [
      "\n",
      "3410 Cornerstone Ct,\n",
      "Pleasanton, CA 94566\n",
      "Studio -- baths -- sqft\n",
      "\n",
      "9302 Benzon Dr,\n",
      "Pleasanton, CA 94588\n",
      "5 beds 5 baths 4,000 sqft\n",
      "\n",
      "583 Montori Ct,\n",
      "Pleasanton, CA 94566\n",
      "4 beds 3 baths 2,296 sqft\n",
      "\n",
      "4866 Treewood Ct,\n",
      "Pleasanton, CA 94588\n",
      "3 beds 3 baths 1,721 sqft\n",
      "\n",
      "4248 Bevilacqua Ct,\n",
      "Pleasanton, CA 94566\n",
      "4 beds 3 baths 2,379 sqft\n",
      "\n",
      "3637 Touriga Dr,\n",
      "Pleasanton, CA 94566\n",
      "3 beds 2 baths 1,323 sqft\n",
      "\n",
      "7857 Driftwood Way,\n",
      "Pleasanton, CA 94588\n",
      "6 beds 3 baths 2,086 sqft\n",
      "\n",
      "2915 Calle De La Mesa,\n",
      "Pleasanton, CA 94566\n",
      "4 beds 3 baths 1,984 sqft\n",
      "\n",
      "7492 Alder Ct,\n",
      "Pleasanton, CA 94588\n",
      "4 beds 3 baths 2,444 sqft\n",
      "\n",
      "6232 Roslin Ct,\n",
      "Pleasanton, CA 94588\n",
      "3 beds 2 baths 1,372 sqft\n",
      "\n",
      "3674 Touriga Dr,\n",
      "Pleasanton, CA 94566\n",
      "4 beds 2 baths 2,149 sqft\n"
     ]
    },
    {
     "ename": "StaleElementReferenceException",
     "evalue": "Message: stale element reference: element is not attached to the page document\n  (Session info: chrome=66.0.3359.117)\n  (Driver info: chromedriver=2.38.551581 (2c9c29527ada10af4745ab26dd000ebb6d5e055e),platform=Mac OS X 10.13.4 x86_64)\n",
     "output_type": "error",
     "traceback": [
      "\u001b[0;31m---------------------------------------------------------------------------\u001b[0m",
      "\u001b[0;31mStaleElementReferenceException\u001b[0m            Traceback (most recent call last)",
      "\u001b[0;32m<ipython-input-138-f2c5bad1bf88>\u001b[0m in \u001b[0;36m<module>\u001b[0;34m()\u001b[0m\n\u001b[1;32m      1\u001b[0m \u001b[0;32mfor\u001b[0m \u001b[0mlink\u001b[0m \u001b[0;32min\u001b[0m \u001b[0mlinks\u001b[0m\u001b[0;34m:\u001b[0m\u001b[0;34m\u001b[0m\u001b[0m\n\u001b[1;32m      2\u001b[0m     \u001b[0mtime\u001b[0m\u001b[0;34m.\u001b[0m\u001b[0msleep\u001b[0m\u001b[0;34m(\u001b[0m\u001b[0mnp\u001b[0m\u001b[0;34m.\u001b[0m\u001b[0mrandom\u001b[0m\u001b[0;34m.\u001b[0m\u001b[0mlognormal\u001b[0m\u001b[0;34m(\u001b[0m\u001b[0;36m0\u001b[0m\u001b[0;34m,\u001b[0m\u001b[0;36m1\u001b[0m\u001b[0;34m)\u001b[0m\u001b[0;34m)\u001b[0m\u001b[0;34m\u001b[0m\u001b[0m\n\u001b[0;32m----> 3\u001b[0;31m     \u001b[0mprint\u001b[0m\u001b[0;34m(\u001b[0m\u001b[0mlink\u001b[0m\u001b[0;34m.\u001b[0m\u001b[0mtext\u001b[0m\u001b[0;34m)\u001b[0m\u001b[0;34m\u001b[0m\u001b[0m\n\u001b[0m\u001b[1;32m      4\u001b[0m     \u001b[0;32mtry\u001b[0m\u001b[0;34m:\u001b[0m\u001b[0;34m\u001b[0m\u001b[0m\n\u001b[1;32m      5\u001b[0m         \u001b[0mlink\u001b[0m\u001b[0;34m.\u001b[0m\u001b[0msend_keys\u001b[0m\u001b[0;34m(\u001b[0m\u001b[0mKeys\u001b[0m\u001b[0;34m.\u001b[0m\u001b[0mRETURN\u001b[0m\u001b[0;34m)\u001b[0m\u001b[0;34m\u001b[0m\u001b[0m\n",
      "\u001b[0;32m~/anaconda/lib/python3.6/site-packages/selenium/webdriver/remote/webelement.py\u001b[0m in \u001b[0;36mtext\u001b[0;34m(self)\u001b[0m\n\u001b[1;32m     74\u001b[0m     \u001b[0;32mdef\u001b[0m \u001b[0mtext\u001b[0m\u001b[0;34m(\u001b[0m\u001b[0mself\u001b[0m\u001b[0;34m)\u001b[0m\u001b[0;34m:\u001b[0m\u001b[0;34m\u001b[0m\u001b[0m\n\u001b[1;32m     75\u001b[0m         \u001b[0;34m\"\"\"The text of the element.\"\"\"\u001b[0m\u001b[0;34m\u001b[0m\u001b[0m\n\u001b[0;32m---> 76\u001b[0;31m         \u001b[0;32mreturn\u001b[0m \u001b[0mself\u001b[0m\u001b[0;34m.\u001b[0m\u001b[0m_execute\u001b[0m\u001b[0;34m(\u001b[0m\u001b[0mCommand\u001b[0m\u001b[0;34m.\u001b[0m\u001b[0mGET_ELEMENT_TEXT\u001b[0m\u001b[0;34m)\u001b[0m\u001b[0;34m[\u001b[0m\u001b[0;34m'value'\u001b[0m\u001b[0;34m]\u001b[0m\u001b[0;34m\u001b[0m\u001b[0m\n\u001b[0m\u001b[1;32m     77\u001b[0m \u001b[0;34m\u001b[0m\u001b[0m\n\u001b[1;32m     78\u001b[0m     \u001b[0;32mdef\u001b[0m \u001b[0mclick\u001b[0m\u001b[0;34m(\u001b[0m\u001b[0mself\u001b[0m\u001b[0;34m)\u001b[0m\u001b[0;34m:\u001b[0m\u001b[0;34m\u001b[0m\u001b[0m\n",
      "\u001b[0;32m~/anaconda/lib/python3.6/site-packages/selenium/webdriver/remote/webelement.py\u001b[0m in \u001b[0;36m_execute\u001b[0;34m(self, command, params)\u001b[0m\n\u001b[1;32m    626\u001b[0m             \u001b[0mparams\u001b[0m \u001b[0;34m=\u001b[0m \u001b[0;34m{\u001b[0m\u001b[0;34m}\u001b[0m\u001b[0;34m\u001b[0m\u001b[0m\n\u001b[1;32m    627\u001b[0m         \u001b[0mparams\u001b[0m\u001b[0;34m[\u001b[0m\u001b[0;34m'id'\u001b[0m\u001b[0;34m]\u001b[0m \u001b[0;34m=\u001b[0m \u001b[0mself\u001b[0m\u001b[0;34m.\u001b[0m\u001b[0m_id\u001b[0m\u001b[0;34m\u001b[0m\u001b[0m\n\u001b[0;32m--> 628\u001b[0;31m         \u001b[0;32mreturn\u001b[0m \u001b[0mself\u001b[0m\u001b[0;34m.\u001b[0m\u001b[0m_parent\u001b[0m\u001b[0;34m.\u001b[0m\u001b[0mexecute\u001b[0m\u001b[0;34m(\u001b[0m\u001b[0mcommand\u001b[0m\u001b[0;34m,\u001b[0m \u001b[0mparams\u001b[0m\u001b[0;34m)\u001b[0m\u001b[0;34m\u001b[0m\u001b[0m\n\u001b[0m\u001b[1;32m    629\u001b[0m \u001b[0;34m\u001b[0m\u001b[0m\n\u001b[1;32m    630\u001b[0m     \u001b[0;32mdef\u001b[0m \u001b[0mfind_element\u001b[0m\u001b[0;34m(\u001b[0m\u001b[0mself\u001b[0m\u001b[0;34m,\u001b[0m \u001b[0mby\u001b[0m\u001b[0;34m=\u001b[0m\u001b[0mBy\u001b[0m\u001b[0;34m.\u001b[0m\u001b[0mID\u001b[0m\u001b[0;34m,\u001b[0m \u001b[0mvalue\u001b[0m\u001b[0;34m=\u001b[0m\u001b[0;32mNone\u001b[0m\u001b[0;34m)\u001b[0m\u001b[0;34m:\u001b[0m\u001b[0;34m\u001b[0m\u001b[0m\n",
      "\u001b[0;32m~/anaconda/lib/python3.6/site-packages/selenium/webdriver/remote/webdriver.py\u001b[0m in \u001b[0;36mexecute\u001b[0;34m(self, driver_command, params)\u001b[0m\n\u001b[1;32m    310\u001b[0m         \u001b[0mresponse\u001b[0m \u001b[0;34m=\u001b[0m \u001b[0mself\u001b[0m\u001b[0;34m.\u001b[0m\u001b[0mcommand_executor\u001b[0m\u001b[0;34m.\u001b[0m\u001b[0mexecute\u001b[0m\u001b[0;34m(\u001b[0m\u001b[0mdriver_command\u001b[0m\u001b[0;34m,\u001b[0m \u001b[0mparams\u001b[0m\u001b[0;34m)\u001b[0m\u001b[0;34m\u001b[0m\u001b[0m\n\u001b[1;32m    311\u001b[0m         \u001b[0;32mif\u001b[0m \u001b[0mresponse\u001b[0m\u001b[0;34m:\u001b[0m\u001b[0;34m\u001b[0m\u001b[0m\n\u001b[0;32m--> 312\u001b[0;31m             \u001b[0mself\u001b[0m\u001b[0;34m.\u001b[0m\u001b[0merror_handler\u001b[0m\u001b[0;34m.\u001b[0m\u001b[0mcheck_response\u001b[0m\u001b[0;34m(\u001b[0m\u001b[0mresponse\u001b[0m\u001b[0;34m)\u001b[0m\u001b[0;34m\u001b[0m\u001b[0m\n\u001b[0m\u001b[1;32m    313\u001b[0m             response['value'] = self._unwrap_value(\n\u001b[1;32m    314\u001b[0m                 response.get('value', None))\n",
      "\u001b[0;32m~/anaconda/lib/python3.6/site-packages/selenium/webdriver/remote/errorhandler.py\u001b[0m in \u001b[0;36mcheck_response\u001b[0;34m(self, response)\u001b[0m\n\u001b[1;32m    240\u001b[0m                 \u001b[0malert_text\u001b[0m \u001b[0;34m=\u001b[0m \u001b[0mvalue\u001b[0m\u001b[0;34m[\u001b[0m\u001b[0;34m'alert'\u001b[0m\u001b[0;34m]\u001b[0m\u001b[0;34m.\u001b[0m\u001b[0mget\u001b[0m\u001b[0;34m(\u001b[0m\u001b[0;34m'text'\u001b[0m\u001b[0;34m)\u001b[0m\u001b[0;34m\u001b[0m\u001b[0m\n\u001b[1;32m    241\u001b[0m             \u001b[0;32mraise\u001b[0m \u001b[0mexception_class\u001b[0m\u001b[0;34m(\u001b[0m\u001b[0mmessage\u001b[0m\u001b[0;34m,\u001b[0m \u001b[0mscreen\u001b[0m\u001b[0;34m,\u001b[0m \u001b[0mstacktrace\u001b[0m\u001b[0;34m,\u001b[0m \u001b[0malert_text\u001b[0m\u001b[0;34m)\u001b[0m\u001b[0;34m\u001b[0m\u001b[0m\n\u001b[0;32m--> 242\u001b[0;31m         \u001b[0;32mraise\u001b[0m \u001b[0mexception_class\u001b[0m\u001b[0;34m(\u001b[0m\u001b[0mmessage\u001b[0m\u001b[0;34m,\u001b[0m \u001b[0mscreen\u001b[0m\u001b[0;34m,\u001b[0m \u001b[0mstacktrace\u001b[0m\u001b[0;34m)\u001b[0m\u001b[0;34m\u001b[0m\u001b[0m\n\u001b[0m\u001b[1;32m    243\u001b[0m \u001b[0;34m\u001b[0m\u001b[0m\n\u001b[1;32m    244\u001b[0m     \u001b[0;32mdef\u001b[0m \u001b[0m_value_or_default\u001b[0m\u001b[0;34m(\u001b[0m\u001b[0mself\u001b[0m\u001b[0;34m,\u001b[0m \u001b[0mobj\u001b[0m\u001b[0;34m,\u001b[0m \u001b[0mkey\u001b[0m\u001b[0;34m,\u001b[0m \u001b[0mdefault\u001b[0m\u001b[0;34m)\u001b[0m\u001b[0;34m:\u001b[0m\u001b[0;34m\u001b[0m\u001b[0m\n",
      "\u001b[0;31mStaleElementReferenceException\u001b[0m: Message: stale element reference: element is not attached to the page document\n  (Session info: chrome=66.0.3359.117)\n  (Driver info: chromedriver=2.38.551581 (2c9c29527ada10af4745ab26dd000ebb6d5e055e),platform=Mac OS X 10.13.4 x86_64)\n"
     ]
    }
   ],
   "source": [
    "for link in links:\n",
    "    time.sleep(np.random.lognormal(0,1))\n",
    "    print(link.text)\n",
    "    try:\n",
    "        link.send_keys(Keys.RETURN)\n",
    "    except (TimeoutException,StaleElementReferenceException) as e:\n",
    "        print(e)\n",
    "        continue\n",
    "    time.sleep(np.random.lognormal(0,1))\n",
    "    home_data = get_Zillow_data(driver)\n",
    "    header = driver.find_element_by_class_name(\"zsg-content-header\")\n",
    "    print(header.text)\n",
    "    time.sleep(np.random.lognormal(0,1))\n",
    "    driver.find_element_by_class_name(\"hc-back-to-list\").click()\n",
    "    Zillow_output.append(home_data)"
   ]
  },
  {
   "cell_type": "code",
   "execution_count": 88,
   "metadata": {},
   "outputs": [
    {
     "data": {
      "text/plain": [
       "[[2089000, '04/03/18'],\n",
       " [1490000, '04/02/18'],\n",
       " [1045000, '03/30/18'],\n",
       " [1181000, '03/30/18'],\n",
       " [1155000, '03/30/18'],\n",
       " [1350000, '03/30/18'],\n",
       " [1190000, '03/30/18'],\n",
       " [1045000, '03/30/18'],\n",
       " [1285000, '03/30/18']]"
      ]
     },
     "execution_count": 88,
     "metadata": {},
     "output_type": "execute_result"
    }
   ],
   "source": [
    "Zillow_output"
   ]
  },
  {
   "cell_type": "code",
   "execution_count": 120,
   "metadata": {},
   "outputs": [],
   "source": [
    "import re\n",
    "domestic_total_regex = re.compile('Lot:')\n",
    "lot_size = soup.find(text=domestic_total_regex)"
   ]
  },
  {
   "cell_type": "code",
   "execution_count": 122,
   "metadata": {},
   "outputs": [
    {
     "data": {
      "text/plain": [
       "'Lot: '"
      ]
     },
     "execution_count": 122,
     "metadata": {},
     "output_type": "execute_result"
    }
   ],
   "source": [
    "lot_size"
   ]
  },
  {
   "cell_type": "code",
   "execution_count": 118,
   "metadata": {},
   "outputs": [
    {
     "name": "stdout",
     "output_type": "stream",
     "text": [
      "[<span class=\"hdp-fact-name\">Beds: </span>, <span class=\"hdp-fact-value\">4</span>, <span class=\"hdp-fact-name\">Baths: </span>, <span class=\"hdp-fact-value\">2 full, 1 half</span>, <span class=\"hdp-fact-name\">BATH-MASTER INCLUDES: </span>, <span class=\"hdp-fact-value\">Stall Shower, Tub, Tile</span>, <span class=\"hdp-fact-name\">BATH NON-MSTR INCLUDE: </span>, <span class=\"hdp-fact-value\">Shower Over Tub, Tile</span>, <span class=\"hdp-fact-name\">KITCHEN FEATURES: </span>, <span class=\"hdp-fact-value\">Dishwasher, Microwave, Counter - Solid Surface, Double Oven, Gas Range/Cooktop, Island, Oven Built-in</span>, <span class=\"hdp-fact-name\">LAUNDRY: </span>, <span class=\"hdp-fact-value\">In Laundry Room</span>, <span class=\"hdp-fact-name\">LEVEL - STREET: </span>, <span class=\"hdp-fact-value\">Laundry Facility, Main Entry, Master Bedrm Suite - 1, 4 Bedrooms, 2.5 Baths</span>, <span class=\"hdp-fact-name\">ROOM - ADDITIONAL: </span>, <span class=\"hdp-fact-value\">Family Room, Formal Dining Room</span>, <span class=\"hdp-fact-name\">COOLING: </span>, <span class=\"hdp-fact-value\">Central 1 Zone A/C</span>, <span class=\"hdp-fact-name\">HEATING: </span>, <span class=\"hdp-fact-value\">Forced Air 1 Zone</span>, <span class=\"hdp-fact-name\">Floor size: </span>, <span class=\"hdp-fact-value\">2,296 sqft</span>, <span class=\"hdp-fact-name\">FLOORING: </span>, <span class=\"hdp-fact-value\">Wall to Wall Carpeting, Hardwood Floors</span>, <span class=\"hdp-fact-name\">EQUIPMENT ADDITIONAL: </span>, <span class=\"hdp-fact-value\">Security Alarm - Owned</span>, <span class=\"hdp-fact-name\">FIREPLACES: </span>, <span class=\"hdp-fact-value\">2</span>, <span class=\"hdp-fact-name\">Stories: </span>, <span class=\"hdp-fact-value\">One Story</span>, <span class=\"hdp-fact-name\">HOA AMENITIES: </span>, <span class=\"hdp-fact-value\">Greenbelt, Playground, Pool, Security Gate, Tennis Court(s)</span>, <span class=\"hdp-fact-value\">Single Family</span>, <span class=\"hdp-fact-name\">Class: </span>, <span class=\"hdp-fact-value\">RESIDENTIAL</span>, <span class=\"hdp-fact-name\">STYLE: </span>, <span class=\"hdp-fact-value\">Traditional</span>, <span class=\"hdp-fact-name\">ROOF: </span>, <span class=\"hdp-fact-value\">Tile</span>, <span class=\"hdp-fact-name\">EXTERIOR: </span>, <span class=\"hdp-fact-value\">Wood Siding</span>, <span class=\"hdp-fact-name\">CONSTRUCTION STATUS: </span>, <span class=\"hdp-fact-value\">Existing</span>, <span class=\"hdp-fact-value\">Built in 1995</span>, <span class=\"hdp-fact-name\">Stories: </span>, <span class=\"hdp-fact-value\">0</span>, <span class=\"hdp-fact-name\">YARD DESCRIPTION: </span>, <span class=\"hdp-fact-value\">Patio, Patio Covered, Back Yard, Sprinklers Automatic, Fenced, Front Yard, Garden/Play</span>, <span class=\"hdp-fact-name\">POOL: </span>, <span class=\"hdp-fact-value\">Community Fclty</span>, <span class=\"hdp-fact-name\">Lot: </span>, <span class=\"hdp-fact-value\">0.42 acres</span>, <span class=\"hdp-fact-name\">LOT DESCRIPTION: </span>, <span class=\"hdp-fact-value\">Cul-De-Sac, Premium Lot</span>, <span class=\"hdp-fact-name\">Parcel #: </span>, <span class=\"hdp-fact-value\">9501513</span>, <span class=\"hdp-fact-name\">City: </span>, <span class=\"hdp-fact-value\">PLEASANTON</span>, <span class=\"hdp-fact-name\">GARAGE/PARKING: </span>, <span class=\"hdp-fact-value\">Attached Garage</span>, <span class=\"hdp-fact-name\">Garage (Y/N): </span>, <span class=\"hdp-fact-value\">Yes</span>, <span class=\"hdp-fact-name\">WATER/SEWER: </span>, <span class=\"hdp-fact-value\">Sewer System - Public, Water - Public</span>, <span class=\"hdp-fact-value\">Good solar potential<br/>Sun Number™: 68</span>, <span class=\"zsg-tooltip-launch zsg-icon-circle-question\" data-target-id=\"sun-score-tooltip\"></span>, <span class=\"hdp-fact-name\">HOA Fee: </span>, <span class=\"hdp-fact-value\">$215/mo</span>, <span class=\"hdp-fact-name\">HOA Fees Freq: </span>, <span class=\"hdp-fact-value\">Monthly</span>, <span class=\"hdp-fact-name\">HOA: </span>, <span class=\"hdp-fact-value\">Yes</span>, <span class=\"hdp-fact-name\">Source: </span>, <span class=\"hdp-fact-value\">Public Records</span>, <span class=\"hdp-fact-name\">Last sold: </span>, <span class=\"hdp-fact-value\">Apr 2018 for $1,490,000</span>, <span class=\"hdp-fact-name\">Last sale price/sqft: </span>, <span class=\"hdp-fact-value\">$649</span>, <span class=\"additional-links-left\"><span class=\"county-link\"><a class=\"za-track-event\" data-za-action=\"CountyLink\" data-za-category=\"CountyLink\" data-za-label=\"Description\" href=\"https://www.zillow.com:443/CountyAssessorPage.htm?COUNTY_ID=6001&amp;FORCE_GENERIC=false&amp;LINK_LOCATION=Description&amp;PARCEL_NUM=9501513\" rel=\"nofollow\" target=\"_blank\">County website</a></span><span class=\"data-sources\"><a class=\"za-track-event show-lightbox\" data-za-action=\"See Data Sources Link\" data-za-category=\"Homes\" data-za-href=\"!ignore\" href=\"#home-facts-comparison\"><span class=\"zbt\"></span>See data sources</a></span></span>, <span class=\"county-link\"><a class=\"za-track-event\" data-za-action=\"CountyLink\" data-za-category=\"CountyLink\" data-za-label=\"Description\" href=\"https://www.zillow.com:443/CountyAssessorPage.htm?COUNTY_ID=6001&amp;FORCE_GENERIC=false&amp;LINK_LOCATION=Description&amp;PARCEL_NUM=9501513\" rel=\"nofollow\" target=\"_blank\">County website</a></span>, <span class=\"data-sources\"><a class=\"za-track-event show-lightbox\" data-za-action=\"See Data Sources Link\" data-za-category=\"Homes\" data-za-href=\"!ignore\" href=\"#home-facts-comparison\"><span class=\"zbt\"></span>See data sources</a></span>, <span class=\"zbt\"></span>]\n"
     ]
    }
   ],
   "source": [
    "for element in soup.find_all(class_='z-moreless-content'):        \n",
    "        span_element = element.find_all(\"span\")\n",
    "        print(span_element)"
   ]
  },
  {
   "cell_type": "code",
   "execution_count": 153,
   "metadata": {},
   "outputs": [
    {
     "name": "stdout",
     "output_type": "stream",
     "text": [
      "3410 Cornerstone Ct,\n",
      "Pleasanton, CA 94566\n",
      "Studio -- baths -- sqft\n",
      "9302 Benzon Dr,\n",
      "Pleasanton, CA 94588\n",
      "5 beds 5 baths 4,000 sqft\n",
      "583 Montori Ct,\n",
      "Pleasanton, CA 94566\n",
      "4 beds 3 baths 2,296 sqft\n",
      "4866 Treewood Ct,\n",
      "Pleasanton, CA 94588\n",
      "3 beds 3 baths 1,721 sqft\n",
      "4248 Bevilacqua Ct,\n",
      "Pleasanton, CA 94566\n",
      "4 beds 3 baths 2,379 sqft\n",
      "3637 Touriga Dr,\n",
      "Pleasanton, CA 94566\n",
      "3 beds 2 baths 1,323 sqft\n",
      "7857 Driftwood Way,\n",
      "Pleasanton, CA 94588\n",
      "6 beds 3 baths 2,086 sqft\n",
      "2915 Calle De La Mesa,\n",
      "Pleasanton, CA 94566\n",
      "4 beds 3 baths 1,984 sqft\n",
      "7492 Alder Ct,\n",
      "Pleasanton, CA 94588\n",
      "4 beds 3 baths 2,444 sqft\n",
      "6232 Roslin Ct,\n",
      "Pleasanton, CA 94588\n",
      "3 beds 2 baths 1,372 sqft\n",
      "3674 Touriga Dr,\n",
      "Pleasanton, CA 94566\n",
      "4 beds 2 baths 2,149 sqft\n"
     ]
    },
    {
     "ename": "StaleElementReferenceException",
     "evalue": "Message: stale element reference: element is not attached to the page document\n  (Session info: chrome=66.0.3359.117)\n  (Driver info: chromedriver=2.38.551581 (2c9c29527ada10af4745ab26dd000ebb6d5e055e),platform=Mac OS X 10.13.4 x86_64)\n",
     "output_type": "error",
     "traceback": [
      "\u001b[0;31m---------------------------------------------------------------------------\u001b[0m",
      "\u001b[0;31mStaleElementReferenceException\u001b[0m            Traceback (most recent call last)",
      "\u001b[0;32m<ipython-input-153-52f95f42fea6>\u001b[0m in \u001b[0;36m<module>\u001b[0;34m()\u001b[0m\n\u001b[1;32m      9\u001b[0m         \u001b[0mprint\u001b[0m\u001b[0;34m(\u001b[0m\u001b[0me\u001b[0m\u001b[0;34m)\u001b[0m\u001b[0;34m\u001b[0m\u001b[0m\n\u001b[1;32m     10\u001b[0m         \u001b[0;32mcontinue\u001b[0m\u001b[0;34m\u001b[0m\u001b[0m\n\u001b[0;32m---> 11\u001b[0;31m     \u001b[0mlink\u001b[0m\u001b[0;34m.\u001b[0m\u001b[0msend_keys\u001b[0m\u001b[0;34m(\u001b[0m\u001b[0mKeys\u001b[0m\u001b[0;34m.\u001b[0m\u001b[0mRETURN\u001b[0m\u001b[0;34m)\u001b[0m\u001b[0;34m\u001b[0m\u001b[0m\n\u001b[0m\u001b[1;32m     12\u001b[0m     \u001b[0mtime\u001b[0m\u001b[0;34m.\u001b[0m\u001b[0msleep\u001b[0m\u001b[0;34m(\u001b[0m\u001b[0mnp\u001b[0m\u001b[0;34m.\u001b[0m\u001b[0mrandom\u001b[0m\u001b[0;34m.\u001b[0m\u001b[0mlognormal\u001b[0m\u001b[0;34m(\u001b[0m\u001b[0;36m0\u001b[0m\u001b[0;34m,\u001b[0m\u001b[0;36m1\u001b[0m\u001b[0;34m)\u001b[0m\u001b[0;34m)\u001b[0m\u001b[0;34m\u001b[0m\u001b[0m\n\u001b[1;32m     13\u001b[0m     \u001b[0mhome_data\u001b[0m \u001b[0;34m=\u001b[0m \u001b[0mget_Zillow_data\u001b[0m\u001b[0;34m(\u001b[0m\u001b[0mdriver\u001b[0m\u001b[0;34m)\u001b[0m\u001b[0;34m\u001b[0m\u001b[0m\n",
      "\u001b[0;32m~/anaconda/lib/python3.6/site-packages/selenium/webdriver/remote/webelement.py\u001b[0m in \u001b[0;36msend_keys\u001b[0;34m(self, *value)\u001b[0m\n\u001b[1;32m    477\u001b[0m         self._execute(Command.SEND_KEYS_TO_ELEMENT,\n\u001b[1;32m    478\u001b[0m                       {'text': \"\".join(keys_to_typing(value)),\n\u001b[0;32m--> 479\u001b[0;31m                        'value': keys_to_typing(value)})\n\u001b[0m\u001b[1;32m    480\u001b[0m \u001b[0;34m\u001b[0m\u001b[0m\n\u001b[1;32m    481\u001b[0m     \u001b[0;31m# RenderedWebElement Items\u001b[0m\u001b[0;34m\u001b[0m\u001b[0;34m\u001b[0m\u001b[0m\n",
      "\u001b[0;32m~/anaconda/lib/python3.6/site-packages/selenium/webdriver/remote/webelement.py\u001b[0m in \u001b[0;36m_execute\u001b[0;34m(self, command, params)\u001b[0m\n\u001b[1;32m    626\u001b[0m             \u001b[0mparams\u001b[0m \u001b[0;34m=\u001b[0m \u001b[0;34m{\u001b[0m\u001b[0;34m}\u001b[0m\u001b[0;34m\u001b[0m\u001b[0m\n\u001b[1;32m    627\u001b[0m         \u001b[0mparams\u001b[0m\u001b[0;34m[\u001b[0m\u001b[0;34m'id'\u001b[0m\u001b[0;34m]\u001b[0m \u001b[0;34m=\u001b[0m \u001b[0mself\u001b[0m\u001b[0;34m.\u001b[0m\u001b[0m_id\u001b[0m\u001b[0;34m\u001b[0m\u001b[0m\n\u001b[0;32m--> 628\u001b[0;31m         \u001b[0;32mreturn\u001b[0m \u001b[0mself\u001b[0m\u001b[0;34m.\u001b[0m\u001b[0m_parent\u001b[0m\u001b[0;34m.\u001b[0m\u001b[0mexecute\u001b[0m\u001b[0;34m(\u001b[0m\u001b[0mcommand\u001b[0m\u001b[0;34m,\u001b[0m \u001b[0mparams\u001b[0m\u001b[0;34m)\u001b[0m\u001b[0;34m\u001b[0m\u001b[0m\n\u001b[0m\u001b[1;32m    629\u001b[0m \u001b[0;34m\u001b[0m\u001b[0m\n\u001b[1;32m    630\u001b[0m     \u001b[0;32mdef\u001b[0m \u001b[0mfind_element\u001b[0m\u001b[0;34m(\u001b[0m\u001b[0mself\u001b[0m\u001b[0;34m,\u001b[0m \u001b[0mby\u001b[0m\u001b[0;34m=\u001b[0m\u001b[0mBy\u001b[0m\u001b[0;34m.\u001b[0m\u001b[0mID\u001b[0m\u001b[0;34m,\u001b[0m \u001b[0mvalue\u001b[0m\u001b[0;34m=\u001b[0m\u001b[0;32mNone\u001b[0m\u001b[0;34m)\u001b[0m\u001b[0;34m:\u001b[0m\u001b[0;34m\u001b[0m\u001b[0m\n",
      "\u001b[0;32m~/anaconda/lib/python3.6/site-packages/selenium/webdriver/remote/webdriver.py\u001b[0m in \u001b[0;36mexecute\u001b[0;34m(self, driver_command, params)\u001b[0m\n\u001b[1;32m    310\u001b[0m         \u001b[0mresponse\u001b[0m \u001b[0;34m=\u001b[0m \u001b[0mself\u001b[0m\u001b[0;34m.\u001b[0m\u001b[0mcommand_executor\u001b[0m\u001b[0;34m.\u001b[0m\u001b[0mexecute\u001b[0m\u001b[0;34m(\u001b[0m\u001b[0mdriver_command\u001b[0m\u001b[0;34m,\u001b[0m \u001b[0mparams\u001b[0m\u001b[0;34m)\u001b[0m\u001b[0;34m\u001b[0m\u001b[0m\n\u001b[1;32m    311\u001b[0m         \u001b[0;32mif\u001b[0m \u001b[0mresponse\u001b[0m\u001b[0;34m:\u001b[0m\u001b[0;34m\u001b[0m\u001b[0m\n\u001b[0;32m--> 312\u001b[0;31m             \u001b[0mself\u001b[0m\u001b[0;34m.\u001b[0m\u001b[0merror_handler\u001b[0m\u001b[0;34m.\u001b[0m\u001b[0mcheck_response\u001b[0m\u001b[0;34m(\u001b[0m\u001b[0mresponse\u001b[0m\u001b[0;34m)\u001b[0m\u001b[0;34m\u001b[0m\u001b[0m\n\u001b[0m\u001b[1;32m    313\u001b[0m             response['value'] = self._unwrap_value(\n\u001b[1;32m    314\u001b[0m                 response.get('value', None))\n",
      "\u001b[0;32m~/anaconda/lib/python3.6/site-packages/selenium/webdriver/remote/errorhandler.py\u001b[0m in \u001b[0;36mcheck_response\u001b[0;34m(self, response)\u001b[0m\n\u001b[1;32m    240\u001b[0m                 \u001b[0malert_text\u001b[0m \u001b[0;34m=\u001b[0m \u001b[0mvalue\u001b[0m\u001b[0;34m[\u001b[0m\u001b[0;34m'alert'\u001b[0m\u001b[0;34m]\u001b[0m\u001b[0;34m.\u001b[0m\u001b[0mget\u001b[0m\u001b[0;34m(\u001b[0m\u001b[0;34m'text'\u001b[0m\u001b[0;34m)\u001b[0m\u001b[0;34m\u001b[0m\u001b[0m\n\u001b[1;32m    241\u001b[0m             \u001b[0;32mraise\u001b[0m \u001b[0mexception_class\u001b[0m\u001b[0;34m(\u001b[0m\u001b[0mmessage\u001b[0m\u001b[0;34m,\u001b[0m \u001b[0mscreen\u001b[0m\u001b[0;34m,\u001b[0m \u001b[0mstacktrace\u001b[0m\u001b[0;34m,\u001b[0m \u001b[0malert_text\u001b[0m\u001b[0;34m)\u001b[0m\u001b[0;34m\u001b[0m\u001b[0m\n\u001b[0;32m--> 242\u001b[0;31m         \u001b[0;32mraise\u001b[0m \u001b[0mexception_class\u001b[0m\u001b[0;34m(\u001b[0m\u001b[0mmessage\u001b[0m\u001b[0;34m,\u001b[0m \u001b[0mscreen\u001b[0m\u001b[0;34m,\u001b[0m \u001b[0mstacktrace\u001b[0m\u001b[0;34m)\u001b[0m\u001b[0;34m\u001b[0m\u001b[0m\n\u001b[0m\u001b[1;32m    243\u001b[0m \u001b[0;34m\u001b[0m\u001b[0m\n\u001b[1;32m    244\u001b[0m     \u001b[0;32mdef\u001b[0m \u001b[0m_value_or_default\u001b[0m\u001b[0;34m(\u001b[0m\u001b[0mself\u001b[0m\u001b[0;34m,\u001b[0m \u001b[0mobj\u001b[0m\u001b[0;34m,\u001b[0m \u001b[0mkey\u001b[0m\u001b[0;34m,\u001b[0m \u001b[0mdefault\u001b[0m\u001b[0;34m)\u001b[0m\u001b[0;34m:\u001b[0m\u001b[0;34m\u001b[0m\u001b[0m\n",
      "\u001b[0;31mStaleElementReferenceException\u001b[0m: Message: stale element reference: element is not attached to the page document\n  (Session info: chrome=66.0.3359.117)\n  (Driver info: chromedriver=2.38.551581 (2c9c29527ada10af4745ab26dd000ebb6d5e055e),platform=Mac OS X 10.13.4 x86_64)\n"
     ]
    }
   ],
   "source": [
    "wait = WebDriverWait(driver, 10)\n",
    "\n",
    "for link in links:\n",
    "    time.sleep(np.random.lognormal(0,1))\n",
    "    #print(link.text)\n",
    "    try:\n",
    "        element = wait.until(EC.presence_of_element_located((By.CLASS_NAME, \"zsg-photo-card-overlay-link\")))\n",
    "    except TimeoutException as e:\n",
    "        print(e)\n",
    "        continue\n",
    "    link.send_keys(Keys.RETURN)\n",
    "    time.sleep(np.random.lognormal(0,1))\n",
    "    home_data = get_Zillow_data(driver)\n",
    "    header = driver.find_element_by_class_name(\"zsg-content-header\")\n",
    "    print(header.text)\n",
    "    time.sleep(np.random.lognormal(0,1))\n",
    "    driver.find_element_by_class_name(\"hc-back-to-list\").click()\n",
    "    Zillow_output.append(home_data)"
   ]
  },
  {
   "cell_type": "code",
   "execution_count": 154,
   "metadata": {},
   "outputs": [
    {
     "data": {
      "text/plain": [
       "[<selenium.webdriver.remote.webelement.WebElement (session=\"52f39e93b3468ccb33d268190613928c\", element=\"0.6727107773801031-1\")>,\n",
       " <selenium.webdriver.remote.webelement.WebElement (session=\"52f39e93b3468ccb33d268190613928c\", element=\"0.6727107773801031-2\")>,\n",
       " <selenium.webdriver.remote.webelement.WebElement (session=\"52f39e93b3468ccb33d268190613928c\", element=\"0.6727107773801031-3\")>,\n",
       " <selenium.webdriver.remote.webelement.WebElement (session=\"52f39e93b3468ccb33d268190613928c\", element=\"0.6727107773801031-4\")>,\n",
       " <selenium.webdriver.remote.webelement.WebElement (session=\"52f39e93b3468ccb33d268190613928c\", element=\"0.6727107773801031-5\")>,\n",
       " <selenium.webdriver.remote.webelement.WebElement (session=\"52f39e93b3468ccb33d268190613928c\", element=\"0.6727107773801031-6\")>,\n",
       " <selenium.webdriver.remote.webelement.WebElement (session=\"52f39e93b3468ccb33d268190613928c\", element=\"0.6727107773801031-7\")>,\n",
       " <selenium.webdriver.remote.webelement.WebElement (session=\"52f39e93b3468ccb33d268190613928c\", element=\"0.6727107773801031-8\")>,\n",
       " <selenium.webdriver.remote.webelement.WebElement (session=\"52f39e93b3468ccb33d268190613928c\", element=\"0.6727107773801031-9\")>,\n",
       " <selenium.webdriver.remote.webelement.WebElement (session=\"52f39e93b3468ccb33d268190613928c\", element=\"0.6727107773801031-10\")>,\n",
       " <selenium.webdriver.remote.webelement.WebElement (session=\"52f39e93b3468ccb33d268190613928c\", element=\"0.6727107773801031-11\")>,\n",
       " <selenium.webdriver.remote.webelement.WebElement (session=\"52f39e93b3468ccb33d268190613928c\", element=\"0.6727107773801031-12\")>,\n",
       " <selenium.webdriver.remote.webelement.WebElement (session=\"52f39e93b3468ccb33d268190613928c\", element=\"0.6727107773801031-13\")>,\n",
       " <selenium.webdriver.remote.webelement.WebElement (session=\"52f39e93b3468ccb33d268190613928c\", element=\"0.6727107773801031-14\")>,\n",
       " <selenium.webdriver.remote.webelement.WebElement (session=\"52f39e93b3468ccb33d268190613928c\", element=\"0.6727107773801031-15\")>,\n",
       " <selenium.webdriver.remote.webelement.WebElement (session=\"52f39e93b3468ccb33d268190613928c\", element=\"0.6727107773801031-16\")>,\n",
       " <selenium.webdriver.remote.webelement.WebElement (session=\"52f39e93b3468ccb33d268190613928c\", element=\"0.6727107773801031-17\")>,\n",
       " <selenium.webdriver.remote.webelement.WebElement (session=\"52f39e93b3468ccb33d268190613928c\", element=\"0.6727107773801031-18\")>,\n",
       " <selenium.webdriver.remote.webelement.WebElement (session=\"52f39e93b3468ccb33d268190613928c\", element=\"0.6727107773801031-19\")>,\n",
       " <selenium.webdriver.remote.webelement.WebElement (session=\"52f39e93b3468ccb33d268190613928c\", element=\"0.6727107773801031-20\")>,\n",
       " <selenium.webdriver.remote.webelement.WebElement (session=\"52f39e93b3468ccb33d268190613928c\", element=\"0.6727107773801031-21\")>,\n",
       " <selenium.webdriver.remote.webelement.WebElement (session=\"52f39e93b3468ccb33d268190613928c\", element=\"0.6727107773801031-22\")>,\n",
       " <selenium.webdriver.remote.webelement.WebElement (session=\"52f39e93b3468ccb33d268190613928c\", element=\"0.6727107773801031-23\")>,\n",
       " <selenium.webdriver.remote.webelement.WebElement (session=\"52f39e93b3468ccb33d268190613928c\", element=\"0.6727107773801031-24\")>,\n",
       " <selenium.webdriver.remote.webelement.WebElement (session=\"52f39e93b3468ccb33d268190613928c\", element=\"0.6727107773801031-25\")>]"
      ]
     },
     "execution_count": 154,
     "metadata": {},
     "output_type": "execute_result"
    }
   ],
   "source": [
    "links"
   ]
  },
  {
   "cell_type": "code",
   "execution_count": null,
   "metadata": {},
   "outputs": [],
   "source": []
  }
 ],
 "metadata": {
  "kernelspec": {
   "display_name": "Python 3",
   "language": "python",
   "name": "python3"
  },
  "language_info": {
   "codemirror_mode": {
    "name": "ipython",
    "version": 3
   },
   "file_extension": ".py",
   "mimetype": "text/x-python",
   "name": "python",
   "nbconvert_exporter": "python",
   "pygments_lexer": "ipython3",
   "version": "3.6.4"
  }
 },
 "nbformat": 4,
 "nbformat_minor": 2
}
