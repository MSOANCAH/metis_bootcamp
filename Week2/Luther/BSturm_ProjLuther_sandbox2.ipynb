{
 "cells": [
  {
   "cell_type": "code",
   "execution_count": 12,
   "metadata": {},
   "outputs": [],
   "source": [
    "import os\n",
    "import requests\n",
    "from bs4 import BeautifulSoup\n",
    "from selenium import webdriver\n",
    "from selenium.webdriver.common.keys import Keys\n",
    "from selenium.webdriver.common.by import By\n",
    "import time\n",
    "import sys\n",
    "\n",
    "import numpy as np\n",
    "import pandas as pd"
   ]
  },
  {
   "cell_type": "code",
   "execution_count": 13,
   "metadata": {},
   "outputs": [
    {
     "name": "stdout",
     "output_type": "stream",
     "text": [
      "chromedriver path: /Users/bwsturm/Downloads/chromedriver\n"
     ]
    }
   ],
   "source": [
    "chromedriver = \"~/Downloads/chromedriver\" # path to the chromedriver executable\n",
    "chromedriver = os.path.expanduser(chromedriver)\n",
    "print('chromedriver path: {}'.format(chromedriver))\n",
    "sys.path.append(chromedriver)\n",
    "\n",
    "driver = webdriver.Chrome(chromedriver)"
   ]
  },
  {
   "cell_type": "code",
   "execution_count": 14,
   "metadata": {},
   "outputs": [],
   "source": [
    "zillow_pleasanton_url = \"https://www.zillow.com/homes/recently_sold/Pleasanton-CA/house_type/47164_rid/globalrelevanceex_sort/37.739092,-121.750317,37.583086,-122.028408_rect/11_zm/\""
   ]
  },
  {
   "cell_type": "code",
   "execution_count": 15,
   "metadata": {},
   "outputs": [],
   "source": [
    "driver.get(zillow_pleasanton_url)"
   ]
  },
  {
   "cell_type": "code",
   "execution_count": 5,
   "metadata": {},
   "outputs": [],
   "source": [
    "soup = BeautifulSoup(driver.page_source, 'html.parser')"
   ]
  },
  {
   "cell_type": "code",
   "execution_count": 6,
   "metadata": {},
   "outputs": [],
   "source": [
    "listings = soup.find_all(\"a\", class_=\"zsg-photo-card-overlay-link\")"
   ]
  },
  {
   "cell_type": "code",
   "execution_count": 11,
   "metadata": {},
   "outputs": [
    {
     "data": {
      "text/plain": [
       "[<a class=\"zsg-photo-card-overlay-link routable hdp-link routable mask hdp-link\" href=\"/homedetails/6820-Singletree-Ct-Pleasanton-CA-94588/25068715_zpid/\"></a>,\n",
       " <a class=\"zsg-photo-card-overlay-link routable hdp-link routable mask hdp-link\" href=\"/homedetails/2804-Tangelo-Ct-Pleasanton-CA-94588/25085538_zpid/\"></a>,\n",
       " <a class=\"zsg-photo-card-overlay-link routable hdp-link routable mask hdp-link\" href=\"/homedetails/5650-Hansen-Dr-Pleasanton-CA-94566/25080514_zpid/\"></a>,\n",
       " <a class=\"zsg-photo-card-overlay-link routable hdp-link routable mask hdp-link\" href=\"/homedetails/592-Tawny-Dr-Pleasanton-CA-94566/25077658_zpid/\"></a>,\n",
       " <a class=\"zsg-photo-card-overlay-link routable hdp-link routable mask hdp-link\" href=\"/homedetails/764-Saint-John-Cir-Pleasanton-CA-94566/24931458_zpid/\"></a>]"
      ]
     },
     "execution_count": 11,
     "metadata": {},
     "output_type": "execute_result"
    }
   ],
   "source": [
    "listings[:5]"
   ]
  },
  {
   "cell_type": "code",
   "execution_count": 31,
   "metadata": {},
   "outputs": [
    {
     "data": {
      "text/plain": [
       "'/homedetails/2804-Tangelo-Ct-Pleasanton-CA-94588/25085538_zpid/'"
      ]
     },
     "execution_count": 31,
     "metadata": {},
     "output_type": "execute_result"
    }
   ],
   "source": [
    "listings[0]['href']"
   ]
  },
  {
   "cell_type": "code",
   "execution_count": 32,
   "metadata": {},
   "outputs": [],
   "source": [
    "house_links = ['https://www.zillow.com'+row['href'] for row in listings]"
   ]
  },
  {
   "cell_type": "code",
   "execution_count": 55,
   "metadata": {},
   "outputs": [],
   "source": [
    "#house_links"
   ]
  },
  {
   "cell_type": "code",
   "execution_count": 51,
   "metadata": {},
   "outputs": [],
   "source": [
    "next_button = soup.find_all(\"a\", class_=\"on\")"
   ]
  },
  {
   "cell_type": "code",
   "execution_count": 52,
   "metadata": {},
   "outputs": [],
   "source": [
    "next_link = ['https://www.zillow.com'+row['href'] for row in next_button]"
   ]
  },
  {
   "cell_type": "code",
   "execution_count": 53,
   "metadata": {},
   "outputs": [
    {
     "data": {
      "text/plain": [
       "['https://www.zillow.com/homes/recently_sold/Pleasanton-CA/_type/47164_rid/37.739091,-121.749974,37.583085,-122.028065_rect/11_zm/2_p/']"
      ]
     },
     "execution_count": 53,
     "metadata": {},
     "output_type": "execute_result"
    }
   ],
   "source": [
    "next_link"
   ]
  },
  {
   "cell_type": "code",
   "execution_count": 54,
   "metadata": {},
   "outputs": [],
   "source": [
    "driver.get(next_link[0])"
   ]
  },
  {
   "cell_type": "code",
   "execution_count": 16,
   "metadata": {},
   "outputs": [],
   "source": [
    "def get_house_links(url, driver, pages=20):\n",
    "    house_links=[]\n",
    "    driver.get(url)\n",
    "    for i in range(pages):\n",
    "        soup = BeautifulSoup(driver.page_source, 'html.parser')\n",
    "        listings = soup.find_all(\"a\", class_=\"zsg-photo-card-overlay-link\")\n",
    "        page_data = ['https://www.zillow.com'+row['href'] for row in listings]\n",
    "        house_links.append(page_data)\n",
    "        time.sleep(np.random.lognormal(0,1))\n",
    "        next_button = soup.find_all(\"a\", class_=\"on\")\n",
    "        next_button_link = ['https://www.zillow.com'+row['href'] for row in next_button]\n",
    "        if i<19:\n",
    "            driver.get(next_button_link[0])\n",
    "    \n",
    "    return house_links\n",
    "        "
   ]
  },
  {
   "cell_type": "code",
   "execution_count": 66,
   "metadata": {},
   "outputs": [],
   "source": [
    "house_links_2pages = get_house_links(zillow_pleasanton_url,driver,pages=2)"
   ]
  },
  {
   "cell_type": "code",
   "execution_count": 77,
   "metadata": {},
   "outputs": [
    {
     "data": {
      "text/plain": [
       "(2, 25)"
      ]
     },
     "execution_count": 77,
     "metadata": {},
     "output_type": "execute_result"
    }
   ],
   "source": [
    "np.shape(house_links_2pages)"
   ]
  },
  {
   "cell_type": "code",
   "execution_count": 17,
   "metadata": {},
   "outputs": [],
   "source": [
    "def get_html_data(url, driver):\n",
    "    driver.get(url)\n",
    "    time.sleep(np.random.lognormal(0,1))\n",
    "    soup = BeautifulSoup(driver.page_source, 'html.parser')\n",
    "    return soup\n",
    "    "
   ]
  },
  {
   "cell_type": "code",
   "execution_count": 18,
   "metadata": {},
   "outputs": [],
   "source": [
    "def get_price(soup):\n",
    "    try:\n",
    "        for element in soup.find_all(class_='estimates'):\n",
    "            price = element.find_all(\"span\")[1].text\n",
    "        price = price.replace(\",\", \"\").replace(\"+\", \"\").replace(\"$\", \"\").lower()\n",
    "        return int(price)\n",
    "    except:\n",
    "        return np.nan\n",
    "    \n",
    "def get_sale_date(soup):\n",
    "    try:\n",
    "        for element in soup.find_all(class_='estimates'):\n",
    "            sale_date = element.find_all(\"span\")[3].text\n",
    "        sale_date = sale_date.strip()\n",
    "        return sale_date\n",
    "    except:\n",
    "        return 'None'\n",
    "    \n",
    "def get_lot_size(soup):\n",
    "    try:\n",
    "        lot_size_regex = re.compile('Lot:')\n",
    "        obj = soup.find(text=lot_size_regex).find_next()\n",
    "        return obj.text\n",
    "    except:\n",
    "        return 'None'\n",
    "    \n",
    "def get_floor_size(soup):\n",
    "    try:\n",
    "        lot_size_regex = re.compile('Floor:')\n",
    "        obj = soup.find(text=lot_size_regex).find_next()\n",
    "        return obj.text\n",
    "    except:\n",
    "        return 'None'\n",
    "    \n",
    "def get_num_beds(soup):\n",
    "    try:\n",
    "        lot_size_regex = re.compile('Beds:')\n",
    "        obj = soup.find(text=lot_size_regex).find_next()\n",
    "        return obj.text\n",
    "    except:\n",
    "        return 'None'\n",
    "    \n",
    "def get_num_baths(soup):\n",
    "    try:\n",
    "        lot_size_regex = re.compile('Baths:')\n",
    "        obj = soup.find(text=lot_size_regex).find_next()\n",
    "        return obj.text\n",
    "    except:\n",
    "        return 'None'\n",
    "\n",
    "def get_year_built(soup):\n",
    "    try:\n",
    "        built_in_regex = re.compile('Built in')\n",
    "        obj = soup.find(text=built_in_regex)\n",
    "        return obj\n",
    "    except:\n",
    "        return 'None'\n",
    "\n",
    "def get_address(soup):\n",
    "    try:\n",
    "        obj = soup.find(\"header\",class_=\"zsg-content-header addr\").text.split(',')\n",
    "        address = obj[0]\n",
    "        return address\n",
    "    except:\n",
    "        return 'None'\n",
    "\n",
    "def get_city(soup):\n",
    "    try:\n",
    "        obj = soup.find(\"header\",class_=\"zsg-content-header addr\").text.split(',')\n",
    "        city = obj[1]\n",
    "        return city\n",
    "    except:\n",
    "        return 'None'\n",
    "    \n",
    "def get_zip(soup):\n",
    "    try:\n",
    "        obj = soup.find(\"header\",class_=\"zsg-content-header addr\").text.split(',')\n",
    "        list = obj[2].split()\n",
    "        zip_code = list[1]\n",
    "        return zip_code\n",
    "    except:\n",
    "        return 'None'\n",
    "\n",
    "def get_num_beds2(soup):\n",
    "    try:\n",
    "        obj = soup.find_all(\"span\",class_='addr_bbs')\n",
    "        beds = obj[0].text.split()[0]\n",
    "        return beds\n",
    "    except:\n",
    "        return 'None'\n",
    "    \n",
    "def get_num_baths2(soup):\n",
    "    try:\n",
    "        obj = soup.find_all(\"span\",class_='addr_bbs')\n",
    "        beds = obj[1].text.split()[0]\n",
    "        return beds\n",
    "    except:\n",
    "        return 'None'\n",
    "    \n",
    "def get_floor_size2(soup):\n",
    "    try:\n",
    "        obj = soup.find_all(\"span\",class_='addr_bbs')\n",
    "        floor_size_string = obj[2].text.split()[0]\n",
    "        floor_size = floor_size_string.replace(\",\",\"\")\n",
    "        return floor_size\n",
    "    except:\n",
    "        return 'None'\n",
    "    \n",
    "def get_year_built2(soup):\n",
    "    try:\n",
    "        objs = soup.find_all(\"span\",class_='hdp-fact-value')\n",
    "        built_in_regex = re.compile('Built in')\n",
    "        for obj in objs:\n",
    "            out = obj.find(text=built_in_regex)\n",
    "            if out is not None:\n",
    "                return out\n",
    "    except:\n",
    "        return 'None'"
   ]
  },
  {
   "cell_type": "code",
   "execution_count": 81,
   "metadata": {},
   "outputs": [
    {
     "data": {
      "text/plain": [
       "'https://www.zillow.com/homedetails/5650-Hansen-Dr-Pleasanton-CA-94566/25080514_zpid/'"
      ]
     },
     "execution_count": 81,
     "metadata": {},
     "output_type": "execute_result"
    }
   ],
   "source": [
    "house_links_2pages[0][1]"
   ]
  },
  {
   "cell_type": "code",
   "execution_count": 83,
   "metadata": {},
   "outputs": [],
   "source": [
    "soup = get_html_data(house_links_2pages[0][1],driver)"
   ]
  },
  {
   "cell_type": "code",
   "execution_count": 84,
   "metadata": {},
   "outputs": [],
   "source": [
    "price = get_price(soup)"
   ]
  },
  {
   "cell_type": "code",
   "execution_count": 85,
   "metadata": {},
   "outputs": [],
   "source": [
    "sale_date = get_sale_date(soup)"
   ]
  },
  {
   "cell_type": "code",
   "execution_count": 86,
   "metadata": {},
   "outputs": [
    {
     "data": {
      "text/plain": [
       "(1200000, '04/20/18')"
      ]
     },
     "execution_count": 86,
     "metadata": {},
     "output_type": "execute_result"
    }
   ],
   "source": [
    "price, sale_date"
   ]
  },
  {
   "cell_type": "code",
   "execution_count": 21,
   "metadata": {},
   "outputs": [],
   "source": [
    "# I want to flatten the house_links_list\n",
    "house_links_flat=[]\n",
    "\n",
    "for sublist in house_links_2pages:\n",
    "    for item in sublist:\n",
    "        house_links_flat.append(item)"
   ]
  },
  {
   "cell_type": "code",
   "execution_count": 22,
   "metadata": {},
   "outputs": [],
   "source": [
    "def get_house_data(driver,house_links_flat):\n",
    "    house_data = []\n",
    "    for link in house_links_flat:\n",
    "        soup = get_html_data(link,driver)\n",
    "        address = get_address(soup)\n",
    "        city = get_city(soup)\n",
    "        zip_code = get_zip(soup)\n",
    "        beds = get_num_beds2(soup)\n",
    "        baths = get_num_baths2(soup)\n",
    "        floor_size = get_floor_size2(soup)\n",
    "        lot_size = get_lot_size(soup)\n",
    "        year_built = get_year_built2(soup)\n",
    "        sale_date = get_sale_date(soup)\n",
    "        price = get_price(soup)\n",
    "\n",
    "        house_data.append([address,city,zip_code,beds,baths,floor_size,lot_size,year_built,sale_date,price])\n",
    "        \n",
    "    return house_data"
   ]
  },
  {
   "cell_type": "code",
   "execution_count": 23,
   "metadata": {},
   "outputs": [],
   "source": [
    "house_data_2pages = get_house_data(driver,house_links_flat) "
   ]
  },
  {
   "cell_type": "code",
   "execution_count": 26,
   "metadata": {},
   "outputs": [
    {
     "data": {
      "text/plain": [
       "(50, 10)"
      ]
     },
     "execution_count": 26,
     "metadata": {},
     "output_type": "execute_result"
    }
   ],
   "source": [
    "np.shape(house_data_2pages)"
   ]
  },
  {
   "cell_type": "code",
   "execution_count": 158,
   "metadata": {},
   "outputs": [],
   "source": [
    "soup = get_html_data(house_links_flat[13],driver)"
   ]
  },
  {
   "cell_type": "code",
   "execution_count": 159,
   "metadata": {},
   "outputs": [
    {
     "data": {
      "text/plain": [
       "[<span class=\"hdp-fact-value\">3</span>,\n",
       " <span class=\"hdp-fact-value\">1 full, 1 half</span>,\n",
       " <span class=\"hdp-fact-value\">Tub, Tile, Shower Over Tub, Other</span>,\n",
       " <span class=\"hdp-fact-value\">Tile</span>,\n",
       " <span class=\"hdp-fact-value\">220 Volt Outlet, Counter - Tile, Dishwasher, Electric Range/Cooktop, Garbage Disposal, Range/Oven Free Standing, Microwave, Pantry, Counter - Stone</span>,\n",
       " <span class=\"hdp-fact-value\">Laundry Facility, 0.5 Bath, Main Entry</span>,\n",
       " <span class=\"hdp-fact-value\">3 Bedrooms, Master Bedrm Suite - 1, 1 Bath</span>,\n",
       " <span class=\"hdp-fact-value\">No Additional Rooms</span>,\n",
       " <span class=\"hdp-fact-value\">220 Volt Outlet, Dryer, In Closet, Washer</span>,\n",
       " <span class=\"hdp-fact-value\">Central 1 Zone A/C, Ceiling Fan(s)</span>,\n",
       " <span class=\"hdp-fact-value\">Forced Air 1 Zone</span>,\n",
       " <span class=\"hdp-fact-value\">Attic</span>,\n",
       " <span class=\"hdp-fact-value\">Dishwasher, Dryer, Garbage disposal, Microwave, Range / Oven, Washer</span>,\n",
       " <span class=\"hdp-fact-value\">1,280 sqft</span>,\n",
       " <span class=\"hdp-fact-value\">Other</span>,\n",
       " <span class=\"hdp-fact-value\">Other, Laminate, Tile</span>,\n",
       " <span class=\"hdp-fact-value\">Fireplace</span>,\n",
       " <span class=\"hdp-fact-value\">Ceiling Fan</span>,\n",
       " <span class=\"hdp-fact-value\">5</span>,\n",
       " <span class=\"hdp-fact-value\">DSL/Modem Line, Water Heater Gas, Washer, Dryer</span>,\n",
       " <span class=\"hdp-fact-value\">1</span>,\n",
       " <span class=\"hdp-fact-value\">Two Story</span>,\n",
       " <span class=\"hdp-fact-value\">Greenbelt</span>,\n",
       " <span class=\"hdp-fact-value\">Other</span>,\n",
       " <span class=\"hdp-fact-value\">22</span>,\n",
       " <span class=\"hdp-fact-value\">Other</span>,\n",
       " <span class=\"hdp-fact-value\">Townhouse</span>,\n",
       " <span class=\"hdp-fact-value\">RESIDENTIAL</span>,\n",
       " <span class=\"hdp-fact-value\">Other</span>,\n",
       " <span class=\"hdp-fact-value\">Tile</span>,\n",
       " <span class=\"hdp-fact-value\">Stucco</span>,\n",
       " <span class=\"hdp-fact-value\">Double Pane/Storm Windows</span>,\n",
       " <span class=\"hdp-fact-value\">Stucco</span>,\n",
       " <span class=\"hdp-fact-value\">Tile</span>,\n",
       " <span class=\"hdp-fact-value\">Existing</span>,\n",
       " <span class=\"hdp-fact-value\">1980</span>,\n",
       " <span class=\"hdp-fact-value\">Built in 1978</span>,\n",
       " <span class=\"hdp-fact-value\">2</span>,\n",
       " <span class=\"hdp-fact-value\">Fenced Yard</span>,\n",
       " <span class=\"hdp-fact-value\">Patio, Fenced, Other</span>,\n",
       " <span class=\"hdp-fact-value\">1,017 sqft</span>,\n",
       " <span class=\"hdp-fact-value\">Level</span>,\n",
       " <span class=\"hdp-fact-value\">1</span>,\n",
       " <span class=\"hdp-fact-value\">946337033</span>,\n",
       " <span class=\"hdp-fact-value\">Not Listed</span>,\n",
       " <span class=\"hdp-fact-value\">PLEASANTON</span>,\n",
       " <span class=\"hdp-fact-value\">Pleasanton</span>,\n",
       " <span class=\"hdp-fact-value\">Carport, 2 spaces</span>,\n",
       " <span class=\"hdp-fact-value\">Off Street Parking, Carport - 1, Guest Parking, Parking Spaces, Spaces - Assigned, Space Per Unit - 2</span>,\n",
       " <span class=\"hdp-fact-value\">Cable Ready</span>,\n",
       " <span class=\"hdp-fact-value\">Sewer System - Public</span>,\n",
       " <span class=\"hdp-fact-value\">Great solar potential<br/>Sun Number™: 85</span>,\n",
       " <span class=\"hdp-fact-value\">$330/mo</span>,\n",
       " <span class=\"hdp-fact-value\">Monthly</span>,\n",
       " <span class=\"hdp-fact-value\">Yes</span>,\n",
       " <span class=\"hdp-fact-value\">Public Records</span>,\n",
       " <span class=\"hdp-fact-value\">Apr 2018 for $683,000</span>,\n",
       " <span class=\"hdp-fact-value\">$534</span>]"
      ]
     },
     "execution_count": 159,
     "metadata": {},
     "output_type": "execute_result"
    }
   ],
   "source": [
    "soup.find_all(\"span\",class_=\"hdp-fact-value\")"
   ]
  },
  {
   "cell_type": "code",
   "execution_count": 103,
   "metadata": {},
   "outputs": [],
   "source": [
    "soup = get_html_data(house_links_flat[12],driver)"
   ]
  },
  {
   "cell_type": "code",
   "execution_count": 160,
   "metadata": {},
   "outputs": [
    {
     "data": {
      "text/plain": [
       "[<ul class=\"zsg-sm-1-1 hdp-fact-list\"><li class=\"\"><span class=\"hdp-fact-name\">Beds: </span><span class=\"hdp-fact-value\">3</span></li></ul>,\n",
       " <ul class=\"zsg-sm-1-1 hdp-fact-list\"><li class=\"\"><span class=\"hdp-fact-name\">Baths: </span><span class=\"hdp-fact-value\">1 full, 1 half</span></li><li class=\"\"><span class=\"hdp-fact-name\">BATH-MASTER INCLUDES: </span><span class=\"hdp-fact-value\">Tub, Tile, Shower Over Tub, Other</span></li><li class=\"\"><span class=\"hdp-fact-name\">BATH NON-MSTR INCLUDE: </span><span class=\"hdp-fact-value\">Tile</span></li></ul>,\n",
       " <ul class=\"zsg-sm-1-1 hdp-fact-list\"><li class=\"\"><span class=\"hdp-fact-name\">KITCHEN FEATURES: </span><span class=\"hdp-fact-value\">220 Volt Outlet, Counter - Tile, Dishwasher, Electric Range/Cooktop, Garbage Disposal, Range/Oven Free Standing, Microwave, Pantry, Counter - Stone</span></li></ul>,\n",
       " <ul class=\"zsg-sm-1-1 hdp-fact-list\"><li class=\"\"><span class=\"hdp-fact-name\">LEVEL - STREET: </span><span class=\"hdp-fact-value\">Laundry Facility, 0.5 Bath, Main Entry</span></li><li class=\"\"><span class=\"hdp-fact-name\">LEVEL - UPPER: </span><span class=\"hdp-fact-value\">3 Bedrooms, Master Bedrm Suite - 1, 1 Bath</span></li><li class=\"\"><span class=\"hdp-fact-name\">ROOM - ADDITIONAL: </span><span class=\"hdp-fact-value\">No Additional Rooms</span></li><li class=\"\"><span class=\"hdp-fact-name\">LAUNDRY: </span><span class=\"hdp-fact-value\">220 Volt Outlet, Dryer, In Closet, Washer</span></li></ul>,\n",
       " <ul class=\"zsg-sm-1-1 hdp-fact-list\"><li class=\"\"><span class=\"hdp-fact-name\">COOLING: </span><span class=\"hdp-fact-value\">Central 1 Zone A/C, Ceiling Fan(s)</span></li><li class=\"\"><span class=\"hdp-fact-name\">HEATING: </span><span class=\"hdp-fact-value\">Forced Air 1 Zone</span></li></ul>,\n",
       " <ul class=\"zsg-sm-1-1 hdp-fact-list\"><li class=\"\"><span class=\"hdp-fact-value\">Attic</span></li></ul>,\n",
       " <ul class=\"zsg-sm-1-1 hdp-fact-list\"><li class=\"\"><span class=\"hdp-fact-name\">Appliances included: </span><span class=\"hdp-fact-value\">Dishwasher, Dryer, Garbage disposal, Microwave, Range / Oven, Washer</span></li></ul>,\n",
       " <ul class=\"zsg-sm-1-1 hdp-fact-list\"><li class=\"\"><span class=\"hdp-fact-name\">Floor size: </span><span class=\"hdp-fact-value\">1,280 sqft</span></li><li class=\"\"><span class=\"hdp-fact-name\">Flooring: </span><span class=\"hdp-fact-value\">Other</span></li><li class=\"\"><span class=\"hdp-fact-name\">FLOORING: </span><span class=\"hdp-fact-value\">Other, Laminate, Tile</span></li></ul>,\n",
       " <ul class=\"zsg-sm-1-1 hdp-fact-list\"><li class=\"\"><span class=\"hdp-fact-value\">Fireplace</span></li><li class=\"\"><span class=\"hdp-fact-value\">Ceiling Fan</span></li><li class=\"\"><span class=\"hdp-fact-name\">Room count: </span><span class=\"hdp-fact-value\">5</span></li><li class=\"\"><span class=\"hdp-fact-name\">EQUIPMENT ADDITIONAL: </span><span class=\"hdp-fact-value\">DSL/Modem Line, Water Heater Gas, Washer, Dryer</span></li><li class=\"\"><span class=\"hdp-fact-name\">FIREPLACES: </span><span class=\"hdp-fact-value\">1</span></li></ul>,\n",
       " <ul class=\"zsg-sm-1-1 hdp-fact-list\"><li class=\"\"><span class=\"hdp-fact-name\">Stories: </span><span class=\"hdp-fact-value\">Two Story</span></li></ul>,\n",
       " <ul class=\"zsg-sm-1-1 hdp-fact-list\"><li class=\"\"><span class=\"hdp-fact-name\">HOA AMENITIES: </span><span class=\"hdp-fact-value\">Greenbelt</span></li></ul>,\n",
       " <ul class=\"zsg-sm-1-1 hdp-fact-list\"><li class=\"\"><span class=\"hdp-fact-name\">UNIT FEATURE: </span><span class=\"hdp-fact-value\">Other</span></li></ul>,\n",
       " <ul class=\"zsg-sm-1-1 hdp-fact-list\"><li class=\"\"><span class=\"hdp-fact-name\">Unit count: </span><span class=\"hdp-fact-value\">22</span></li></ul>,\n",
       " <ul class=\"zsg-sm-1-1 hdp-fact-list\"><li class=\"\"><span class=\"hdp-fact-name\">Structure type: </span><span class=\"hdp-fact-value\">Other</span></li><li class=\"\"><span class=\"hdp-fact-value\">Townhouse</span></li><li class=\"\"><span class=\"hdp-fact-name\">Class: </span><span class=\"hdp-fact-value\">RESIDENTIAL</span></li><li class=\"\"><span class=\"hdp-fact-name\">STYLE: </span><span class=\"hdp-fact-value\">Other</span></li></ul>,\n",
       " <ul class=\"zsg-sm-1-1 hdp-fact-list\"><li class=\"\"><span class=\"hdp-fact-name\">Roof type: </span><span class=\"hdp-fact-value\">Tile</span></li><li class=\"\"><span class=\"hdp-fact-name\">Exterior material: </span><span class=\"hdp-fact-value\">Stucco</span></li><li class=\"\"><span class=\"hdp-fact-value\">Double Pane/Storm Windows</span></li><li class=\"\"><span class=\"hdp-fact-name\">EXTERIOR: </span><span class=\"hdp-fact-value\">Stucco</span></li><li class=\"\"><span class=\"hdp-fact-name\">ROOF: </span><span class=\"hdp-fact-value\">Tile</span></li></ul>,\n",
       " <ul class=\"zsg-sm-1-1 hdp-fact-list\"><li class=\"\"><span class=\"hdp-fact-name\">CONSTRUCTION STATUS: </span><span class=\"hdp-fact-value\">Existing</span></li></ul>,\n",
       " <ul class=\"zsg-sm-1-1 hdp-fact-list\"><li class=\"\"><span class=\"hdp-fact-name\">Last remodel year: </span><span class=\"hdp-fact-value\">1980</span></li><li class=\"\"><span class=\"hdp-fact-value\">Built in 1978</span></li></ul>,\n",
       " <ul class=\"zsg-sm-1-1 hdp-fact-list\"><li class=\"\"><span class=\"hdp-fact-name\">Stories: </span><span class=\"hdp-fact-value\">2</span></li></ul>,\n",
       " <ul class=\"zsg-sm-1-1 hdp-fact-list\"><li class=\"\"><span class=\"hdp-fact-value\">Fenced Yard</span></li><li class=\"\"><span class=\"hdp-fact-name\">YARD DESCRIPTION: </span><span class=\"hdp-fact-value\">Patio, Fenced, Other</span></li></ul>,\n",
       " <ul class=\"zsg-sm-1-1 hdp-fact-list\"><li class=\"\"><span class=\"hdp-fact-name\">Lot: </span><span class=\"hdp-fact-value\">1,017 sqft</span></li><li class=\"\"><span class=\"hdp-fact-name\">LOT DESCRIPTION: </span><span class=\"hdp-fact-value\">Level</span></li></ul>,\n",
       " <ul class=\"zsg-sm-1-1 hdp-fact-list\"><li class=\"\"><span class=\"hdp-fact-name\">Unit floor #: </span><span class=\"hdp-fact-value\">1</span></li><li class=\"\"><span class=\"hdp-fact-name\">Parcel #: </span><span class=\"hdp-fact-value\">946337033</span></li></ul>,\n",
       " <ul class=\"zsg-sm-1-1 hdp-fact-list\"><li class=\"\"><span class=\"hdp-fact-name\">Complex Name: </span><span class=\"hdp-fact-value\">Not Listed</span></li><li class=\"\"><span class=\"hdp-fact-name\">City: </span><span class=\"hdp-fact-value\">PLEASANTON</span></li></ul>,\n",
       " <ul class=\"zsg-sm-1-1 hdp-fact-list\"><li class=\"\"><span class=\"hdp-fact-name\">School district: </span><span class=\"hdp-fact-value\">Pleasanton</span></li></ul>,\n",
       " <ul class=\"zsg-sm-1-1 hdp-fact-list\"><li class=\"\"><span class=\"hdp-fact-name\">Parking: </span><span class=\"hdp-fact-value\">Carport, 2 spaces</span></li><li class=\"\"><span class=\"hdp-fact-name\">GARAGE/PARKING: </span><span class=\"hdp-fact-value\">Off Street Parking, Carport - 1, Guest Parking, Parking Spaces, Spaces - Assigned, Space Per Unit - 2</span></li></ul>,\n",
       " <ul class=\"zsg-sm-1-1 hdp-fact-list\"><li class=\"\"><span class=\"hdp-fact-value\">Cable Ready</span></li><li class=\"\"><span class=\"hdp-fact-name\">WATER/SEWER: </span><span class=\"hdp-fact-value\">Sewer System - Public</span></li></ul>,\n",
       " <ul class=\"zsg-sm-1-1 hdp-fact-list\"><li class=\"\"><span class=\"hdp-fact-value\">Great solar potential<br/>Sun Number™: 85</span><span class=\"zsg-tooltip-launch zsg-icon-circle-question\" data-target-id=\"sun-score-tooltip\"></span></li></ul>,\n",
       " <ul class=\"zsg-sm-1-1 hdp-fact-list\"><li class=\"\"><span class=\"hdp-fact-name\">HOA Fee: </span><span class=\"hdp-fact-value\">$330/mo</span></li><li class=\"\"><span class=\"hdp-fact-name\">HOA Fees Freq: </span><span class=\"hdp-fact-value\">Monthly</span></li><li class=\"\"><span class=\"hdp-fact-name\">HOA: </span><span class=\"hdp-fact-value\">Yes</span></li></ul>,\n",
       " <ul class=\"zsg-sm-1-1 hdp-fact-list\"><li class=\"\"><span class=\"hdp-fact-name\">Source: </span><span class=\"hdp-fact-value\">Public Records</span></li></ul>,\n",
       " <ul class=\"zsg-sm-1-1 hdp-fact-list\"><li class=\"\"><span class=\"hdp-fact-name\">Last sold: </span><span class=\"hdp-fact-value\">Apr 2018 for $683,000</span></li><li class=\"\"><span class=\"hdp-fact-name\">Last sale price/sqft: </span><span class=\"hdp-fact-value\">$534</span></li></ul>]"
      ]
     },
     "execution_count": 160,
     "metadata": {},
     "output_type": "execute_result"
    }
   ],
   "source": [
    "home_facts = soup.find_all(\"ul\",class_=\"zsg-sm-1-1 hdp-fact-list\")\n",
    "home_facts"
   ]
  },
  {
   "cell_type": "code",
   "execution_count": 155,
   "metadata": {},
   "outputs": [
    {
     "data": {
      "text/plain": [
       "'901 sqft'"
      ]
     },
     "execution_count": 155,
     "metadata": {},
     "output_type": "execute_result"
    }
   ],
   "source": [
    "import re\n",
    "lot_size_regex = re.compile('Lot:')\n",
    "obj = soup.find(text=lot_size_regex).find_next()\n",
    "obj.text"
   ]
  },
  {
   "cell_type": "code",
   "execution_count": 180,
   "metadata": {},
   "outputs": [
    {
     "data": {
      "text/plain": [
       "'Built in 1978'"
      ]
     },
     "execution_count": 180,
     "metadata": {},
     "output_type": "execute_result"
    }
   ],
   "source": [
    "built_in_regex = re.compile('Built in')\n",
    "obj = soup.find(text=built_in_regex)\n",
    "obj"
   ]
  },
  {
   "cell_type": "code",
   "execution_count": 194,
   "metadata": {},
   "outputs": [
    {
     "name": "stdout",
     "output_type": "stream",
     "text": [
      "<header class=\"zsg-content-header addr\"> <h1 class=\"notranslate\">4448 Del Valle Pkwy, <span class=\"zsg-h2 addr_city\">Pleasanton, CA 94566</span> </h1> <h3 class=\"\"> <span aria-hidden=\"true\" class=\"middle-dot\"> </span><span class=\"addr_bbs\">3 beds</span><span aria-hidden=\"true\" class=\"middle-dot\"> </span><span class=\"addr_bbs\">2 baths</span><span aria-hidden=\"true\" class=\"middle-dot\"> </span><span class=\"addr_bbs\">1,280 sqft</span> </h3> </header>\n"
     ]
    }
   ],
   "source": [
    "for element in soup.find_all(\"header\",class_=\"zsg-content-header addr\"):\n",
    "    print(element)"
   ]
  },
  {
   "cell_type": "code",
   "execution_count": 199,
   "metadata": {},
   "outputs": [
    {
     "data": {
      "text/plain": [
       "[' 4448 Del Valle Pkwy',\n",
       " ' Pleasanton',\n",
       " ' CA 94566   \\xa03 beds\\xa02 baths\\xa01',\n",
       " '280 sqft  ']"
      ]
     },
     "execution_count": 199,
     "metadata": {},
     "output_type": "execute_result"
    }
   ],
   "source": [
    "soup.find(\"header\",class_=\"zsg-content-header addr\").text.split(',')"
   ]
  },
  {
   "cell_type": "code",
   "execution_count": 203,
   "metadata": {},
   "outputs": [
    {
     "data": {
      "text/plain": [
       "683000"
      ]
     },
     "execution_count": 203,
     "metadata": {},
     "output_type": "execute_result"
    }
   ],
   "source": [
    "get_price(soup)"
   ]
  },
  {
   "cell_type": "code",
   "execution_count": 204,
   "metadata": {},
   "outputs": [
    {
     "data": {
      "text/plain": [
       "'04/12/18'"
      ]
     },
     "execution_count": 204,
     "metadata": {},
     "output_type": "execute_result"
    }
   ],
   "source": [
    "get_sale_date(soup)"
   ]
  },
  {
   "cell_type": "code",
   "execution_count": 205,
   "metadata": {},
   "outputs": [
    {
     "data": {
      "text/plain": [
       "'1,017 sqft'"
      ]
     },
     "execution_count": 205,
     "metadata": {},
     "output_type": "execute_result"
    }
   ],
   "source": [
    "get_lot_size(soup)"
   ]
  },
  {
   "cell_type": "code",
   "execution_count": 206,
   "metadata": {},
   "outputs": [
    {
     "data": {
      "text/plain": [
       "'None'"
      ]
     },
     "execution_count": 206,
     "metadata": {},
     "output_type": "execute_result"
    }
   ],
   "source": [
    "get_floor_size(soup)"
   ]
  },
  {
   "cell_type": "code",
   "execution_count": 207,
   "metadata": {},
   "outputs": [
    {
     "data": {
      "text/plain": [
       "'3'"
      ]
     },
     "execution_count": 207,
     "metadata": {},
     "output_type": "execute_result"
    }
   ],
   "source": [
    "get_num_beds(soup)"
   ]
  },
  {
   "cell_type": "code",
   "execution_count": 210,
   "metadata": {},
   "outputs": [
    {
     "data": {
      "text/plain": [
       "'1 full, 1 half'"
      ]
     },
     "execution_count": 210,
     "metadata": {},
     "output_type": "execute_result"
    }
   ],
   "source": [
    "get_num_baths(soup)"
   ]
  },
  {
   "cell_type": "code",
   "execution_count": 211,
   "metadata": {},
   "outputs": [
    {
     "data": {
      "text/plain": [
       "'Built in 1978'"
      ]
     },
     "execution_count": 211,
     "metadata": {},
     "output_type": "execute_result"
    }
   ],
   "source": [
    "get_year_built(soup)"
   ]
  },
  {
   "cell_type": "code",
   "execution_count": 214,
   "metadata": {},
   "outputs": [
    {
     "data": {
      "text/plain": [
       "' 4448 Del Valle Pkwy'"
      ]
     },
     "execution_count": 214,
     "metadata": {},
     "output_type": "execute_result"
    }
   ],
   "source": [
    "get_address(soup)"
   ]
  },
  {
   "cell_type": "code",
   "execution_count": 226,
   "metadata": {},
   "outputs": [
    {
     "data": {
      "text/plain": [
       "' Pleasanton'"
      ]
     },
     "execution_count": 226,
     "metadata": {},
     "output_type": "execute_result"
    }
   ],
   "source": [
    "get_city(soup)"
   ]
  },
  {
   "cell_type": "code",
   "execution_count": 224,
   "metadata": {},
   "outputs": [
    {
     "data": {
      "text/plain": [
       "'94566'"
      ]
     },
     "execution_count": 224,
     "metadata": {},
     "output_type": "execute_result"
    }
   ],
   "source": [
    "get_zip(soup)"
   ]
  },
  {
   "cell_type": "code",
   "execution_count": 19,
   "metadata": {},
   "outputs": [],
   "source": [
    "house_links_2pages = get_house_links(zillow_pleasanton_url,driver,pages=2)"
   ]
  },
  {
   "cell_type": "code",
   "execution_count": 20,
   "metadata": {},
   "outputs": [
    {
     "data": {
      "text/plain": [
       "[['https://www.zillow.com/homedetails/659-Bonita-Ave-Pleasanton-CA-94566/25076523_zpid/',\n",
       "  'https://www.zillow.com/homedetails/6820-Singletree-Ct-Pleasanton-CA-94588/25068715_zpid/',\n",
       "  'https://www.zillow.com/homedetails/2804-Tangelo-Ct-Pleasanton-CA-94588/25085538_zpid/',\n",
       "  'https://www.zillow.com/homedetails/5650-Hansen-Dr-Pleasanton-CA-94566/25080514_zpid/',\n",
       "  'https://www.zillow.com/homedetails/592-Tawny-Dr-Pleasanton-CA-94566/25077658_zpid/',\n",
       "  'https://www.zillow.com/homedetails/764-Saint-John-Cir-Pleasanton-CA-94566/24931458_zpid/',\n",
       "  'https://www.zillow.com/homedetails/2668-Calle-Morelia-Pleasanton-CA-94566/25081233_zpid/',\n",
       "  'https://www.zillow.com/homedetails/6048-Inglewood-Dr-Pleasanton-CA-94588/25067968_zpid/',\n",
       "  'https://www.zillow.com/homedetails/3884-Vineyard-Ave-Pleasanton-CA-94566/24931106_zpid/',\n",
       "  'https://www.zillow.com/homedetails/6570-Arlington-Dr-Pleasanton-CA-94566/25086569_zpid/',\n",
       "  'https://www.zillow.com/homedetails/2730-Longspur-Way-Pleasanton-CA-94566/25078982_zpid/',\n",
       "  'https://www.zillow.com/homedetails/681-Norante-Ct-Pleasanton-CA-94566/82235605_zpid/',\n",
       "  'https://www.zillow.com/homedetails/784-E-Angela-St-Pleasanton-CA-94566/25076564_zpid/',\n",
       "  'https://www.zillow.com/homedetails/4553-Carver-Ct-Pleasanton-CA-94588/25067914_zpid/',\n",
       "  'https://www.zillow.com/homedetails/4078-Cristobal-Way-Pleasanton-CA-94566/24931998_zpid/',\n",
       "  'https://www.zillow.com/homedetails/1012-Shotwell-Ct-Pleasanton-CA-94566/122160890_zpid/',\n",
       "  'https://www.zillow.com/homedetails/7729-Olive-Dr-Pleasanton-CA-94588/25067165_zpid/',\n",
       "  'https://www.zillow.com/homedetails/1158-Baur-Ct-Pleasanton-CA-94566/89033666_zpid/',\n",
       "  'https://www.zillow.com/homedetails/3760-Trenery-Dr-Pleasanton-CA-94588/25075873_zpid/',\n",
       "  'https://www.zillow.com/homedetails/4802-Sutter-Gate-Ave-Pleasanton-CA-94566/25078956_zpid/',\n",
       "  'https://www.zillow.com/homedetails/5689-San-Jose-Dr-Pleasanton-CA-94566/25086314_zpid/',\n",
       "  'https://www.zillow.com/homedetails/3302-Prairie-Dr-Pleasanton-CA-94588/25070356_zpid/',\n",
       "  'https://www.zillow.com/homedetails/2506-Sanderling-Dr-Pleasanton-CA-94566/25078466_zpid/',\n",
       "  'https://www.zillow.com/homedetails/2606-Sanderling-Way-Pleasanton-CA-94566/25078832_zpid/',\n",
       "  'https://www.zillow.com/homedetails/2550-Glen-Isle-Ave-Pleasanton-CA-94588/25074108_zpid/'],\n",
       " ['https://www.zillow.com/homedetails/6-Deer-Oaks-Dr-Pleasanton-CA-94588/25081926_zpid/',\n",
       "  'https://www.zillow.com/homedetails/2504-Larrikeet-Ct-Pleasanton-CA-94566/25078806_zpid/',\n",
       "  'https://www.zillow.com/homedetails/6424-Randall-Ct-Pleasanton-CA-94566/25086536_zpid/',\n",
       "  'https://www.zillow.com/homedetails/5650-San-Juan-Way-Pleasanton-CA-94566/25086121_zpid/',\n",
       "  'https://www.zillow.com/homedetails/360-Abbie-St-Pleasanton-CA-94566/24930658_zpid/',\n",
       "  'https://www.zillow.com/homedetails/3727-Platt-Ct-N-Pleasanton-CA-94588/25066002_zpid/',\n",
       "  'https://www.zillow.com/homedetails/3881-Foothill-Rd-Pleasanton-CA-94588/25070305_zpid/',\n",
       "  'https://www.zillow.com/homedetails/3410-Cornerstone-Ct-Pleasanton-CA-94566/241575983_zpid/',\n",
       "  'https://www.zillow.com/homedetails/9302-Benzon-Dr-Pleasanton-CA-94588/25073933_zpid/',\n",
       "  'https://www.zillow.com/homedetails/583-Montori-Ct-Pleasanton-CA-94566/25087260_zpid/',\n",
       "  'https://www.zillow.com/homedetails/3637-Touriga-Dr-Pleasanton-CA-94566/25076897_zpid/',\n",
       "  'https://www.zillow.com/homedetails/4866-Treewood-Ct-Pleasanton-CA-94588/25066571_zpid/',\n",
       "  'https://www.zillow.com/homedetails/7857-Driftwood-Way-Pleasanton-CA-94588/25066595_zpid/',\n",
       "  'https://www.zillow.com/homedetails/4248-Bevilacqua-Ct-Pleasanton-CA-94566/24930943_zpid/',\n",
       "  'https://www.zillow.com/homedetails/5212-Ridgevale-Way-Pleasanton-CA-94566/25079394_zpid/',\n",
       "  'https://www.zillow.com/homedetails/4210-Remillard-Ct-Pleasanton-CA-94566/25086866_zpid/',\n",
       "  'https://www.zillow.com/homedetails/7492-Alder-Ct-Pleasanton-CA-94588/25066969_zpid/',\n",
       "  'https://www.zillow.com/homedetails/3546-Ballantyne-Dr-Pleasanton-CA-94588/25075412_zpid/',\n",
       "  'https://www.zillow.com/homedetails/590-Mission-Dr-Pleasanton-CA-94566/25085957_zpid/',\n",
       "  'https://www.zillow.com/homedetails/3674-Touriga-Dr-Pleasanton-CA-94566/25076907_zpid/',\n",
       "  'https://www.zillow.com/homedetails/6232-Roslin-Ct-Pleasanton-CA-94588/25068552_zpid/',\n",
       "  'https://www.zillow.com/homedetails/2915-Calle-De-La-Mesa-Pleasanton-CA-94566/25083667_zpid/',\n",
       "  'https://www.zillow.com/homedetails/7297-Valley-Trails-Dr-Pleasanton-CA-94588/25066382_zpid/',\n",
       "  'https://www.zillow.com/homedetails/2175-Cameron-Cir-Pleasanton-CA-94588/119590752_zpid/',\n",
       "  'https://www.zillow.com/homedetails/789-View-Dr-Pleasanton-CA-94566/25082120_zpid/']]"
      ]
     },
     "execution_count": 20,
     "metadata": {},
     "output_type": "execute_result"
    }
   ],
   "source": [
    "house_links_2pages"
   ]
  },
  {
   "cell_type": "code",
   "execution_count": 234,
   "metadata": {},
   "outputs": [],
   "source": [
    "# I want to flatten the house_links_list\n",
    "house_links_flat=[]\n",
    "\n",
    "for sublist in house_links_2pages:\n",
    "    for item in sublist:\n",
    "        house_links_flat.append(item)"
   ]
  },
  {
   "cell_type": "code",
   "execution_count": 237,
   "metadata": {},
   "outputs": [],
   "source": [
    "house_data_2pages = get_house_data(driver,house_links_flat) "
   ]
  },
  {
   "cell_type": "code",
   "execution_count": 238,
   "metadata": {},
   "outputs": [
    {
     "data": {
      "text/plain": [
       "[[' 2804 Tangelo Ct',\n",
       "  ' Pleasanton',\n",
       "  '94588',\n",
       "  '3',\n",
       "  '2 full, 1 half',\n",
       "  'None',\n",
       "  '2,526 sqft',\n",
       "  'Built in 1998',\n",
       "  '04/23/18',\n",
       "  1039000],\n",
       " [' 5650 Hansen Dr',\n",
       "  ' Pleasanton',\n",
       "  '94566',\n",
       "  '4',\n",
       "  'None',\n",
       "  'None',\n",
       "  '6,699 sqft',\n",
       "  'Built in 1973',\n",
       "  '04/20/18',\n",
       "  1200000],\n",
       " [' 6048 Inglewood Dr',\n",
       "  ' Pleasanton',\n",
       "  '94588',\n",
       "  '4',\n",
       "  'None',\n",
       "  'None',\n",
       "  '6,499 sqft',\n",
       "  'Built in 1968',\n",
       "  '04/18/18',\n",
       "  1125000],\n",
       " [' 2668 Calle Morelia',\n",
       "  ' Pleasanton',\n",
       "  '94566',\n",
       "  '5',\n",
       "  'None',\n",
       "  'None',\n",
       "  '6,500 sqft',\n",
       "  'Built in 1984',\n",
       "  '04/18/18',\n",
       "  1430000],\n",
       " [' 3884 Vineyard Ave',\n",
       "  ' Pleasanton',\n",
       "  '94566',\n",
       "  '3',\n",
       "  'None',\n",
       "  'None',\n",
       "  '5,279 sqft',\n",
       "  'Built in 1952',\n",
       "  '04/18/18',\n",
       "  940000],\n",
       " [' 6570 Arlington Dr',\n",
       "  ' Pleasanton',\n",
       "  '94566',\n",
       "  '4',\n",
       "  'None',\n",
       "  'None',\n",
       "  '8,398 sqft',\n",
       "  'Built in 1967',\n",
       "  '04/17/18',\n",
       "  1350000],\n",
       " [' 2730 Longspur Way',\n",
       "  ' Pleasanton',\n",
       "  '94566',\n",
       "  '4',\n",
       "  'None',\n",
       "  'None',\n",
       "  '8,794 sqft',\n",
       "  'Built in 1972',\n",
       "  '04/17/18',\n",
       "  1310000],\n",
       " [' 681 Norante Ct',\n",
       "  ' Pleasanton',\n",
       "  '94566',\n",
       "  '5',\n",
       "  '4 full, 2 half',\n",
       "  'None',\n",
       "  '0.47 acres',\n",
       "  'Built in 2001',\n",
       "  '04/16/18',\n",
       "  2900000],\n",
       " [' 4553 Carver Ct',\n",
       "  ' Pleasanton',\n",
       "  '94588',\n",
       "  '4',\n",
       "  'None',\n",
       "  'None',\n",
       "  '6,250 sqft',\n",
       "  'Built in 1968',\n",
       "  '04/13/18',\n",
       "  1120000],\n",
       " [' 1012 Shotwell Ct',\n",
       "  ' Pleasanton',\n",
       "  '94566',\n",
       "  '6',\n",
       "  '6 full, 1 half',\n",
       "  'None',\n",
       "  '9.9 acres',\n",
       "  'Built in 2014',\n",
       "  '04/12/18',\n",
       "  3495000],\n",
       " [' 4078 Cristobal Way',\n",
       "  ' Pleasanton',\n",
       "  '94566',\n",
       "  '3',\n",
       "  'None',\n",
       "  'None',\n",
       "  '7,000 sqft',\n",
       "  'Built in 1965',\n",
       "  '04/12/18',\n",
       "  969300],\n",
       " [' 7729 Olive Dr',\n",
       "  ' Pleasanton',\n",
       "  '94588',\n",
       "  '4',\n",
       "  '2 full, 1 half',\n",
       "  'None',\n",
       "  '6,216 sqft',\n",
       "  'Built in 1973',\n",
       "  '04/11/18',\n",
       "  1260000],\n",
       " [' 1158 Baur Ct',\n",
       "  ' Pleasanton',\n",
       "  '94566',\n",
       "  '4',\n",
       "  '4 full, 1 half',\n",
       "  'None',\n",
       "  '0.29 acres',\n",
       "  'Built in 2008',\n",
       "  '04/09/18',\n",
       "  1800000],\n",
       " [' 3760 Trenery Dr',\n",
       "  ' Pleasanton',\n",
       "  '94588',\n",
       "  '5',\n",
       "  '5 full, 1 half',\n",
       "  'None',\n",
       "  '0.92 acres',\n",
       "  'Built in 1997',\n",
       "  '04/09/18',\n",
       "  2505000],\n",
       " [' 4802 Sutter Gate Ave',\n",
       "  ' Pleasanton',\n",
       "  '94566',\n",
       "  '4',\n",
       "  'None',\n",
       "  'None',\n",
       "  '8,160 sqft',\n",
       "  'Built in 1976',\n",
       "  '04/09/18',\n",
       "  1375000],\n",
       " [' 5689 San Jose Dr',\n",
       "  ' Pleasanton',\n",
       "  '94566',\n",
       "  '5',\n",
       "  'None',\n",
       "  'None',\n",
       "  '0.28 acres',\n",
       "  'Built in 1989',\n",
       "  '04/06/18',\n",
       "  1710000],\n",
       " [' 2550 Glen Isle Ave',\n",
       "  ' Pleasanton',\n",
       "  '94588',\n",
       "  '4',\n",
       "  '2 full, 1 half',\n",
       "  'None',\n",
       "  '4,286 sqft',\n",
       "  'Built in 1993',\n",
       "  '04/05/18',\n",
       "  1050000],\n",
       " [' 2606 Sanderling Way',\n",
       "  ' Pleasanton',\n",
       "  '94566',\n",
       "  '4',\n",
       "  '2 full, 1 half',\n",
       "  'None',\n",
       "  '9,692 sqft',\n",
       "  'Built in 1975',\n",
       "  '04/05/18',\n",
       "  1535000],\n",
       " [' 2506 Sanderling Dr',\n",
       "  ' Pleasanton',\n",
       "  '94566',\n",
       "  '4',\n",
       "  'None',\n",
       "  'None',\n",
       "  '6,969 sqft',\n",
       "  'Built in 1969',\n",
       "  '04/05/18',\n",
       "  1535000],\n",
       " [' 6 Deer Oaks Dr',\n",
       "  ' Pleasanton',\n",
       "  '94588',\n",
       "  '5',\n",
       "  '4 full, 1 half',\n",
       "  'None',\n",
       "  '0.61 acres',\n",
       "  'Built in 1988',\n",
       "  '04/05/18',\n",
       "  2100000],\n",
       " [' 2504 Larrikeet Ct',\n",
       "  ' Pleasanton',\n",
       "  '94566',\n",
       "  '4',\n",
       "  'None',\n",
       "  'None',\n",
       "  '8,474 sqft',\n",
       "  'Located close to downtown Pleasanton, the neighborhood is served by the excellent Walnut Grove elementary and Harvest Park middle schools.  The enormous (110 acre) Pleasanton Sports Park borders the neighborhood on its north side, just a short walk from this home. Built in the late \\'60s and early \\'70s, \"Birdland\" is popular among families with children and well known for quiet living, well-groomed homes and attractive tree-lined streets.  Come take a look!',\n",
       "  '04/05/18',\n",
       "  1200000],\n",
       " [' 6424 Randall Ct',\n",
       "  ' Pleasanton',\n",
       "  '94566',\n",
       "  '4',\n",
       "  'None',\n",
       "  'None',\n",
       "  '0.28 acres',\n",
       "  'Built in 1971',\n",
       "  '04/04/18',\n",
       "  1450000],\n",
       " [' 5650 San Juan Way',\n",
       "  ' Pleasanton',\n",
       "  '94566',\n",
       "  '4',\n",
       "  'None',\n",
       "  'None',\n",
       "  '7,056 sqft',\n",
       "  'Built in 1964',\n",
       "  '04/04/18',\n",
       "  1300000],\n",
       " [' 3727 Platt Ct N',\n",
       "  ' Pleasanton',\n",
       "  '94588',\n",
       "  '4',\n",
       "  'None',\n",
       "  'None',\n",
       "  '7,244 sqft',\n",
       "  'Built in 1969',\n",
       "  '04/04/18',\n",
       "  1200000],\n",
       " [' 360 Abbie St',\n",
       "  ' Pleasanton',\n",
       "  '94566',\n",
       "  '3',\n",
       "  'None',\n",
       "  'None',\n",
       "  '5,600 sqft',\n",
       "  'Built in 1943',\n",
       "  '04/04/18',\n",
       "  560000],\n",
       " [' 3881 Foothill Rd',\n",
       "  ' Pleasanton',\n",
       "  '94588',\n",
       "  '5',\n",
       "  'None',\n",
       "  'None',\n",
       "  '0.53 acres',\n",
       "  'Built in 1990',\n",
       "  '04/03/18',\n",
       "  2089000],\n",
       " [' 9302 Benzon Dr',\n",
       "  ' Pleasanton',\n",
       "  '94588',\n",
       "  '5',\n",
       "  '4 full, 1 half',\n",
       "  'None',\n",
       "  '0.45 acres',\n",
       "  'Built in 1997',\n",
       "  '04/03/18',\n",
       "  2068000],\n",
       " [' 3410 Cornerstone Ct',\n",
       "  ' Pleasanton',\n",
       "  '94566',\n",
       "  'Studio',\n",
       "  'None',\n",
       "  'None',\n",
       "  '6,627 sqft',\n",
       "  None,\n",
       "  '04/03/18',\n",
       "  1309500],\n",
       " [' 583 Montori Ct',\n",
       "  ' Pleasanton',\n",
       "  '94566',\n",
       "  '4',\n",
       "  '2 full, 1 half',\n",
       "  'None',\n",
       "  '0.42 acres',\n",
       "  'Built in 1995',\n",
       "  '04/02/18',\n",
       "  1490000],\n",
       " [' 3637 Touriga Dr',\n",
       "  ' Pleasanton',\n",
       "  '94566',\n",
       "  '3',\n",
       "  'None',\n",
       "  'None',\n",
       "  '10,454 sqft',\n",
       "  'Built in 1971',\n",
       "  '03/30/18',\n",
       "  1045000],\n",
       " [' 4866 Treewood Ct',\n",
       "  ' Pleasanton',\n",
       "  '94588',\n",
       "  '3',\n",
       "  '2 full, 1 half',\n",
       "  'None',\n",
       "  '8,842 sqft',\n",
       "  'Built in 1966',\n",
       "  '03/30/18',\n",
       "  1181000],\n",
       " [' 4248 Bevilacqua Ct',\n",
       "  ' Pleasanton',\n",
       "  '94566',\n",
       "  '4',\n",
       "  'None',\n",
       "  'None',\n",
       "  '6,528 sqft',\n",
       "  'Built in 1968',\n",
       "  '03/30/18',\n",
       "  1350000],\n",
       " [' 7857 Driftwood Way',\n",
       "  ' Pleasanton',\n",
       "  '94588',\n",
       "  '6',\n",
       "  '2 full, 1 half',\n",
       "  'None',\n",
       "  '6,577 sqft',\n",
       "  'Built in 1966',\n",
       "  '03/30/18',\n",
       "  1155000],\n",
       " [' 590 Mission Dr',\n",
       "  ' Pleasanton',\n",
       "  '94566',\n",
       "  '4',\n",
       "  'None',\n",
       "  'None',\n",
       "  '7,540 sqft',\n",
       "  'Built in 1971',\n",
       "  '03/30/18',\n",
       "  1285000],\n",
       " [' 6232 Roslin Ct',\n",
       "  ' Pleasanton',\n",
       "  '94588',\n",
       "  '3',\n",
       "  'None',\n",
       "  'None',\n",
       "  '6,200 sqft',\n",
       "  'Built in 1969',\n",
       "  '03/30/18',\n",
       "  1031000],\n",
       " [' 2915 Calle De La Mesa',\n",
       "  ' Pleasanton',\n",
       "  '94566',\n",
       "  '4',\n",
       "  '2 full, 1 half',\n",
       "  'None',\n",
       "  '5,183 sqft',\n",
       "  'Built in 1986',\n",
       "  '03/30/18',\n",
       "  1190000],\n",
       " [' 3546 Ballantyne Dr',\n",
       "  ' Pleasanton',\n",
       "  '94588',\n",
       "  '5',\n",
       "  '2 full, 1 half',\n",
       "  'None',\n",
       "  '7,039 sqft',\n",
       "  'Reduced $110,000 from original list price. Built in 1987, This beautifully updated home is superbly located in Pleasanton Meadows neighborhood. Exquisite 5 bedroom 2.5 bath home. Desirable open floor plan. Inviting formal entry leads to formal living/dining room with vaulted ceiling and fireplace. Updated kitchen and breakfast nook featuring hardwood flooring, granite counter tops and stainless steel appliances. Adjacent spacious family room leads to inviting private backyard featuring swimming',\n",
       "  '03/30/18',\n",
       "  1260000],\n",
       " [' 3674 Touriga Dr',\n",
       "  ' Pleasanton',\n",
       "  '94566',\n",
       "  '4',\n",
       "  'None',\n",
       "  'None',\n",
       "  '0.25 acres',\n",
       "  'Built in 1971',\n",
       "  '03/30/18',\n",
       "  1045000],\n",
       " [' 5212 Ridgevale Way',\n",
       "  ' Pleasanton',\n",
       "  '94566',\n",
       "  '4',\n",
       "  'None',\n",
       "  'None',\n",
       "  '7,202 sqft',\n",
       "  'Built in 1965',\n",
       "  '03/30/18',\n",
       "  1000000],\n",
       " [' 4210 Remillard Ct',\n",
       "  ' Pleasanton',\n",
       "  '94566',\n",
       "  '5',\n",
       "  'None',\n",
       "  'None',\n",
       "  '0.62 acres',\n",
       "  'Built in 1991',\n",
       "  '03/30/18',\n",
       "  2365000],\n",
       " [' 7492 Alder Ct',\n",
       "  ' Pleasanton',\n",
       "  '94588',\n",
       "  '4',\n",
       "  '2 full, 1 half',\n",
       "  'None',\n",
       "  '7,927 sqft',\n",
       "  'Built in 1975',\n",
       "  '03/30/18',\n",
       "  1335000],\n",
       " [' 7297 Valley Trails Dr',\n",
       "  ' Pleasanton',\n",
       "  '94588',\n",
       "  '3',\n",
       "  'None',\n",
       "  'None',\n",
       "  '4,421 sqft',\n",
       "  'Built in 1989',\n",
       "  '03/29/18',\n",
       "  960000],\n",
       " [' 2175 Cameron Cir',\n",
       "  ' Pleasanton',\n",
       "  '94588',\n",
       "  '5',\n",
       "  '3 full, 1 half',\n",
       "  'None',\n",
       "  '0.4 acres',\n",
       "  'Built in 2013',\n",
       "  '03/29/18',\n",
       "  2140000],\n",
       " [' 789 View Dr',\n",
       "  ' Pleasanton',\n",
       "  '94566',\n",
       "  '3',\n",
       "  '3 full, 1 half',\n",
       "  'None',\n",
       "  '0.39 acres',\n",
       "  'Built in 1969',\n",
       "  '03/29/18',\n",
       "  1604000],\n",
       " [' 2642 Corte Vida',\n",
       "  ' Pleasanton',\n",
       "  '94566',\n",
       "  '4',\n",
       "  'None',\n",
       "  'None',\n",
       "  '0.29 acres',\n",
       "  'Built in 1980',\n",
       "  '03/29/18',\n",
       "  1680000],\n",
       " [' 6843 Corte De Flores',\n",
       "  ' Pleasanton',\n",
       "  '94566',\n",
       "  '4',\n",
       "  'None',\n",
       "  'None',\n",
       "  '10,454 sqft',\n",
       "  'Built in 1986',\n",
       "  '03/29/18',\n",
       "  1410000],\n",
       " [' 5397 Northway Rd',\n",
       "  ' Pleasanton',\n",
       "  '94566',\n",
       "  '4',\n",
       "  'None',\n",
       "  'None',\n",
       "  '6,982 sqft',\n",
       "  'Built in 1966',\n",
       "  '03/29/18',\n",
       "  1160000],\n",
       " [' 1280 Creek Trail Dr',\n",
       "  ' Pleasanton',\n",
       "  '94566',\n",
       "  '4',\n",
       "  'None',\n",
       "  'None',\n",
       "  '7,003 sqft',\n",
       "  'Built in 2001',\n",
       "  '03/28/18',\n",
       "  1630000],\n",
       " [' 1220 Bordeaux St',\n",
       "  ' Pleasanton',\n",
       "  '94566',\n",
       "  '4',\n",
       "  'None',\n",
       "  'None',\n",
       "  '0.36 acres',\n",
       "  'Built in 1976',\n",
       "  '03/28/18',\n",
       "  1512000],\n",
       " [' 1594 Chatham Pl',\n",
       "  ' Pleasanton',\n",
       "  '94566',\n",
       "  '2',\n",
       "  '2 full, 1 half',\n",
       "  'None',\n",
       "  '5,227 sqft',\n",
       "  'Built in 2012',\n",
       "  '03/28/18',\n",
       "  1450000]]"
      ]
     },
     "execution_count": 238,
     "metadata": {},
     "output_type": "execute_result"
    }
   ],
   "source": [
    "house_data_2pages"
   ]
  },
  {
   "cell_type": "code",
   "execution_count": 241,
   "metadata": {},
   "outputs": [],
   "source": [
    "obj = soup.find_all(\"span\",class_='addr_bbs')"
   ]
  },
  {
   "cell_type": "code",
   "execution_count": 255,
   "metadata": {},
   "outputs": [
    {
     "data": {
      "text/plain": [
       "[<span class=\"addr_bbs\">3 beds</span>,\n",
       " <span class=\"addr_bbs\">2 baths</span>,\n",
       " <span class=\"addr_bbs\">1,280 sqft</span>]"
      ]
     },
     "execution_count": 255,
     "metadata": {},
     "output_type": "execute_result"
    }
   ],
   "source": [
    "obj"
   ]
  },
  {
   "cell_type": "code",
   "execution_count": 264,
   "metadata": {},
   "outputs": [
    {
     "data": {
      "text/plain": [
       "[['https://www.zillow.com/homedetails/2804-Tangelo-Ct-Pleasanton-CA-94588/25085538_zpid/',\n",
       "  'https://www.zillow.com/homedetails/5650-Hansen-Dr-Pleasanton-CA-94566/25080514_zpid/',\n",
       "  'https://www.zillow.com/homedetails/592-Tawny-Dr-Pleasanton-CA-94566/25077658_zpid/',\n",
       "  'https://www.zillow.com/homedetails/6048-Inglewood-Dr-Pleasanton-CA-94588/25067968_zpid/',\n",
       "  'https://www.zillow.com/homedetails/2668-Calle-Morelia-Pleasanton-CA-94566/25081233_zpid/',\n",
       "  'https://www.zillow.com/homedetails/3884-Vineyard-Ave-Pleasanton-CA-94566/24931106_zpid/',\n",
       "  'https://www.zillow.com/homedetails/6570-Arlington-Dr-Pleasanton-CA-94566/25086569_zpid/',\n",
       "  'https://www.zillow.com/homedetails/2730-Longspur-Way-Pleasanton-CA-94566/25078982_zpid/',\n",
       "  'https://www.zillow.com/homedetails/681-Norante-Ct-Pleasanton-CA-94566/82235605_zpid/',\n",
       "  'https://www.zillow.com/homedetails/4553-Carver-Ct-Pleasanton-CA-94588/25067914_zpid/',\n",
       "  'https://www.zillow.com/homedetails/1012-Shotwell-Ct-Pleasanton-CA-94566/122160890_zpid/',\n",
       "  'https://www.zillow.com/homedetails/4078-Cristobal-Way-Pleasanton-CA-94566/24931998_zpid/',\n",
       "  'https://www.zillow.com/homedetails/7729-Olive-Dr-Pleasanton-CA-94588/25067165_zpid/',\n",
       "  'https://www.zillow.com/homedetails/3760-Trenery-Dr-Pleasanton-CA-94588/25075873_zpid/',\n",
       "  'https://www.zillow.com/homedetails/1158-Baur-Ct-Pleasanton-CA-94566/89033666_zpid/',\n",
       "  'https://www.zillow.com/homedetails/4802-Sutter-Gate-Ave-Pleasanton-CA-94566/25078956_zpid/',\n",
       "  'https://www.zillow.com/homedetails/5689-San-Jose-Dr-Pleasanton-CA-94566/25086314_zpid/',\n",
       "  'https://www.zillow.com/homedetails/2506-Sanderling-Dr-Pleasanton-CA-94566/25078466_zpid/',\n",
       "  'https://www.zillow.com/homedetails/2606-Sanderling-Way-Pleasanton-CA-94566/25078832_zpid/',\n",
       "  'https://www.zillow.com/homedetails/2550-Glen-Isle-Ave-Pleasanton-CA-94588/25074108_zpid/',\n",
       "  'https://www.zillow.com/homedetails/6-Deer-Oaks-Dr-Pleasanton-CA-94588/25081926_zpid/',\n",
       "  'https://www.zillow.com/homedetails/2504-Larrikeet-Ct-Pleasanton-CA-94566/25078806_zpid/',\n",
       "  'https://www.zillow.com/homedetails/6424-Randall-Ct-Pleasanton-CA-94566/25086536_zpid/',\n",
       "  'https://www.zillow.com/homedetails/5650-San-Juan-Way-Pleasanton-CA-94566/25086121_zpid/',\n",
       "  'https://www.zillow.com/homedetails/3727-Platt-Ct-N-Pleasanton-CA-94588/25066002_zpid/']]"
      ]
     },
     "execution_count": 264,
     "metadata": {},
     "output_type": "execute_result"
    }
   ],
   "source": [
    "house_links_1page = get_house_links(zillow_pleasanton_url,driver,pages=1)\n",
    "house_links_1page"
   ]
  },
  {
   "cell_type": "code",
   "execution_count": 266,
   "metadata": {},
   "outputs": [],
   "source": [
    "# I want to flatten the house_links_list\n",
    "house_links_flat=[]\n",
    "\n",
    "for sublist in house_links_1page:\n",
    "    for item in sublist:\n",
    "        house_links_flat.append(item)"
   ]
  },
  {
   "cell_type": "code",
   "execution_count": 296,
   "metadata": {},
   "outputs": [],
   "source": [
    "house_data_1page = get_house_data(driver,house_links_flat) "
   ]
  },
  {
   "cell_type": "code",
   "execution_count": 297,
   "metadata": {},
   "outputs": [
    {
     "data": {
      "text/plain": [
       "[[' 2804 Tangelo Ct',\n",
       "  ' Pleasanton',\n",
       "  '94588',\n",
       "  '3',\n",
       "  '3',\n",
       "  '1614',\n",
       "  '2,526 sqft',\n",
       "  'Built in 1998',\n",
       "  '04/23/18',\n",
       "  1039000],\n",
       " [' 5650 Hansen Dr',\n",
       "  ' Pleasanton',\n",
       "  '94566',\n",
       "  '4',\n",
       "  '2',\n",
       "  '1527',\n",
       "  '6,699 sqft',\n",
       "  'Built in 1973',\n",
       "  '04/20/18',\n",
       "  1200000],\n",
       " [' 592 Tawny Dr',\n",
       "  ' Pleasanton',\n",
       "  '94566',\n",
       "  '3',\n",
       "  '2',\n",
       "  '1956',\n",
       "  '0.28 acres',\n",
       "  'Built in 1977',\n",
       "  '04/19/18',\n",
       "  1150000],\n",
       " [' 6048 Inglewood Dr',\n",
       "  ' Pleasanton',\n",
       "  '94588',\n",
       "  '4',\n",
       "  '2',\n",
       "  '1733',\n",
       "  '6,499 sqft',\n",
       "  'Built in 1968',\n",
       "  '04/18/18',\n",
       "  1125000],\n",
       " [' 2668 Calle Morelia',\n",
       "  ' Pleasanton',\n",
       "  '94566',\n",
       "  '5',\n",
       "  '3',\n",
       "  '2422',\n",
       "  '6,500 sqft',\n",
       "  'Built in 1984',\n",
       "  '04/18/18',\n",
       "  1430000],\n",
       " [' 3884 Vineyard Ave',\n",
       "  ' Pleasanton',\n",
       "  '94566',\n",
       "  '3',\n",
       "  '2',\n",
       "  '1652',\n",
       "  '5,279 sqft',\n",
       "  'Built in 1952',\n",
       "  '04/18/18',\n",
       "  940000],\n",
       " [' 6570 Arlington Dr',\n",
       "  ' Pleasanton',\n",
       "  '94566',\n",
       "  '4',\n",
       "  '3',\n",
       "  '2652',\n",
       "  '8,398 sqft',\n",
       "  'Built in 1967',\n",
       "  '04/17/18',\n",
       "  1350000],\n",
       " [' 2730 Longspur Way',\n",
       "  ' Pleasanton',\n",
       "  '94566',\n",
       "  '4',\n",
       "  '2',\n",
       "  '2172',\n",
       "  '8,794 sqft',\n",
       "  'Built in 1972',\n",
       "  '04/17/18',\n",
       "  1310000],\n",
       " [' 681 Norante Ct',\n",
       "  ' Pleasanton',\n",
       "  '94566',\n",
       "  '5',\n",
       "  '6',\n",
       "  '6132',\n",
       "  '0.47 acres',\n",
       "  'Built in 2001',\n",
       "  '04/16/18',\n",
       "  2900000],\n",
       " [' 4553 Carver Ct',\n",
       "  ' Pleasanton',\n",
       "  '94588',\n",
       "  '4',\n",
       "  '2',\n",
       "  '1552',\n",
       "  '6,250 sqft',\n",
       "  'Built in 1968',\n",
       "  '04/13/18',\n",
       "  1120000],\n",
       " [' 1012 Shotwell Ct',\n",
       "  ' Pleasanton',\n",
       "  '94566',\n",
       "  '6',\n",
       "  '7',\n",
       "  '7129',\n",
       "  '9.9 acres',\n",
       "  'Built in 2014',\n",
       "  '04/12/18',\n",
       "  3495000],\n",
       " [' 4078 Cristobal Way',\n",
       "  ' Pleasanton',\n",
       "  '94566',\n",
       "  '3',\n",
       "  '2',\n",
       "  '1159',\n",
       "  '7,000 sqft',\n",
       "  'Built in 1965',\n",
       "  '04/12/18',\n",
       "  969300],\n",
       " [' 7729 Olive Dr',\n",
       "  ' Pleasanton',\n",
       "  '94588',\n",
       "  '4',\n",
       "  '3',\n",
       "  '2267',\n",
       "  '6,216 sqft',\n",
       "  'Built in 1973',\n",
       "  '04/11/18',\n",
       "  1260000],\n",
       " [' 3760 Trenery Dr',\n",
       "  ' Pleasanton',\n",
       "  '94588',\n",
       "  '5',\n",
       "  '6',\n",
       "  '5197',\n",
       "  '0.92 acres',\n",
       "  'Built in 1997',\n",
       "  '04/09/18',\n",
       "  2505000],\n",
       " [' 1158 Baur Ct',\n",
       "  ' Pleasanton',\n",
       "  '94566',\n",
       "  '4',\n",
       "  '5',\n",
       "  '3067',\n",
       "  '0.29 acres',\n",
       "  'Built in 2008',\n",
       "  '04/09/18',\n",
       "  1800000],\n",
       " [' 4802 Sutter Gate Ave',\n",
       "  ' Pleasanton',\n",
       "  '94566',\n",
       "  '4',\n",
       "  '2',\n",
       "  '1815',\n",
       "  '8,160 sqft',\n",
       "  'Built in 1976',\n",
       "  '04/09/18',\n",
       "  1375000],\n",
       " [' 5689 San Jose Dr',\n",
       "  ' Pleasanton',\n",
       "  '94566',\n",
       "  '5',\n",
       "  '3',\n",
       "  '3179',\n",
       "  '0.28 acres',\n",
       "  'Built in 1989',\n",
       "  '04/06/18',\n",
       "  1710000],\n",
       " [' 2506 Sanderling Dr',\n",
       "  ' Pleasanton',\n",
       "  '94566',\n",
       "  '4',\n",
       "  '2',\n",
       "  '1933',\n",
       "  '6,969 sqft',\n",
       "  'Built in 1969',\n",
       "  '04/05/18',\n",
       "  1535000],\n",
       " [' 2606 Sanderling Way',\n",
       "  ' Pleasanton',\n",
       "  '94566',\n",
       "  '4',\n",
       "  '3',\n",
       "  '2704',\n",
       "  '9,692 sqft',\n",
       "  'Built in 1975',\n",
       "  '04/05/18',\n",
       "  1535000],\n",
       " [' 2550 Glen Isle Ave',\n",
       "  ' Pleasanton',\n",
       "  '94588',\n",
       "  '4',\n",
       "  '3',\n",
       "  '2330',\n",
       "  '4,286 sqft',\n",
       "  'Built in 1993',\n",
       "  '04/05/18',\n",
       "  1050000],\n",
       " [' 6 Deer Oaks Dr',\n",
       "  ' Pleasanton',\n",
       "  '94588',\n",
       "  '5',\n",
       "  '5',\n",
       "  '5137',\n",
       "  '0.61 acres',\n",
       "  'Built in 1988',\n",
       "  '04/05/18',\n",
       "  2100000],\n",
       " [' 2504 Larrikeet Ct',\n",
       "  ' Pleasanton',\n",
       "  '94566',\n",
       "  '4',\n",
       "  '2.5',\n",
       "  '2064',\n",
       "  '8,474 sqft',\n",
       "  'Built in 1975',\n",
       "  '04/05/18',\n",
       "  1200000],\n",
       " [' 6424 Randall Ct',\n",
       "  ' Pleasanton',\n",
       "  '94566',\n",
       "  '4',\n",
       "  '3',\n",
       "  '2711',\n",
       "  '0.28 acres',\n",
       "  'Built in 1971',\n",
       "  '04/04/18',\n",
       "  1450000],\n",
       " [' 5650 San Juan Way',\n",
       "  ' Pleasanton',\n",
       "  '94566',\n",
       "  '4',\n",
       "  '2',\n",
       "  '2050',\n",
       "  '7,056 sqft',\n",
       "  'Built in 1964',\n",
       "  '04/04/18',\n",
       "  1300000],\n",
       " [' 3727 Platt Ct N',\n",
       "  ' Pleasanton',\n",
       "  '94588',\n",
       "  '4',\n",
       "  '2',\n",
       "  '1626',\n",
       "  '7,244 sqft',\n",
       "  'Built in 1969',\n",
       "  '04/04/18',\n",
       "  1200000]]"
      ]
     },
     "execution_count": 297,
     "metadata": {},
     "output_type": "execute_result"
    }
   ],
   "source": [
    "house_data_1page"
   ]
  },
  {
   "cell_type": "code",
   "execution_count": 292,
   "metadata": {},
   "outputs": [
    {
     "data": {
      "text/plain": [
       "'Built in 1978'"
      ]
     },
     "execution_count": 292,
     "metadata": {},
     "output_type": "execute_result"
    }
   ],
   "source": [
    "get_year_built2(soup)"
   ]
  },
  {
   "cell_type": "code",
   "execution_count": 290,
   "metadata": {},
   "outputs": [
    {
     "name": "stdout",
     "output_type": "stream",
     "text": [
      "Built in 1978\n"
     ]
    }
   ],
   "source": [
    "objs = soup.find_all(\"span\",class_='hdp-fact-value')\n",
    "built_in_regex = re.compile('Built in')\n",
    "#obj2 = obj.find(text=built_in_regex)\n",
    "for obj in objs:\n",
    "    out = obj.find(text=built_in_regex)\n",
    "    if out is not None:\n",
    "        print(out)\n",
    "    "
   ]
  },
  {
   "cell_type": "code",
   "execution_count": 298,
   "metadata": {},
   "outputs": [],
   "source": [
    "# I want to flatten the house_data output file\n",
    "house_data_flat=[]\n",
    "\n",
    "for sublist in house_data_1page:\n",
    "    for item in sublist:\n",
    "        house_data_flat.append(item)"
   ]
  },
  {
   "cell_type": "code",
   "execution_count": 302,
   "metadata": {},
   "outputs": [],
   "source": [
    "#house_data_flat"
   ]
  },
  {
   "cell_type": "code",
   "execution_count": 303,
   "metadata": {},
   "outputs": [],
   "source": [
    "file_name = \"%s_%s.csv\" % (str(time.strftime(\"%Y-%m-%d\")), \n",
    "                           str(time.strftime(\"%H%M%S\")))\n",
    "columns = [\"address\", \"city\", \"zip\", \"bedrooms\", \"bathrooms\", \"floor_size\",\n",
    "           \"lot_size\", \"year_built\", \"sale_date\", \"sale_price\"]\n",
    "pd.DataFrame(house_data_1page, columns = columns).to_csv(\n",
    "    file_name, index = False, encoding = \"UTF-8\"\n",
    ")"
   ]
  },
  {
   "cell_type": "code",
   "execution_count": 313,
   "metadata": {},
   "outputs": [],
   "source": [
    "house_links_10page = get_house_links(zillow_pleasanton_url,driver,pages=10)"
   ]
  },
  {
   "cell_type": "code",
   "execution_count": 315,
   "metadata": {},
   "outputs": [],
   "source": [
    "# I want to flatten the house_links_list\n",
    "house_links_flat=[]\n",
    "\n",
    "for sublist in house_links_10page:\n",
    "    for item in sublist:\n",
    "        house_links_flat.append(item)"
   ]
  },
  {
   "cell_type": "code",
   "execution_count": 317,
   "metadata": {},
   "outputs": [
    {
     "data": {
      "text/plain": [
       "(250,)"
      ]
     },
     "execution_count": 317,
     "metadata": {},
     "output_type": "execute_result"
    }
   ],
   "source": [
    "np.shape(house_links_flat)"
   ]
  },
  {
   "cell_type": "code",
   "execution_count": 318,
   "metadata": {},
   "outputs": [],
   "source": [
    "house_data_10pages = get_house_data(driver,house_links_flat) "
   ]
  },
  {
   "cell_type": "code",
   "execution_count": 319,
   "metadata": {},
   "outputs": [
    {
     "data": {
      "text/plain": [
       "(250, 10)"
      ]
     },
     "execution_count": 319,
     "metadata": {},
     "output_type": "execute_result"
    }
   ],
   "source": [
    "np.shape(house_data_10pages)"
   ]
  },
  {
   "cell_type": "code",
   "execution_count": 320,
   "metadata": {},
   "outputs": [],
   "source": [
    "file_name = \"%s_%s.csv\" % (str(time.strftime(\"%Y-%m-%d\")), \n",
    "                           str(time.strftime(\"%H%M%S\")))\n",
    "columns = [\"address\", \"city\", \"zip\", \"bedrooms\", \"bathrooms\", \"floor_size\",\n",
    "           \"lot_size\", \"year_built\", \"sale_date\", \"sale_price\"]\n",
    "pd.DataFrame(house_data_10pages, columns = columns).to_csv(\n",
    "    file_name, index = False, encoding = \"UTF-8\"\n",
    ")"
   ]
  },
  {
   "cell_type": "code",
   "execution_count": 328,
   "metadata": {},
   "outputs": [],
   "source": [
    "house_links_20pages = get_house_links(zillow_pleasanton_url,driver,pages=20)"
   ]
  },
  {
   "cell_type": "code",
   "execution_count": 329,
   "metadata": {},
   "outputs": [
    {
     "data": {
      "text/plain": [
       "(20, 25)"
      ]
     },
     "execution_count": 329,
     "metadata": {},
     "output_type": "execute_result"
    }
   ],
   "source": [
    "np.shape(house_links_20pages)"
   ]
  },
  {
   "cell_type": "code",
   "execution_count": 330,
   "metadata": {},
   "outputs": [],
   "source": [
    "# I want to flatten the house_links_list\n",
    "house_links_flat=[]\n",
    "\n",
    "for sublist in house_links_20pages:\n",
    "    for item in sublist:\n",
    "        house_links_flat.append(item)"
   ]
  },
  {
   "cell_type": "code",
   "execution_count": 331,
   "metadata": {},
   "outputs": [
    {
     "data": {
      "text/plain": [
       "(500,)"
      ]
     },
     "execution_count": 331,
     "metadata": {},
     "output_type": "execute_result"
    }
   ],
   "source": [
    "np.shape(house_links_flat)"
   ]
  },
  {
   "cell_type": "code",
   "execution_count": 332,
   "metadata": {},
   "outputs": [],
   "source": [
    "house_data_next10pages = get_house_data(driver,house_links_flat[250:]) "
   ]
  },
  {
   "cell_type": "code",
   "execution_count": 333,
   "metadata": {},
   "outputs": [],
   "source": [
    "file_name = \"%s_%s.csv\" % (str(time.strftime(\"%Y-%m-%d\")), \n",
    "                           str(time.strftime(\"%H%M%S\")))\n",
    "columns = [\"address\", \"city\", \"zip\", \"bedrooms\", \"bathrooms\", \"floor_size\",\n",
    "           \"lot_size\", \"year_built\", \"sale_date\", \"sale_price\"]\n",
    "pd.DataFrame(house_data_next10pages, columns = columns).to_csv(\n",
    "    file_name, index = False, encoding = \"UTF-8\"\n",
    ")"
   ]
  },
  {
   "cell_type": "code",
   "execution_count": null,
   "metadata": {},
   "outputs": [],
   "source": []
  }
 ],
 "metadata": {
  "kernelspec": {
   "display_name": "Python 3",
   "language": "python",
   "name": "python3"
  },
  "language_info": {
   "codemirror_mode": {
    "name": "ipython",
    "version": 3
   },
   "file_extension": ".py",
   "mimetype": "text/x-python",
   "name": "python",
   "nbconvert_exporter": "python",
   "pygments_lexer": "ipython3",
   "version": "3.6.4"
  }
 },
 "nbformat": 4,
 "nbformat_minor": 2
}
