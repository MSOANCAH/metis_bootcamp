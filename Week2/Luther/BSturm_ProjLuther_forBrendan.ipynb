{
 "cells": [
  {
   "cell_type": "markdown",
   "metadata": {},
   "source": [
    "Let's try to scrape some data from Zillow"
   ]
  },
  {
   "cell_type": "code",
   "execution_count": 1,
   "metadata": {},
   "outputs": [],
   "source": [
    "import os\n",
    "import requests\n",
    "from bs4 import BeautifulSoup\n",
    "from selenium import webdriver\n",
    "from selenium.webdriver.common.keys import Keys\n",
    "from selenium.webdriver.common.by import By\n",
    "from selenium.webdriver.support.ui import WebDriverWait\n",
    "from selenium.webdriver.support import expected_conditions as EC\n",
    "from selenium.common.exceptions import TimeoutException\n",
    "from selenium.common.exceptions import StaleElementReferenceException\n",
    "import numpy as np\n",
    "\n",
    "import time\n",
    "import sys"
   ]
  },
  {
   "cell_type": "code",
   "execution_count": 2,
   "metadata": {},
   "outputs": [
    {
     "name": "stdout",
     "output_type": "stream",
     "text": [
      "chromedriver path: /Users/bwsturm/Downloads/chromedriver\n"
     ]
    }
   ],
   "source": [
    "chromedriver = \"~/Downloads/chromedriver\" # path to the chromedriver executable\n",
    "chromedriver = os.path.expanduser(chromedriver)\n",
    "print('chromedriver path: {}'.format(chromedriver))\n",
    "sys.path.append(chromedriver)\n",
    "\n",
    "driver = webdriver.Chrome(chromedriver)"
   ]
  },
  {
   "cell_type": "code",
   "execution_count": 3,
   "metadata": {},
   "outputs": [],
   "source": [
    "zillow_pleasanton_url = \"https://www.zillow.com/homes/recently_sold/Pleasanton-CA/_type/47164_rid/globalrelevanceex_sort/37.739091,-121.749974,37.583085,-122.028065_rect/11_zm/\"\n",
    "driver.get(zillow_pleasanton_url)"
   ]
  },
  {
   "cell_type": "code",
   "execution_count": 4,
   "metadata": {},
   "outputs": [],
   "source": [
    "#directing to each of the home links\n",
    "links = driver.find_elements_by_class_name(\"zsg-photo-card-overlay-link\")"
   ]
  },
  {
   "cell_type": "code",
   "execution_count": 10,
   "metadata": {},
   "outputs": [
    {
     "data": {
      "text/plain": [
       "{'_id': '0.3894219569493249-1',\n",
       " '_parent': <selenium.webdriver.chrome.webdriver.WebDriver (session=\"0472d03482bac77e4e87f2f2b014077e\")>,\n",
       " '_w3c': False}"
      ]
     },
     "execution_count": 10,
     "metadata": {},
     "output_type": "execute_result"
    }
   ],
   "source": [
    "links[0].__dict__"
   ]
  },
  {
   "cell_type": "code",
   "execution_count": 6,
   "metadata": {},
   "outputs": [],
   "source": [
    "Zillow_output = []"
   ]
  },
  {
   "cell_type": "code",
   "execution_count": 7,
   "metadata": {},
   "outputs": [],
   "source": [
    "def get_Zillow_data(driver):\n",
    "        soup = BeautifulSoup(driver.page_source, 'html.parser')\n",
    "        \n",
    "        sale_price = get_price(soup)\n",
    "        sale_date = get_sale_date(soup)\n",
    "        \n",
    "        return [sale_price,sale_date]\n",
    "        \n",
    "def get_price(soup):\n",
    "    for element in soup.find_all(class_='estimates'):\n",
    "        price = element.find_all(\"span\")[1].text\n",
    "    price = price.replace(\",\", \"\").replace(\"+\", \"\").replace(\"$\", \"\").lower()\n",
    "    return int(price)\n",
    "\n",
    "def get_sale_date(soup):\n",
    "    for element in soup.find_all(class_='estimates'):\n",
    "        sale_date = element.find_all(\"span\")[3].text\n",
    "    sale_date = sale_date.strip()\n",
    "    return sale_date"
   ]
  },
  {
   "cell_type": "code",
   "execution_count": 8,
   "metadata": {},
   "outputs": [
    {
     "name": "stdout",
     "output_type": "stream",
     "text": [
      "5650 Hansen Dr,\n",
      "Pleasanton, CA 94566\n",
      "4 beds 2 baths 1,527 sqft\n",
      "6048 Inglewood Dr,\n",
      "Pleasanton, CA 94588\n",
      "4 beds 2 baths 1,733 sqft\n",
      "2668 Calle Morelia,\n",
      "Pleasanton, CA 94566\n",
      "5 beds 3 baths 2,422 sqft\n",
      "3884 Vineyard Ave,\n",
      "Pleasanton, CA 94566\n",
      "3 beds 2 baths 1,652 sqft\n",
      "Message: stale element reference: element is not attached to the page document\n",
      "  (Session info: chrome=66.0.3359.117)\n",
      "  (Driver info: chromedriver=2.38.551581 (2c9c29527ada10af4745ab26dd000ebb6d5e055e),platform=Mac OS X 10.13.4 x86_64)\n",
      "\n",
      "Message: stale element reference: element is not attached to the page document\n",
      "  (Session info: chrome=66.0.3359.117)\n",
      "  (Driver info: chromedriver=2.38.551581 (2c9c29527ada10af4745ab26dd000ebb6d5e055e),platform=Mac OS X 10.13.4 x86_64)\n",
      "\n",
      "Message: stale element reference: element is not attached to the page document\n",
      "  (Session info: chrome=66.0.3359.117)\n",
      "  (Driver info: chromedriver=2.38.551581 (2c9c29527ada10af4745ab26dd000ebb6d5e055e),platform=Mac OS X 10.13.4 x86_64)\n",
      "\n",
      "Message: stale element reference: element is not attached to the page document\n",
      "  (Session info: chrome=66.0.3359.117)\n",
      "  (Driver info: chromedriver=2.38.551581 (2c9c29527ada10af4745ab26dd000ebb6d5e055e),platform=Mac OS X 10.13.4 x86_64)\n",
      "\n",
      "Message: stale element reference: element is not attached to the page document\n",
      "  (Session info: chrome=66.0.3359.117)\n",
      "  (Driver info: chromedriver=2.38.551581 (2c9c29527ada10af4745ab26dd000ebb6d5e055e),platform=Mac OS X 10.13.4 x86_64)\n",
      "\n",
      "Message: stale element reference: element is not attached to the page document\n",
      "  (Session info: chrome=66.0.3359.117)\n",
      "  (Driver info: chromedriver=2.38.551581 (2c9c29527ada10af4745ab26dd000ebb6d5e055e),platform=Mac OS X 10.13.4 x86_64)\n",
      "\n",
      "Message: stale element reference: element is not attached to the page document\n",
      "  (Session info: chrome=66.0.3359.117)\n",
      "  (Driver info: chromedriver=2.38.551581 (2c9c29527ada10af4745ab26dd000ebb6d5e055e),platform=Mac OS X 10.13.4 x86_64)\n",
      "\n",
      "Message: stale element reference: element is not attached to the page document\n",
      "  (Session info: chrome=66.0.3359.117)\n",
      "  (Driver info: chromedriver=2.38.551581 (2c9c29527ada10af4745ab26dd000ebb6d5e055e),platform=Mac OS X 10.13.4 x86_64)\n",
      "\n",
      "Message: stale element reference: element is not attached to the page document\n",
      "  (Session info: chrome=66.0.3359.117)\n",
      "  (Driver info: chromedriver=2.38.551581 (2c9c29527ada10af4745ab26dd000ebb6d5e055e),platform=Mac OS X 10.13.4 x86_64)\n",
      "\n",
      "Message: stale element reference: element is not attached to the page document\n",
      "  (Session info: chrome=66.0.3359.117)\n",
      "  (Driver info: chromedriver=2.38.551581 (2c9c29527ada10af4745ab26dd000ebb6d5e055e),platform=Mac OS X 10.13.4 x86_64)\n",
      "\n",
      "Message: stale element reference: element is not attached to the page document\n",
      "  (Session info: chrome=66.0.3359.117)\n",
      "  (Driver info: chromedriver=2.38.551581 (2c9c29527ada10af4745ab26dd000ebb6d5e055e),platform=Mac OS X 10.13.4 x86_64)\n",
      "\n",
      "Message: stale element reference: element is not attached to the page document\n",
      "  (Session info: chrome=66.0.3359.117)\n",
      "  (Driver info: chromedriver=2.38.551581 (2c9c29527ada10af4745ab26dd000ebb6d5e055e),platform=Mac OS X 10.13.4 x86_64)\n",
      "\n",
      "Message: stale element reference: element is not attached to the page document\n",
      "  (Session info: chrome=66.0.3359.117)\n",
      "  (Driver info: chromedriver=2.38.551581 (2c9c29527ada10af4745ab26dd000ebb6d5e055e),platform=Mac OS X 10.13.4 x86_64)\n",
      "\n",
      "Message: stale element reference: element is not attached to the page document\n",
      "  (Session info: chrome=66.0.3359.117)\n",
      "  (Driver info: chromedriver=2.38.551581 (2c9c29527ada10af4745ab26dd000ebb6d5e055e),platform=Mac OS X 10.13.4 x86_64)\n",
      "\n",
      "Message: stale element reference: element is not attached to the page document\n",
      "  (Session info: chrome=66.0.3359.117)\n",
      "  (Driver info: chromedriver=2.38.551581 (2c9c29527ada10af4745ab26dd000ebb6d5e055e),platform=Mac OS X 10.13.4 x86_64)\n",
      "\n",
      "Message: stale element reference: element is not attached to the page document\n",
      "  (Session info: chrome=66.0.3359.117)\n",
      "  (Driver info: chromedriver=2.38.551581 (2c9c29527ada10af4745ab26dd000ebb6d5e055e),platform=Mac OS X 10.13.4 x86_64)\n",
      "\n",
      "Message: stale element reference: element is not attached to the page document\n",
      "  (Session info: chrome=66.0.3359.117)\n",
      "  (Driver info: chromedriver=2.38.551581 (2c9c29527ada10af4745ab26dd000ebb6d5e055e),platform=Mac OS X 10.13.4 x86_64)\n",
      "\n",
      "Message: stale element reference: element is not attached to the page document\n",
      "  (Session info: chrome=66.0.3359.117)\n",
      "  (Driver info: chromedriver=2.38.551581 (2c9c29527ada10af4745ab26dd000ebb6d5e055e),platform=Mac OS X 10.13.4 x86_64)\n",
      "\n",
      "Message: stale element reference: element is not attached to the page document\n",
      "  (Session info: chrome=66.0.3359.117)\n",
      "  (Driver info: chromedriver=2.38.551581 (2c9c29527ada10af4745ab26dd000ebb6d5e055e),platform=Mac OS X 10.13.4 x86_64)\n",
      "\n",
      "Message: stale element reference: element is not attached to the page document\n",
      "  (Session info: chrome=66.0.3359.117)\n",
      "  (Driver info: chromedriver=2.38.551581 (2c9c29527ada10af4745ab26dd000ebb6d5e055e),platform=Mac OS X 10.13.4 x86_64)\n",
      "\n",
      "Message: stale element reference: element is not attached to the page document\n",
      "  (Session info: chrome=66.0.3359.117)\n",
      "  (Driver info: chromedriver=2.38.551581 (2c9c29527ada10af4745ab26dd000ebb6d5e055e),platform=Mac OS X 10.13.4 x86_64)\n",
      "\n"
     ]
    }
   ],
   "source": [
    "for link in links:\n",
    "    time.sleep(np.random.lognormal(0,1))\n",
    "    try:\n",
    "        link.send_keys(Keys.RETURN)\n",
    "    except (TimeoutException,StaleElementReferenceException) as e:\n",
    "        print(e)\n",
    "        continue\n",
    "    time.sleep(np.random.lognormal(0,1))\n",
    "    #home_data = get_Zillow_data(driver)\n",
    "    header = driver.find_element_by_class_name(\"zsg-content-header\")\n",
    "    print(header.text)\n",
    "    time.sleep(np.random.lognormal(0,1))\n",
    "    driver.find_element_by_class_name(\"hc-back-to-list\").click()\n",
    "    #Zillow_output.append(home_data)"
   ]
  },
  {
   "cell_type": "code",
   "execution_count": null,
   "metadata": {},
   "outputs": [],
   "source": []
  }
 ],
 "metadata": {
  "kernelspec": {
   "display_name": "Python 3",
   "language": "python",
   "name": "python3"
  },
  "language_info": {
   "codemirror_mode": {
    "name": "ipython",
    "version": 3
   },
   "file_extension": ".py",
   "mimetype": "text/x-python",
   "name": "python",
   "nbconvert_exporter": "python",
   "pygments_lexer": "ipython3",
   "version": "3.6.4"
  }
 },
 "nbformat": 4,
 "nbformat_minor": 2
}
