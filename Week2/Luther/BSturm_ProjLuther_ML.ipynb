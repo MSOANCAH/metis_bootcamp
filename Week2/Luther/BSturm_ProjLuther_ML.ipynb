{
 "cells": [
  {
   "cell_type": "markdown",
   "metadata": {},
   "source": [
    "### Pleasanton, CA house price regression"
   ]
  },
  {
   "cell_type": "markdown",
   "metadata": {},
   "source": [
    "In a separate notebook, I scraped house data from Zillow.com.  The data was for Pleasanton, CA and I filtered on recently sold houses.  The output of my code was two separate CSV files, each containing about 250 home listings.  So, the first step of this notebook will be to read in those two CSV files and merge them into a single Pandas Dataframe."
   ]
  },
  {
   "cell_type": "code",
   "execution_count": 615,
   "metadata": {},
   "outputs": [],
   "source": [
    "# Python 2 & 3 Compatibility\n",
    "from __future__ import print_function, division\n",
    "\n",
    "import numpy as np\n",
    "import pandas as pd\n",
    "import seaborn as sns\n",
    "import matplotlib.pyplot as plt\n",
    "from sklearn.linear_model import LinearRegression\n",
    "from sklearn.linear_model import Ridge\n",
    "from sklearn.model_selection import train_test_split\n",
    "from sklearn.model_selection import cross_val_score\n",
    "from sklearn.metrics import mean_squared_error\n",
    "\n",
    "%matplotlib inline"
   ]
  },
  {
   "cell_type": "code",
   "execution_count": 275,
   "metadata": {},
   "outputs": [],
   "source": [
    "df1 = pd.read_csv(\"2018-04-24_122122.csv\")\n",
    "df2 = pd.read_csv(\"2018-04-24_131034.csv\")"
   ]
  },
  {
   "cell_type": "code",
   "execution_count": 127,
   "metadata": {},
   "outputs": [
    {
     "data": {
      "text/html": [
       "<div>\n",
       "<style scoped>\n",
       "    .dataframe tbody tr th:only-of-type {\n",
       "        vertical-align: middle;\n",
       "    }\n",
       "\n",
       "    .dataframe tbody tr th {\n",
       "        vertical-align: top;\n",
       "    }\n",
       "\n",
       "    .dataframe thead th {\n",
       "        text-align: right;\n",
       "    }\n",
       "</style>\n",
       "<table border=\"1\" class=\"dataframe\">\n",
       "  <thead>\n",
       "    <tr style=\"text-align: right;\">\n",
       "      <th></th>\n",
       "      <th>address</th>\n",
       "      <th>city</th>\n",
       "      <th>zip</th>\n",
       "      <th>bedrooms</th>\n",
       "      <th>bathrooms</th>\n",
       "      <th>floor_size</th>\n",
       "      <th>lot_size</th>\n",
       "      <th>year_built</th>\n",
       "      <th>sale_date</th>\n",
       "      <th>sale_price</th>\n",
       "    </tr>\n",
       "  </thead>\n",
       "  <tbody>\n",
       "    <tr>\n",
       "      <th>0</th>\n",
       "      <td>2804 Tangelo Ct</td>\n",
       "      <td>Pleasanton</td>\n",
       "      <td>94588</td>\n",
       "      <td>3</td>\n",
       "      <td>3</td>\n",
       "      <td>1614</td>\n",
       "      <td>2,526 sqft</td>\n",
       "      <td>Built in 1998</td>\n",
       "      <td>04/23/18</td>\n",
       "      <td>1039000.0</td>\n",
       "    </tr>\n",
       "    <tr>\n",
       "      <th>1</th>\n",
       "      <td>5650 Hansen Dr</td>\n",
       "      <td>Pleasanton</td>\n",
       "      <td>94566</td>\n",
       "      <td>4</td>\n",
       "      <td>2</td>\n",
       "      <td>1527</td>\n",
       "      <td>6,699 sqft</td>\n",
       "      <td>Built in 1973</td>\n",
       "      <td>04/20/18</td>\n",
       "      <td>1200000.0</td>\n",
       "    </tr>\n",
       "    <tr>\n",
       "      <th>2</th>\n",
       "      <td>592 Tawny Dr</td>\n",
       "      <td>Pleasanton</td>\n",
       "      <td>94566</td>\n",
       "      <td>3</td>\n",
       "      <td>2</td>\n",
       "      <td>1956</td>\n",
       "      <td>0.28 acres</td>\n",
       "      <td>Built in 1977</td>\n",
       "      <td>04/19/18</td>\n",
       "      <td>1150000.0</td>\n",
       "    </tr>\n",
       "    <tr>\n",
       "      <th>3</th>\n",
       "      <td>2668 Calle Morelia</td>\n",
       "      <td>Pleasanton</td>\n",
       "      <td>94566</td>\n",
       "      <td>5</td>\n",
       "      <td>3</td>\n",
       "      <td>2422</td>\n",
       "      <td>6,500 sqft</td>\n",
       "      <td>Built in 1984</td>\n",
       "      <td>04/18/18</td>\n",
       "      <td>1430000.0</td>\n",
       "    </tr>\n",
       "    <tr>\n",
       "      <th>4</th>\n",
       "      <td>6048 Inglewood Dr</td>\n",
       "      <td>Pleasanton</td>\n",
       "      <td>94588</td>\n",
       "      <td>4</td>\n",
       "      <td>2</td>\n",
       "      <td>1733</td>\n",
       "      <td>6,499 sqft</td>\n",
       "      <td>Built in 1968</td>\n",
       "      <td>04/18/18</td>\n",
       "      <td>1125000.0</td>\n",
       "    </tr>\n",
       "  </tbody>\n",
       "</table>\n",
       "</div>"
      ],
      "text/plain": [
       "               address         city    zip bedrooms bathrooms floor_size  \\\n",
       "0      2804 Tangelo Ct   Pleasanton  94588        3         3       1614   \n",
       "1       5650 Hansen Dr   Pleasanton  94566        4         2       1527   \n",
       "2         592 Tawny Dr   Pleasanton  94566        3         2       1956   \n",
       "3   2668 Calle Morelia   Pleasanton  94566        5         3       2422   \n",
       "4    6048 Inglewood Dr   Pleasanton  94588        4         2       1733   \n",
       "\n",
       "     lot_size     year_built sale_date  sale_price  \n",
       "0  2,526 sqft  Built in 1998  04/23/18   1039000.0  \n",
       "1  6,699 sqft  Built in 1973  04/20/18   1200000.0  \n",
       "2  0.28 acres  Built in 1977  04/19/18   1150000.0  \n",
       "3  6,500 sqft  Built in 1984  04/18/18   1430000.0  \n",
       "4  6,499 sqft  Built in 1968  04/18/18   1125000.0  "
      ]
     },
     "execution_count": 127,
     "metadata": {},
     "output_type": "execute_result"
    }
   ],
   "source": [
    "df1.head()"
   ]
  },
  {
   "cell_type": "code",
   "execution_count": 128,
   "metadata": {},
   "outputs": [
    {
     "data": {
      "text/html": [
       "<div>\n",
       "<style scoped>\n",
       "    .dataframe tbody tr th:only-of-type {\n",
       "        vertical-align: middle;\n",
       "    }\n",
       "\n",
       "    .dataframe tbody tr th {\n",
       "        vertical-align: top;\n",
       "    }\n",
       "\n",
       "    .dataframe thead th {\n",
       "        text-align: right;\n",
       "    }\n",
       "</style>\n",
       "<table border=\"1\" class=\"dataframe\">\n",
       "  <thead>\n",
       "    <tr style=\"text-align: right;\">\n",
       "      <th></th>\n",
       "      <th>address</th>\n",
       "      <th>city</th>\n",
       "      <th>zip</th>\n",
       "      <th>bedrooms</th>\n",
       "      <th>bathrooms</th>\n",
       "      <th>floor_size</th>\n",
       "      <th>lot_size</th>\n",
       "      <th>year_built</th>\n",
       "      <th>sale_date</th>\n",
       "      <th>sale_price</th>\n",
       "    </tr>\n",
       "  </thead>\n",
       "  <tbody>\n",
       "    <tr>\n",
       "      <th>0</th>\n",
       "      <td>5223 Ridgevale Way</td>\n",
       "      <td>Pleasanton</td>\n",
       "      <td>94566</td>\n",
       "      <td>3</td>\n",
       "      <td>2</td>\n",
       "      <td>1696</td>\n",
       "      <td>7,405 sqft</td>\n",
       "      <td>Built in 1965</td>\n",
       "      <td>11/22/17</td>\n",
       "      <td>1097000.0</td>\n",
       "    </tr>\n",
       "    <tr>\n",
       "      <th>1</th>\n",
       "      <td>5751 Athenour Ct</td>\n",
       "      <td>Pleasanton</td>\n",
       "      <td>94588</td>\n",
       "      <td>3</td>\n",
       "      <td>3</td>\n",
       "      <td>2131</td>\n",
       "      <td>3,659 sqft</td>\n",
       "      <td>Built in 1997</td>\n",
       "      <td>11/22/17</td>\n",
       "      <td>1150000.0</td>\n",
       "    </tr>\n",
       "    <tr>\n",
       "      <th>2</th>\n",
       "      <td>7334 Elmwood Cir</td>\n",
       "      <td>Pleasanton</td>\n",
       "      <td>94588</td>\n",
       "      <td>3</td>\n",
       "      <td>3</td>\n",
       "      <td>1667</td>\n",
       "      <td>5,227 sqft</td>\n",
       "      <td>Built in 1986</td>\n",
       "      <td>11/22/17</td>\n",
       "      <td>917000.0</td>\n",
       "    </tr>\n",
       "    <tr>\n",
       "      <th>3</th>\n",
       "      <td>4010 Alvarado St</td>\n",
       "      <td>Pleasanton</td>\n",
       "      <td>94566</td>\n",
       "      <td>3</td>\n",
       "      <td>2</td>\n",
       "      <td>1236</td>\n",
       "      <td>6,973 sqft</td>\n",
       "      <td>Built in 1964</td>\n",
       "      <td>11/22/17</td>\n",
       "      <td>840000.0</td>\n",
       "    </tr>\n",
       "    <tr>\n",
       "      <th>4</th>\n",
       "      <td>7802 Lafayette Ct</td>\n",
       "      <td>Pleasanton</td>\n",
       "      <td>94588</td>\n",
       "      <td>5</td>\n",
       "      <td>3</td>\n",
       "      <td>3430</td>\n",
       "      <td>10,672 sqft</td>\n",
       "      <td>Built in 1996</td>\n",
       "      <td>11/21/17</td>\n",
       "      <td>1510000.0</td>\n",
       "    </tr>\n",
       "  </tbody>\n",
       "</table>\n",
       "</div>"
      ],
      "text/plain": [
       "               address         city    zip bedrooms bathrooms floor_size  \\\n",
       "0   5223 Ridgevale Way   Pleasanton  94566        3         2       1696   \n",
       "1     5751 Athenour Ct   Pleasanton  94588        3         3       2131   \n",
       "2     7334 Elmwood Cir   Pleasanton  94588        3         3       1667   \n",
       "3     4010 Alvarado St   Pleasanton  94566        3         2       1236   \n",
       "4    7802 Lafayette Ct   Pleasanton  94588        5         3       3430   \n",
       "\n",
       "      lot_size     year_built sale_date  sale_price  \n",
       "0   7,405 sqft  Built in 1965  11/22/17   1097000.0  \n",
       "1   3,659 sqft  Built in 1997  11/22/17   1150000.0  \n",
       "2   5,227 sqft  Built in 1986  11/22/17    917000.0  \n",
       "3   6,973 sqft  Built in 1964  11/22/17    840000.0  \n",
       "4  10,672 sqft  Built in 1996  11/21/17   1510000.0  "
      ]
     },
     "execution_count": 128,
     "metadata": {},
     "output_type": "execute_result"
    }
   ],
   "source": [
    "df2.head()"
   ]
  },
  {
   "cell_type": "code",
   "execution_count": 442,
   "metadata": {},
   "outputs": [],
   "source": [
    "#concatenate the two dataframes\n",
    "houses_df = df1.append(df2,ignore_index=True) "
   ]
  },
  {
   "cell_type": "code",
   "execution_count": 443,
   "metadata": {},
   "outputs": [
    {
     "data": {
      "text/plain": [
       "(500, 10)"
      ]
     },
     "execution_count": 443,
     "metadata": {},
     "output_type": "execute_result"
    }
   ],
   "source": [
    "houses_df.shape"
   ]
  },
  {
   "cell_type": "code",
   "execution_count": 581,
   "metadata": {},
   "outputs": [
    {
     "data": {
      "text/html": [
       "<div>\n",
       "<style scoped>\n",
       "    .dataframe tbody tr th:only-of-type {\n",
       "        vertical-align: middle;\n",
       "    }\n",
       "\n",
       "    .dataframe tbody tr th {\n",
       "        vertical-align: top;\n",
       "    }\n",
       "\n",
       "    .dataframe thead th {\n",
       "        text-align: right;\n",
       "    }\n",
       "</style>\n",
       "<table border=\"1\" class=\"dataframe\">\n",
       "  <thead>\n",
       "    <tr style=\"text-align: right;\">\n",
       "      <th></th>\n",
       "      <th>address</th>\n",
       "      <th>city</th>\n",
       "      <th>zip</th>\n",
       "      <th>bedrooms</th>\n",
       "      <th>bathrooms</th>\n",
       "      <th>floor_size</th>\n",
       "      <th>lot_size</th>\n",
       "      <th>year_built</th>\n",
       "      <th>sale_date</th>\n",
       "      <th>sale_price</th>\n",
       "    </tr>\n",
       "  </thead>\n",
       "  <tbody>\n",
       "    <tr>\n",
       "      <th>0</th>\n",
       "      <td>2804 Tangelo Ct</td>\n",
       "      <td>Pleasanton</td>\n",
       "      <td>94588</td>\n",
       "      <td>3</td>\n",
       "      <td>3</td>\n",
       "      <td>1614</td>\n",
       "      <td>2,526 sqft</td>\n",
       "      <td>Built in 1998</td>\n",
       "      <td>04/23/18</td>\n",
       "      <td>1039000.0</td>\n",
       "    </tr>\n",
       "    <tr>\n",
       "      <th>1</th>\n",
       "      <td>5650 Hansen Dr</td>\n",
       "      <td>Pleasanton</td>\n",
       "      <td>94566</td>\n",
       "      <td>4</td>\n",
       "      <td>2</td>\n",
       "      <td>1527</td>\n",
       "      <td>6,699 sqft</td>\n",
       "      <td>Built in 1973</td>\n",
       "      <td>04/20/18</td>\n",
       "      <td>1200000.0</td>\n",
       "    </tr>\n",
       "    <tr>\n",
       "      <th>2</th>\n",
       "      <td>592 Tawny Dr</td>\n",
       "      <td>Pleasanton</td>\n",
       "      <td>94566</td>\n",
       "      <td>3</td>\n",
       "      <td>2</td>\n",
       "      <td>1956</td>\n",
       "      <td>0.28 acres</td>\n",
       "      <td>Built in 1977</td>\n",
       "      <td>04/19/18</td>\n",
       "      <td>1150000.0</td>\n",
       "    </tr>\n",
       "    <tr>\n",
       "      <th>3</th>\n",
       "      <td>2668 Calle Morelia</td>\n",
       "      <td>Pleasanton</td>\n",
       "      <td>94566</td>\n",
       "      <td>5</td>\n",
       "      <td>3</td>\n",
       "      <td>2422</td>\n",
       "      <td>6,500 sqft</td>\n",
       "      <td>Built in 1984</td>\n",
       "      <td>04/18/18</td>\n",
       "      <td>1430000.0</td>\n",
       "    </tr>\n",
       "    <tr>\n",
       "      <th>4</th>\n",
       "      <td>6048 Inglewood Dr</td>\n",
       "      <td>Pleasanton</td>\n",
       "      <td>94588</td>\n",
       "      <td>4</td>\n",
       "      <td>2</td>\n",
       "      <td>1733</td>\n",
       "      <td>6,499 sqft</td>\n",
       "      <td>Built in 1968</td>\n",
       "      <td>04/18/18</td>\n",
       "      <td>1125000.0</td>\n",
       "    </tr>\n",
       "  </tbody>\n",
       "</table>\n",
       "</div>"
      ],
      "text/plain": [
       "               address         city    zip bedrooms bathrooms floor_size  \\\n",
       "0      2804 Tangelo Ct   Pleasanton  94588        3         3       1614   \n",
       "1       5650 Hansen Dr   Pleasanton  94566        4         2       1527   \n",
       "2         592 Tawny Dr   Pleasanton  94566        3         2       1956   \n",
       "3   2668 Calle Morelia   Pleasanton  94566        5         3       2422   \n",
       "4    6048 Inglewood Dr   Pleasanton  94588        4         2       1733   \n",
       "\n",
       "     lot_size     year_built sale_date  sale_price  \n",
       "0  2,526 sqft  Built in 1998  04/23/18   1039000.0  \n",
       "1  6,699 sqft  Built in 1973  04/20/18   1200000.0  \n",
       "2  0.28 acres  Built in 1977  04/19/18   1150000.0  \n",
       "3  6,500 sqft  Built in 1984  04/18/18   1430000.0  \n",
       "4  6,499 sqft  Built in 1968  04/18/18   1125000.0  "
      ]
     },
     "execution_count": 581,
     "metadata": {},
     "output_type": "execute_result"
    }
   ],
   "source": [
    "houses_df.head()"
   ]
  },
  {
   "cell_type": "markdown",
   "metadata": {},
   "source": [
    "The new dataframe has 500 entries.  Now let's check to see what the type is of each column."
   ]
  },
  {
   "cell_type": "code",
   "execution_count": 445,
   "metadata": {},
   "outputs": [
    {
     "name": "stdout",
     "output_type": "stream",
     "text": [
      "('bedrooms: object', 'bathrooms: object', 'floor size: object', 'lot size: object', 'sale_date: object', 'sale_price: float64')\n"
     ]
    }
   ],
   "source": [
    "print((\"bedrooms: {}\".format(houses_df['bedrooms'].dtype),\n",
    "\"bathrooms: {}\".format(houses_df['bathrooms'].dtype),\n",
    "\"floor size: {}\".format(houses_df['floor_size'].dtype),\n",
    "\"lot size: {}\".format(houses_df['lot_size'].dtype),\n",
    "\"sale_date: {}\".format(houses_df['sale_date'].dtype),\n",
    "\"sale_price: {}\".format(houses_df['sale_price'].dtype)))"
   ]
  },
  {
   "cell_type": "markdown",
   "metadata": {},
   "source": [
    "The only column that is in the proper format is 'sale_price'.  All of the other columns we will have to convert."
   ]
  },
  {
   "cell_type": "code",
   "execution_count": 446,
   "metadata": {},
   "outputs": [
    {
     "data": {
      "text/plain": [
       "4         227\n",
       "3         128\n",
       "5          75\n",
       "Studio     25\n",
       "2          21\n",
       "6          19\n",
       "--          5\n",
       "Name: bedrooms, dtype: int64"
      ]
     },
     "execution_count": 446,
     "metadata": {},
     "output_type": "execute_result"
    }
   ],
   "source": [
    "houses_df['bedrooms'].value_counts()"
   ]
  },
  {
   "cell_type": "code",
   "execution_count": 447,
   "metadata": {},
   "outputs": [
    {
     "data": {
      "text/html": [
       "<div>\n",
       "<style scoped>\n",
       "    .dataframe tbody tr th:only-of-type {\n",
       "        vertical-align: middle;\n",
       "    }\n",
       "\n",
       "    .dataframe tbody tr th {\n",
       "        vertical-align: top;\n",
       "    }\n",
       "\n",
       "    .dataframe thead th {\n",
       "        text-align: right;\n",
       "    }\n",
       "</style>\n",
       "<table border=\"1\" class=\"dataframe\">\n",
       "  <thead>\n",
       "    <tr style=\"text-align: right;\">\n",
       "      <th></th>\n",
       "      <th>address</th>\n",
       "      <th>city</th>\n",
       "      <th>zip</th>\n",
       "      <th>bedrooms</th>\n",
       "      <th>bathrooms</th>\n",
       "      <th>floor_size</th>\n",
       "      <th>lot_size</th>\n",
       "      <th>year_built</th>\n",
       "      <th>sale_date</th>\n",
       "      <th>sale_price</th>\n",
       "    </tr>\n",
       "  </thead>\n",
       "  <tbody>\n",
       "    <tr>\n",
       "      <th>26</th>\n",
       "      <td>3410 Cornerstone Ct</td>\n",
       "      <td>Pleasanton</td>\n",
       "      <td>94566</td>\n",
       "      <td>Studio</td>\n",
       "      <td>--</td>\n",
       "      <td>--</td>\n",
       "      <td>6,627 sqft</td>\n",
       "      <td>NaN</td>\n",
       "      <td>04/03/18</td>\n",
       "      <td>1309500.0</td>\n",
       "    </tr>\n",
       "    <tr>\n",
       "      <th>55</th>\n",
       "      <td>3410 Cornerstone Ct</td>\n",
       "      <td>Pleasanton</td>\n",
       "      <td>94566</td>\n",
       "      <td>Studio</td>\n",
       "      <td>--</td>\n",
       "      <td>--</td>\n",
       "      <td>4,028 sqft</td>\n",
       "      <td>NaN</td>\n",
       "      <td>03/27/18</td>\n",
       "      <td>1202500.0</td>\n",
       "    </tr>\n",
       "    <tr>\n",
       "      <th>64</th>\n",
       "      <td>3410 Cornerstone Ct</td>\n",
       "      <td>Pleasanton</td>\n",
       "      <td>94566</td>\n",
       "      <td>Studio</td>\n",
       "      <td>--</td>\n",
       "      <td>--</td>\n",
       "      <td>3,657 sqft</td>\n",
       "      <td>NaN</td>\n",
       "      <td>03/23/18</td>\n",
       "      <td>1064500.0</td>\n",
       "    </tr>\n",
       "    <tr>\n",
       "      <th>67</th>\n",
       "      <td>3410 Cornerstone Ct</td>\n",
       "      <td>Pleasanton</td>\n",
       "      <td>94566</td>\n",
       "      <td>Studio</td>\n",
       "      <td>--</td>\n",
       "      <td>--</td>\n",
       "      <td>3,885 sqft</td>\n",
       "      <td>NaN</td>\n",
       "      <td>03/22/18</td>\n",
       "      <td>1200000.0</td>\n",
       "    </tr>\n",
       "    <tr>\n",
       "      <th>75</th>\n",
       "      <td>3410 Cornerstone Ct</td>\n",
       "      <td>Pleasanton</td>\n",
       "      <td>94566</td>\n",
       "      <td>Studio</td>\n",
       "      <td>--</td>\n",
       "      <td>--</td>\n",
       "      <td>3,815 sqft</td>\n",
       "      <td>NaN</td>\n",
       "      <td>03/16/18</td>\n",
       "      <td>1121500.0</td>\n",
       "    </tr>\n",
       "  </tbody>\n",
       "</table>\n",
       "</div>"
      ],
      "text/plain": [
       "                 address         city    zip bedrooms bathrooms floor_size  \\\n",
       "26   3410 Cornerstone Ct   Pleasanton  94566   Studio        --         --   \n",
       "55   3410 Cornerstone Ct   Pleasanton  94566   Studio        --         --   \n",
       "64   3410 Cornerstone Ct   Pleasanton  94566   Studio        --         --   \n",
       "67   3410 Cornerstone Ct   Pleasanton  94566   Studio        --         --   \n",
       "75   3410 Cornerstone Ct   Pleasanton  94566   Studio        --         --   \n",
       "\n",
       "      lot_size year_built sale_date  sale_price  \n",
       "26  6,627 sqft        NaN  04/03/18   1309500.0  \n",
       "55  4,028 sqft        NaN  03/27/18   1202500.0  \n",
       "64  3,657 sqft        NaN  03/23/18   1064500.0  \n",
       "67  3,885 sqft        NaN  03/22/18   1200000.0  \n",
       "75  3,815 sqft        NaN  03/16/18   1121500.0  "
      ]
     },
     "execution_count": 447,
     "metadata": {},
     "output_type": "execute_result"
    }
   ],
   "source": [
    "mask_studio = houses_df['bedrooms'] == 'Studio'\n",
    "houses_df[mask_studio].head()"
   ]
  },
  {
   "cell_type": "code",
   "execution_count": 448,
   "metadata": {},
   "outputs": [
    {
     "data": {
      "text/html": [
       "<div>\n",
       "<style scoped>\n",
       "    .dataframe tbody tr th:only-of-type {\n",
       "        vertical-align: middle;\n",
       "    }\n",
       "\n",
       "    .dataframe tbody tr th {\n",
       "        vertical-align: top;\n",
       "    }\n",
       "\n",
       "    .dataframe thead th {\n",
       "        text-align: right;\n",
       "    }\n",
       "</style>\n",
       "<table border=\"1\" class=\"dataframe\">\n",
       "  <thead>\n",
       "    <tr style=\"text-align: right;\">\n",
       "      <th></th>\n",
       "      <th>address</th>\n",
       "      <th>city</th>\n",
       "      <th>zip</th>\n",
       "      <th>bedrooms</th>\n",
       "      <th>bathrooms</th>\n",
       "      <th>floor_size</th>\n",
       "      <th>lot_size</th>\n",
       "      <th>year_built</th>\n",
       "      <th>sale_date</th>\n",
       "      <th>sale_price</th>\n",
       "    </tr>\n",
       "  </thead>\n",
       "  <tbody>\n",
       "    <tr>\n",
       "      <th>399</th>\n",
       "      <td>2383 Silver Oaks Ln</td>\n",
       "      <td>Pleasanton</td>\n",
       "      <td>94566</td>\n",
       "      <td>Studio</td>\n",
       "      <td>--</td>\n",
       "      <td>--</td>\n",
       "      <td>0.52 acres</td>\n",
       "      <td>NaN</td>\n",
       "      <td>09/15/17</td>\n",
       "      <td>2199500.0</td>\n",
       "    </tr>\n",
       "    <tr>\n",
       "      <th>400</th>\n",
       "      <td>2383 Silver Oaks Ln</td>\n",
       "      <td>Pleasanton</td>\n",
       "      <td>94566</td>\n",
       "      <td>Studio</td>\n",
       "      <td>--</td>\n",
       "      <td>--</td>\n",
       "      <td>0.52 acres</td>\n",
       "      <td>NaN</td>\n",
       "      <td>09/15/17</td>\n",
       "      <td>2199500.0</td>\n",
       "    </tr>\n",
       "    <tr>\n",
       "      <th>403</th>\n",
       "      <td>1600 Valley Ave</td>\n",
       "      <td>Pleasanton</td>\n",
       "      <td>94566</td>\n",
       "      <td>Studio</td>\n",
       "      <td>--</td>\n",
       "      <td>--</td>\n",
       "      <td>0.52 acres</td>\n",
       "      <td>NaN</td>\n",
       "      <td>09/14/17</td>\n",
       "      <td>99625000.0</td>\n",
       "    </tr>\n",
       "    <tr>\n",
       "      <th>443</th>\n",
       "      <td>2329 Silver Oaks Ln</td>\n",
       "      <td>Pleasanton</td>\n",
       "      <td>94566</td>\n",
       "      <td>Studio</td>\n",
       "      <td>--</td>\n",
       "      <td>--</td>\n",
       "      <td>0.46 acres</td>\n",
       "      <td>NaN</td>\n",
       "      <td>08/28/17</td>\n",
       "      <td>2154500.0</td>\n",
       "    </tr>\n",
       "    <tr>\n",
       "      <th>484</th>\n",
       "      <td>55 W Angela St</td>\n",
       "      <td>Pleasanton</td>\n",
       "      <td>94566</td>\n",
       "      <td>Studio</td>\n",
       "      <td>--</td>\n",
       "      <td>8828</td>\n",
       "      <td>0.45 acres</td>\n",
       "      <td>Built in 2007</td>\n",
       "      <td>08/10/17</td>\n",
       "      <td>4650000.0</td>\n",
       "    </tr>\n",
       "  </tbody>\n",
       "</table>\n",
       "</div>"
      ],
      "text/plain": [
       "                  address         city    zip bedrooms bathrooms floor_size  \\\n",
       "399   2383 Silver Oaks Ln   Pleasanton  94566   Studio        --         --   \n",
       "400   2383 Silver Oaks Ln   Pleasanton  94566   Studio        --         --   \n",
       "403       1600 Valley Ave   Pleasanton  94566   Studio        --         --   \n",
       "443   2329 Silver Oaks Ln   Pleasanton  94566   Studio        --         --   \n",
       "484        55 W Angela St   Pleasanton  94566   Studio        --       8828   \n",
       "\n",
       "       lot_size     year_built sale_date  sale_price  \n",
       "399  0.52 acres            NaN  09/15/17   2199500.0  \n",
       "400  0.52 acres            NaN  09/15/17   2199500.0  \n",
       "403  0.52 acres            NaN  09/14/17  99625000.0  \n",
       "443  0.46 acres            NaN  08/28/17   2154500.0  \n",
       "484  0.45 acres  Built in 2007  08/10/17   4650000.0  "
      ]
     },
     "execution_count": 448,
     "metadata": {},
     "output_type": "execute_result"
    }
   ],
   "source": [
    "houses_df[mask_studio].tail()"
   ]
  },
  {
   "cell_type": "markdown",
   "metadata": {},
   "source": [
    "25 houses are Studios.  For these houses, since most of them also are missing bathroom, floor_size, and year_built information, I'm just going to drop these entries."
   ]
  },
  {
   "cell_type": "code",
   "execution_count": 449,
   "metadata": {},
   "outputs": [
    {
     "data": {
      "text/plain": [
       "(475, 10)"
      ]
     },
     "execution_count": 449,
     "metadata": {},
     "output_type": "execute_result"
    }
   ],
   "source": [
    "mask_nonstudio = houses_df['bedrooms'] != 'Studio'\n",
    "houses_df2 = houses_df[mask_nonstudio]\n",
    "houses_df2.shape"
   ]
  },
  {
   "cell_type": "code",
   "execution_count": 450,
   "metadata": {},
   "outputs": [
    {
     "data": {
      "text/plain": [
       "4     227\n",
       "3     128\n",
       "5      75\n",
       "2      21\n",
       "6      19\n",
       "--      5\n",
       "Name: bedrooms, dtype: int64"
      ]
     },
     "execution_count": 450,
     "metadata": {},
     "output_type": "execute_result"
    }
   ],
   "source": [
    "houses_df2['bedrooms'].value_counts()"
   ]
  },
  {
   "cell_type": "markdown",
   "metadata": {},
   "source": [
    "Why are there 5 houses with '--' for bedrooms?"
   ]
  },
  {
   "cell_type": "code",
   "execution_count": 451,
   "metadata": {},
   "outputs": [
    {
     "data": {
      "text/html": [
       "<div>\n",
       "<style scoped>\n",
       "    .dataframe tbody tr th:only-of-type {\n",
       "        vertical-align: middle;\n",
       "    }\n",
       "\n",
       "    .dataframe tbody tr th {\n",
       "        vertical-align: top;\n",
       "    }\n",
       "\n",
       "    .dataframe thead th {\n",
       "        text-align: right;\n",
       "    }\n",
       "</style>\n",
       "<table border=\"1\" class=\"dataframe\">\n",
       "  <thead>\n",
       "    <tr style=\"text-align: right;\">\n",
       "      <th></th>\n",
       "      <th>address</th>\n",
       "      <th>city</th>\n",
       "      <th>zip</th>\n",
       "      <th>bedrooms</th>\n",
       "      <th>bathrooms</th>\n",
       "      <th>floor_size</th>\n",
       "      <th>lot_size</th>\n",
       "      <th>year_built</th>\n",
       "      <th>sale_date</th>\n",
       "      <th>sale_price</th>\n",
       "    </tr>\n",
       "  </thead>\n",
       "  <tbody>\n",
       "    <tr>\n",
       "      <th>219</th>\n",
       "      <td>4173 Garibaldi Pl</td>\n",
       "      <td>Pleasanton</td>\n",
       "      <td>94566</td>\n",
       "      <td>--</td>\n",
       "      <td>--</td>\n",
       "      <td>--</td>\n",
       "      <td>1,995 sqft</td>\n",
       "      <td>NaN</td>\n",
       "      <td>12/08/17</td>\n",
       "      <td>358000.0</td>\n",
       "    </tr>\n",
       "    <tr>\n",
       "      <th>404</th>\n",
       "      <td>1600 Valley Ave</td>\n",
       "      <td>Pleasanton</td>\n",
       "      <td>94566</td>\n",
       "      <td>--</td>\n",
       "      <td>--</td>\n",
       "      <td>--</td>\n",
       "      <td>1.3 acres</td>\n",
       "      <td>NaN</td>\n",
       "      <td>09/14/17</td>\n",
       "      <td>99625000.0</td>\n",
       "    </tr>\n",
       "    <tr>\n",
       "      <th>405</th>\n",
       "      <td>1600 Valley Ave</td>\n",
       "      <td>Pleasanton</td>\n",
       "      <td>94566</td>\n",
       "      <td>--</td>\n",
       "      <td>--</td>\n",
       "      <td>--</td>\n",
       "      <td>1.37 acres</td>\n",
       "      <td>NaN</td>\n",
       "      <td>09/14/17</td>\n",
       "      <td>99625000.0</td>\n",
       "    </tr>\n",
       "    <tr>\n",
       "      <th>470</th>\n",
       "      <td>7306 Young Ct</td>\n",
       "      <td>Pleasanton</td>\n",
       "      <td>94588</td>\n",
       "      <td>--</td>\n",
       "      <td>--</td>\n",
       "      <td>1508</td>\n",
       "      <td>2.93 acres</td>\n",
       "      <td>Built in 1958</td>\n",
       "      <td>08/15/17</td>\n",
       "      <td>650000.0</td>\n",
       "    </tr>\n",
       "    <tr>\n",
       "      <th>485</th>\n",
       "      <td>630 Happy Valley Rd</td>\n",
       "      <td>Pleasanton</td>\n",
       "      <td>94566</td>\n",
       "      <td>--</td>\n",
       "      <td>--</td>\n",
       "      <td>2632</td>\n",
       "      <td>1 acre</td>\n",
       "      <td>Built in 1967</td>\n",
       "      <td>08/09/17</td>\n",
       "      <td>900000.0</td>\n",
       "    </tr>\n",
       "  </tbody>\n",
       "</table>\n",
       "</div>"
      ],
      "text/plain": [
       "                  address         city    zip bedrooms bathrooms floor_size  \\\n",
       "219     4173 Garibaldi Pl   Pleasanton  94566       --        --         --   \n",
       "404       1600 Valley Ave   Pleasanton  94566       --        --         --   \n",
       "405       1600 Valley Ave   Pleasanton  94566       --        --         --   \n",
       "470         7306 Young Ct   Pleasanton  94588       --        --       1508   \n",
       "485   630 Happy Valley Rd   Pleasanton  94566       --        --       2632   \n",
       "\n",
       "       lot_size     year_built sale_date  sale_price  \n",
       "219  1,995 sqft            NaN  12/08/17    358000.0  \n",
       "404   1.3 acres            NaN  09/14/17  99625000.0  \n",
       "405  1.37 acres            NaN  09/14/17  99625000.0  \n",
       "470  2.93 acres  Built in 1958  08/15/17    650000.0  \n",
       "485      1 acre  Built in 1967  08/09/17    900000.0  "
      ]
     },
     "execution_count": 451,
     "metadata": {},
     "output_type": "execute_result"
    }
   ],
   "source": [
    "mask_dash = houses_df2['bedrooms'] == '--'\n",
    "houses_df2[mask_dash]"
   ]
  },
  {
   "cell_type": "markdown",
   "metadata": {},
   "source": [
    "Okay, these rows also have missing data, so we will drop these as well."
   ]
  },
  {
   "cell_type": "code",
   "execution_count": 452,
   "metadata": {},
   "outputs": [
    {
     "data": {
      "text/plain": [
       "(470, 10)"
      ]
     },
     "execution_count": 452,
     "metadata": {},
     "output_type": "execute_result"
    }
   ],
   "source": [
    "mask_nondash = houses_df2['bedrooms'] != '--'\n",
    "houses_df2 = houses_df2[mask_nondash]\n",
    "houses_df2.shape"
   ]
  },
  {
   "cell_type": "code",
   "execution_count": 453,
   "metadata": {},
   "outputs": [
    {
     "data": {
      "text/plain": [
       "4    227\n",
       "3    128\n",
       "5     75\n",
       "2     21\n",
       "6     19\n",
       "Name: bedrooms, dtype: int64"
      ]
     },
     "execution_count": 453,
     "metadata": {},
     "output_type": "execute_result"
    }
   ],
   "source": [
    "houses_df2['bedrooms'].value_counts()"
   ]
  },
  {
   "cell_type": "markdown",
   "metadata": {},
   "source": [
    "Now all of the problem rows have been dropped.  Next step will be to convert the bedrooms column to type int."
   ]
  },
  {
   "cell_type": "code",
   "execution_count": 454,
   "metadata": {},
   "outputs": [],
   "source": [
    "houses_df2['bedrooms'] = houses_df2['bedrooms'].astype(int)"
   ]
  },
  {
   "cell_type": "code",
   "execution_count": 455,
   "metadata": {},
   "outputs": [
    {
     "data": {
      "text/plain": [
       "3      182\n",
       "2      159\n",
       "2.5     34\n",
       "4       33\n",
       "5       23\n",
       "6       14\n",
       "3.5      6\n",
       "1        5\n",
       "7        4\n",
       "5.5      3\n",
       "4.5      3\n",
       "1.5      3\n",
       "8        1\n",
       "Name: bathrooms, dtype: int64"
      ]
     },
     "execution_count": 455,
     "metadata": {},
     "output_type": "execute_result"
    }
   ],
   "source": [
    "houses_df2['bathrooms'].value_counts()"
   ]
  },
  {
   "cell_type": "markdown",
   "metadata": {},
   "source": [
    "Since there are half bathrooms, we will convert these to type float."
   ]
  },
  {
   "cell_type": "code",
   "execution_count": 456,
   "metadata": {},
   "outputs": [],
   "source": [
    "houses_df2['bathrooms'] = houses_df2['bathrooms'].astype(float)"
   ]
  },
  {
   "cell_type": "code",
   "execution_count": 457,
   "metadata": {},
   "outputs": [
    {
     "data": {
      "text/html": [
       "<div>\n",
       "<style scoped>\n",
       "    .dataframe tbody tr th:only-of-type {\n",
       "        vertical-align: middle;\n",
       "    }\n",
       "\n",
       "    .dataframe tbody tr th {\n",
       "        vertical-align: top;\n",
       "    }\n",
       "\n",
       "    .dataframe thead th {\n",
       "        text-align: right;\n",
       "    }\n",
       "</style>\n",
       "<table border=\"1\" class=\"dataframe\">\n",
       "  <thead>\n",
       "    <tr style=\"text-align: right;\">\n",
       "      <th></th>\n",
       "      <th>address</th>\n",
       "      <th>city</th>\n",
       "      <th>zip</th>\n",
       "      <th>bedrooms</th>\n",
       "      <th>bathrooms</th>\n",
       "      <th>floor_size</th>\n",
       "      <th>lot_size</th>\n",
       "      <th>year_built</th>\n",
       "      <th>sale_date</th>\n",
       "      <th>sale_price</th>\n",
       "    </tr>\n",
       "  </thead>\n",
       "  <tbody>\n",
       "    <tr>\n",
       "      <th>0</th>\n",
       "      <td>2804 Tangelo Ct</td>\n",
       "      <td>Pleasanton</td>\n",
       "      <td>94588</td>\n",
       "      <td>3</td>\n",
       "      <td>3.0</td>\n",
       "      <td>1614</td>\n",
       "      <td>2,526 sqft</td>\n",
       "      <td>Built in 1998</td>\n",
       "      <td>04/23/18</td>\n",
       "      <td>1039000.0</td>\n",
       "    </tr>\n",
       "    <tr>\n",
       "      <th>1</th>\n",
       "      <td>5650 Hansen Dr</td>\n",
       "      <td>Pleasanton</td>\n",
       "      <td>94566</td>\n",
       "      <td>4</td>\n",
       "      <td>2.0</td>\n",
       "      <td>1527</td>\n",
       "      <td>6,699 sqft</td>\n",
       "      <td>Built in 1973</td>\n",
       "      <td>04/20/18</td>\n",
       "      <td>1200000.0</td>\n",
       "    </tr>\n",
       "    <tr>\n",
       "      <th>2</th>\n",
       "      <td>592 Tawny Dr</td>\n",
       "      <td>Pleasanton</td>\n",
       "      <td>94566</td>\n",
       "      <td>3</td>\n",
       "      <td>2.0</td>\n",
       "      <td>1956</td>\n",
       "      <td>0.28 acres</td>\n",
       "      <td>Built in 1977</td>\n",
       "      <td>04/19/18</td>\n",
       "      <td>1150000.0</td>\n",
       "    </tr>\n",
       "    <tr>\n",
       "      <th>3</th>\n",
       "      <td>2668 Calle Morelia</td>\n",
       "      <td>Pleasanton</td>\n",
       "      <td>94566</td>\n",
       "      <td>5</td>\n",
       "      <td>3.0</td>\n",
       "      <td>2422</td>\n",
       "      <td>6,500 sqft</td>\n",
       "      <td>Built in 1984</td>\n",
       "      <td>04/18/18</td>\n",
       "      <td>1430000.0</td>\n",
       "    </tr>\n",
       "    <tr>\n",
       "      <th>4</th>\n",
       "      <td>6048 Inglewood Dr</td>\n",
       "      <td>Pleasanton</td>\n",
       "      <td>94588</td>\n",
       "      <td>4</td>\n",
       "      <td>2.0</td>\n",
       "      <td>1733</td>\n",
       "      <td>6,499 sqft</td>\n",
       "      <td>Built in 1968</td>\n",
       "      <td>04/18/18</td>\n",
       "      <td>1125000.0</td>\n",
       "    </tr>\n",
       "  </tbody>\n",
       "</table>\n",
       "</div>"
      ],
      "text/plain": [
       "               address         city    zip  bedrooms  bathrooms floor_size  \\\n",
       "0      2804 Tangelo Ct   Pleasanton  94588         3        3.0       1614   \n",
       "1       5650 Hansen Dr   Pleasanton  94566         4        2.0       1527   \n",
       "2         592 Tawny Dr   Pleasanton  94566         3        2.0       1956   \n",
       "3   2668 Calle Morelia   Pleasanton  94566         5        3.0       2422   \n",
       "4    6048 Inglewood Dr   Pleasanton  94588         4        2.0       1733   \n",
       "\n",
       "     lot_size     year_built sale_date  sale_price  \n",
       "0  2,526 sqft  Built in 1998  04/23/18   1039000.0  \n",
       "1  6,699 sqft  Built in 1973  04/20/18   1200000.0  \n",
       "2  0.28 acres  Built in 1977  04/19/18   1150000.0  \n",
       "3  6,500 sqft  Built in 1984  04/18/18   1430000.0  \n",
       "4  6,499 sqft  Built in 1968  04/18/18   1125000.0  "
      ]
     },
     "execution_count": 457,
     "metadata": {},
     "output_type": "execute_result"
    }
   ],
   "source": [
    "houses_df2.head()"
   ]
  },
  {
   "cell_type": "markdown",
   "metadata": {},
   "source": [
    "Now we will examine floor_size to see if any are nulls."
   ]
  },
  {
   "cell_type": "code",
   "execution_count": 458,
   "metadata": {},
   "outputs": [
    {
     "data": {
      "text/plain": [
       "0"
      ]
     },
     "execution_count": 458,
     "metadata": {},
     "output_type": "execute_result"
    }
   ],
   "source": [
    "houses_df2['floor_size'].isnull().sum()"
   ]
  },
  {
   "cell_type": "code",
   "execution_count": 459,
   "metadata": {},
   "outputs": [],
   "source": [
    "houses_df2['floor_size'] = houses_df2['floor_size'].astype(int)"
   ]
  },
  {
   "cell_type": "markdown",
   "metadata": {},
   "source": [
    "The lot_size column is going to be a little more tricky to convert, because it appears some are labeled 'sqft' and some are 'acres'.  We will first convert the columns listed as 'acres' to 'sqft'.  Then we can drop the 'sqft' label and convert to a type int."
   ]
  },
  {
   "cell_type": "code",
   "execution_count": 460,
   "metadata": {},
   "outputs": [],
   "source": [
    "for index, row in houses_df2.iterrows():\n",
    "    value = row['lot_size']\n",
    "    if 'acres' in value:\n",
    "        acres_str = value.split()[0]\n",
    "        acres_int = int(float(acres_str) * 43560) \n",
    "        houses_df2.loc[index,'lot_size'] = acres_int\n",
    "    elif 'sqft' in value:\n",
    "        sqft_str = value.split()[0]\n",
    "        sqft_int = int(sqft_str.replace(\",\", \"\"))\n",
    "        houses_df2.loc[index,'lot_size'] = sqft_int"
   ]
  },
  {
   "cell_type": "code",
   "execution_count": 462,
   "metadata": {},
   "outputs": [
    {
     "data": {
      "text/plain": [
       "6"
      ]
     },
     "execution_count": 462,
     "metadata": {},
     "output_type": "execute_result"
    }
   ],
   "source": [
    "mask_None = houses_df2['lot_size'] == 'None'\n",
    "mask_None.sum()"
   ]
  },
  {
   "cell_type": "markdown",
   "metadata": {},
   "source": [
    "6 houses have 'None' for their lot_size, so I will drop these rows."
   ]
  },
  {
   "cell_type": "code",
   "execution_count": 463,
   "metadata": {},
   "outputs": [],
   "source": [
    "mask_notNone = houses_df2['lot_size'] != 'None'\n",
    "houses_df2 = houses_df2[mask_notNone]"
   ]
  },
  {
   "cell_type": "code",
   "execution_count": 464,
   "metadata": {},
   "outputs": [
    {
     "data": {
      "text/plain": [
       "dtype('int64')"
      ]
     },
     "execution_count": 464,
     "metadata": {},
     "output_type": "execute_result"
    }
   ],
   "source": [
    "houses_df2['lot_size'] = houses_df2['lot_size'].astype(int)\n",
    "houses_df2['lot_size'].dtype"
   ]
  },
  {
   "cell_type": "code",
   "execution_count": 465,
   "metadata": {},
   "outputs": [
    {
     "data": {
      "text/plain": [
       "address       0\n",
       "city          0\n",
       "zip           0\n",
       "bedrooms      0\n",
       "bathrooms     0\n",
       "floor_size    0\n",
       "lot_size      0\n",
       "year_built    0\n",
       "sale_date     0\n",
       "sale_price    6\n",
       "dtype: int64"
      ]
     },
     "execution_count": 465,
     "metadata": {},
     "output_type": "execute_result"
    }
   ],
   "source": [
    "houses_df2.isnull().sum()"
   ]
  },
  {
   "cell_type": "code",
   "execution_count": 466,
   "metadata": {},
   "outputs": [
    {
     "data": {
      "text/plain": [
       "(464, 10)"
      ]
     },
     "execution_count": 466,
     "metadata": {},
     "output_type": "execute_result"
    }
   ],
   "source": [
    "houses_df2.shape"
   ]
  },
  {
   "cell_type": "markdown",
   "metadata": {},
   "source": [
    "Now we have to convert the 'year_built' string to a single four-digit year."
   ]
  },
  {
   "cell_type": "code",
   "execution_count": 467,
   "metadata": {},
   "outputs": [],
   "source": [
    "for index, row in houses_df2.iterrows():\n",
    "    value = row['year_built']\n",
    "    try:\n",
    "        year_str = value.split(' ')[2]\n",
    "        year = int(year_str)\n",
    "    except:\n",
    "        year = np.nan\n",
    "    houses_df2.loc[index,'year_built'] = year"
   ]
  },
  {
   "cell_type": "code",
   "execution_count": 468,
   "metadata": {},
   "outputs": [
    {
     "data": {
      "text/plain": [
       "0"
      ]
     },
     "execution_count": 468,
     "metadata": {},
     "output_type": "execute_result"
    }
   ],
   "source": [
    "houses_df2['year_built'].isnull().sum()"
   ]
  },
  {
   "cell_type": "code",
   "execution_count": 249,
   "metadata": {},
   "outputs": [],
   "source": [
    "#houses_df2[houses_df2['year_built'].isnull()]"
   ]
  },
  {
   "cell_type": "markdown",
   "metadata": {},
   "source": [
    "Okay, only 1 house has nan for the year_built column.  Instead of trying to impute these values, we will just drop this row."
   ]
  },
  {
   "cell_type": "code",
   "execution_count": 250,
   "metadata": {},
   "outputs": [],
   "source": [
    "houses_df2 = houses_df2[houses_df2['year_built'].notnull()]"
   ]
  },
  {
   "cell_type": "code",
   "execution_count": 469,
   "metadata": {},
   "outputs": [
    {
     "data": {
      "text/plain": [
       "(464, 10)"
      ]
     },
     "execution_count": 469,
     "metadata": {},
     "output_type": "execute_result"
    }
   ],
   "source": [
    "houses_df2.shape"
   ]
  },
  {
   "cell_type": "code",
   "execution_count": 470,
   "metadata": {},
   "outputs": [
    {
     "data": {
      "text/html": [
       "<div>\n",
       "<style scoped>\n",
       "    .dataframe tbody tr th:only-of-type {\n",
       "        vertical-align: middle;\n",
       "    }\n",
       "\n",
       "    .dataframe tbody tr th {\n",
       "        vertical-align: top;\n",
       "    }\n",
       "\n",
       "    .dataframe thead th {\n",
       "        text-align: right;\n",
       "    }\n",
       "</style>\n",
       "<table border=\"1\" class=\"dataframe\">\n",
       "  <thead>\n",
       "    <tr style=\"text-align: right;\">\n",
       "      <th></th>\n",
       "      <th>address</th>\n",
       "      <th>city</th>\n",
       "      <th>zip</th>\n",
       "      <th>bedrooms</th>\n",
       "      <th>bathrooms</th>\n",
       "      <th>floor_size</th>\n",
       "      <th>lot_size</th>\n",
       "      <th>year_built</th>\n",
       "      <th>sale_date</th>\n",
       "      <th>sale_price</th>\n",
       "    </tr>\n",
       "  </thead>\n",
       "  <tbody>\n",
       "    <tr>\n",
       "      <th>495</th>\n",
       "      <td>7535 Maywood Dr</td>\n",
       "      <td>Pleasanton</td>\n",
       "      <td>94588</td>\n",
       "      <td>3</td>\n",
       "      <td>2.5</td>\n",
       "      <td>1851</td>\n",
       "      <td>2661</td>\n",
       "      <td>1973</td>\n",
       "      <td>08/02/17</td>\n",
       "      <td>735000.0</td>\n",
       "    </tr>\n",
       "    <tr>\n",
       "      <th>496</th>\n",
       "      <td>7892 Chestnut Way</td>\n",
       "      <td>Pleasanton</td>\n",
       "      <td>94588</td>\n",
       "      <td>3</td>\n",
       "      <td>2.0</td>\n",
       "      <td>1544</td>\n",
       "      <td>6926</td>\n",
       "      <td>1973</td>\n",
       "      <td>08/02/17</td>\n",
       "      <td>1035000.0</td>\n",
       "    </tr>\n",
       "    <tr>\n",
       "      <th>497</th>\n",
       "      <td>4950 Monaco Dr</td>\n",
       "      <td>Pleasanton</td>\n",
       "      <td>94566</td>\n",
       "      <td>3</td>\n",
       "      <td>3.0</td>\n",
       "      <td>3868</td>\n",
       "      <td>17859</td>\n",
       "      <td>1988</td>\n",
       "      <td>08/02/17</td>\n",
       "      <td>1515000.0</td>\n",
       "    </tr>\n",
       "    <tr>\n",
       "      <th>498</th>\n",
       "      <td>2715 Calle De La Loma</td>\n",
       "      <td>Pleasanton</td>\n",
       "      <td>94566</td>\n",
       "      <td>4</td>\n",
       "      <td>2.5</td>\n",
       "      <td>3027</td>\n",
       "      <td>6403</td>\n",
       "      <td>1989</td>\n",
       "      <td>08/02/17</td>\n",
       "      <td>1365000.0</td>\n",
       "    </tr>\n",
       "    <tr>\n",
       "      <th>499</th>\n",
       "      <td>1070 Nolan Ct</td>\n",
       "      <td>Pleasanton</td>\n",
       "      <td>94566</td>\n",
       "      <td>5</td>\n",
       "      <td>4.5</td>\n",
       "      <td>3067</td>\n",
       "      <td>6298</td>\n",
       "      <td>2005</td>\n",
       "      <td>08/02/17</td>\n",
       "      <td>1680000.0</td>\n",
       "    </tr>\n",
       "  </tbody>\n",
       "</table>\n",
       "</div>"
      ],
      "text/plain": [
       "                    address         city    zip  bedrooms  bathrooms  \\\n",
       "495         7535 Maywood Dr   Pleasanton  94588         3        2.5   \n",
       "496       7892 Chestnut Way   Pleasanton  94588         3        2.0   \n",
       "497          4950 Monaco Dr   Pleasanton  94566         3        3.0   \n",
       "498   2715 Calle De La Loma   Pleasanton  94566         4        2.5   \n",
       "499           1070 Nolan Ct   Pleasanton  94566         5        4.5   \n",
       "\n",
       "     floor_size  lot_size  year_built sale_date  sale_price  \n",
       "495        1851      2661        1973  08/02/17    735000.0  \n",
       "496        1544      6926        1973  08/02/17   1035000.0  \n",
       "497        3868     17859        1988  08/02/17   1515000.0  \n",
       "498        3027      6403        1989  08/02/17   1365000.0  \n",
       "499        3067      6298        2005  08/02/17   1680000.0  "
      ]
     },
     "execution_count": 470,
     "metadata": {},
     "output_type": "execute_result"
    }
   ],
   "source": [
    "houses_df2.tail()"
   ]
  },
  {
   "cell_type": "markdown",
   "metadata": {},
   "source": [
    "Now we should convert 'sale_date' to a datetime format.  I should know how to do this by now."
   ]
  },
  {
   "cell_type": "code",
   "execution_count": 471,
   "metadata": {},
   "outputs": [
    {
     "data": {
      "text/plain": [
       "09/18/17       1\n",
       "01/18/18       1\n",
       "11/16/17       1\n",
       "10/17/17       1\n",
       "09/06/17       1\n",
       "04/06/18       1\n",
       "08/07/17       1\n",
       "01/03/18       1\n",
       "09/12/17       1\n",
       "03/06/18       1\n",
       "10/25/17       1\n",
       "09/14/17       1\n",
       "12/27/17       1\n",
       "04/13/18       1\n",
       "01/22/18       1\n",
       "$3,600  /mo    1\n",
       "08/09/17       1\n",
       "01/02/18       1\n",
       "10/16/17       1\n",
       "$948,888       1\n",
       "Name: sale_date, dtype: int64"
      ]
     },
     "execution_count": 471,
     "metadata": {},
     "output_type": "execute_result"
    }
   ],
   "source": [
    "houses_df2['sale_date'].value_counts()[-20:]"
   ]
  },
  {
   "cell_type": "markdown",
   "metadata": {},
   "source": [
    "A few of these have '$' signs.  We will just drop these rows to make our lives easier"
   ]
  },
  {
   "cell_type": "code",
   "execution_count": 472,
   "metadata": {},
   "outputs": [],
   "source": [
    "for index, row in houses_df2.iterrows():\n",
    "    if '$' in row['sale_date']:\n",
    "        houses_df2.loc[index,'sale_date'] = np.nan"
   ]
  },
  {
   "cell_type": "code",
   "execution_count": 473,
   "metadata": {},
   "outputs": [],
   "source": [
    "houses_df2 = houses_df2[houses_df2['sale_date'].notnull()]"
   ]
  },
  {
   "cell_type": "code",
   "execution_count": 474,
   "metadata": {},
   "outputs": [
    {
     "data": {
      "text/plain": [
       "(458, 10)"
      ]
     },
     "execution_count": 474,
     "metadata": {},
     "output_type": "execute_result"
    }
   ],
   "source": [
    "houses_df2.shape"
   ]
  },
  {
   "cell_type": "code",
   "execution_count": 475,
   "metadata": {},
   "outputs": [],
   "source": [
    "houses_df2[\"sale_date\"] = pd.to_datetime(houses_df2['sale_date'] , format=\"%m/%d/%y\")"
   ]
  },
  {
   "cell_type": "code",
   "execution_count": 476,
   "metadata": {},
   "outputs": [
    {
     "data": {
      "text/html": [
       "<div>\n",
       "<style scoped>\n",
       "    .dataframe tbody tr th:only-of-type {\n",
       "        vertical-align: middle;\n",
       "    }\n",
       "\n",
       "    .dataframe tbody tr th {\n",
       "        vertical-align: top;\n",
       "    }\n",
       "\n",
       "    .dataframe thead th {\n",
       "        text-align: right;\n",
       "    }\n",
       "</style>\n",
       "<table border=\"1\" class=\"dataframe\">\n",
       "  <thead>\n",
       "    <tr style=\"text-align: right;\">\n",
       "      <th></th>\n",
       "      <th>address</th>\n",
       "      <th>city</th>\n",
       "      <th>zip</th>\n",
       "      <th>bedrooms</th>\n",
       "      <th>bathrooms</th>\n",
       "      <th>floor_size</th>\n",
       "      <th>lot_size</th>\n",
       "      <th>year_built</th>\n",
       "      <th>sale_date</th>\n",
       "      <th>sale_price</th>\n",
       "    </tr>\n",
       "  </thead>\n",
       "  <tbody>\n",
       "    <tr>\n",
       "      <th>0</th>\n",
       "      <td>2804 Tangelo Ct</td>\n",
       "      <td>Pleasanton</td>\n",
       "      <td>94588</td>\n",
       "      <td>3</td>\n",
       "      <td>3.0</td>\n",
       "      <td>1614</td>\n",
       "      <td>2526</td>\n",
       "      <td>1998</td>\n",
       "      <td>2018-04-23</td>\n",
       "      <td>1039000.0</td>\n",
       "    </tr>\n",
       "    <tr>\n",
       "      <th>1</th>\n",
       "      <td>5650 Hansen Dr</td>\n",
       "      <td>Pleasanton</td>\n",
       "      <td>94566</td>\n",
       "      <td>4</td>\n",
       "      <td>2.0</td>\n",
       "      <td>1527</td>\n",
       "      <td>6699</td>\n",
       "      <td>1973</td>\n",
       "      <td>2018-04-20</td>\n",
       "      <td>1200000.0</td>\n",
       "    </tr>\n",
       "    <tr>\n",
       "      <th>2</th>\n",
       "      <td>592 Tawny Dr</td>\n",
       "      <td>Pleasanton</td>\n",
       "      <td>94566</td>\n",
       "      <td>3</td>\n",
       "      <td>2.0</td>\n",
       "      <td>1956</td>\n",
       "      <td>12196</td>\n",
       "      <td>1977</td>\n",
       "      <td>2018-04-19</td>\n",
       "      <td>1150000.0</td>\n",
       "    </tr>\n",
       "    <tr>\n",
       "      <th>3</th>\n",
       "      <td>2668 Calle Morelia</td>\n",
       "      <td>Pleasanton</td>\n",
       "      <td>94566</td>\n",
       "      <td>5</td>\n",
       "      <td>3.0</td>\n",
       "      <td>2422</td>\n",
       "      <td>6500</td>\n",
       "      <td>1984</td>\n",
       "      <td>2018-04-18</td>\n",
       "      <td>1430000.0</td>\n",
       "    </tr>\n",
       "    <tr>\n",
       "      <th>4</th>\n",
       "      <td>6048 Inglewood Dr</td>\n",
       "      <td>Pleasanton</td>\n",
       "      <td>94588</td>\n",
       "      <td>4</td>\n",
       "      <td>2.0</td>\n",
       "      <td>1733</td>\n",
       "      <td>6499</td>\n",
       "      <td>1968</td>\n",
       "      <td>2018-04-18</td>\n",
       "      <td>1125000.0</td>\n",
       "    </tr>\n",
       "  </tbody>\n",
       "</table>\n",
       "</div>"
      ],
      "text/plain": [
       "               address         city    zip  bedrooms  bathrooms  floor_size  \\\n",
       "0      2804 Tangelo Ct   Pleasanton  94588         3        3.0        1614   \n",
       "1       5650 Hansen Dr   Pleasanton  94566         4        2.0        1527   \n",
       "2         592 Tawny Dr   Pleasanton  94566         3        2.0        1956   \n",
       "3   2668 Calle Morelia   Pleasanton  94566         5        3.0        2422   \n",
       "4    6048 Inglewood Dr   Pleasanton  94588         4        2.0        1733   \n",
       "\n",
       "   lot_size  year_built  sale_date  sale_price  \n",
       "0      2526        1998 2018-04-23   1039000.0  \n",
       "1      6699        1973 2018-04-20   1200000.0  \n",
       "2     12196        1977 2018-04-19   1150000.0  \n",
       "3      6500        1984 2018-04-18   1430000.0  \n",
       "4      6499        1968 2018-04-18   1125000.0  "
      ]
     },
     "execution_count": 476,
     "metadata": {},
     "output_type": "execute_result"
    }
   ],
   "source": [
    "houses_df2.head()"
   ]
  },
  {
   "cell_type": "markdown",
   "metadata": {},
   "source": [
    "Just to be safe, now that we have our cleaned dataframe, I'm going to save it as a csv file, so that I can reload it later if I need to.  Lessons learned from previous mistakes."
   ]
  },
  {
   "cell_type": "code",
   "execution_count": 477,
   "metadata": {},
   "outputs": [],
   "source": [
    "houses_df2.to_csv('Zillow_houses_cleaned.csv')"
   ]
  },
  {
   "cell_type": "code",
   "execution_count": 478,
   "metadata": {},
   "outputs": [],
   "source": [
    "houses_df2.to_pickle('Zillow_df.pkl')"
   ]
  },
  {
   "cell_type": "code",
   "execution_count": 479,
   "metadata": {},
   "outputs": [],
   "source": [
    "houses_df3 = pd.read_pickle('Zillow_df.pkl')"
   ]
  },
  {
   "cell_type": "code",
   "execution_count": 480,
   "metadata": {},
   "outputs": [
    {
     "data": {
      "text/html": [
       "<div>\n",
       "<style scoped>\n",
       "    .dataframe tbody tr th:only-of-type {\n",
       "        vertical-align: middle;\n",
       "    }\n",
       "\n",
       "    .dataframe tbody tr th {\n",
       "        vertical-align: top;\n",
       "    }\n",
       "\n",
       "    .dataframe thead th {\n",
       "        text-align: right;\n",
       "    }\n",
       "</style>\n",
       "<table border=\"1\" class=\"dataframe\">\n",
       "  <thead>\n",
       "    <tr style=\"text-align: right;\">\n",
       "      <th></th>\n",
       "      <th>address</th>\n",
       "      <th>city</th>\n",
       "      <th>zip</th>\n",
       "      <th>bedrooms</th>\n",
       "      <th>bathrooms</th>\n",
       "      <th>floor_size</th>\n",
       "      <th>lot_size</th>\n",
       "      <th>year_built</th>\n",
       "      <th>sale_date</th>\n",
       "      <th>sale_price</th>\n",
       "    </tr>\n",
       "  </thead>\n",
       "  <tbody>\n",
       "    <tr>\n",
       "      <th>0</th>\n",
       "      <td>2804 Tangelo Ct</td>\n",
       "      <td>Pleasanton</td>\n",
       "      <td>94588</td>\n",
       "      <td>3</td>\n",
       "      <td>3.0</td>\n",
       "      <td>1614</td>\n",
       "      <td>2526</td>\n",
       "      <td>1998</td>\n",
       "      <td>2018-04-23</td>\n",
       "      <td>1039000.0</td>\n",
       "    </tr>\n",
       "    <tr>\n",
       "      <th>1</th>\n",
       "      <td>5650 Hansen Dr</td>\n",
       "      <td>Pleasanton</td>\n",
       "      <td>94566</td>\n",
       "      <td>4</td>\n",
       "      <td>2.0</td>\n",
       "      <td>1527</td>\n",
       "      <td>6699</td>\n",
       "      <td>1973</td>\n",
       "      <td>2018-04-20</td>\n",
       "      <td>1200000.0</td>\n",
       "    </tr>\n",
       "    <tr>\n",
       "      <th>2</th>\n",
       "      <td>592 Tawny Dr</td>\n",
       "      <td>Pleasanton</td>\n",
       "      <td>94566</td>\n",
       "      <td>3</td>\n",
       "      <td>2.0</td>\n",
       "      <td>1956</td>\n",
       "      <td>12196</td>\n",
       "      <td>1977</td>\n",
       "      <td>2018-04-19</td>\n",
       "      <td>1150000.0</td>\n",
       "    </tr>\n",
       "    <tr>\n",
       "      <th>3</th>\n",
       "      <td>2668 Calle Morelia</td>\n",
       "      <td>Pleasanton</td>\n",
       "      <td>94566</td>\n",
       "      <td>5</td>\n",
       "      <td>3.0</td>\n",
       "      <td>2422</td>\n",
       "      <td>6500</td>\n",
       "      <td>1984</td>\n",
       "      <td>2018-04-18</td>\n",
       "      <td>1430000.0</td>\n",
       "    </tr>\n",
       "    <tr>\n",
       "      <th>4</th>\n",
       "      <td>6048 Inglewood Dr</td>\n",
       "      <td>Pleasanton</td>\n",
       "      <td>94588</td>\n",
       "      <td>4</td>\n",
       "      <td>2.0</td>\n",
       "      <td>1733</td>\n",
       "      <td>6499</td>\n",
       "      <td>1968</td>\n",
       "      <td>2018-04-18</td>\n",
       "      <td>1125000.0</td>\n",
       "    </tr>\n",
       "  </tbody>\n",
       "</table>\n",
       "</div>"
      ],
      "text/plain": [
       "               address         city    zip  bedrooms  bathrooms  floor_size  \\\n",
       "0      2804 Tangelo Ct   Pleasanton  94588         3        3.0        1614   \n",
       "1       5650 Hansen Dr   Pleasanton  94566         4        2.0        1527   \n",
       "2         592 Tawny Dr   Pleasanton  94566         3        2.0        1956   \n",
       "3   2668 Calle Morelia   Pleasanton  94566         5        3.0        2422   \n",
       "4    6048 Inglewood Dr   Pleasanton  94588         4        2.0        1733   \n",
       "\n",
       "   lot_size  year_built  sale_date  sale_price  \n",
       "0      2526        1998 2018-04-23   1039000.0  \n",
       "1      6699        1973 2018-04-20   1200000.0  \n",
       "2     12196        1977 2018-04-19   1150000.0  \n",
       "3      6500        1984 2018-04-18   1430000.0  \n",
       "4      6499        1968 2018-04-18   1125000.0  "
      ]
     },
     "execution_count": 480,
     "metadata": {},
     "output_type": "execute_result"
    }
   ],
   "source": [
    "houses_df3.head()"
   ]
  },
  {
   "cell_type": "code",
   "execution_count": 481,
   "metadata": {},
   "outputs": [
    {
     "data": {
      "text/html": [
       "<div>\n",
       "<style scoped>\n",
       "    .dataframe tbody tr th:only-of-type {\n",
       "        vertical-align: middle;\n",
       "    }\n",
       "\n",
       "    .dataframe tbody tr th {\n",
       "        vertical-align: top;\n",
       "    }\n",
       "\n",
       "    .dataframe thead th {\n",
       "        text-align: right;\n",
       "    }\n",
       "</style>\n",
       "<table border=\"1\" class=\"dataframe\">\n",
       "  <thead>\n",
       "    <tr style=\"text-align: right;\">\n",
       "      <th></th>\n",
       "      <th>address</th>\n",
       "      <th>city</th>\n",
       "      <th>zip</th>\n",
       "      <th>bedrooms</th>\n",
       "      <th>bathrooms</th>\n",
       "      <th>floor_size</th>\n",
       "      <th>lot_size</th>\n",
       "      <th>year_built</th>\n",
       "      <th>sale_date</th>\n",
       "      <th>sale_price</th>\n",
       "    </tr>\n",
       "  </thead>\n",
       "  <tbody>\n",
       "    <tr>\n",
       "      <th>495</th>\n",
       "      <td>7535 Maywood Dr</td>\n",
       "      <td>Pleasanton</td>\n",
       "      <td>94588</td>\n",
       "      <td>3</td>\n",
       "      <td>2.5</td>\n",
       "      <td>1851</td>\n",
       "      <td>2661</td>\n",
       "      <td>1973</td>\n",
       "      <td>2017-08-02</td>\n",
       "      <td>735000.0</td>\n",
       "    </tr>\n",
       "    <tr>\n",
       "      <th>496</th>\n",
       "      <td>7892 Chestnut Way</td>\n",
       "      <td>Pleasanton</td>\n",
       "      <td>94588</td>\n",
       "      <td>3</td>\n",
       "      <td>2.0</td>\n",
       "      <td>1544</td>\n",
       "      <td>6926</td>\n",
       "      <td>1973</td>\n",
       "      <td>2017-08-02</td>\n",
       "      <td>1035000.0</td>\n",
       "    </tr>\n",
       "    <tr>\n",
       "      <th>497</th>\n",
       "      <td>4950 Monaco Dr</td>\n",
       "      <td>Pleasanton</td>\n",
       "      <td>94566</td>\n",
       "      <td>3</td>\n",
       "      <td>3.0</td>\n",
       "      <td>3868</td>\n",
       "      <td>17859</td>\n",
       "      <td>1988</td>\n",
       "      <td>2017-08-02</td>\n",
       "      <td>1515000.0</td>\n",
       "    </tr>\n",
       "    <tr>\n",
       "      <th>498</th>\n",
       "      <td>2715 Calle De La Loma</td>\n",
       "      <td>Pleasanton</td>\n",
       "      <td>94566</td>\n",
       "      <td>4</td>\n",
       "      <td>2.5</td>\n",
       "      <td>3027</td>\n",
       "      <td>6403</td>\n",
       "      <td>1989</td>\n",
       "      <td>2017-08-02</td>\n",
       "      <td>1365000.0</td>\n",
       "    </tr>\n",
       "    <tr>\n",
       "      <th>499</th>\n",
       "      <td>1070 Nolan Ct</td>\n",
       "      <td>Pleasanton</td>\n",
       "      <td>94566</td>\n",
       "      <td>5</td>\n",
       "      <td>4.5</td>\n",
       "      <td>3067</td>\n",
       "      <td>6298</td>\n",
       "      <td>2005</td>\n",
       "      <td>2017-08-02</td>\n",
       "      <td>1680000.0</td>\n",
       "    </tr>\n",
       "  </tbody>\n",
       "</table>\n",
       "</div>"
      ],
      "text/plain": [
       "                    address         city    zip  bedrooms  bathrooms  \\\n",
       "495         7535 Maywood Dr   Pleasanton  94588         3        2.5   \n",
       "496       7892 Chestnut Way   Pleasanton  94588         3        2.0   \n",
       "497          4950 Monaco Dr   Pleasanton  94566         3        3.0   \n",
       "498   2715 Calle De La Loma   Pleasanton  94566         4        2.5   \n",
       "499           1070 Nolan Ct   Pleasanton  94566         5        4.5   \n",
       "\n",
       "     floor_size  lot_size  year_built  sale_date  sale_price  \n",
       "495        1851      2661        1973 2017-08-02    735000.0  \n",
       "496        1544      6926        1973 2017-08-02   1035000.0  \n",
       "497        3868     17859        1988 2017-08-02   1515000.0  \n",
       "498        3027      6403        1989 2017-08-02   1365000.0  \n",
       "499        3067      6298        2005 2017-08-02   1680000.0  "
      ]
     },
     "execution_count": 481,
     "metadata": {},
     "output_type": "execute_result"
    }
   ],
   "source": [
    "houses_df3.tail()"
   ]
  },
  {
   "cell_type": "code",
   "execution_count": 482,
   "metadata": {},
   "outputs": [
    {
     "data": {
      "text/html": [
       "<div>\n",
       "<style scoped>\n",
       "    .dataframe tbody tr th:only-of-type {\n",
       "        vertical-align: middle;\n",
       "    }\n",
       "\n",
       "    .dataframe tbody tr th {\n",
       "        vertical-align: top;\n",
       "    }\n",
       "\n",
       "    .dataframe thead th {\n",
       "        text-align: right;\n",
       "    }\n",
       "</style>\n",
       "<table border=\"1\" class=\"dataframe\">\n",
       "  <thead>\n",
       "    <tr style=\"text-align: right;\">\n",
       "      <th></th>\n",
       "      <th>index</th>\n",
       "      <th>address</th>\n",
       "      <th>city</th>\n",
       "      <th>zip</th>\n",
       "      <th>bedrooms</th>\n",
       "      <th>bathrooms</th>\n",
       "      <th>floor_size</th>\n",
       "      <th>lot_size</th>\n",
       "      <th>year_built</th>\n",
       "      <th>sale_date</th>\n",
       "      <th>sale_price</th>\n",
       "    </tr>\n",
       "  </thead>\n",
       "  <tbody>\n",
       "    <tr>\n",
       "      <th>0</th>\n",
       "      <td>0</td>\n",
       "      <td>2804 Tangelo Ct</td>\n",
       "      <td>Pleasanton</td>\n",
       "      <td>94588</td>\n",
       "      <td>3</td>\n",
       "      <td>3.0</td>\n",
       "      <td>1614</td>\n",
       "      <td>2526</td>\n",
       "      <td>1998</td>\n",
       "      <td>2018-04-23</td>\n",
       "      <td>1039000.0</td>\n",
       "    </tr>\n",
       "    <tr>\n",
       "      <th>1</th>\n",
       "      <td>1</td>\n",
       "      <td>5650 Hansen Dr</td>\n",
       "      <td>Pleasanton</td>\n",
       "      <td>94566</td>\n",
       "      <td>4</td>\n",
       "      <td>2.0</td>\n",
       "      <td>1527</td>\n",
       "      <td>6699</td>\n",
       "      <td>1973</td>\n",
       "      <td>2018-04-20</td>\n",
       "      <td>1200000.0</td>\n",
       "    </tr>\n",
       "    <tr>\n",
       "      <th>2</th>\n",
       "      <td>2</td>\n",
       "      <td>592 Tawny Dr</td>\n",
       "      <td>Pleasanton</td>\n",
       "      <td>94566</td>\n",
       "      <td>3</td>\n",
       "      <td>2.0</td>\n",
       "      <td>1956</td>\n",
       "      <td>12196</td>\n",
       "      <td>1977</td>\n",
       "      <td>2018-04-19</td>\n",
       "      <td>1150000.0</td>\n",
       "    </tr>\n",
       "    <tr>\n",
       "      <th>3</th>\n",
       "      <td>3</td>\n",
       "      <td>2668 Calle Morelia</td>\n",
       "      <td>Pleasanton</td>\n",
       "      <td>94566</td>\n",
       "      <td>5</td>\n",
       "      <td>3.0</td>\n",
       "      <td>2422</td>\n",
       "      <td>6500</td>\n",
       "      <td>1984</td>\n",
       "      <td>2018-04-18</td>\n",
       "      <td>1430000.0</td>\n",
       "    </tr>\n",
       "    <tr>\n",
       "      <th>4</th>\n",
       "      <td>4</td>\n",
       "      <td>6048 Inglewood Dr</td>\n",
       "      <td>Pleasanton</td>\n",
       "      <td>94588</td>\n",
       "      <td>4</td>\n",
       "      <td>2.0</td>\n",
       "      <td>1733</td>\n",
       "      <td>6499</td>\n",
       "      <td>1968</td>\n",
       "      <td>2018-04-18</td>\n",
       "      <td>1125000.0</td>\n",
       "    </tr>\n",
       "  </tbody>\n",
       "</table>\n",
       "</div>"
      ],
      "text/plain": [
       "   index              address         city    zip  bedrooms  bathrooms  \\\n",
       "0      0      2804 Tangelo Ct   Pleasanton  94588         3        3.0   \n",
       "1      1       5650 Hansen Dr   Pleasanton  94566         4        2.0   \n",
       "2      2         592 Tawny Dr   Pleasanton  94566         3        2.0   \n",
       "3      3   2668 Calle Morelia   Pleasanton  94566         5        3.0   \n",
       "4      4    6048 Inglewood Dr   Pleasanton  94588         4        2.0   \n",
       "\n",
       "   floor_size  lot_size  year_built  sale_date  sale_price  \n",
       "0        1614      2526        1998 2018-04-23   1039000.0  \n",
       "1        1527      6699        1973 2018-04-20   1200000.0  \n",
       "2        1956     12196        1977 2018-04-19   1150000.0  \n",
       "3        2422      6500        1984 2018-04-18   1430000.0  \n",
       "4        1733      6499        1968 2018-04-18   1125000.0  "
      ]
     },
     "execution_count": 482,
     "metadata": {},
     "output_type": "execute_result"
    }
   ],
   "source": [
    "houses_df3.reset_index(inplace=True)\n",
    "houses_df3.head()"
   ]
  },
  {
   "cell_type": "code",
   "execution_count": 483,
   "metadata": {},
   "outputs": [],
   "source": [
    "houses_df3.drop(columns=['index'], inplace=True)"
   ]
  },
  {
   "cell_type": "code",
   "execution_count": 484,
   "metadata": {},
   "outputs": [
    {
     "data": {
      "text/html": [
       "<div>\n",
       "<style scoped>\n",
       "    .dataframe tbody tr th:only-of-type {\n",
       "        vertical-align: middle;\n",
       "    }\n",
       "\n",
       "    .dataframe tbody tr th {\n",
       "        vertical-align: top;\n",
       "    }\n",
       "\n",
       "    .dataframe thead th {\n",
       "        text-align: right;\n",
       "    }\n",
       "</style>\n",
       "<table border=\"1\" class=\"dataframe\">\n",
       "  <thead>\n",
       "    <tr style=\"text-align: right;\">\n",
       "      <th></th>\n",
       "      <th>address</th>\n",
       "      <th>city</th>\n",
       "      <th>zip</th>\n",
       "      <th>bedrooms</th>\n",
       "      <th>bathrooms</th>\n",
       "      <th>floor_size</th>\n",
       "      <th>lot_size</th>\n",
       "      <th>year_built</th>\n",
       "      <th>sale_date</th>\n",
       "      <th>sale_price</th>\n",
       "    </tr>\n",
       "  </thead>\n",
       "  <tbody>\n",
       "    <tr>\n",
       "      <th>0</th>\n",
       "      <td>2804 Tangelo Ct</td>\n",
       "      <td>Pleasanton</td>\n",
       "      <td>94588</td>\n",
       "      <td>3</td>\n",
       "      <td>3.0</td>\n",
       "      <td>1614</td>\n",
       "      <td>2526</td>\n",
       "      <td>1998</td>\n",
       "      <td>2018-04-23</td>\n",
       "      <td>1039000.0</td>\n",
       "    </tr>\n",
       "    <tr>\n",
       "      <th>1</th>\n",
       "      <td>5650 Hansen Dr</td>\n",
       "      <td>Pleasanton</td>\n",
       "      <td>94566</td>\n",
       "      <td>4</td>\n",
       "      <td>2.0</td>\n",
       "      <td>1527</td>\n",
       "      <td>6699</td>\n",
       "      <td>1973</td>\n",
       "      <td>2018-04-20</td>\n",
       "      <td>1200000.0</td>\n",
       "    </tr>\n",
       "    <tr>\n",
       "      <th>2</th>\n",
       "      <td>592 Tawny Dr</td>\n",
       "      <td>Pleasanton</td>\n",
       "      <td>94566</td>\n",
       "      <td>3</td>\n",
       "      <td>2.0</td>\n",
       "      <td>1956</td>\n",
       "      <td>12196</td>\n",
       "      <td>1977</td>\n",
       "      <td>2018-04-19</td>\n",
       "      <td>1150000.0</td>\n",
       "    </tr>\n",
       "    <tr>\n",
       "      <th>3</th>\n",
       "      <td>2668 Calle Morelia</td>\n",
       "      <td>Pleasanton</td>\n",
       "      <td>94566</td>\n",
       "      <td>5</td>\n",
       "      <td>3.0</td>\n",
       "      <td>2422</td>\n",
       "      <td>6500</td>\n",
       "      <td>1984</td>\n",
       "      <td>2018-04-18</td>\n",
       "      <td>1430000.0</td>\n",
       "    </tr>\n",
       "    <tr>\n",
       "      <th>4</th>\n",
       "      <td>6048 Inglewood Dr</td>\n",
       "      <td>Pleasanton</td>\n",
       "      <td>94588</td>\n",
       "      <td>4</td>\n",
       "      <td>2.0</td>\n",
       "      <td>1733</td>\n",
       "      <td>6499</td>\n",
       "      <td>1968</td>\n",
       "      <td>2018-04-18</td>\n",
       "      <td>1125000.0</td>\n",
       "    </tr>\n",
       "  </tbody>\n",
       "</table>\n",
       "</div>"
      ],
      "text/plain": [
       "               address         city    zip  bedrooms  bathrooms  floor_size  \\\n",
       "0      2804 Tangelo Ct   Pleasanton  94588         3        3.0        1614   \n",
       "1       5650 Hansen Dr   Pleasanton  94566         4        2.0        1527   \n",
       "2         592 Tawny Dr   Pleasanton  94566         3        2.0        1956   \n",
       "3   2668 Calle Morelia   Pleasanton  94566         5        3.0        2422   \n",
       "4    6048 Inglewood Dr   Pleasanton  94588         4        2.0        1733   \n",
       "\n",
       "   lot_size  year_built  sale_date  sale_price  \n",
       "0      2526        1998 2018-04-23   1039000.0  \n",
       "1      6699        1973 2018-04-20   1200000.0  \n",
       "2     12196        1977 2018-04-19   1150000.0  \n",
       "3      6500        1984 2018-04-18   1430000.0  \n",
       "4      6499        1968 2018-04-18   1125000.0  "
      ]
     },
     "execution_count": 484,
     "metadata": {},
     "output_type": "execute_result"
    }
   ],
   "source": [
    "houses_df3.head()"
   ]
  },
  {
   "cell_type": "code",
   "execution_count": 598,
   "metadata": {},
   "outputs": [
    {
     "data": {
      "text/plain": [
       "Text(0.5,1,'Histogram of house prices')"
      ]
     },
     "execution_count": 598,
     "metadata": {},
     "output_type": "execute_result"
    },
    {
     "data": {
      "image/png": "[encoded data removed]",
      "text/plain": [
       "<matplotlib.figure.Figure at 0x1c3285a7f0>"
      ]
     },
     "metadata": {},
     "output_type": "display_data"
    }
   ],
   "source": [
    "fig = plt.figure(figsize=(10,8))\n",
    "plt.hist(houses_df3['sale_price'],bins=50)\n",
    "plt.xlabel('Sale price', fontsize=16)\n",
    "plt.ylabel('Number of houses', fontsize=16)\n",
    "plt.title('Histogram of house prices', fontsize=16)"
   ]
  },
  {
   "cell_type": "code",
   "execution_count": 599,
   "metadata": {},
   "outputs": [],
   "source": [
    "fig.savefig('House_price_hist.png',dpi=300)"
   ]
  },
  {
   "cell_type": "markdown",
   "metadata": {},
   "source": [
    "Before I start the linear regression, I should drop a few columns including address, city, and zip."
   ]
  },
  {
   "cell_type": "code",
   "execution_count": 485,
   "metadata": {},
   "outputs": [],
   "source": [
    "houses_df3.drop(columns = ['address','city','zip'], inplace=True)"
   ]
  },
  {
   "cell_type": "code",
   "execution_count": 486,
   "metadata": {},
   "outputs": [
    {
     "data": {
      "text/html": [
       "<div>\n",
       "<style scoped>\n",
       "    .dataframe tbody tr th:only-of-type {\n",
       "        vertical-align: middle;\n",
       "    }\n",
       "\n",
       "    .dataframe tbody tr th {\n",
       "        vertical-align: top;\n",
       "    }\n",
       "\n",
       "    .dataframe thead th {\n",
       "        text-align: right;\n",
       "    }\n",
       "</style>\n",
       "<table border=\"1\" class=\"dataframe\">\n",
       "  <thead>\n",
       "    <tr style=\"text-align: right;\">\n",
       "      <th></th>\n",
       "      <th>bedrooms</th>\n",
       "      <th>bathrooms</th>\n",
       "      <th>floor_size</th>\n",
       "      <th>lot_size</th>\n",
       "      <th>year_built</th>\n",
       "      <th>sale_date</th>\n",
       "      <th>sale_price</th>\n",
       "    </tr>\n",
       "  </thead>\n",
       "  <tbody>\n",
       "    <tr>\n",
       "      <th>0</th>\n",
       "      <td>3</td>\n",
       "      <td>3.0</td>\n",
       "      <td>1614</td>\n",
       "      <td>2526</td>\n",
       "      <td>1998</td>\n",
       "      <td>2018-04-23</td>\n",
       "      <td>1039000.0</td>\n",
       "    </tr>\n",
       "    <tr>\n",
       "      <th>1</th>\n",
       "      <td>4</td>\n",
       "      <td>2.0</td>\n",
       "      <td>1527</td>\n",
       "      <td>6699</td>\n",
       "      <td>1973</td>\n",
       "      <td>2018-04-20</td>\n",
       "      <td>1200000.0</td>\n",
       "    </tr>\n",
       "    <tr>\n",
       "      <th>2</th>\n",
       "      <td>3</td>\n",
       "      <td>2.0</td>\n",
       "      <td>1956</td>\n",
       "      <td>12196</td>\n",
       "      <td>1977</td>\n",
       "      <td>2018-04-19</td>\n",
       "      <td>1150000.0</td>\n",
       "    </tr>\n",
       "    <tr>\n",
       "      <th>3</th>\n",
       "      <td>5</td>\n",
       "      <td>3.0</td>\n",
       "      <td>2422</td>\n",
       "      <td>6500</td>\n",
       "      <td>1984</td>\n",
       "      <td>2018-04-18</td>\n",
       "      <td>1430000.0</td>\n",
       "    </tr>\n",
       "    <tr>\n",
       "      <th>4</th>\n",
       "      <td>4</td>\n",
       "      <td>2.0</td>\n",
       "      <td>1733</td>\n",
       "      <td>6499</td>\n",
       "      <td>1968</td>\n",
       "      <td>2018-04-18</td>\n",
       "      <td>1125000.0</td>\n",
       "    </tr>\n",
       "  </tbody>\n",
       "</table>\n",
       "</div>"
      ],
      "text/plain": [
       "   bedrooms  bathrooms  floor_size  lot_size  year_built  sale_date  \\\n",
       "0         3        3.0        1614      2526        1998 2018-04-23   \n",
       "1         4        2.0        1527      6699        1973 2018-04-20   \n",
       "2         3        2.0        1956     12196        1977 2018-04-19   \n",
       "3         5        3.0        2422      6500        1984 2018-04-18   \n",
       "4         4        2.0        1733      6499        1968 2018-04-18   \n",
       "\n",
       "   sale_price  \n",
       "0   1039000.0  \n",
       "1   1200000.0  \n",
       "2   1150000.0  \n",
       "3   1430000.0  \n",
       "4   1125000.0  "
      ]
     },
     "execution_count": 486,
     "metadata": {},
     "output_type": "execute_result"
    }
   ],
   "source": [
    "houses_df3.head()"
   ]
  },
  {
   "cell_type": "markdown",
   "metadata": {},
   "source": [
    "Let's first examine the correlation coefficient matrix."
   ]
  },
  {
   "cell_type": "code",
   "execution_count": 487,
   "metadata": {},
   "outputs": [
    {
     "data": {
      "text/html": [
       "<div>\n",
       "<style scoped>\n",
       "    .dataframe tbody tr th:only-of-type {\n",
       "        vertical-align: middle;\n",
       "    }\n",
       "\n",
       "    .dataframe tbody tr th {\n",
       "        vertical-align: top;\n",
       "    }\n",
       "\n",
       "    .dataframe thead th {\n",
       "        text-align: right;\n",
       "    }\n",
       "</style>\n",
       "<table border=\"1\" class=\"dataframe\">\n",
       "  <thead>\n",
       "    <tr style=\"text-align: right;\">\n",
       "      <th></th>\n",
       "      <th>bedrooms</th>\n",
       "      <th>bathrooms</th>\n",
       "      <th>floor_size</th>\n",
       "      <th>lot_size</th>\n",
       "      <th>year_built</th>\n",
       "      <th>sale_price</th>\n",
       "    </tr>\n",
       "  </thead>\n",
       "  <tbody>\n",
       "    <tr>\n",
       "      <th>bedrooms</th>\n",
       "      <td>1.000000</td>\n",
       "      <td>0.622219</td>\n",
       "      <td>0.649987</td>\n",
       "      <td>0.235104</td>\n",
       "      <td>0.200725</td>\n",
       "      <td>0.393854</td>\n",
       "    </tr>\n",
       "    <tr>\n",
       "      <th>bathrooms</th>\n",
       "      <td>0.622219</td>\n",
       "      <td>1.000000</td>\n",
       "      <td>0.886732</td>\n",
       "      <td>0.379988</td>\n",
       "      <td>0.511072</td>\n",
       "      <td>0.564363</td>\n",
       "    </tr>\n",
       "    <tr>\n",
       "      <th>floor_size</th>\n",
       "      <td>0.649987</td>\n",
       "      <td>0.886732</td>\n",
       "      <td>1.000000</td>\n",
       "      <td>0.436578</td>\n",
       "      <td>0.478779</td>\n",
       "      <td>0.626475</td>\n",
       "    </tr>\n",
       "    <tr>\n",
       "      <th>lot_size</th>\n",
       "      <td>0.235104</td>\n",
       "      <td>0.379988</td>\n",
       "      <td>0.436578</td>\n",
       "      <td>1.000000</td>\n",
       "      <td>0.124390</td>\n",
       "      <td>0.289673</td>\n",
       "    </tr>\n",
       "    <tr>\n",
       "      <th>year_built</th>\n",
       "      <td>0.200725</td>\n",
       "      <td>0.511072</td>\n",
       "      <td>0.478779</td>\n",
       "      <td>0.124390</td>\n",
       "      <td>1.000000</td>\n",
       "      <td>0.219086</td>\n",
       "    </tr>\n",
       "    <tr>\n",
       "      <th>sale_price</th>\n",
       "      <td>0.393854</td>\n",
       "      <td>0.564363</td>\n",
       "      <td>0.626475</td>\n",
       "      <td>0.289673</td>\n",
       "      <td>0.219086</td>\n",
       "      <td>1.000000</td>\n",
       "    </tr>\n",
       "  </tbody>\n",
       "</table>\n",
       "</div>"
      ],
      "text/plain": [
       "            bedrooms  bathrooms  floor_size  lot_size  year_built  sale_price\n",
       "bedrooms    1.000000   0.622219    0.649987  0.235104    0.200725    0.393854\n",
       "bathrooms   0.622219   1.000000    0.886732  0.379988    0.511072    0.564363\n",
       "floor_size  0.649987   0.886732    1.000000  0.436578    0.478779    0.626475\n",
       "lot_size    0.235104   0.379988    0.436578  1.000000    0.124390    0.289673\n",
       "year_built  0.200725   0.511072    0.478779  0.124390    1.000000    0.219086\n",
       "sale_price  0.393854   0.564363    0.626475  0.289673    0.219086    1.000000"
      ]
     },
     "execution_count": 487,
     "metadata": {},
     "output_type": "execute_result"
    }
   ],
   "source": [
    "houses_df3.corr()"
   ]
  },
  {
   "cell_type": "code",
   "execution_count": 488,
   "metadata": {},
   "outputs": [
    {
     "data": {
      "text/plain": [
       "sale_price    1.000000\n",
       "floor_size    0.626475\n",
       "bathrooms     0.564363\n",
       "bedrooms      0.393854\n",
       "lot_size      0.289673\n",
       "year_built    0.219086\n",
       "Name: sale_price, dtype: float64"
      ]
     },
     "execution_count": 488,
     "metadata": {},
     "output_type": "execute_result"
    }
   ],
   "source": [
    "houses_df3.corr()['sale_price'].sort_values(ascending=False)"
   ]
  },
  {
   "cell_type": "markdown",
   "metadata": {},
   "source": [
    "None of the correlations are very string (i.e. > 0.8).  Still, I think it'll be interesting what we find out through regression."
   ]
  },
  {
   "cell_type": "code",
   "execution_count": 489,
   "metadata": {},
   "outputs": [
    {
     "data": {
      "text/plain": [
       "<seaborn.axisgrid.PairGrid at 0x1a249ca780>"
      ]
     },
     "execution_count": 489,
     "metadata": {},
     "output_type": "execute_result"
    },
    {
     "data": {
      "image/png": "[encoded data removed]",
      "text/plain": [
       "<matplotlib.figure.Figure at 0x1a243462e8>"
      ]
     },
     "metadata": {},
     "output_type": "display_data"
    }
   ],
   "source": [
    "sns.pairplot(houses_df3)"
   ]
  },
  {
   "cell_type": "markdown",
   "metadata": {},
   "source": [
    "Based on the pairplot data, it appears that there are a number of outliers that may affect our regression.  In particular, when the sale_price > 10e6 and the lot_size > 2e5 sq ft.  I will likely throw these data points out.  However, I will wait to do that until after I observe the results of my preliminary model."
   ]
  },
  {
   "cell_type": "code",
   "execution_count": 297,
   "metadata": {},
   "outputs": [],
   "source": [
    "y = houses_df3['sale_price']  # setting y to be the target value (e.g., 'SalePrice')\n",
    "X = houses_df3.drop('sale_price',axis=1) # setting X to be everything but the target value\n",
    "X_train, X_test, y_train, y_test = train_test_split(X,y,random_state=0)"
   ]
  },
  {
   "cell_type": "code",
   "execution_count": 299,
   "metadata": {},
   "outputs": [],
   "source": [
    "#lr = LinearRegression().fit(X_train,y_train)"
   ]
  },
  {
   "cell_type": "markdown",
   "metadata": {},
   "source": [
    "When I run LinearRegression using all the data, I get an exception error on the 'sale_date' feature, because it is in a datetime format.  To circumvent this problem, I'm going to extract sale month and sale year from this data.  This could be useful."
   ]
  },
  {
   "cell_type": "code",
   "execution_count": 490,
   "metadata": {},
   "outputs": [],
   "source": [
    "houses_df3['sale_month'] = houses_df3['sale_date'].map(lambda x: x.month)\n",
    "houses_df3['sale_year'] = houses_df3['sale_date'].map(lambda x: x.year)"
   ]
  },
  {
   "cell_type": "code",
   "execution_count": 491,
   "metadata": {},
   "outputs": [
    {
     "data": {
      "text/html": [
       "<div>\n",
       "<style scoped>\n",
       "    .dataframe tbody tr th:only-of-type {\n",
       "        vertical-align: middle;\n",
       "    }\n",
       "\n",
       "    .dataframe tbody tr th {\n",
       "        vertical-align: top;\n",
       "    }\n",
       "\n",
       "    .dataframe thead th {\n",
       "        text-align: right;\n",
       "    }\n",
       "</style>\n",
       "<table border=\"1\" class=\"dataframe\">\n",
       "  <thead>\n",
       "    <tr style=\"text-align: right;\">\n",
       "      <th></th>\n",
       "      <th>bedrooms</th>\n",
       "      <th>bathrooms</th>\n",
       "      <th>floor_size</th>\n",
       "      <th>lot_size</th>\n",
       "      <th>year_built</th>\n",
       "      <th>sale_date</th>\n",
       "      <th>sale_price</th>\n",
       "      <th>sale_month</th>\n",
       "      <th>sale_year</th>\n",
       "    </tr>\n",
       "  </thead>\n",
       "  <tbody>\n",
       "    <tr>\n",
       "      <th>453</th>\n",
       "      <td>3</td>\n",
       "      <td>2.5</td>\n",
       "      <td>1851</td>\n",
       "      <td>2661</td>\n",
       "      <td>1973</td>\n",
       "      <td>2017-08-02</td>\n",
       "      <td>735000.0</td>\n",
       "      <td>8</td>\n",
       "      <td>2017</td>\n",
       "    </tr>\n",
       "    <tr>\n",
       "      <th>454</th>\n",
       "      <td>3</td>\n",
       "      <td>2.0</td>\n",
       "      <td>1544</td>\n",
       "      <td>6926</td>\n",
       "      <td>1973</td>\n",
       "      <td>2017-08-02</td>\n",
       "      <td>1035000.0</td>\n",
       "      <td>8</td>\n",
       "      <td>2017</td>\n",
       "    </tr>\n",
       "    <tr>\n",
       "      <th>455</th>\n",
       "      <td>3</td>\n",
       "      <td>3.0</td>\n",
       "      <td>3868</td>\n",
       "      <td>17859</td>\n",
       "      <td>1988</td>\n",
       "      <td>2017-08-02</td>\n",
       "      <td>1515000.0</td>\n",
       "      <td>8</td>\n",
       "      <td>2017</td>\n",
       "    </tr>\n",
       "    <tr>\n",
       "      <th>456</th>\n",
       "      <td>4</td>\n",
       "      <td>2.5</td>\n",
       "      <td>3027</td>\n",
       "      <td>6403</td>\n",
       "      <td>1989</td>\n",
       "      <td>2017-08-02</td>\n",
       "      <td>1365000.0</td>\n",
       "      <td>8</td>\n",
       "      <td>2017</td>\n",
       "    </tr>\n",
       "    <tr>\n",
       "      <th>457</th>\n",
       "      <td>5</td>\n",
       "      <td>4.5</td>\n",
       "      <td>3067</td>\n",
       "      <td>6298</td>\n",
       "      <td>2005</td>\n",
       "      <td>2017-08-02</td>\n",
       "      <td>1680000.0</td>\n",
       "      <td>8</td>\n",
       "      <td>2017</td>\n",
       "    </tr>\n",
       "  </tbody>\n",
       "</table>\n",
       "</div>"
      ],
      "text/plain": [
       "     bedrooms  bathrooms  floor_size  lot_size  year_built  sale_date  \\\n",
       "453         3        2.5        1851      2661        1973 2017-08-02   \n",
       "454         3        2.0        1544      6926        1973 2017-08-02   \n",
       "455         3        3.0        3868     17859        1988 2017-08-02   \n",
       "456         4        2.5        3027      6403        1989 2017-08-02   \n",
       "457         5        4.5        3067      6298        2005 2017-08-02   \n",
       "\n",
       "     sale_price  sale_month  sale_year  \n",
       "453    735000.0           8       2017  \n",
       "454   1035000.0           8       2017  \n",
       "455   1515000.0           8       2017  \n",
       "456   1365000.0           8       2017  \n",
       "457   1680000.0           8       2017  "
      ]
     },
     "execution_count": 491,
     "metadata": {},
     "output_type": "execute_result"
    }
   ],
   "source": [
    "houses_df3.tail()"
   ]
  },
  {
   "cell_type": "code",
   "execution_count": 492,
   "metadata": {},
   "outputs": [],
   "source": [
    "houses_df4 = houses_df3.drop(columns = ['sale_date'])"
   ]
  },
  {
   "cell_type": "code",
   "execution_count": 493,
   "metadata": {},
   "outputs": [],
   "source": [
    "y = houses_df4['sale_price']  # setting y to be the target value (e.g., 'SalePrice')\n",
    "X = houses_df4.drop('sale_price',axis=1) # setting X to be everything but the target value\n",
    "X_train, X_test, y_train, y_test = train_test_split(X,y,random_state=0)"
   ]
  },
  {
   "cell_type": "code",
   "execution_count": 494,
   "metadata": {},
   "outputs": [],
   "source": [
    "lr = LinearRegression().fit(X_train,y_train)"
   ]
  },
  {
   "cell_type": "code",
   "execution_count": 495,
   "metadata": {},
   "outputs": [
    {
     "name": "stdout",
     "output_type": "stream",
     "text": [
      "lr.coef_: [-6.14561076e+04  7.76000290e+04  4.00525486e+02 -4.67290626e-01\n",
      " -4.71918419e+03  6.15985283e+04  4.69520250e+05]\n",
      "lr.intercept_: -937941575.6418099\n"
     ]
    }
   ],
   "source": [
    "print(\"lr.coef_: {}\".format(lr.coef_))\n",
    "print(\"lr.intercept_: {}\".format(lr.intercept_))"
   ]
  },
  {
   "cell_type": "markdown",
   "metadata": {},
   "source": [
    "My coefficients and intercept are really large.  This is probably due to the fact that my target values are large.  I think I need to normalize my data."
   ]
  },
  {
   "cell_type": "code",
   "execution_count": 496,
   "metadata": {},
   "outputs": [
    {
     "name": "stdout",
     "output_type": "stream",
     "text": [
      "Training set score: 0.37\n",
      "Test set score: 0.73\n"
     ]
    }
   ],
   "source": [
    "print(\"Training set score: {:.2f}\".format(lr.score(X_train, y_train)))\n",
    "print(\"Test set score: {:.2f}\".format(lr.score(X_test, y_test)))"
   ]
  },
  {
   "cell_type": "markdown",
   "metadata": {},
   "source": [
    "Yikes!  These preliminary scores are really bad!  Moreover, why is the score on the test data so much better than the training data?"
   ]
  },
  {
   "cell_type": "markdown",
   "metadata": {},
   "source": [
    "A few things I want to do are:\n",
    "* throw out the large sale price data point (>10e6)\n",
    "* throw out any very small sale price data points\n",
    "* throw out the large lot size data points (>4e5)\n",
    "* reexamine the pair plots"
   ]
  },
  {
   "cell_type": "code",
   "execution_count": 497,
   "metadata": {},
   "outputs": [],
   "source": [
    "def remove_outlier(df,column,thresh):\n",
    "    mask = df[column] < thresh\n",
    "    df_new = df[mask]\n",
    "    return df_new"
   ]
  },
  {
   "cell_type": "code",
   "execution_count": 498,
   "metadata": {},
   "outputs": [],
   "source": [
    "houses_df5 = remove_outlier(houses_df4,'sale_price',1e7)"
   ]
  },
  {
   "cell_type": "code",
   "execution_count": 499,
   "metadata": {},
   "outputs": [],
   "source": [
    "houses_df5 = remove_outlier(houses_df5, 'lot_size', 4e5)"
   ]
  },
  {
   "cell_type": "code",
   "execution_count": 500,
   "metadata": {},
   "outputs": [
    {
     "data": {
      "text/html": [
       "<div>\n",
       "<style scoped>\n",
       "    .dataframe tbody tr th:only-of-type {\n",
       "        vertical-align: middle;\n",
       "    }\n",
       "\n",
       "    .dataframe tbody tr th {\n",
       "        vertical-align: top;\n",
       "    }\n",
       "\n",
       "    .dataframe thead th {\n",
       "        text-align: right;\n",
       "    }\n",
       "</style>\n",
       "<table border=\"1\" class=\"dataframe\">\n",
       "  <thead>\n",
       "    <tr style=\"text-align: right;\">\n",
       "      <th></th>\n",
       "      <th>bedrooms</th>\n",
       "      <th>bathrooms</th>\n",
       "      <th>floor_size</th>\n",
       "      <th>lot_size</th>\n",
       "      <th>year_built</th>\n",
       "      <th>sale_price</th>\n",
       "      <th>sale_month</th>\n",
       "      <th>sale_year</th>\n",
       "    </tr>\n",
       "  </thead>\n",
       "  <tbody>\n",
       "    <tr>\n",
       "      <th>292</th>\n",
       "      <td>2</td>\n",
       "      <td>2.0</td>\n",
       "      <td>1421</td>\n",
       "      <td>3842</td>\n",
       "      <td>1979</td>\n",
       "      <td>30500.0</td>\n",
       "      <td>10</td>\n",
       "      <td>2017</td>\n",
       "    </tr>\n",
       "    <tr>\n",
       "      <th>137</th>\n",
       "      <td>5</td>\n",
       "      <td>3.0</td>\n",
       "      <td>3655</td>\n",
       "      <td>11325</td>\n",
       "      <td>1991</td>\n",
       "      <td>108455.0</td>\n",
       "      <td>1</td>\n",
       "      <td>2018</td>\n",
       "    </tr>\n",
       "    <tr>\n",
       "      <th>289</th>\n",
       "      <td>3</td>\n",
       "      <td>2.5</td>\n",
       "      <td>1614</td>\n",
       "      <td>3504</td>\n",
       "      <td>1999</td>\n",
       "      <td>111000.0</td>\n",
       "      <td>10</td>\n",
       "      <td>2017</td>\n",
       "    </tr>\n",
       "    <tr>\n",
       "      <th>146</th>\n",
       "      <td>4</td>\n",
       "      <td>2.5</td>\n",
       "      <td>2100</td>\n",
       "      <td>10384</td>\n",
       "      <td>1972</td>\n",
       "      <td>217000.0</td>\n",
       "      <td>1</td>\n",
       "      <td>2018</td>\n",
       "    </tr>\n",
       "    <tr>\n",
       "      <th>111</th>\n",
       "      <td>2</td>\n",
       "      <td>2.0</td>\n",
       "      <td>1650</td>\n",
       "      <td>40075</td>\n",
       "      <td>1912</td>\n",
       "      <td>227000.0</td>\n",
       "      <td>2</td>\n",
       "      <td>2018</td>\n",
       "    </tr>\n",
       "    <tr>\n",
       "      <th>122</th>\n",
       "      <td>3</td>\n",
       "      <td>2.0</td>\n",
       "      <td>1780</td>\n",
       "      <td>8000</td>\n",
       "      <td>1956</td>\n",
       "      <td>231000.0</td>\n",
       "      <td>2</td>\n",
       "      <td>2018</td>\n",
       "    </tr>\n",
       "    <tr>\n",
       "      <th>158</th>\n",
       "      <td>4</td>\n",
       "      <td>3.0</td>\n",
       "      <td>2420</td>\n",
       "      <td>4362</td>\n",
       "      <td>1990</td>\n",
       "      <td>268500.0</td>\n",
       "      <td>1</td>\n",
       "      <td>2018</td>\n",
       "    </tr>\n",
       "    <tr>\n",
       "      <th>199</th>\n",
       "      <td>3</td>\n",
       "      <td>2.5</td>\n",
       "      <td>1666</td>\n",
       "      <td>4104</td>\n",
       "      <td>1992</td>\n",
       "      <td>358000.0</td>\n",
       "      <td>12</td>\n",
       "      <td>2017</td>\n",
       "    </tr>\n",
       "    <tr>\n",
       "      <th>91</th>\n",
       "      <td>4</td>\n",
       "      <td>5.0</td>\n",
       "      <td>3396</td>\n",
       "      <td>16988</td>\n",
       "      <td>1992</td>\n",
       "      <td>487000.0</td>\n",
       "      <td>3</td>\n",
       "      <td>2018</td>\n",
       "    </tr>\n",
       "    <tr>\n",
       "      <th>204</th>\n",
       "      <td>2</td>\n",
       "      <td>2.0</td>\n",
       "      <td>1118</td>\n",
       "      <td>1260</td>\n",
       "      <td>1985</td>\n",
       "      <td>540000.0</td>\n",
       "      <td>12</td>\n",
       "      <td>2017</td>\n",
       "    </tr>\n",
       "    <tr>\n",
       "      <th>25</th>\n",
       "      <td>3</td>\n",
       "      <td>1.0</td>\n",
       "      <td>1062</td>\n",
       "      <td>5600</td>\n",
       "      <td>1943</td>\n",
       "      <td>560000.0</td>\n",
       "      <td>4</td>\n",
       "      <td>2018</td>\n",
       "    </tr>\n",
       "    <tr>\n",
       "      <th>212</th>\n",
       "      <td>3</td>\n",
       "      <td>1.5</td>\n",
       "      <td>1130</td>\n",
       "      <td>901</td>\n",
       "      <td>1973</td>\n",
       "      <td>569000.0</td>\n",
       "      <td>12</td>\n",
       "      <td>2017</td>\n",
       "    </tr>\n",
       "  </tbody>\n",
       "</table>\n",
       "</div>"
      ],
      "text/plain": [
       "     bedrooms  bathrooms  floor_size  lot_size  year_built  sale_price  \\\n",
       "292         2        2.0        1421      3842        1979     30500.0   \n",
       "137         5        3.0        3655     11325        1991    108455.0   \n",
       "289         3        2.5        1614      3504        1999    111000.0   \n",
       "146         4        2.5        2100     10384        1972    217000.0   \n",
       "111         2        2.0        1650     40075        1912    227000.0   \n",
       "122         3        2.0        1780      8000        1956    231000.0   \n",
       "158         4        3.0        2420      4362        1990    268500.0   \n",
       "199         3        2.5        1666      4104        1992    358000.0   \n",
       "91          4        5.0        3396     16988        1992    487000.0   \n",
       "204         2        2.0        1118      1260        1985    540000.0   \n",
       "25          3        1.0        1062      5600        1943    560000.0   \n",
       "212         3        1.5        1130       901        1973    569000.0   \n",
       "\n",
       "     sale_month  sale_year  \n",
       "292          10       2017  \n",
       "137           1       2018  \n",
       "289          10       2017  \n",
       "146           1       2018  \n",
       "111           2       2018  \n",
       "122           2       2018  \n",
       "158           1       2018  \n",
       "199          12       2017  \n",
       "91            3       2018  \n",
       "204          12       2017  \n",
       "25            4       2018  \n",
       "212          12       2017  "
      ]
     },
     "execution_count": 500,
     "metadata": {},
     "output_type": "execute_result"
    }
   ],
   "source": [
    "houses_df5.sort_values(by='sale_price')[:12]"
   ]
  },
  {
   "cell_type": "code",
   "execution_count": 501,
   "metadata": {},
   "outputs": [],
   "source": [
    "mask_sp = houses_df5['sale_price'] > 4e5\n",
    "houses_df5 = houses_df5[mask_sp]"
   ]
  },
  {
   "cell_type": "code",
   "execution_count": 600,
   "metadata": {},
   "outputs": [
    {
     "data": {
      "image/png": "[encoded data removed]",
      "text/plain": [
       "<matplotlib.figure.Figure at 0x1c34632470>"
      ]
     },
     "metadata": {},
     "output_type": "display_data"
    }
   ],
   "source": [
    "pairplot = sns.pairplot(houses_df5)\n",
    "pairplot.savefig('pair_plot.png',dpi=300)"
   ]
  },
  {
   "cell_type": "code",
   "execution_count": 603,
   "metadata": {},
   "outputs": [
    {
     "data": {
      "image/png": "[encoded data removed]",
      "text/plain": [
       "<matplotlib.figure.Figure at 0x1c37da1ef0>"
      ]
     },
     "metadata": {},
     "output_type": "display_data"
    }
   ],
   "source": [
    "pairplot2 = sns.pairplot(houses_df5,x_vars=['bedrooms','bathrooms','floor_size','lot_size','year_built','sale_month','sale_year'],y_vars=['sale_price'])\n",
    "pairplot2.savefig('pair_plot2.png',dpi=300)"
   ]
  },
  {
   "cell_type": "markdown",
   "metadata": {},
   "source": [
    "Let's look at the correlations again."
   ]
  },
  {
   "cell_type": "code",
   "execution_count": 503,
   "metadata": {},
   "outputs": [
    {
     "data": {
      "text/plain": [
       "sale_price    1.000000\n",
       "floor_size    0.915636\n",
       "bathrooms     0.792113\n",
       "lot_size      0.663012\n",
       "bedrooms      0.592761\n",
       "year_built    0.369638\n",
       "sale_year     0.035768\n",
       "sale_month   -0.022336\n",
       "Name: sale_price, dtype: float64"
      ]
     },
     "execution_count": 503,
     "metadata": {},
     "output_type": "execute_result"
    }
   ],
   "source": [
    "houses_df5.corr()['sale_price'].sort_values(ascending=False)"
   ]
  },
  {
   "cell_type": "markdown",
   "metadata": {},
   "source": [
    "I'm going to pickle this data before proceeding."
   ]
  },
  {
   "cell_type": "code",
   "execution_count": 634,
   "metadata": {},
   "outputs": [],
   "source": [
    "houses_df5.to_pickle('Zillow_df_ver2.pkl')"
   ]
  },
  {
   "cell_type": "markdown",
   "metadata": {},
   "source": [
    "floor_size is a really good predictor of sale_price, so my base model will only use this feature."
   ]
  },
  {
   "cell_type": "code",
   "execution_count": 504,
   "metadata": {},
   "outputs": [],
   "source": [
    "y1 = houses_df5['sale_price']\n",
    "X1 = houses_df5['floor_size']\n",
    "X1_train, X1_test, y1_train, y1_test = train_test_split(X1,y1,random_state=0,test_size=0.2)"
   ]
  },
  {
   "cell_type": "code",
   "execution_count": 505,
   "metadata": {},
   "outputs": [
    {
     "name": "stderr",
     "output_type": "stream",
     "text": [
      "/Users/bwsturm/anaconda/lib/python3.6/site-packages/ipykernel_launcher.py:1: FutureWarning: reshape is deprecated and will raise in a subsequent release. Please use .values.reshape(...) instead\n",
      "  \"\"\"Entry point for launching an IPython kernel.\n"
     ]
    }
   ],
   "source": [
    "X1_train = X1_train.reshape(-1,1)"
   ]
  },
  {
   "cell_type": "code",
   "execution_count": 506,
   "metadata": {},
   "outputs": [],
   "source": [
    "lr_1 = LinearRegression().fit(X1_train,y1_train)"
   ]
  },
  {
   "cell_type": "markdown",
   "metadata": {},
   "source": [
    "Next I want to generate my cross validation scores using a 5-fold cross validation."
   ]
  },
  {
   "cell_type": "code",
   "execution_count": 507,
   "metadata": {},
   "outputs": [
    {
     "name": "stdout",
     "output_type": "stream",
     "text": [
      "Cross-validation scores for baseline linear regression model: [0.84882017 0.82546535 0.89306556 0.85608188 0.75550389]\n"
     ]
    }
   ],
   "source": [
    "scores = cross_val_score(lr_1,X1_train,y1_train,cv=5)\n",
    "print(\"Cross-validation scores for baseline linear regression model: {}\".format(scores))"
   ]
  },
  {
   "cell_type": "code",
   "execution_count": 516,
   "metadata": {},
   "outputs": [
    {
     "name": "stdout",
     "output_type": "stream",
     "text": [
      "Training set score: 0.85\n",
      "The average cross-validation score is: 0.84\n"
     ]
    }
   ],
   "source": [
    "print(\"Training set score: {:.2f}\".format(lr_1.score(X1_train, y1_train)))\n",
    "print(\"The average cross-validation score is: {:.2f}\".format(scores.mean()))"
   ]
  },
  {
   "cell_type": "code",
   "execution_count": 617,
   "metadata": {},
   "outputs": [
    {
     "name": "stdout",
     "output_type": "stream",
     "text": [
      "Training set RMSE: 212813.11\n"
     ]
    }
   ],
   "source": [
    "y1_pred = lr_1.predict(X1_train)\n",
    "print(\"Training set RMSE: {:.2f}\".format(rmse(y1_train,y1_pred)))"
   ]
  },
  {
   "cell_type": "code",
   "execution_count": 509,
   "metadata": {},
   "outputs": [
    {
     "data": {
      "text/plain": [
       "330564.3685511411"
      ]
     },
     "execution_count": 509,
     "metadata": {},
     "output_type": "execute_result"
    }
   ],
   "source": [
    "lr_1.intercept_"
   ]
  },
  {
   "cell_type": "code",
   "execution_count": 637,
   "metadata": {},
   "outputs": [
    {
     "data": {
      "image/png": "[encoded data removed]",
      "text/plain": [
       "<matplotlib.figure.Figure at 0x1c3f421320>"
      ]
     },
     "metadata": {},
     "output_type": "display_data"
    }
   ],
   "source": [
    "fig_baseline = plt.figure(figsize=(10,8))\n",
    "plt.plot(X1_train,y1_train,'o')\n",
    "x_dat=np.arange(500,9000)\n",
    "line_best_fit = lr_1.intercept_ + x_dat * lr_1.coef_\n",
    "plt.plot(x_dat, line_best_fit,'r-')\n",
    "plt.xlabel('Floor size (sqft)',fontsize=16)\n",
    "plt.ylabel('House price ($)', fontsize=16)\n",
    "plt.title('Baseline Linear Regression Model',fontsize=16)\n",
    "fig_baseline.savefig('lin_reg_baseline.png',dpi=300)"
   ]
  },
  {
   "cell_type": "markdown",
   "metadata": {},
   "source": [
    "This provides a very good baseline.  What happens when we add more features?"
   ]
  },
  {
   "cell_type": "code",
   "execution_count": 511,
   "metadata": {},
   "outputs": [],
   "source": [
    "y2 = houses_df5['sale_price']  # setting y to be the target value (e.g., 'SalePrice')\n",
    "X2 = houses_df5.drop('sale_price',axis=1) # setting X to be everything but the target value\n",
    "X2_train, X2_test, y2_train, y2_test = train_test_split(X2,y2,random_state=0)"
   ]
  },
  {
   "cell_type": "code",
   "execution_count": 512,
   "metadata": {},
   "outputs": [],
   "source": [
    "lr_2 = LinearRegression().fit(X2_train,y2_train)"
   ]
  },
  {
   "cell_type": "markdown",
   "metadata": {},
   "source": [
    "Now we generate a cross validation score again using 5-fold cross validation."
   ]
  },
  {
   "cell_type": "code",
   "execution_count": 513,
   "metadata": {},
   "outputs": [
    {
     "name": "stdout",
     "output_type": "stream",
     "text": [
      "Cross-validation scores for linear regression model with all features: [0.77417883 0.83657755 0.90172542 0.88039438 0.80706731]\n"
     ]
    }
   ],
   "source": [
    "scores = cross_val_score(lr_2,X2_train,y2_train,cv=5)\n",
    "print(\"Cross-validation scores for linear regression model with all features: {}\".format(scores))"
   ]
  },
  {
   "cell_type": "code",
   "execution_count": 517,
   "metadata": {},
   "outputs": [
    {
     "name": "stdout",
     "output_type": "stream",
     "text": [
      "Training set score: 0.87\n",
      "The average cross-validation score is: 0.84\n"
     ]
    }
   ],
   "source": [
    "print(\"Training set score: {:.2f}\".format(lr_2.score(X2_train, y2_train)))\n",
    "print(\"The average cross-validation score is: {:.2f}\".format(scores.mean()))"
   ]
  },
  {
   "cell_type": "code",
   "execution_count": 618,
   "metadata": {},
   "outputs": [
    {
     "name": "stdout",
     "output_type": "stream",
     "text": [
      "Training set RMSE: 195713.15\n"
     ]
    }
   ],
   "source": [
    "y2_pred = lr_2.predict(X2_train)\n",
    "print(\"Training set RMSE: {:.2f}\".format(rmse(y2_train,y2_pred)))"
   ]
  },
  {
   "cell_type": "code",
   "execution_count": 563,
   "metadata": {},
   "outputs": [
    {
     "data": {
      "text/plain": [
       "array([-4.15189154e+03,  2.28649356e+04,  3.63132659e+02,  6.94464126e+00,\n",
       "       -2.33695514e+03,  1.70129618e+04,  2.19383559e+05])"
      ]
     },
     "execution_count": 563,
     "metadata": {},
     "output_type": "execute_result"
    }
   ],
   "source": [
    "lr_2.coef_"
   ]
  },
  {
   "cell_type": "markdown",
   "metadata": {},
   "source": [
    "The R^2 score on the cross validation data is actually no better with more features.  Interesting!  Let's see what the output of stats model gives us."
   ]
  },
  {
   "cell_type": "code",
   "execution_count": 515,
   "metadata": {},
   "outputs": [
    {
     "data": {
      "text/html": [
       "<table class=\"simpletable\">\n",
       "<caption>OLS Regression Results</caption>\n",
       "<tr>\n",
       "  <th>Dep. Variable:</th>       <td>sale_price</td>    <th>  R-squared:         </th> <td>   0.866</td> \n",
       "</tr>\n",
       "<tr>\n",
       "  <th>Model:</th>                   <td>OLS</td>       <th>  Adj. R-squared:    </th> <td>   0.864</td> \n",
       "</tr>\n",
       "<tr>\n",
       "  <th>Method:</th>             <td>Least Squares</td>  <th>  F-statistic:       </th> <td>   405.0</td> \n",
       "</tr>\n",
       "<tr>\n",
       "  <th>Date:</th>             <td>Wed, 25 Apr 2018</td> <th>  Prob (F-statistic):</th> <td>4.34e-187</td>\n",
       "</tr>\n",
       "<tr>\n",
       "  <th>Time:</th>                 <td>22:05:37</td>     <th>  Log-Likelihood:    </th> <td> -6070.9</td> \n",
       "</tr>\n",
       "<tr>\n",
       "  <th>No. Observations:</th>      <td>   447</td>      <th>  AIC:               </th> <td>1.216e+04</td>\n",
       "</tr>\n",
       "<tr>\n",
       "  <th>Df Residuals:</th>          <td>   439</td>      <th>  BIC:               </th> <td>1.219e+04</td>\n",
       "</tr>\n",
       "<tr>\n",
       "  <th>Df Model:</th>              <td>     7</td>      <th>                     </th>     <td> </td>    \n",
       "</tr>\n",
       "<tr>\n",
       "  <th>Covariance Type:</th>      <td>nonrobust</td>    <th>                     </th>     <td> </td>    \n",
       "</tr>\n",
       "</table>\n",
       "<table class=\"simpletable\">\n",
       "<tr>\n",
       "       <td></td>         <th>coef</th>     <th>std err</th>      <th>t</th>      <th>P>|t|</th>  <th>[0.025</th>    <th>0.975]</th>  \n",
       "</tr>\n",
       "<tr>\n",
       "  <th>Intercept</th>  <td>-3.748e+08</td> <td> 1.14e+08</td> <td>   -3.293</td> <td> 0.001</td> <td>-5.99e+08</td> <td>-1.51e+08</td>\n",
       "</tr>\n",
       "<tr>\n",
       "  <th>bedrooms</th>   <td> 1814.5525</td> <td> 1.46e+04</td> <td>    0.125</td> <td> 0.901</td> <td>-2.68e+04</td> <td> 3.04e+04</td>\n",
       "</tr>\n",
       "<tr>\n",
       "  <th>bathrooms</th>  <td>-3367.6203</td> <td>  1.9e+04</td> <td>   -0.177</td> <td> 0.859</td> <td>-4.07e+04</td> <td>  3.4e+04</td>\n",
       "</tr>\n",
       "<tr>\n",
       "  <th>floor_size</th> <td>  373.2247</td> <td>   19.102</td> <td>   19.539</td> <td> 0.000</td> <td>  335.682</td> <td>  410.767</td>\n",
       "</tr>\n",
       "<tr>\n",
       "  <th>lot_size</th>   <td>    7.1670</td> <td>    1.062</td> <td>    6.747</td> <td> 0.000</td> <td>    5.079</td> <td>    9.255</td>\n",
       "</tr>\n",
       "<tr>\n",
       "  <th>year_built</th> <td>-1586.0611</td> <td>  655.517</td> <td>   -2.420</td> <td> 0.016</td> <td>-2874.402</td> <td> -297.720</td>\n",
       "</tr>\n",
       "<tr>\n",
       "  <th>sale_month</th> <td>  1.41e+04</td> <td> 7203.931</td> <td>    1.958</td> <td> 0.051</td> <td>  -54.616</td> <td> 2.83e+04</td>\n",
       "</tr>\n",
       "<tr>\n",
       "  <th>sale_year</th>  <td> 1.875e+05</td> <td> 5.63e+04</td> <td>    3.330</td> <td> 0.001</td> <td> 7.68e+04</td> <td> 2.98e+05</td>\n",
       "</tr>\n",
       "</table>\n",
       "<table class=\"simpletable\">\n",
       "<tr>\n",
       "  <th>Omnibus:</th>       <td>205.371</td> <th>  Durbin-Watson:     </th> <td>   2.000</td>\n",
       "</tr>\n",
       "<tr>\n",
       "  <th>Prob(Omnibus):</th> <td> 0.000</td>  <th>  Jarque-Bera (JB):  </th> <td>6291.596</td>\n",
       "</tr>\n",
       "<tr>\n",
       "  <th>Skew:</th>          <td>-1.335</td>  <th>  Prob(JB):          </th> <td>    0.00</td>\n",
       "</tr>\n",
       "<tr>\n",
       "  <th>Kurtosis:</th>      <td>21.184</td>  <th>  Cond. No.          </th> <td>1.98e+08</td>\n",
       "</tr>\n",
       "</table>"
      ],
      "text/plain": [
       "<class 'statsmodels.iolib.summary.Summary'>\n",
       "\"\"\"\n",
       "                            OLS Regression Results                            \n",
       "==============================================================================\n",
       "Dep. Variable:             sale_price   R-squared:                       0.866\n",
       "Model:                            OLS   Adj. R-squared:                  0.864\n",
       "Method:                 Least Squares   F-statistic:                     405.0\n",
       "Date:                Wed, 25 Apr 2018   Prob (F-statistic):          4.34e-187\n",
       "Time:                        22:05:37   Log-Likelihood:                -6070.9\n",
       "No. Observations:                 447   AIC:                         1.216e+04\n",
       "Df Residuals:                     439   BIC:                         1.219e+04\n",
       "Df Model:                           7                                         \n",
       "Covariance Type:            nonrobust                                         \n",
       "==============================================================================\n",
       "                 coef    std err          t      P>|t|      [0.025      0.975]\n",
       "------------------------------------------------------------------------------\n",
       "Intercept  -3.748e+08   1.14e+08     -3.293      0.001   -5.99e+08   -1.51e+08\n",
       "bedrooms    1814.5525   1.46e+04      0.125      0.901   -2.68e+04    3.04e+04\n",
       "bathrooms  -3367.6203    1.9e+04     -0.177      0.859   -4.07e+04     3.4e+04\n",
       "floor_size   373.2247     19.102     19.539      0.000     335.682     410.767\n",
       "lot_size       7.1670      1.062      6.747      0.000       5.079       9.255\n",
       "year_built -1586.0611    655.517     -2.420      0.016   -2874.402    -297.720\n",
       "sale_month   1.41e+04   7203.931      1.958      0.051     -54.616    2.83e+04\n",
       "sale_year   1.875e+05   5.63e+04      3.330      0.001    7.68e+04    2.98e+05\n",
       "==============================================================================\n",
       "Omnibus:                      205.371   Durbin-Watson:                   2.000\n",
       "Prob(Omnibus):                  0.000   Jarque-Bera (JB):             6291.596\n",
       "Skew:                          -1.335   Prob(JB):                         0.00\n",
       "Kurtosis:                      21.184   Cond. No.                     1.98e+08\n",
       "==============================================================================\n",
       "\n",
       "Warnings:\n",
       "[1] Standard Errors assume that the covariance matrix of the errors is correctly specified.\n",
       "[2] The condition number is large, 1.98e+08. This might indicate that there are\n",
       "strong multicollinearity or other numerical problems.\n",
       "\"\"\""
      ]
     },
     "execution_count": 515,
     "metadata": {},
     "output_type": "execute_result"
    }
   ],
   "source": [
    "import statsmodels.formula.api as smf\n",
    "\n",
    "# Define the model\n",
    "lm1 = smf.ols('sale_price ~ bedrooms + bathrooms + floor_size + lot_size + year_built + sale_month + sale_year', data=houses_df5)\n",
    "\n",
    "lm1.fit().summary()"
   ]
  },
  {
   "cell_type": "code",
   "execution_count": 421,
   "metadata": {},
   "outputs": [
    {
     "data": {
      "text/plain": [
       "Index(['bedrooms', 'bathrooms', 'floor_size', 'lot_size', 'year_built',\n",
       "       'sale_price', 'sale_month', 'sale_year'],\n",
       "      dtype='object')"
      ]
     },
     "execution_count": 421,
     "metadata": {},
     "output_type": "execute_result"
    }
   ],
   "source": [
    "houses_df5.columns"
   ]
  },
  {
   "cell_type": "markdown",
   "metadata": {},
   "source": [
    "Based on the stats model results, the coefficients corresponding to the bedrooms and bathrooms are likely not very signficant in determining the price.  "
   ]
  },
  {
   "cell_type": "markdown",
   "metadata": {},
   "source": [
    "Let's do a Ridge regression next and do a grid search to find the best alpha.  "
   ]
  },
  {
   "cell_type": "code",
   "execution_count": 518,
   "metadata": {},
   "outputs": [],
   "source": [
    "from sklearn.model_selection import GridSearchCV"
   ]
  },
  {
   "cell_type": "code",
   "execution_count": 619,
   "metadata": {},
   "outputs": [],
   "source": [
    "param_grid = {'alpha':[.001, .01, .1, 1, 10]}\n",
    "grid_search = GridSearchCV(Ridge(),param_grid,cv=5)"
   ]
  },
  {
   "cell_type": "code",
   "execution_count": 620,
   "metadata": {},
   "outputs": [
    {
     "data": {
      "text/plain": [
       "GridSearchCV(cv=5, error_score='raise',\n",
       "       estimator=Ridge(alpha=1.0, copy_X=True, fit_intercept=True, max_iter=None,\n",
       "   normalize=False, random_state=None, solver='auto', tol=0.001),\n",
       "       fit_params=None, iid=True, n_jobs=1,\n",
       "       param_grid={'alpha': [0.001, 0.01, 0.1, 1, 10]},\n",
       "       pre_dispatch='2*n_jobs', refit=True, return_train_score='warn',\n",
       "       scoring=None, verbose=0)"
      ]
     },
     "execution_count": 620,
     "metadata": {},
     "output_type": "execute_result"
    }
   ],
   "source": [
    "grid_search.fit(X2_train,y2_train)"
   ]
  },
  {
   "cell_type": "code",
   "execution_count": 621,
   "metadata": {},
   "outputs": [
    {
     "name": "stdout",
     "output_type": "stream",
     "text": [
      "Training set score: 0.87\n",
      "The average cross-validation score is: 0.84\n"
     ]
    }
   ],
   "source": [
    "print(\"Training set score: {:.2f}\".format(grid_search.score(X2_train, y2_train)))\n",
    "print(\"The average cross-validation score is: {:.2f}\".format(grid_search.best_score_))"
   ]
  },
  {
   "cell_type": "code",
   "execution_count": 622,
   "metadata": {},
   "outputs": [
    {
     "name": "stdout",
     "output_type": "stream",
     "text": [
      "Training set RMSE: 195748.16\n"
     ]
    }
   ],
   "source": [
    "y2_pred = grid_search.predict(X2_train)\n",
    "print(\"Training set RMSE: {:.2f}\".format(rmse(y2_train,y2_pred)))"
   ]
  },
  {
   "cell_type": "code",
   "execution_count": 528,
   "metadata": {},
   "outputs": [
    {
     "name": "stdout",
     "output_type": "stream",
     "text": [
      "Best parameters: {'alpha': 1}\n"
     ]
    }
   ],
   "source": [
    "print(\"Best parameters: {}\".format(grid_search.best_params_))"
   ]
  },
  {
   "cell_type": "code",
   "execution_count": 529,
   "metadata": {},
   "outputs": [
    {
     "data": {
      "text/plain": [
       "array([-3.84023459e+03,  2.25905314e+04,  3.63092508e+02,  6.98033826e+00,\n",
       "       -2.37182772e+03,  1.42571721e+04,  1.96225272e+05])"
      ]
     },
     "execution_count": 529,
     "metadata": {},
     "output_type": "execute_result"
    }
   ],
   "source": [
    "grid_search.best_estimator_.coef_"
   ]
  },
  {
   "cell_type": "markdown",
   "metadata": {},
   "source": [
    "The scores for the linear regression and Ridge regression models were exactly the same.  Just to see if there is any possible improvement, I will also do a grid search for Lasso regression."
   ]
  },
  {
   "cell_type": "code",
   "execution_count": 534,
   "metadata": {},
   "outputs": [],
   "source": [
    "from sklearn.linear_model import Lasso"
   ]
  },
  {
   "cell_type": "code",
   "execution_count": 623,
   "metadata": {},
   "outputs": [],
   "source": [
    "param_grid = {'alpha':[.001, .01, .1, 1, 10, 100], 'max_iter':[100000], 'normalize':[True,False]}\n",
    "grid_search = GridSearchCV(Lasso(),param_grid,cv=3)"
   ]
  },
  {
   "cell_type": "code",
   "execution_count": 624,
   "metadata": {},
   "outputs": [
    {
     "data": {
      "text/plain": [
       "GridSearchCV(cv=3, error_score='raise',\n",
       "       estimator=Lasso(alpha=1.0, copy_X=True, fit_intercept=True, max_iter=1000,\n",
       "   normalize=False, positive=False, precompute=False, random_state=None,\n",
       "   selection='cyclic', tol=0.0001, warm_start=False),\n",
       "       fit_params=None, iid=True, n_jobs=1,\n",
       "       param_grid={'alpha': [0.001, 0.01, 0.1, 1, 10, 100], 'max_iter': [100000], 'normalize': [True, False]},\n",
       "       pre_dispatch='2*n_jobs', refit=True, return_train_score='warn',\n",
       "       scoring=None, verbose=0)"
      ]
     },
     "execution_count": 624,
     "metadata": {},
     "output_type": "execute_result"
    }
   ],
   "source": [
    "grid_search.fit(X2_train,y2_train)"
   ]
  },
  {
   "cell_type": "code",
   "execution_count": 625,
   "metadata": {},
   "outputs": [
    {
     "name": "stdout",
     "output_type": "stream",
     "text": [
      "Training set score: 0.86\n",
      "The average cross-validation score is: 0.85\n"
     ]
    }
   ],
   "source": [
    "print(\"Training set score: {:.2f}\".format(grid_search.score(X2_train, y2_train)))\n",
    "print(\"The average cross-validation score is: {:.2f}\".format(grid_search.best_score_))"
   ]
  },
  {
   "cell_type": "code",
   "execution_count": 626,
   "metadata": {},
   "outputs": [
    {
     "name": "stdout",
     "output_type": "stream",
     "text": [
      "Training set RMSE: 196035.38\n"
     ]
    }
   ],
   "source": [
    "y2_pred = grid_search.predict(X2_train)\n",
    "print(\"Training set RMSE: {:.2f}\".format(rmse(y2_train,y2_pred)))"
   ]
  },
  {
   "cell_type": "code",
   "execution_count": 575,
   "metadata": {},
   "outputs": [
    {
     "name": "stdout",
     "output_type": "stream",
     "text": [
      "Best parameters: {'alpha': 100, 'max_iter': 100000, 'normalize': True}\n"
     ]
    }
   ],
   "source": [
    "print(\"Best parameters: {}\".format(grid_search.best_params_))"
   ]
  },
  {
   "cell_type": "code",
   "execution_count": 578,
   "metadata": {},
   "outputs": [
    {
     "data": {
      "text/plain": [
       "array([ 0.00000000e+00,  1.96912592e+04,  3.60073291e+02,  7.06305733e+00,\n",
       "       -2.17384661e+03,  9.00431368e+03,  1.55570475e+05])"
      ]
     },
     "execution_count": 578,
     "metadata": {},
     "output_type": "execute_result"
    }
   ],
   "source": [
    "grid_search.best_estimator_.coef_"
   ]
  },
  {
   "cell_type": "code",
   "execution_count": 579,
   "metadata": {},
   "outputs": [
    {
     "data": {
      "text/plain": [
       "Index(['bedrooms', 'bathrooms', 'floor_size', 'lot_size', 'year_built',\n",
       "       'sale_month', 'sale_year'],\n",
       "      dtype='object')"
      ]
     },
     "execution_count": 579,
     "metadata": {},
     "output_type": "execute_result"
    }
   ],
   "source": [
    "X2_train.columns"
   ]
  },
  {
   "cell_type": "code",
   "execution_count": 577,
   "metadata": {
    "scrolled": true
   },
   "outputs": [
    {
     "name": "stderr",
     "output_type": "stream",
     "text": [
      "/Users/bwsturm/anaconda/lib/python3.6/site-packages/sklearn/model_selection/_search.py:761: DeprecationWarning: The grid_scores_ attribute was deprecated in version 0.18 in favor of the more elaborate cv_results_ attribute. The grid_scores_ attribute will not be available from 0.20\n",
      "  DeprecationWarning)\n"
     ]
    },
    {
     "data": {
      "text/plain": [
       "[mean: 0.84450, std: 0.04797, params: {'alpha': 0.001, 'max_iter': 100000, 'normalize': True},\n",
       " mean: 0.84450, std: 0.04797, params: {'alpha': 0.001, 'max_iter': 100000, 'normalize': False},\n",
       " mean: 0.84450, std: 0.04797, params: {'alpha': 0.01, 'max_iter': 100000, 'normalize': True},\n",
       " mean: 0.84450, std: 0.04797, params: {'alpha': 0.01, 'max_iter': 100000, 'normalize': False},\n",
       " mean: 0.84450, std: 0.04797, params: {'alpha': 0.1, 'max_iter': 100000, 'normalize': True},\n",
       " mean: 0.84450, std: 0.04797, params: {'alpha': 0.1, 'max_iter': 100000, 'normalize': False},\n",
       " mean: 0.84452, std: 0.04797, params: {'alpha': 1, 'max_iter': 100000, 'normalize': True},\n",
       " mean: 0.84450, std: 0.04797, params: {'alpha': 1, 'max_iter': 100000, 'normalize': False},\n",
       " mean: 0.84465, std: 0.04799, params: {'alpha': 10, 'max_iter': 100000, 'normalize': True},\n",
       " mean: 0.84450, std: 0.04797, params: {'alpha': 10, 'max_iter': 100000, 'normalize': False},\n",
       " mean: 0.84539, std: 0.04843, params: {'alpha': 100, 'max_iter': 100000, 'normalize': True},\n",
       " mean: 0.84452, std: 0.04799, params: {'alpha': 100, 'max_iter': 100000, 'normalize': False}]"
      ]
     },
     "execution_count": 577,
     "metadata": {},
     "output_type": "execute_result"
    }
   ],
   "source": [
    "grid_search.grid_scores_"
   ]
  },
  {
   "cell_type": "markdown",
   "metadata": {},
   "source": [
    "Based on the results above, the Lasso regression model ignores the Bedrooms feature."
   ]
  },
  {
   "cell_type": "markdown",
   "metadata": {},
   "source": [
    "Now I'd like to look at the residual plots using the linear regression data using all available features."
   ]
  },
  {
   "cell_type": "code",
   "execution_count": 530,
   "metadata": {},
   "outputs": [],
   "source": [
    "y2_train_predict = lr_2.predict(X2_train)\n",
    "y2_test_predict = lr_2.predict(X2_test)"
   ]
  },
  {
   "cell_type": "code",
   "execution_count": 324,
   "metadata": {},
   "outputs": [],
   "source": [
    "#sns.residplot(y_train_predict,y_train)"
   ]
  },
  {
   "cell_type": "code",
   "execution_count": 531,
   "metadata": {},
   "outputs": [],
   "source": [
    "sns.set_style('whitegrid')"
   ]
  },
  {
   "cell_type": "code",
   "execution_count": 532,
   "metadata": {},
   "outputs": [
    {
     "data": {
      "text/plain": [
       "Text(0.5,1,'Train data predictions')"
      ]
     },
     "execution_count": 532,
     "metadata": {},
     "output_type": "execute_result"
    },
    {
     "data": {
      "image/png": "[encoded data removed]",
      "text/plain": [
       "<matplotlib.figure.Figure at 0x1c306de390>"
      ]
     },
     "metadata": {},
     "output_type": "display_data"
    }
   ],
   "source": [
    "plt.figure(figsize=(10,8))\n",
    "plt.plot(y2_train_predict,(y2_train_predict-y2_train),'o')\n",
    "plt.xlabel('House prices ($)',fontsize=14)\n",
    "plt.ylabel('residuals',fontsize=14)\n",
    "plt.title('Train data predictions',fontsize=14)"
   ]
  },
  {
   "cell_type": "markdown",
   "metadata": {},
   "source": [
    "next examining residuals on the test data"
   ]
  },
  {
   "cell_type": "code",
   "execution_count": 533,
   "metadata": {},
   "outputs": [
    {
     "data": {
      "text/plain": [
       "Text(0.5,1,'Test data predictions')"
      ]
     },
     "execution_count": 533,
     "metadata": {},
     "output_type": "execute_result"
    },
    {
     "data": {
      "image/png": "[encoded data removed]",
      "text/plain": [
       "<matplotlib.figure.Figure at 0x1c306c6cf8>"
      ]
     },
     "metadata": {},
     "output_type": "display_data"
    }
   ],
   "source": [
    "plt.figure(figsize=(10,8))\n",
    "plt.plot(y2_test_predict,(y2_test_predict-y2_test),'o')\n",
    "plt.xlabel('House prices ($)',fontsize=14)\n",
    "plt.ylabel('residuals',fontsize=14)\n",
    "plt.title('Test data predictions', fontsize=14)"
   ]
  },
  {
   "cell_type": "markdown",
   "metadata": {},
   "source": [
    "Using the Linear regression model, the final scores are:"
   ]
  },
  {
   "cell_type": "code",
   "execution_count": 606,
   "metadata": {},
   "outputs": [
    {
     "name": "stdout",
     "output_type": "stream",
     "text": [
      "Accuracy on the test set: 0.862\n"
     ]
    }
   ],
   "source": [
    "print(\"Accuracy on the test set with LR: {:.3f}\".format(lr_2.score(X2_test, y2_test)))"
   ]
  },
  {
   "cell_type": "code",
   "execution_count": 628,
   "metadata": {},
   "outputs": [
    {
     "name": "stdout",
     "output_type": "stream",
     "text": [
      "Test set RMSE: 181919.48\n"
     ]
    }
   ],
   "source": [
    "y2_pred_test = lr_2.predict(X2_test)\n",
    "print(\"Test set RMSE: {:.2f}\".format(rmse(y2_test,y2_pred_test)))"
   ]
  },
  {
   "cell_type": "code",
   "execution_count": 607,
   "metadata": {},
   "outputs": [
    {
     "name": "stdout",
     "output_type": "stream",
     "text": [
      "Accuracy on the test set with Lasso: 0.865\n"
     ]
    }
   ],
   "source": [
    "print(\"Accuracy on the test set with Lasso: {:.3f}\".format(grid_search.score(X2_test, y2_test)))"
   ]
  },
  {
   "cell_type": "code",
   "execution_count": 627,
   "metadata": {},
   "outputs": [
    {
     "name": "stdout",
     "output_type": "stream",
     "text": [
      "Test set RMSE: 179922.48\n"
     ]
    }
   ],
   "source": [
    "y2_pred_test = grid_search.predict(X2_test)\n",
    "print(\"Test set RMSE: {:.2f}\".format(rmse(y2_test,y2_pred_test)))"
   ]
  },
  {
   "cell_type": "markdown",
   "metadata": {},
   "source": [
    "I also want to examine the residual plots based on Lasso regression model."
   ]
  },
  {
   "cell_type": "code",
   "execution_count": 608,
   "metadata": {},
   "outputs": [],
   "source": [
    "y2_train_predict_lasso = grid_search.predict(X2_train)\n",
    "y2_test_predict_lasso = grid_search.predict(X2_test)"
   ]
  },
  {
   "cell_type": "code",
   "execution_count": 612,
   "metadata": {},
   "outputs": [
    {
     "data": {
      "text/plain": [
       "Text(0.5,1,'Train data predictions')"
      ]
     },
     "execution_count": 612,
     "metadata": {},
     "output_type": "execute_result"
    },
    {
     "data": {
      "image/png": "[encoded data removed]",
      "text/plain": [
       "<matplotlib.figure.Figure at 0x1c3bdf2e10>"
      ]
     },
     "metadata": {},
     "output_type": "display_data"
    }
   ],
   "source": [
    "fig_resid1 = plt.figure(figsize=(10,8))\n",
    "plt.plot(y2_train_predict_lasso,(y2_train_predict_lasso-y2_train),'o')\n",
    "plt.xlabel('House prices ($)',fontsize=14)\n",
    "plt.ylabel('residuals',fontsize=14)\n",
    "plt.title('Train data predictions',fontsize=14)"
   ]
  },
  {
   "cell_type": "code",
   "execution_count": 613,
   "metadata": {},
   "outputs": [],
   "source": [
    "fig_resid1.savefig('Train_data_residuals.png',dpi=300)"
   ]
  },
  {
   "cell_type": "code",
   "execution_count": 610,
   "metadata": {},
   "outputs": [
    {
     "data": {
      "text/plain": [
       "Text(0.5,1,'Test data predictions')"
      ]
     },
     "execution_count": 610,
     "metadata": {},
     "output_type": "execute_result"
    },
    {
     "data": {
      "image/png": "[encoded data removed]",
      "text/plain": [
       "<matplotlib.figure.Figure at 0x1c3bb30438>"
      ]
     },
     "metadata": {},
     "output_type": "display_data"
    }
   ],
   "source": [
    "plt.figure(figsize=(10,8))\n",
    "plt.plot(y2_test_predict_lasso,(y2_test_predict_lasso-y2_test),'o')\n",
    "plt.xlabel('House prices ($)',fontsize=14)\n",
    "plt.ylabel('residuals',fontsize=14)\n",
    "plt.title('Test data predictions', fontsize=14)"
   ]
  },
  {
   "cell_type": "code",
   "execution_count": 616,
   "metadata": {},
   "outputs": [],
   "source": [
    "def rmse(y_true, y_pred):\n",
    "    return np.sqrt(mean_squared_error(y_true, y_pred))"
   ]
  },
  {
   "cell_type": "code",
   "execution_count": 632,
   "metadata": {},
   "outputs": [
    {
     "data": {
      "text/plain": [
       "Text(0.5,1,'Test data predictions')"
      ]
     },
     "execution_count": 632,
     "metadata": {},
     "output_type": "execute_result"
    },
    {
     "data": {
      "image/png": "[encoded data removed]",
      "text/plain": [
       "<matplotlib.figure.Figure at 0x1c3c6c4550>"
      ]
     },
     "metadata": {},
     "output_type": "display_data"
    }
   ],
   "source": [
    "f,ax = plt.subplots(2,1,figsize=(12,10),sharex=True)\n",
    "\n",
    "ax[0,].plot(y2_train_predict_lasso,(y2_train_predict_lasso-y2_train),'o')\n",
    "ax[0,].set_ylabel('residuals',fontsize=14)\n",
    "ax[0,].set_title('Train data predictions',fontsize=14)\n",
    "\n",
    "ax[1,].plot(y2_test_predict_lasso,(y2_test_predict_lasso-y2_test),'o')\n",
    "ax[1,].set_xlabel('House prices ($)',fontsize=14)\n",
    "ax[1,].set_ylabel('residuals',fontsize=14)\n",
    "ax[1,].set_title('Test data predictions', fontsize=14)"
   ]
  },
  {
   "cell_type": "code",
   "execution_count": 633,
   "metadata": {},
   "outputs": [],
   "source": [
    "f.savefig('lasso_model_residuals.png',dpi=300)"
   ]
  },
  {
   "cell_type": "code",
   "execution_count": 1,
   "metadata": {},
   "outputs": [
    {
     "ename": "NameError",
     "evalue": "name 'plt' is not defined",
     "output_type": "error",
     "traceback": [
      "\u001b[0;31m---------------------------------------------------------------------------\u001b[0m",
      "\u001b[0;31mNameError\u001b[0m                                 Traceback (most recent call last)",
      "\u001b[0;32m<ipython-input-1-808aaace8c79>\u001b[0m in \u001b[0;36m<module>\u001b[0;34m()\u001b[0m\n\u001b[0;32m----> 1\u001b[0;31m \u001b[0mplt\u001b[0m\u001b[0;34m.\u001b[0m\u001b[0mfigure\u001b[0m\u001b[0;34m(\u001b[0m\u001b[0mfigsize\u001b[0m\u001b[0;34m=\u001b[0m\u001b[0;34m(\u001b[0m\u001b[0;36m10\u001b[0m\u001b[0;34m,\u001b[0m\u001b[0;36m8\u001b[0m\u001b[0;34m)\u001b[0m\u001b[0;34m)\u001b[0m\u001b[0;34m\u001b[0m\u001b[0m\n\u001b[0m\u001b[1;32m      2\u001b[0m \u001b[0msns\u001b[0m\u001b[0;34m.\u001b[0m\u001b[0mheatmap\u001b[0m\u001b[0;34m(\u001b[0m\u001b[0mhouses_df5\u001b[0m\u001b[0;34m.\u001b[0m\u001b[0mcorr\u001b[0m\u001b[0;34m(\u001b[0m\u001b[0;34m)\u001b[0m\u001b[0;34m,\u001b[0m\u001b[0mcmap\u001b[0m\u001b[0;34m=\u001b[0m\u001b[0;34m'RdBu_r'\u001b[0m\u001b[0;34m)\u001b[0m\u001b[0;34m\u001b[0m\u001b[0m\n",
      "\u001b[0;31mNameError\u001b[0m: name 'plt' is not defined"
     ]
    }
   ],
   "source": [
    "plt.figure(figsize=(10,8))\n",
    "sns.heatmap(houses_df5.corr(),cmap='RdBu_r')"
   ]
  },
  {
   "cell_type": "code",
   "execution_count": null,
   "metadata": {},
   "outputs": [],
   "source": []
  }
 ],
 "metadata": {
  "kernelspec": {
   "display_name": "Python 3",
   "language": "python",
   "name": "python3"
  },
  "language_info": {
   "codemirror_mode": {
    "name": "ipython",
    "version": 3
   },
   "file_extension": ".py",
   "mimetype": "text/x-python",
   "name": "python",
   "nbconvert_exporter": "python",
   "pygments_lexer": "ipython3",
   "version": "3.6.4"
  }
 },
 "nbformat": 4,
 "nbformat_minor": 2
}
