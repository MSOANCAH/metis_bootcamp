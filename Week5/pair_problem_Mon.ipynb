{
 "cells": [
  {
   "cell_type": "markdown",
   "metadata": {},
   "source": [
    "### Pair Problem\n",
    "\n",
    "Write a function that takes three arguments:\n",
    "\n",
    "* A list of lists, X_train, where each inner list is of length three and represents the position of a Wookiee in space, along the traditional x, y, and z axes.\n",
    "* A list of strings, y, the same length as the outer list X_train, where each string represents the color of a Wookiee at the corresponding position.\n",
    "* A list of lists, X_test, where each inner list is of length three and represents the position in space of a Wookiee of unknown color.\n",
    "\n",
    "The function should produce a list of strings, the same length as the outer list, representing for each unknown Wookiee the color of the closest known Wookiee.\n",
    "\n",
    "For example:\n",
    "\n",
    "X_train = [[1,   1,  1],\n",
    "           [0,   0,  0],\n",
    "           [-1, -1, -1],\n",
    "           [10, 10, 10]]\n",
    "\n",
    "y_train = ['red',\n",
    "           'white',\n",
    "           'blue',\n",
    "           'chartreuse']\n",
    "\n",
    "X_test = [[1.1, 1.1, 1.1]]\n"
   ]
  },
  {
   "cell_type": "code",
   "execution_count": 2,
   "metadata": {},
   "outputs": [],
   "source": [
    "import numpy as np"
   ]
  },
  {
   "cell_type": "code",
   "execution_count": 51,
   "metadata": {},
   "outputs": [],
   "source": [
    "def get_nearest_Wookiee(X_train,X_test):\n",
    "    norms = []\n",
    "    for positions in X_test:\n",
    "        distances = np.array(X_train) - np.array(positions)\n",
    "        norms.append(np.linalg.norm(distances,axis=1))\n",
    "    return np.argmin(norms,axis=1)\n",
    "    #return norms\n",
    "    \n",
    "def get_color(y_train,idx):\n",
    "    colors = []\n",
    "    for i in idx:\n",
    "        colors.append(y_train[i])\n",
    "    return colors"
   ]
  },
  {
   "cell_type": "code",
   "execution_count": 55,
   "metadata": {},
   "outputs": [],
   "source": [
    "X_train = [[1, 1, 1], [0, 0, 0], [-1, -1, -1], [10, 10, 10]]\n",
    "y_train = ['red', 'white', 'blue', 'chartreuse']\n",
    "X_test = [[1.1, 1.1, 1.1],[5.6,5.5,5.5],[-.5,-.5,-.5]]"
   ]
  },
  {
   "cell_type": "code",
   "execution_count": 56,
   "metadata": {},
   "outputs": [
    {
     "data": {
      "text/plain": [
       "['red', 'chartreuse', 'white']"
      ]
     },
     "execution_count": 56,
     "metadata": {},
     "output_type": "execute_result"
    }
   ],
   "source": [
    "idx = get_nearest_Wookiee(X_train,X_test)\n",
    "get_color(y_train,idx)\n",
    "#idx"
   ]
  },
  {
   "cell_type": "code",
   "execution_count": 53,
   "metadata": {},
   "outputs": [
    {
     "data": {
      "text/plain": [
       "array([0, 3])"
      ]
     },
     "execution_count": 53,
     "metadata": {},
     "output_type": "execute_result"
    }
   ],
   "source": [
    "get_nearest_Wookiee(X_train,X_test)"
   ]
  },
  {
   "cell_type": "markdown",
   "metadata": {},
   "source": [
    "Possible extensions:\n",
    "\n",
    "* Does your solution work for any number of features in the training data sets?\n",
    "* Does your solution handle ties?\n",
    "* Can you add another parameter, k, to your solution so that it uses the k nearest Wookiees instead of only the nearest Wookiee?\n",
    "* Can you add to your solution so that it has reasonable behavior if y_train is numeric?\n",
    "\n",
    "An extension of another kind:\n",
    "\n",
    "* Are you confident that your solution is correct? How can you ensure that it is, and check that it stays correct in the future?\n"
   ]
  },
  {
   "cell_type": "code",
   "execution_count": 60,
   "metadata": {},
   "outputs": [],
   "source": [
    "def get_nearest_kWookiees(X_train,X_test,k):\n",
    "    norms = []\n",
    "    for positions in X_test:\n",
    "        distances = np.array(X_train) - np.array(positions)\n",
    "        norms.append(np.linalg.norm(distances,axis=1))\n",
    "        idx_sorted = np.argsort(norms)\n",
    "    return idx_sorted[:,:k]"
   ]
  },
  {
   "cell_type": "code",
   "execution_count": 62,
   "metadata": {},
   "outputs": [
    {
     "data": {
      "text/plain": [
       "array([[0, 1, 2],\n",
       "       [3, 0, 1],\n",
       "       [1, 2, 0]])"
      ]
     },
     "execution_count": 62,
     "metadata": {},
     "output_type": "execute_result"
    }
   ],
   "source": [
    "get_nearest_kWookiees(X_train,X_test,k=3)"
   ]
  },
  {
   "cell_type": "code",
   "execution_count": null,
   "metadata": {},
   "outputs": [],
   "source": [
    "def_get_majority(y_train,idx):\n",
    "    colors = []\n",
    "    for i in idx:\n",
    "        \n",
    "    return colors"
   ]
  }
 ],
 "metadata": {
  "kernelspec": {
   "display_name": "Python 3",
   "language": "python",
   "name": "python3"
  },
  "language_info": {
   "codemirror_mode": {
    "name": "ipython",
    "version": 3
   },
   "file_extension": ".py",
   "mimetype": "text/x-python",
   "name": "python",
   "nbconvert_exporter": "python",
   "pygments_lexer": "ipython3",
   "version": "3.6.4"
  }
 },
 "nbformat": 4,
 "nbformat_minor": 2
}
