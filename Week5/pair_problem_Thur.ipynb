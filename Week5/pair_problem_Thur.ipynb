{
 "cells": [
  {
   "cell_type": "markdown",
   "metadata": {},
   "source": [
    "# Pairs: String Compression\n",
    "\n",
    "### Question\n",
    "\n",
    "Implement a method, compress(input_str) to perform basic string compression using the counts of repeated characters. For example, the string aabcccccaaa would become a2blc5a3. If the \"compressed\" string would not become smaller than the original string, your method should return the original string.\n",
    "Steps\n",
    "\n",
    "### Follow these steps when building out your solution.\n",
    "\n",
    "* Test cases: By hand, write out 3 inputs, and their outputs\n",
    "* Options: List out at least 2 different ways of approaching this problem. Evalaute the runtime complexity of each\n",
    "* Implement: Implement one of the options you've listed\n",
    "* Comment & Refactor: Perform a second pass on your algorithm, to make sure that it would be easy for an interviewer to follow, and for a peer to maintain\n"
   ]
  },
  {
   "cell_type": "code",
   "execution_count": 35,
   "metadata": {},
   "outputs": [],
   "source": [
    "def string_compress(input_str):\n",
    "    counter=1\n",
    "    str_list = []\n",
    "    \n",
    "    for i,c in enumerate(input_str):\n",
    "        if i==0:\n",
    "            new_c=c\n",
    "        else:\n",
    "            if c==new_c:\n",
    "                counter += 1\n",
    "            else:\n",
    "                str_list += [new_c,str(counter)]\n",
    "                new_c=c\n",
    "                counter=1\n",
    "                \n",
    "    str_list += [new_c,str(counter)]\n",
    "    \n",
    "    compressed = ''.join(str_list)\n",
    "    \n",
    "    if len(compressed) < len(input_str):\n",
    "        return compressed\n",
    "    else:\n",
    "        return input_str"
   ]
  },
  {
   "cell_type": "code",
   "execution_count": 41,
   "metadata": {},
   "outputs": [],
   "source": [
    "assert string_compress('aa') == 'aa'\n",
    "assert string_compress('aaabb') == 'a3b2'\n",
    "assert string_compress('aaabbbccddddee') == 'a3b3c2d4e2'\n",
    "assert string_compress('aaaaaabbbbba') == 'a6b5a1'"
   ]
  },
  {
   "cell_type": "code",
   "execution_count": null,
   "metadata": {},
   "outputs": [],
   "source": []
  }
 ],
 "metadata": {
  "kernelspec": {
   "display_name": "Python 3",
   "language": "python",
   "name": "python3"
  },
  "language_info": {
   "codemirror_mode": {
    "name": "ipython",
    "version": 3
   },
   "file_extension": ".py",
   "mimetype": "text/x-python",
   "name": "python",
   "nbconvert_exporter": "python",
   "pygments_lexer": "ipython3",
   "version": "3.6.4"
  }
 },
 "nbformat": 4,
 "nbformat_minor": 2
}
