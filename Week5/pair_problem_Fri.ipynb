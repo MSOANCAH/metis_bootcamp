{
 "cells": [
  {
   "cell_type": "markdown",
   "metadata": {},
   "source": [
    "### Pair Problem\n",
    "\n",
    "This tutorial might be useful for solving today's pair problem\n",
    "\n",
    "This function is boring:\n",
    "\n",
    "```\n",
    "def square(x):\n",
    "    return x * x\n",
    "\n",
    "square(5)\n",
    " 25\n",
    " ```\n",
    "\n",
    "Write a decorator called talky so that when you run this:\n",
    "\n",
    "```\n",
    "@talky\n",
    "def square(x):\n",
    "    return x * x\n",
    "```\n",
    "\n",
    "answer = square(5)\n",
    "\n",
    "You get the following output:\n",
    "\n",
    "```\n",
    "Oh hi!\n",
    "The result sure is 25!\n",
    "```\n",
    "\n",
    "Extension: Write a decorator talky_with, so that when you run this:\n",
    "\n",
    "```\n",
    "@talky_with(\"Aaron\")\n",
    "def square(x):\n",
    "    return x * x\n",
    "```\n",
    "\n",
    "answer = square(5)\n",
    "\n",
    "You get the following output:\n",
    "\n",
    "```\n",
    "Oh hi! I'm Aaron.\n",
    "The result sure is 25!\n",
    "```"
   ]
  },
  {
   "cell_type": "code",
   "execution_count": 15,
   "metadata": {},
   "outputs": [],
   "source": [
    "def talky(func):\n",
    "    \n",
    "    def wrapper(x):\n",
    "        print('Oh hi!')\n",
    "        print('The result sure is {}!'.format(func(x)))\n",
    "        \n",
    "    return wrapper\n",
    "        "
   ]
  },
  {
   "cell_type": "code",
   "execution_count": 16,
   "metadata": {},
   "outputs": [],
   "source": [
    "@talky\n",
    "def square(x):\n",
    "    return x * x"
   ]
  },
  {
   "cell_type": "code",
   "execution_count": 17,
   "metadata": {},
   "outputs": [
    {
     "name": "stdout",
     "output_type": "stream",
     "text": [
      "Oh hi!\n",
      "The result sure is 25!\n"
     ]
    }
   ],
   "source": [
    "square(5)"
   ]
  },
  {
   "cell_type": "code",
   "execution_count": 45,
   "metadata": {},
   "outputs": [],
   "source": [
    "def talky_with(func):\n",
    "    \n",
    "    def wrapper(*args, **kwargs):\n",
    "        print('Oh hi! I\\'m {}.'.format(kwargs['name']))\n",
    "        print('The result sure is {}!'.format(func(args[0])))\n",
    "        \n",
    "    return wrapper"
   ]
  },
  {
   "cell_type": "code",
   "execution_count": 46,
   "metadata": {},
   "outputs": [],
   "source": [
    "@talky_with\n",
    "def square(x,name='None'):\n",
    "    return x * x"
   ]
  },
  {
   "cell_type": "code",
   "execution_count": 47,
   "metadata": {},
   "outputs": [
    {
     "name": "stdout",
     "output_type": "stream",
     "text": [
      "Oh hi! I'm Tom.\n",
      "The result sure is 25!\n"
     ]
    }
   ],
   "source": [
    "square(5,name='Tom')"
   ]
  },
  {
   "cell_type": "code",
   "execution_count": null,
   "metadata": {},
   "outputs": [],
   "source": []
  }
 ],
 "metadata": {
  "kernelspec": {
   "display_name": "Python 3",
   "language": "python",
   "name": "python3"
  },
  "language_info": {
   "codemirror_mode": {
    "name": "ipython",
    "version": 3
   },
   "file_extension": ".py",
   "mimetype": "text/x-python",
   "name": "python",
   "nbconvert_exporter": "python",
   "pygments_lexer": "ipython3",
   "version": "3.6.4"
  }
 },
 "nbformat": 4,
 "nbformat_minor": 2
}
