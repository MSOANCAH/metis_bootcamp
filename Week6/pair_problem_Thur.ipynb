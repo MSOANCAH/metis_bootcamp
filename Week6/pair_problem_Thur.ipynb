{
 "cells": [
  {
   "cell_type": "markdown",
   "metadata": {},
   "source": [
    "### Pair Problem\n",
    "\n",
    "a group of N people hand their hats to the hat check person where they are issued tickets to collect their hat at the end of the night. The hat check person loses all of their tickets, so as people leave, (s)he merely hands them back a random hat. Write a simulation to determine the expected number of people that receive their own hat back."
   ]
  },
  {
   "cell_type": "code",
   "execution_count": 1,
   "metadata": {},
   "outputs": [],
   "source": [
    "import numpy as np"
   ]
  },
  {
   "cell_type": "code",
   "execution_count": 13,
   "metadata": {},
   "outputs": [],
   "source": [
    "def findHats(num):\n",
    "    people = np.arange(num)\n",
    "    hats = np.random.permutation(num)\n",
    "    mask = people == hats\n",
    "    \n",
    "    return sum(mask)"
   ]
  },
  {
   "cell_type": "code",
   "execution_count": 21,
   "metadata": {},
   "outputs": [
    {
     "name": "stdout",
     "output_type": "stream",
     "text": [
      "The expected number of people that receive their hat back out of 10 people is 1.038\n"
     ]
    }
   ],
   "source": [
    "N=10\n",
    "result = []\n",
    "for i in range(1000):\n",
    "    result.append(findHats(N))\n",
    "    \n",
    "print(\"The expected number of people that receive their hat back out of {} people is {}\".format(N,np.mean(result)))"
   ]
  },
  {
   "cell_type": "code",
   "execution_count": 22,
   "metadata": {},
   "outputs": [
    {
     "name": "stdout",
     "output_type": "stream",
     "text": [
      "The expected number of people that receive their hat back out of 100 people is 0.958\n"
     ]
    }
   ],
   "source": [
    "N=100\n",
    "result = []\n",
    "for i in range(1000):\n",
    "    result.append(findHats(N))\n",
    "    \n",
    "print(\"The expected number of people that receive their hat back out of {} people is {}\".format(N,np.mean(result)))"
   ]
  },
  {
   "cell_type": "code",
   "execution_count": null,
   "metadata": {},
   "outputs": [],
   "source": []
  }
 ],
 "metadata": {
  "kernelspec": {
   "display_name": "Python 3",
   "language": "python",
   "name": "python3"
  },
  "language_info": {
   "codemirror_mode": {
    "name": "ipython",
    "version": 3
   },
   "file_extension": ".py",
   "mimetype": "text/x-python",
   "name": "python",
   "nbconvert_exporter": "python",
   "pygments_lexer": "ipython3",
   "version": "3.6.4"
  }
 },
 "nbformat": 4,
 "nbformat_minor": 2
}
