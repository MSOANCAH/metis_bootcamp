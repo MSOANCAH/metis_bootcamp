{
 "cells": [
  {
   "cell_type": "markdown",
   "metadata": {},
   "source": [
    "### Pair Problem\n",
    "\n",
    "Using Monte Carlo methods, generate Pi!!!\n",
    "\n",
    "Monte Carlo methods are used frequently when simulating events where the data is hard to gather or the analytical solution is very difficult or impossible to solve.\n",
    "\n",
    "For today's problem you will need the following:\n",
    "\n",
    "Generate two random vectors, x and y where both x and y are drawn from a uniform random distribution on [0, 1]. We choose [0, 1] to simplify the problem since a circle is symmetric.\n",
    "\n",
    "The rest of the details are up to you to decide! Communicate with your partner to determine how to tackle such a problem and get a numerical estimate for pi."
   ]
  },
  {
   "cell_type": "code",
   "execution_count": 7,
   "metadata": {},
   "outputs": [],
   "source": [
    "import numpy as np"
   ]
  },
  {
   "cell_type": "code",
   "execution_count": 21,
   "metadata": {},
   "outputs": [],
   "source": [
    "def get_pi():\n",
    "    x = np.random.uniform(0,1,10000)\n",
    "    y = np.random.uniform(0,1,10000)\n",
    "    samples_inside = 0\n",
    "    samples_outside = 0\n",
    "    \n",
    "    for i in range(10000):\n",
    "        if x[i]**2+y[i]**2<1:\n",
    "            samples_inside += 1\n",
    "        else:\n",
    "            samples_outside += 1\n",
    "    \n",
    "    area_inside = samples_inside/(samples_inside + samples_outside)\n",
    "    \n",
    "    pi_est = area_inside *4\n",
    "    return pi_est"
   ]
  },
  {
   "cell_type": "code",
   "execution_count": 22,
   "metadata": {},
   "outputs": [
    {
     "data": {
      "text/plain": [
       "3.1252"
      ]
     },
     "execution_count": 22,
     "metadata": {},
     "output_type": "execute_result"
    }
   ],
   "source": [
    "get_pi()"
   ]
  },
  {
   "cell_type": "code",
   "execution_count": 23,
   "metadata": {},
   "outputs": [
    {
     "name": "stdout",
     "output_type": "stream",
     "text": [
      "Estimate for pi is: 3.1415694\n"
     ]
    }
   ],
   "source": [
    "N_total = int(4e7)\n",
    "x = np.random.random(N_total)\n",
    "y = np.random.random(N_total)\n",
    "\n",
    "N = sum(x**2 + y**2 <= 1)\n",
    "print(f'Estimate for pi is: {4*N/N_total}')"
   ]
  },
  {
   "cell_type": "code",
   "execution_count": null,
   "metadata": {},
   "outputs": [],
   "source": []
  }
 ],
 "metadata": {
  "kernelspec": {
   "display_name": "Python 3",
   "language": "python",
   "name": "python3"
  },
  "language_info": {
   "codemirror_mode": {
    "name": "ipython",
    "version": 3
   },
   "file_extension": ".py",
   "mimetype": "text/x-python",
   "name": "python",
   "nbconvert_exporter": "python",
   "pygments_lexer": "ipython3",
   "version": "3.6.4"
  }
 },
 "nbformat": 4,
 "nbformat_minor": 2
}
