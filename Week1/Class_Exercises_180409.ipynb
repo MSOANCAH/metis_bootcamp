{
 "cells": [
  {
   "cell_type": "code",
   "execution_count": 25,
   "metadata": {},
   "outputs": [],
   "source": [
    "def pairs_for(list_of_names):\n",
    "    pairs = []\n",
    "    first = list_of_names[:len(list_of_names)//2]\n",
    "    second = list_of_names[len(list_of_names)//2:]\n",
    "    for name_f in first:\n",
    "        for name_s in second:\n",
    "            name_tuple = (name_f,name_s)\n",
    "            pairs.append((name_f, name_s))\n",
    "    \n",
    "    return pairs"
   ]
  },
  {
   "cell_type": "code",
   "execution_count": 26,
   "metadata": {},
   "outputs": [],
   "source": [
    "list_of_names = ['Andrea','Bob','Cassandra','Doug','Robert','Brendan']\n"
   ]
  },
  {
   "cell_type": "code",
   "execution_count": 27,
   "metadata": {},
   "outputs": [
    {
     "data": {
      "text/plain": [
       "[('Andrea', 'Doug'),\n",
       " ('Andrea', 'Robert'),\n",
       " ('Andrea', 'Brendan'),\n",
       " ('Bob', 'Doug'),\n",
       " ('Bob', 'Robert'),\n",
       " ('Bob', 'Brendan'),\n",
       " ('Cassandra', 'Doug'),\n",
       " ('Cassandra', 'Robert'),\n",
       " ('Cassandra', 'Brendan')]"
      ]
     },
     "execution_count": 27,
     "metadata": {},
     "output_type": "execute_result"
    }
   ],
   "source": [
    "pairs_for(list_of_names)"
   ]
  },
  {
   "cell_type": "code",
   "execution_count": null,
   "metadata": {},
   "outputs": [],
   "source": [
    "def pairs_for2(list_of_names):    \n",
    "    pairs = []\n",
    "    first = list_of_names[:len(list_of_names)//2]\n",
    "    second = list_of_names[len(list_of_names)//2:]\n",
    "    for name_f in :\n",
    "        for name_s in second:\n",
    "            name_tuple = (name_f,name_s)\n",
    "            pairs.append((name_f, name_s))\n",
    "    \n",
    "    return pairs"
   ]
  }
 ],
 "metadata": {
  "kernelspec": {
   "display_name": "Python 3",
   "language": "python",
   "name": "python3"
  },
  "language_info": {
   "codemirror_mode": {
    "name": "ipython",
    "version": 3
   },
   "file_extension": ".py",
   "mimetype": "text/x-python",
   "name": "python",
   "nbconvert_exporter": "python",
   "pygments_lexer": "ipython3",
   "version": "3.6.4"
  }
 },
 "nbformat": 4,
 "nbformat_minor": 2
}
