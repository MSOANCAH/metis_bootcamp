{
 "cells": [
  {
   "cell_type": "markdown",
   "metadata": {},
   "source": [
    "Pair Problem\n",
    "\n",
    "Another one from Project Euler: Problem 3:\n",
    "\n",
    "*  The prime factors of 13195 are 5, 7, 13 and 29.\n",
    "\n",
    "    What is the largest prime factor of the number 600851475143 ?\n",
    "\n",
    "Please do not Google. See how best you can solve this problem on your own.\n",
    "\n",
    "What's the complexity of your code? Can you do better?"
   ]
  },
  {
   "cell_type": "code",
   "execution_count": 7,
   "metadata": {},
   "outputs": [],
   "source": [
    "def findPrimeFactor(n):\n",
    "    factors = []\n",
    "    for i in range(2,n//2+1):\n",
    "        if n % i == 0:\n",
    "            factors.append(i)\n",
    "    factorsSort = factors[::-1]\n",
    "    print(factorsSort)\n",
    "\n",
    "    if not factors: \n",
    "        return n\n",
    "    else:\n",
    "        for i in factorsSort:\n",
    "            prime = True\n",
    "            if i%2==0:\n",
    "                prime=False\n",
    "            else:\n",
    "                for j in range(2,i//2+1):\n",
    "                    if i % j == 0:\n",
    "                        prime = False\n",
    "                        break\n",
    "            if prime:\n",
    "                return i"
   ]
  },
  {
   "cell_type": "code",
   "execution_count": null,
   "metadata": {},
   "outputs": [],
   "source": [
    "import numpy as np\n",
    "def findPrimeFactor2(n):\n",
    "    list_of_primes = getPrimes(np.sqrt(n))\n",
    "    \n",
    "def getPrimes(m):\n",
    "    for j in range(2,m+1):\n",
    "        if n % j == 0:\n",
    "            return False\n",
    "    list_of_primes.append()"
   ]
  }
 ],
 "metadata": {
  "kernelspec": {
   "display_name": "Python 3",
   "language": "python",
   "name": "python3"
  },
  "language_info": {
   "codemirror_mode": {
    "name": "ipython",
    "version": 3
   },
   "file_extension": ".py",
   "mimetype": "text/x-python",
   "name": "python",
   "nbconvert_exporter": "python",
   "pygments_lexer": "ipython3",
   "version": "3.6.4"
  }
 },
 "nbformat": 4,
 "nbformat_minor": 2
}
