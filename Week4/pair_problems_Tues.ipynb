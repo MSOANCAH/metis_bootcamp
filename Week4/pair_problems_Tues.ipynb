{
 "cells": [
  {
   "cell_type": "markdown",
   "metadata": {},
   "source": [
    "### Part 1: Wine\n",
    "\n",
    "    Load the wine data set\n",
    "    Scale the X values w/ either scale or StandardScaler\n",
    "    Create a train test split w/ X_train, y_train, X_test and y_test variables\n"
   ]
  },
  {
   "cell_type": "code",
   "execution_count": 28,
   "metadata": {},
   "outputs": [],
   "source": [
    "from sklearn.datasets import load_wine\n",
    "from sklearn.model_selection import train_test_split\n",
    "from sklearn.neighbors import KNeighborsClassifier\n",
    "from sklearn.preprocessing import StandardScaler\n",
    "from sklearn.metrics import confusion_matrix\n",
    "from sklearn.metrics import precision_score"
   ]
  },
  {
   "cell_type": "code",
   "execution_count": 9,
   "metadata": {},
   "outputs": [],
   "source": [
    "features, target = load_wine(return_X_y=True)"
   ]
  },
  {
   "cell_type": "code",
   "execution_count": 13,
   "metadata": {},
   "outputs": [],
   "source": [
    "scaler = StandardScaler()\n",
    "scaler.fit(features)\n",
    "features_scaled = scaler.transform(features)"
   ]
  },
  {
   "cell_type": "code",
   "execution_count": 16,
   "metadata": {},
   "outputs": [],
   "source": [
    "X_train, X_test, y_train, y_test = train_test_split(features_scaled, target)"
   ]
  },
  {
   "cell_type": "markdown",
   "metadata": {},
   "source": [
    "### Part 2: Single model\n",
    "\n",
    "Create and fit a single KNN model w/ k=3. Choose and compute 3 classification metrics"
   ]
  },
  {
   "cell_type": "code",
   "execution_count": 17,
   "metadata": {},
   "outputs": [],
   "source": [
    "knn_clf = KNeighborsClassifier(n_neighbors=3).fit(X_train,y_train) "
   ]
  },
  {
   "cell_type": "code",
   "execution_count": 19,
   "metadata": {},
   "outputs": [
    {
     "name": "stdout",
     "output_type": "stream",
     "text": [
      "Test set predictions: [0 2 1 2 2 0 2 1 0 1 1 2 0 0 2 1 1 2 2 2 2 0 1 1 0 1 1 0 0 0 2 1 1 0 1 1 2\n",
      " 1 0 0 0 0 0 0 2 0 2 2 0 1 1 0 1 1 2 2 0 1 0 0 1 0 1 0 2 0 1 0 2 2 2 1 0 2\n",
      " 0 1 2 2 0 2 0 0 1 2 1 1 1 0 1 1 0 2 1 0 1 0 2 0 2 1 1 1 1 1 2 0 2 0 0 2 2\n",
      " 0 0 2 2 0 0 2 1 1 1 0 2 0 0 2 2 1 1 1 1 2 1]\n"
     ]
    }
   ],
   "source": [
    "print(\"Test set predictions: {}\".format(knn_clf.predict(X_train)))"
   ]
  },
  {
   "cell_type": "code",
   "execution_count": 20,
   "metadata": {},
   "outputs": [
    {
     "name": "stdout",
     "output_type": "stream",
     "text": [
      "Train set accuracy: 0.98\n",
      "Test set accuracy: 0.93\n"
     ]
    }
   ],
   "source": [
    "print(\"Train set accuracy: {:.2f}\".format(knn_clf.score(X_train,y_train)))\n",
    "print(\"Test set accuracy: {:.2f}\".format(knn_clf.score(X_test,y_test)))"
   ]
  },
  {
   "cell_type": "code",
   "execution_count": 25,
   "metadata": {},
   "outputs": [
    {
     "name": "stdout",
     "output_type": "stream",
     "text": [
      "Train data confusion matrix:\n"
     ]
    },
    {
     "data": {
      "text/plain": [
       "array([[46,  0,  0],\n",
       "       [ 1, 46,  1],\n",
       "       [ 0,  0, 39]])"
      ]
     },
     "execution_count": 25,
     "metadata": {},
     "output_type": "execute_result"
    }
   ],
   "source": [
    "print(\"Train data confusion matrix:\")\n",
    "confusion_matrix(y_train,knn_clf.predict(X_train))"
   ]
  },
  {
   "cell_type": "code",
   "execution_count": 26,
   "metadata": {},
   "outputs": [
    {
     "name": "stdout",
     "output_type": "stream",
     "text": [
      "Test data confusion matrix:\n"
     ]
    },
    {
     "data": {
      "text/plain": [
       "array([[13,  0,  0],\n",
       "       [ 1, 20,  2],\n",
       "       [ 0,  0,  9]])"
      ]
     },
     "execution_count": 26,
     "metadata": {},
     "output_type": "execute_result"
    }
   ],
   "source": [
    "print(\"Test data confusion matrix:\")\n",
    "confusion_matrix(y_test,knn_clf.predict(X_test))"
   ]
  },
  {
   "cell_type": "code",
   "execution_count": 34,
   "metadata": {},
   "outputs": [
    {
     "name": "stdout",
     "output_type": "stream",
     "text": [
      "Train data precision score\n"
     ]
    },
    {
     "data": {
      "text/plain": [
       "array([0.9787234, 1.       , 0.975    ])"
      ]
     },
     "execution_count": 34,
     "metadata": {},
     "output_type": "execute_result"
    }
   ],
   "source": [
    "print(\"Train data precision score\")\n",
    "precision_score(y_train,knn_clf.predict(X_train),average=None)"
   ]
  },
  {
   "cell_type": "code",
   "execution_count": 35,
   "metadata": {},
   "outputs": [
    {
     "name": "stdout",
     "output_type": "stream",
     "text": [
      "Test data precision score\n"
     ]
    },
    {
     "data": {
      "text/plain": [
       "array([0.92857143, 1.        , 0.81818182])"
      ]
     },
     "execution_count": 35,
     "metadata": {},
     "output_type": "execute_result"
    }
   ],
   "source": [
    "print(\"Test data precision score\")\n",
    "precision_score(y_test,knn_clf.predict(X_test),average=None)"
   ]
  },
  {
   "cell_type": "markdown",
   "metadata": {},
   "source": [
    "### Part 3: Grid search\n",
    "\n",
    "Grid search the following parameters:\n",
    "\n",
    "    k\n",
    "    weights\n",
    "    metric (have a look at distance metrics)\n"
   ]
  },
  {
   "cell_type": "code",
   "execution_count": 36,
   "metadata": {},
   "outputs": [],
   "source": [
    "from sklearn.model_selection import GridSearchCV"
   ]
  },
  {
   "cell_type": "code",
   "execution_count": null,
   "metadata": {},
   "outputs": [],
   "source": []
  }
 ],
 "metadata": {
  "kernelspec": {
   "display_name": "Python 3",
   "language": "python",
   "name": "python3"
  },
  "language_info": {
   "codemirror_mode": {
    "name": "ipython",
    "version": 3
   },
   "file_extension": ".py",
   "mimetype": "text/x-python",
   "name": "python",
   "nbconvert_exporter": "python",
   "pygments_lexer": "ipython3",
   "version": "3.6.4"
  }
 },
 "nbformat": 4,
 "nbformat_minor": 2
}
