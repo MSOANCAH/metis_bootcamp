{
 "cells": [
  {
   "cell_type": "markdown",
   "metadata": {},
   "source": [
    "# SVM Pair\n",
    "\n",
    "### Part 1: Digits\n",
    "\n",
    "    Load the Digits data set\n",
    "    Use StandardScaler to scale the X data. Use cPickle to serialize the standard scaler.\n",
    "    Create a train test split w/ X_train, y_train, X_test and y_test variables\n"
   ]
  },
  {
   "cell_type": "code",
   "execution_count": 10,
   "metadata": {},
   "outputs": [],
   "source": [
    "from sklearn.datasets import load_digits\n",
    "from sklearn.model_selection import train_test_split\n",
    "from sklearn.preprocessing import StandardScaler"
   ]
  },
  {
   "cell_type": "code",
   "execution_count": 11,
   "metadata": {},
   "outputs": [],
   "source": [
    "digitsX, digitsy = load_digits(return_X_y=True)"
   ]
  },
  {
   "cell_type": "code",
   "execution_count": 12,
   "metadata": {},
   "outputs": [],
   "source": [
    "scaler = StandardScaler()\n",
    "scaler.fit(digitsX)\n",
    "digitsX_scaled = scaler.transform(digitsX)"
   ]
  },
  {
   "cell_type": "code",
   "execution_count": 15,
   "metadata": {},
   "outputs": [],
   "source": [
    "import pickle\n",
    "\n",
    "#pkl_file = open('digits_skaler.pkl','w')\n",
    "#pickle.dump(scaler,pkl_file)"
   ]
  },
  {
   "cell_type": "code",
   "execution_count": 16,
   "metadata": {},
   "outputs": [],
   "source": [
    "Xtrain, Xtest, ytrain, ytest = train_test_split(digitsX_scaled, digitsy)"
   ]
  },
  {
   "cell_type": "markdown",
   "metadata": {},
   "source": [
    "### Part 2: Single model\n",
    "\n",
    "Create a single SVM model, using the default parameters. Choose and compute 3 classification metrics, keeping in mind that this is a multi-class data set."
   ]
  },
  {
   "cell_type": "code",
   "execution_count": 17,
   "metadata": {},
   "outputs": [],
   "source": [
    "from sklearn.svm import LinearSVC\n",
    "linear_svm = LinearSVC().fit(Xtrain,ytrain)"
   ]
  },
  {
   "cell_type": "code",
   "execution_count": 19,
   "metadata": {},
   "outputs": [
    {
     "name": "stdout",
     "output_type": "stream",
     "text": [
      "Accuracy on training set: 0.996\n",
      "Accuracy on test set: 0.922\n"
     ]
    }
   ],
   "source": [
    "print(\"Accuracy on training set: {:.3f}\".format(linear_svm.score(Xtrain,ytrain)))\n",
    "print(\"Accuracy on test set: {:.3f}\".format(linear_svm.score(Xtest,ytest)))"
   ]
  },
  {
   "cell_type": "code",
   "execution_count": 20,
   "metadata": {},
   "outputs": [],
   "source": [
    "y_pred = linear_svm.predict(Xtest)"
   ]
  },
  {
   "cell_type": "code",
   "execution_count": 23,
   "metadata": {},
   "outputs": [
    {
     "name": "stdout",
     "output_type": "stream",
     "text": [
      "             precision    recall  f1-score   support\n",
      "\n",
      "          0       0.96      1.00      0.98        53\n",
      "          1       0.90      0.92      0.91        50\n",
      "          2       1.00      1.00      1.00        50\n",
      "          3       0.91      0.98      0.94        41\n",
      "          4       0.90      0.97      0.94        38\n",
      "          5       0.94      0.88      0.91        56\n",
      "          6       0.97      0.94      0.96        35\n",
      "          7       0.93      0.88      0.90        43\n",
      "          8       0.82      0.80      0.81        41\n",
      "          9       0.86      0.84      0.85        43\n",
      "\n",
      "avg / total       0.92      0.92      0.92       450\n",
      "\n"
     ]
    }
   ],
   "source": [
    "from sklearn.metrics import classification_report\n",
    "print(classification_report(ytest, y_pred))"
   ]
  },
  {
   "cell_type": "code",
   "execution_count": 24,
   "metadata": {},
   "outputs": [
    {
     "name": "stdout",
     "output_type": "stream",
     "text": [
      "[[53  0  0  0  0  0  0  0  0  0]\n",
      " [ 0 46  0  2  0  0  0  0  2  0]\n",
      " [ 0  0 50  0  0  0  0  0  0  0]\n",
      " [ 0  0  0 40  0  1  0  0  0  0]\n",
      " [ 0  1  0  0 37  0  0  0  0  0]\n",
      " [ 1  1  0  0  0 49  0  1  1  3]\n",
      " [ 1  0  0  0  1  0 33  0  0  0]\n",
      " [ 0  0  0  0  1  0  0 38  1  3]\n",
      " [ 0  3  0  1  2  0  1  1 33  0]\n",
      " [ 0  0  0  1  0  2  0  1  3 36]]\n"
     ]
    }
   ],
   "source": [
    "from sklearn.metrics import confusion_matrix\n",
    "print(confusion_matrix(ytest,y_pred))"
   ]
  },
  {
   "cell_type": "markdown",
   "metadata": {},
   "source": [
    "### Part 3: Grid search\n",
    "\n",
    "Grid search the following parameters:\n",
    "\n",
    "    kernel: Try both linear and rbf w/ multiple gamma levels\n",
    "    c, in multiple orders of magnitude.\n"
   ]
  },
  {
   "cell_type": "code",
   "execution_count": 25,
   "metadata": {},
   "outputs": [],
   "source": [
    "from sklearn.model_selection import GridSearchCV\n",
    "from sklearn.svm import SVC\n",
    "param_grid = {'kernal':['linear','rbf'],'gamma':[.001,.01,.1,1,10,100],'C':[.001,.01,.1,1,10,100]}"
   ]
  },
  {
   "cell_type": "code",
   "execution_count": 26,
   "metadata": {},
   "outputs": [],
   "source": [
    "grid_search = GridSearchCV(SVC(),param_grid)"
   ]
  },
  {
   "cell_type": "code",
   "execution_count": 29,
   "metadata": {},
   "outputs": [],
   "source": [
    "#grid_search.fit(Xtrain,ytrain)\n",
    "#grid_search.score(Xtest,ytest)"
   ]
  },
  {
   "cell_type": "code",
   "execution_count": null,
   "metadata": {},
   "outputs": [],
   "source": []
  }
 ],
 "metadata": {
  "kernelspec": {
   "display_name": "Python 3",
   "language": "python",
   "name": "python3"
  },
  "language_info": {
   "codemirror_mode": {
    "name": "ipython",
    "version": 3
   },
   "file_extension": ".py",
   "mimetype": "text/x-python",
   "name": "python",
   "nbconvert_exporter": "python",
   "pygments_lexer": "ipython3",
   "version": "3.6.4"
  }
 },
 "nbformat": 4,
 "nbformat_minor": 2
}
