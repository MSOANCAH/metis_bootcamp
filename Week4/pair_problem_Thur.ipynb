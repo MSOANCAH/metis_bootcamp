{
 "cells": [
  {
   "cell_type": "markdown",
   "metadata": {},
   "source": [
    "Pair Problem\n",
    "\n",
    "This question was asked at a Google interview.\n",
    "\n",
    "Imagine there are 100 people in line to board a plane that seats 100. The first person in line realizes he lost his boarding pass so when he boards he decides to take a random seat instead. Every person that boards the plane after him will either take their \"proper\" seat, or if that seat is taken, a random seat instead.\n",
    "\n",
    "Question: What is the probability that the last person that boards will end up in his/her proper seat.\n",
    "\n",
    "Write a function one_pass that returns True if the last person sat in their seat and False otherwise. Run this experiment k times to determine the desired probability. What is a good value for k?\n",
    "\n",
    "What is the complexity of your solution? Can you do better?"
   ]
  },
  {
   "cell_type": "code",
   "execution_count": 3,
   "metadata": {},
   "outputs": [],
   "source": [
    "def proper_seat(num):\n",
    "    prob_list = []\n",
    "    for i in range(num-1):\n",
    "        if i == 0:\n",
    "            prob = 1/num\n",
    "        else:\n",
    "            prob = prob_list[i-1]+(1-prob_list[i-1])*(num-i-1)/(num-i)\n",
    "        prob_list.append(prob)\n",
    "    \n",
    "    return prob_list[-1]"
   ]
  },
  {
   "cell_type": "code",
   "execution_count": 8,
   "metadata": {},
   "outputs": [
    {
     "data": {
      "text/plain": [
       "0.9930555555555556"
      ]
     },
     "execution_count": 8,
     "metadata": {},
     "output_type": "execute_result"
    }
   ],
   "source": [
    "proper_seat(6)"
   ]
  },
  {
   "cell_type": "code",
   "execution_count": null,
   "metadata": {},
   "outputs": [],
   "source": [
    "import numpy as np\n",
    "def one_pass(n_seats=100):\n",
    "    ''' \n",
    "    WLOG we can assume that all 100 people are lined up in order (unbeknownst to them)\n",
    "    '''\n",
    "    # first person chooses random seat\n",
    "    first_person = np.random.randint(0, n_seats)\n",
    "    \n",
    "    # case first person randomly chooses his actual seat\n",
    "    if first_person == 0:\n",
    "        return True\n",
    "    \n",
    "    # case first person randomly chooses last seat\n",
    "    if first_person == n_seats-1:\n",
    "        return False\n",
    "    \n",
    "    # because of the ordered list we can have everyone up to the seat \n",
    "    # chosen by the first person automatically sit without any hiccups\n",
    "    seats_taken_so_far = list(range(1, first_person))\n",
    "    \n",
    "    # Now we repeat a variation of the identical problem but with\n",
    "    # a new person taking the role that the first person did previously\n",
    "    while(len(seats_taken_so_far) != n_seats-1):\n",
    "        seats_left = set(list(range(n_seats))) - set(seats_taken_so_far) \n",
    "        new_person = np.random.choice(list(seats_left))\n",
    "        if new_person == 0:\n",
    "            return True\n",
    "        if new_person == n_seats-1:\n",
    "            return False\n",
    "        seats_taken_so_far.extend(list(range(first_person, new_person)))\n",
    "        first_person = new_person\n",
    "    \n",
    "    seats_left = set(list(range(n_seats))) - set(seats_taken_so_far) \n",
    "    \n",
    "    last_person = np.random.choice(list(seats_left))\n",
    "    if last_person == n_seats-1:\n",
    "        return True\n",
    "    else:\n",
    "        return False"
   ]
  }
 ],
 "metadata": {
  "kernelspec": {
   "display_name": "Python 3",
   "language": "python",
   "name": "python3"
  },
  "language_info": {
   "codemirror_mode": {
    "name": "ipython",
    "version": 3
   },
   "file_extension": ".py",
   "mimetype": "text/x-python",
   "name": "python",
   "nbconvert_exporter": "python",
   "pygments_lexer": "ipython3",
   "version": "3.6.4"
  }
 },
 "nbformat": 4,
 "nbformat_minor": 2
}
