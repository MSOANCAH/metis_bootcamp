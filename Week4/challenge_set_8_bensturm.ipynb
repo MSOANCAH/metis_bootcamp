{
 "cells": [
  {
   "cell_type": "markdown",
   "metadata": {},
   "source": [
    "Topic:        Challenge Set 8 <br />\n",
    "Subject:      Classification Error Metrics<br />\n",
    "Date:         05/07/2018 <br />\n",
    "Name:         Ben Sturm <br />"
   ]
  },
  {
   "cell_type": "markdown",
   "metadata": {},
   "source": [
    "### Challenge 1\n",
    "\n",
    "For the house representatives data set, calculate the accuracy, precision, recall and f1 scores of each classifier you built (on the test set)."
   ]
  },
  {
   "cell_type": "markdown",
   "metadata": {},
   "source": [
    "I'm going to start this challenge by loading in the votes dataframe that was pickled in the previous challenge set."
   ]
  },
  {
   "cell_type": "code",
   "execution_count": 3,
   "metadata": {},
   "outputs": [],
   "source": [
    "import pandas as pd\n",
    "import numpy as np"
   ]
  },
  {
   "cell_type": "code",
   "execution_count": 4,
   "metadata": {},
   "outputs": [],
   "source": [
    "votes3 = pd.read_pickle('votes3.pkl')"
   ]
  },
  {
   "cell_type": "code",
   "execution_count": 11,
   "metadata": {},
   "outputs": [],
   "source": [
    "from sklearn.neighbors import KNeighborsClassifier\n",
    "from sklearn.linear_model import LogisticRegression\n",
    "from sklearn.naive_bayes import GaussianNB\n",
    "from sklearn.svm import SVC\n",
    "from sklearn.tree import DecisionTreeClassifier\n",
    "from sklearn.ensemble import RandomForestClassifier\n",
    "from sklearn.model_selection import train_test_split\n",
    "from sklearn.metrics import accuracy_score\n",
    "from sklearn.metrics import classification_report"
   ]
  },
  {
   "cell_type": "code",
   "execution_count": 7,
   "metadata": {},
   "outputs": [
    {
     "data": {
      "text/html": [
       "<div>\n",
       "<style scoped>\n",
       "    .dataframe tbody tr th:only-of-type {\n",
       "        vertical-align: middle;\n",
       "    }\n",
       "\n",
       "    .dataframe tbody tr th {\n",
       "        vertical-align: top;\n",
       "    }\n",
       "\n",
       "    .dataframe thead th {\n",
       "        text-align: right;\n",
       "    }\n",
       "</style>\n",
       "<table border=\"1\" class=\"dataframe\">\n",
       "  <thead>\n",
       "    <tr style=\"text-align: right;\">\n",
       "      <th></th>\n",
       "      <th>party</th>\n",
       "      <th>vote1</th>\n",
       "      <th>vote2</th>\n",
       "      <th>vote3</th>\n",
       "      <th>vote4</th>\n",
       "      <th>vote5</th>\n",
       "      <th>vote6</th>\n",
       "      <th>vote7</th>\n",
       "      <th>vote8</th>\n",
       "      <th>vote9</th>\n",
       "      <th>vote10</th>\n",
       "      <th>vote11</th>\n",
       "      <th>vote12</th>\n",
       "      <th>vote13</th>\n",
       "      <th>vote14</th>\n",
       "      <th>vote15</th>\n",
       "      <th>vote16</th>\n",
       "    </tr>\n",
       "  </thead>\n",
       "  <tbody>\n",
       "    <tr>\n",
       "      <th>0</th>\n",
       "      <td>republican</td>\n",
       "      <td>0.00000</td>\n",
       "      <td>1.0</td>\n",
       "      <td>0.0</td>\n",
       "      <td>1.000000</td>\n",
       "      <td>1.000000</td>\n",
       "      <td>1.0</td>\n",
       "      <td>0.0</td>\n",
       "      <td>0.0</td>\n",
       "      <td>0.0</td>\n",
       "      <td>1.0</td>\n",
       "      <td>0.362319</td>\n",
       "      <td>1.000000</td>\n",
       "      <td>1.0</td>\n",
       "      <td>1.0</td>\n",
       "      <td>0.0</td>\n",
       "      <td>1.000000</td>\n",
       "    </tr>\n",
       "    <tr>\n",
       "      <th>1</th>\n",
       "      <td>republican</td>\n",
       "      <td>0.00000</td>\n",
       "      <td>1.0</td>\n",
       "      <td>0.0</td>\n",
       "      <td>1.000000</td>\n",
       "      <td>1.000000</td>\n",
       "      <td>1.0</td>\n",
       "      <td>0.0</td>\n",
       "      <td>0.0</td>\n",
       "      <td>0.0</td>\n",
       "      <td>0.0</td>\n",
       "      <td>0.000000</td>\n",
       "      <td>1.000000</td>\n",
       "      <td>1.0</td>\n",
       "      <td>1.0</td>\n",
       "      <td>0.0</td>\n",
       "      <td>0.812689</td>\n",
       "    </tr>\n",
       "    <tr>\n",
       "      <th>2</th>\n",
       "      <td>democrat</td>\n",
       "      <td>0.44208</td>\n",
       "      <td>1.0</td>\n",
       "      <td>1.0</td>\n",
       "      <td>0.417453</td>\n",
       "      <td>1.000000</td>\n",
       "      <td>1.0</td>\n",
       "      <td>0.0</td>\n",
       "      <td>0.0</td>\n",
       "      <td>0.0</td>\n",
       "      <td>0.0</td>\n",
       "      <td>1.000000</td>\n",
       "      <td>0.000000</td>\n",
       "      <td>1.0</td>\n",
       "      <td>1.0</td>\n",
       "      <td>0.0</td>\n",
       "      <td>0.000000</td>\n",
       "    </tr>\n",
       "    <tr>\n",
       "      <th>3</th>\n",
       "      <td>democrat</td>\n",
       "      <td>0.00000</td>\n",
       "      <td>1.0</td>\n",
       "      <td>1.0</td>\n",
       "      <td>0.000000</td>\n",
       "      <td>0.504762</td>\n",
       "      <td>1.0</td>\n",
       "      <td>0.0</td>\n",
       "      <td>0.0</td>\n",
       "      <td>0.0</td>\n",
       "      <td>0.0</td>\n",
       "      <td>1.000000</td>\n",
       "      <td>0.000000</td>\n",
       "      <td>1.0</td>\n",
       "      <td>0.0</td>\n",
       "      <td>0.0</td>\n",
       "      <td>1.000000</td>\n",
       "    </tr>\n",
       "    <tr>\n",
       "      <th>4</th>\n",
       "      <td>democrat</td>\n",
       "      <td>1.00000</td>\n",
       "      <td>1.0</td>\n",
       "      <td>1.0</td>\n",
       "      <td>0.000000</td>\n",
       "      <td>1.000000</td>\n",
       "      <td>1.0</td>\n",
       "      <td>0.0</td>\n",
       "      <td>0.0</td>\n",
       "      <td>0.0</td>\n",
       "      <td>0.0</td>\n",
       "      <td>1.000000</td>\n",
       "      <td>0.423267</td>\n",
       "      <td>1.0</td>\n",
       "      <td>1.0</td>\n",
       "      <td>1.0</td>\n",
       "      <td>1.000000</td>\n",
       "    </tr>\n",
       "  </tbody>\n",
       "</table>\n",
       "</div>"
      ],
      "text/plain": [
       "        party    vote1  vote2  vote3     vote4     vote5  vote6  vote7  vote8  \\\n",
       "0  republican  0.00000    1.0    0.0  1.000000  1.000000    1.0    0.0    0.0   \n",
       "1  republican  0.00000    1.0    0.0  1.000000  1.000000    1.0    0.0    0.0   \n",
       "2    democrat  0.44208    1.0    1.0  0.417453  1.000000    1.0    0.0    0.0   \n",
       "3    democrat  0.00000    1.0    1.0  0.000000  0.504762    1.0    0.0    0.0   \n",
       "4    democrat  1.00000    1.0    1.0  0.000000  1.000000    1.0    0.0    0.0   \n",
       "\n",
       "   vote9  vote10    vote11    vote12  vote13  vote14  vote15    vote16  \n",
       "0    0.0     1.0  0.362319  1.000000     1.0     1.0     0.0  1.000000  \n",
       "1    0.0     0.0  0.000000  1.000000     1.0     1.0     0.0  0.812689  \n",
       "2    0.0     0.0  1.000000  0.000000     1.0     1.0     0.0  0.000000  \n",
       "3    0.0     0.0  1.000000  0.000000     1.0     0.0     0.0  1.000000  \n",
       "4    0.0     0.0  1.000000  0.423267     1.0     1.0     1.0  1.000000  "
      ]
     },
     "execution_count": 7,
     "metadata": {},
     "output_type": "execute_result"
    }
   ],
   "source": [
    "votes3.head()"
   ]
  },
  {
   "cell_type": "code",
   "execution_count": 8,
   "metadata": {},
   "outputs": [],
   "source": [
    "y = votes3['party']\n",
    "X = votes3.drop('party',axis=1)"
   ]
  },
  {
   "cell_type": "code",
   "execution_count": 9,
   "metadata": {},
   "outputs": [],
   "source": [
    "Xtrain, Xtest, ytrain, ytest = train_test_split(X,y, test_size=.30, random_state=4444)"
   ]
  },
  {
   "cell_type": "code",
   "execution_count": 20,
   "metadata": {},
   "outputs": [
    {
     "name": "stdout",
     "output_type": "stream",
     "text": [
      "KNN test data accuracy score: 0.931\n"
     ]
    }
   ],
   "source": [
    "knn = KNeighborsClassifier(n_neighbors=6).fit(Xtrain,ytrain)\n",
    "y_predict = knn.predict(Xtest)\n",
    "print(\"KNN test data accuracy score: {:.3f}\".format(accuracy_score(ytest,y_predict)))"
   ]
  },
  {
   "cell_type": "code",
   "execution_count": 21,
   "metadata": {},
   "outputs": [
    {
     "name": "stdout",
     "output_type": "stream",
     "text": [
      "KNN summary report\n",
      "             precision    recall  f1-score   support\n",
      "\n",
      "   democrat       0.93      0.96      0.94        77\n",
      " republican       0.94      0.89      0.91        54\n",
      "\n",
      "avg / total       0.93      0.93      0.93       131\n",
      "\n"
     ]
    }
   ],
   "source": [
    "print(\"KNN summary report\")\n",
    "print(classification_report(ytest,y_predict))"
   ]
  },
  {
   "cell_type": "code",
   "execution_count": 19,
   "metadata": {},
   "outputs": [
    {
     "name": "stdout",
     "output_type": "stream",
     "text": [
      "Logistic test data accuracy score: 0.939\n"
     ]
    }
   ],
   "source": [
    "logreg = LogisticRegression(C=1).fit(Xtrain,ytrain)\n",
    "ytest_pred = logreg.predict(Xtest)\n",
    "print(\"Logistic test data accuracy score: {:.3f}\".format(accuracy_score(ytest,ytest_pred)))"
   ]
  },
  {
   "cell_type": "code",
   "execution_count": 22,
   "metadata": {},
   "outputs": [
    {
     "name": "stdout",
     "output_type": "stream",
     "text": [
      "Logistic regression summary report\n",
      "             precision    recall  f1-score   support\n",
      "\n",
      "   democrat       0.93      0.97      0.95        77\n",
      " republican       0.96      0.89      0.92        54\n",
      "\n",
      "avg / total       0.94      0.94      0.94       131\n",
      "\n"
     ]
    }
   ],
   "source": [
    "print(\"Logistic regression summary report\")\n",
    "print(classification_report(ytest,ytest_pred))"
   ]
  },
  {
   "cell_type": "code",
   "execution_count": 27,
   "metadata": {},
   "outputs": [
    {
     "name": "stdout",
     "output_type": "stream",
     "text": [
      "Gaussian Naive Bayes test accuracy 0.939\n"
     ]
    }
   ],
   "source": [
    "gnb = GaussianNB().fit(Xtrain,ytrain)\n",
    "gnb_score = gnb.score(Xtest,ytest)\n",
    "ytest_pred = gnb.predict(Xtest)\n",
    "print('Gaussian Naive Bayes test accuracy {:.3f}'.format(gnb_score))"
   ]
  },
  {
   "cell_type": "code",
   "execution_count": 28,
   "metadata": {},
   "outputs": [
    {
     "name": "stdout",
     "output_type": "stream",
     "text": [
      "Gaussian Naive Bayes summary report\n",
      "             precision    recall  f1-score   support\n",
      "\n",
      "   democrat       0.92      0.99      0.95        77\n",
      " republican       0.98      0.87      0.92        54\n",
      "\n",
      "avg / total       0.94      0.94      0.94       131\n",
      "\n"
     ]
    }
   ],
   "source": [
    "print(\"Gaussian Naive Bayes summary report\")\n",
    "print(classification_report(ytest,ytest_pred))"
   ]
  },
  {
   "cell_type": "code",
   "execution_count": 29,
   "metadata": {},
   "outputs": [
    {
     "name": "stdout",
     "output_type": "stream",
     "text": [
      "SVM Classifier test accuracy: 0.954\n"
     ]
    }
   ],
   "source": [
    "svm = SVC().fit(Xtrain,ytrain)\n",
    "svm_score = svm.score(Xtest,ytest)\n",
    "print('SVM Classifier test accuracy: {:.3f}'.format(svm_score))"
   ]
  },
  {
   "cell_type": "code",
   "execution_count": 30,
   "metadata": {},
   "outputs": [
    {
     "name": "stdout",
     "output_type": "stream",
     "text": [
      "SVM summary report\n",
      "             precision    recall  f1-score   support\n",
      "\n",
      "   democrat       0.95      0.97      0.96        77\n",
      " republican       0.96      0.93      0.94        54\n",
      "\n",
      "avg / total       0.95      0.95      0.95       131\n",
      "\n"
     ]
    }
   ],
   "source": [
    "ytest_pred = svm.predict(Xtest)\n",
    "print(\"SVM summary report\")\n",
    "print(classification_report(ytest,ytest_pred))"
   ]
  },
  {
   "cell_type": "code",
   "execution_count": 31,
   "metadata": {},
   "outputs": [
    {
     "name": "stdout",
     "output_type": "stream",
     "text": [
      "Decision Tree test accuracy: 0.954\n"
     ]
    }
   ],
   "source": [
    "tree = DecisionTreeClassifier().fit(Xtrain,ytrain)\n",
    "tree_score = tree.score(Xtest,ytest)\n",
    "print('Decision Tree test accuracy: {:.3f}'.format(tree_score))"
   ]
  },
  {
   "cell_type": "code",
   "execution_count": 33,
   "metadata": {},
   "outputs": [
    {
     "name": "stdout",
     "output_type": "stream",
     "text": [
      "Decision Tree summary report\n",
      "             precision    recall  f1-score   support\n",
      "\n",
      "   democrat       0.95      0.97      0.96        77\n",
      " republican       0.96      0.93      0.94        54\n",
      "\n",
      "avg / total       0.95      0.95      0.95       131\n",
      "\n"
     ]
    }
   ],
   "source": [
    "ytest_pred = tree.predict(Xtest)\n",
    "print(\"Decision Tree summary report\")\n",
    "print(classification_report(ytest,ytest_pred))"
   ]
  },
  {
   "cell_type": "code",
   "execution_count": 34,
   "metadata": {},
   "outputs": [
    {
     "name": "stdout",
     "output_type": "stream",
     "text": [
      "Random Forest test accuracy: 0.947\n"
     ]
    }
   ],
   "source": [
    "forest = RandomForestClassifier().fit(Xtrain,ytrain)\n",
    "forest_score = forest.score(Xtest,ytest)\n",
    "print('Random Forest test accuracy: {:.3f}'.format(forest_score))"
   ]
  },
  {
   "cell_type": "code",
   "execution_count": 35,
   "metadata": {},
   "outputs": [
    {
     "name": "stdout",
     "output_type": "stream",
     "text": [
      "Random Forest test accuracy\n",
      "             precision    recall  f1-score   support\n",
      "\n",
      "   democrat       0.94      0.97      0.96        77\n",
      " republican       0.96      0.91      0.93        54\n",
      "\n",
      "avg / total       0.95      0.95      0.95       131\n",
      "\n"
     ]
    }
   ],
   "source": [
    "ytest_pred = forest.predict(Xtest)\n",
    "print(\"Random Forest test accuracy\")\n",
    "print(classification_report(ytest,ytest_pred))"
   ]
  },
  {
   "cell_type": "markdown",
   "metadata": {},
   "source": [
    "### Challenge 2\n",
    "\n",
    "For each, draw the ROC curve and calculate the AUC."
   ]
  },
  {
   "cell_type": "code",
   "execution_count": 180,
   "metadata": {},
   "outputs": [],
   "source": [
    "from sklearn.metrics import roc_curve\n",
    "from sklearn.metrics import roc_auc_score"
   ]
  },
  {
   "cell_type": "code",
   "execution_count": 181,
   "metadata": {},
   "outputs": [],
   "source": [
    "import matplotlib.pyplot as plt\n",
    "\n",
    "%matplotlib inline"
   ]
  },
  {
   "cell_type": "code",
   "execution_count": 182,
   "metadata": {},
   "outputs": [],
   "source": [
    "def replace_ys(y):\n",
    "    # function to replace target variables with 1s and 0s for democrat and republican\n",
    "    y2 = y.replace('democrat',1)\n",
    "    y2 = y2.replace('republican',0)\n",
    "    return y2"
   ]
  },
  {
   "cell_type": "code",
   "execution_count": 183,
   "metadata": {},
   "outputs": [],
   "source": [
    "ytrain2 = replace_ys(ytrain)\n",
    "ytest2 = replace_ys(ytest)"
   ]
  },
  {
   "cell_type": "code",
   "execution_count": 184,
   "metadata": {},
   "outputs": [],
   "source": [
    "logreg = LogisticRegression(C=1).fit(Xtrain,ytrain2)"
   ]
  },
  {
   "cell_type": "code",
   "execution_count": 185,
   "metadata": {},
   "outputs": [],
   "source": [
    "logreg.predict_proba(Xtest)\n",
    "logreg_auc = roc_auc_score(ytest2,logreg.predict_proba(Xtest)[:,1])"
   ]
  },
  {
   "cell_type": "code",
   "execution_count": 186,
   "metadata": {},
   "outputs": [
    {
     "data": {
      "text/plain": [
       "0.6475225225225225"
      ]
     },
     "execution_count": 186,
     "metadata": {},
     "output_type": "execute_result"
    }
   ],
   "source": [
    "logreg_auc"
   ]
  },
  {
   "cell_type": "code",
   "execution_count": 187,
   "metadata": {},
   "outputs": [],
   "source": [
    "fpr_logreg, tpr_logreg, threshold_logreg = roc_curve(ytest2,logreg.predict_proba(Xtest)[:,1])"
   ]
  },
  {
   "cell_type": "code",
   "execution_count": 188,
   "metadata": {},
   "outputs": [
    {
     "data": {
      "text/plain": [
       "0.6756756756756757"
      ]
     },
     "execution_count": 188,
     "metadata": {},
     "output_type": "execute_result"
    }
   ],
   "source": [
    "knn = KNeighborsClassifier(n_neighbors=6).fit(Xtrain,ytrain2)\n",
    "knn.predict_proba(Xtest)\n",
    "knn_auc = roc_auc_score(ytest2,knn.predict_proba(Xtest)[:,1])\n",
    "knn_auc"
   ]
  },
  {
   "cell_type": "code",
   "execution_count": 189,
   "metadata": {},
   "outputs": [],
   "source": [
    "fpr_knn, tpr_knn, threshold_knn = roc_curve(ytest2, knn.predict_proba(Xtest)[:,1])"
   ]
  },
  {
   "cell_type": "code",
   "execution_count": 190,
   "metadata": {},
   "outputs": [],
   "source": [
    "gnb = GaussianNB().fit(Xtrain,ytrain2)\n",
    "gnb_auc = roc_auc_score(ytest2,gnb.predict_proba(Xtest)[:,1])\n",
    "fpr_gnb, tpr_gnb, threshold_gnb = roc_curve(ytest2, gnb.predict_proba(Xtest)[:,1])"
   ]
  },
  {
   "cell_type": "code",
   "execution_count": 191,
   "metadata": {},
   "outputs": [],
   "source": [
    "svm = SVC().fit(Xtrain,ytrain2)\n",
    "#svm.decision_function(Xtest)\n",
    "svm_auc = roc_auc_score(ytest2,svm.decision_function(Xtest))\n",
    "fpr_svm, tpr_svm, threshold_svm = roc_curve(ytest2,svm.decision_function(Xtest))"
   ]
  },
  {
   "cell_type": "code",
   "execution_count": 192,
   "metadata": {},
   "outputs": [],
   "source": [
    "tree = DecisionTreeClassifier().fit(Xtrain,ytrain2)\n",
    "tree_auc = roc_auc_score(ytest2,tree.predict_proba(Xtest)[:,1])\n",
    "fpr_tree, tpr_tree, threshold_tree = roc_curve(ytest2,tree.predict_proba(Xtest)[:,1])"
   ]
  },
  {
   "cell_type": "code",
   "execution_count": 193,
   "metadata": {},
   "outputs": [],
   "source": [
    "forest = RandomForestClassifier().fit(Xtrain,ytrain2)\n",
    "forest_auc = roc_auc_score(ytest2,forest.predict_proba(Xtest)[:,1])\n",
    "fpr_forest, tpr_forest, threshold_forest = roc_curve(ytest2,forest.predict_proba(Xtest)[:,1])"
   ]
  },
  {
   "cell_type": "code",
   "execution_count": 100,
   "metadata": {},
   "outputs": [
    {
     "data": {
      "text/plain": [
       "<matplotlib.legend.Legend at 0x1a13c72780>"
      ]
     },
     "execution_count": 100,
     "metadata": {},
     "output_type": "execute_result"
    },
    {
     "data": {
      "image/png": "[encoded data removed]",
      "text/plain": [
       "<matplotlib.figure.Figure at 0x1a13dd72b0>"
      ]
     },
     "metadata": {},
     "output_type": "display_data"
    }
   ],
   "source": [
    "fig, ax = plt.subplots(figsize=(10,8))\n",
    "lw=3\n",
    "ax.plot(fpr_logreg,tpr_logreg,'-',label='logistic regression',linewidth=lw)\n",
    "ax.plot(fpr_knn,tpr_knn,'--',label='knn',linewidth=lw)\n",
    "ax.plot(fpr_gnb,tpr_gnb,':',color='m',label='Gaussian Naive Bayes',linewidth=lw)\n",
    "ax.plot(fpr_svm,tpr_svm,'-.',color='darkred', label='SVM',linewidth=lw)\n",
    "ax.plot(fpr_tree,tpr_tree,'--',color='darkgreen',label='decision tree',linewidth=lw)\n",
    "ax.plot(fpr_forest,tpr_forest,':',color='c',label='random forest',linewidth=lw)\n",
    "ax.set_xlabel('False Positive Rate',fontsize=14)\n",
    "ax.set_ylabel('True Positive Rate',fontsize=14)\n",
    "ax.set_title('Comparison of the ROC curves for different models',fontsize=14)\n",
    "ax.legend()"
   ]
  },
  {
   "cell_type": "code",
   "execution_count": 103,
   "metadata": {},
   "outputs": [
    {
     "name": "stdout",
     "output_type": "stream",
     "text": [
      "The logistic regression AUC is: 0.988\n",
      "The KNN AUC is: 0.948\n",
      "The Gaussian Naive Bayes AUC is: 0.977\n",
      "The SVM AUC is: 0.995\n",
      "The decision tree AUC is: 0.934\n",
      "The random forest AUC is: 0.993\n"
     ]
    }
   ],
   "source": [
    "print(\"The logistic regression AUC is: {:.3f}\".format(logreg_auc))\n",
    "print(\"The KNN AUC is: {:.3f}\".format(knn_auc))\n",
    "print(\"The Gaussian Naive Bayes AUC is: {:.3f}\".format(gnb_auc))\n",
    "print(\"The SVM AUC is: {:.3f}\".format(svm_auc))\n",
    "print(\"The decision tree AUC is: {:.3f}\".format(tree_auc))\n",
    "print(\"The random forest AUC is: {:.3f}\".format(forest_auc))"
   ]
  },
  {
   "cell_type": "markdown",
   "metadata": {},
   "source": [
    "### Challenge 3\n",
    "\n",
    "Calculate the same metrics you did in challenge 1, but this time in a cross validation scheme with the cross_val_score function (like in Challenge 9)."
   ]
  },
  {
   "cell_type": "code",
   "execution_count": 106,
   "metadata": {},
   "outputs": [],
   "source": [
    "from sklearn.model_selection import cross_val_score"
   ]
  },
  {
   "cell_type": "code",
   "execution_count": 111,
   "metadata": {},
   "outputs": [],
   "source": [
    "logreg_cv = cross_val_score(LogisticRegression(C=1),Xtrain,ytrain2)"
   ]
  },
  {
   "cell_type": "code",
   "execution_count": 114,
   "metadata": {},
   "outputs": [],
   "source": [
    "knn_cv = cross_val_score(KNeighborsClassifier(n_neighbors=6),Xtrain,ytrain2)"
   ]
  },
  {
   "cell_type": "code",
   "execution_count": 116,
   "metadata": {},
   "outputs": [],
   "source": [
    "gnb_cv = cross_val_score(GaussianNB(),Xtrain,ytrain2)"
   ]
  },
  {
   "cell_type": "code",
   "execution_count": 118,
   "metadata": {},
   "outputs": [],
   "source": [
    "svm_cv = cross_val_score(SVC(),Xtrain,ytrain2)"
   ]
  },
  {
   "cell_type": "code",
   "execution_count": 121,
   "metadata": {},
   "outputs": [],
   "source": [
    "tree_cv = cross_val_score(DecisionTreeClassifier(),Xtrain,ytrain2)"
   ]
  },
  {
   "cell_type": "code",
   "execution_count": 124,
   "metadata": {},
   "outputs": [],
   "source": [
    "forest_cv = cross_val_score(RandomForestClassifier(),Xtrain,ytrain2)"
   ]
  },
  {
   "cell_type": "code",
   "execution_count": 126,
   "metadata": {},
   "outputs": [
    {
     "name": "stdout",
     "output_type": "stream",
     "text": [
      "Logistic Regression average cross-validation accuracy: 0.967\n",
      "K nearest neighbors average cross-validation accuracy: 0.941\n",
      "Gaussian Naive Bayes average cross-validation accuracy: 0.928\n",
      "Support Vector Classifier average cross-validation accuracy: 0.964\n",
      "Decision tree average cross-validation accuracy: 0.951\n",
      "Random forest cross-validation accuracy: 0.957\n"
     ]
    }
   ],
   "source": [
    "print(\"Logistic Regression average cross-validation accuracy: {:.3f}\".format(np.mean(logreg_cv)))\n",
    "print(\"K nearest neighbors average cross-validation accuracy: {:.3f}\".format(np.mean(knn_cv)))\n",
    "print(\"Gaussian Naive Bayes average cross-validation accuracy: {:.3f}\".format(np.mean(gnb_cv)))\n",
    "print(\"Support Vector Classifier average cross-validation accuracy: {:.3f}\".format(np.mean(svm_cv)))\n",
    "print(\"Decision tree average cross-validation accuracy: {:.3f}\".format(np.mean(tree_cv)))\n",
    "print(\"Random forest cross-validation accuracy: {:.3f}\".format(np.mean(forest_cv)))"
   ]
  },
  {
   "cell_type": "markdown",
   "metadata": {},
   "source": [
    "### Challenge 4\n",
    "\n",
    "For your movie classifiers, calculate the precision and recall for each class."
   ]
  },
  {
   "cell_type": "code",
   "execution_count": 127,
   "metadata": {},
   "outputs": [],
   "source": [
    "movies2 = pd.read_pickle('movies2.pkl')"
   ]
  },
  {
   "cell_type": "code",
   "execution_count": 128,
   "metadata": {},
   "outputs": [],
   "source": [
    "y = movies2['Rating']\n",
    "X = movies2[['Budget','DomesticTotalGross','Runtime','ReleaseMonth']]"
   ]
  },
  {
   "cell_type": "code",
   "execution_count": 129,
   "metadata": {},
   "outputs": [],
   "source": [
    "Xtrain, Xtest, ytrain, ytest = train_test_split(X,y,test_size=.3,random_state=4444)"
   ]
  },
  {
   "cell_type": "code",
   "execution_count": 154,
   "metadata": {},
   "outputs": [],
   "source": [
    "logreg_m = LogisticRegression(C=1).fit(Xtrain,ytrain)\n",
    "y_pred1 = logreg_m.predict(Xtest)"
   ]
  },
  {
   "cell_type": "code",
   "execution_count": 155,
   "metadata": {},
   "outputs": [
    {
     "name": "stdout",
     "output_type": "stream",
     "text": [
      "Logistic Regression classification report for movie data\n",
      "             precision    recall  f1-score   support\n",
      "\n",
      "         PG       0.00      0.00      0.00         6\n",
      "      PG-13       0.48      0.92      0.63        12\n",
      "          R       0.50      0.22      0.31         9\n",
      "\n",
      "avg / total       0.38      0.48      0.38        27\n",
      "\n"
     ]
    },
    {
     "name": "stderr",
     "output_type": "stream",
     "text": [
      "/Users/bwsturm/anaconda/lib/python3.6/site-packages/sklearn/metrics/classification.py:1135: UndefinedMetricWarning: Precision and F-score are ill-defined and being set to 0.0 in labels with no predicted samples.\n",
      "  'precision', 'predicted', average, warn_for)\n"
     ]
    }
   ],
   "source": [
    "print(\"Logistic Regression classification report for movie data\")\n",
    "print(classification_report(ytest,y_pred1))"
   ]
  },
  {
   "cell_type": "code",
   "execution_count": 156,
   "metadata": {},
   "outputs": [],
   "source": [
    "knn_m = KNeighborsClassifier(n_neighbors=5).fit(Xtrain,ytrain)\n",
    "y_pred2 = knn_m.predict(Xtest)"
   ]
  },
  {
   "cell_type": "code",
   "execution_count": 157,
   "metadata": {},
   "outputs": [
    {
     "name": "stdout",
     "output_type": "stream",
     "text": [
      "K Nearest Neighbors classification report for movie data\n",
      "             precision    recall  f1-score   support\n",
      "\n",
      "         PG       0.50      0.17      0.25         6\n",
      "      PG-13       0.47      0.58      0.52        12\n",
      "          R       0.40      0.44      0.42         9\n",
      "\n",
      "avg / total       0.45      0.44      0.43        27\n",
      "\n"
     ]
    }
   ],
   "source": [
    "print(\"K Nearest Neighbors classification report for movie data\")\n",
    "print(classification_report(ytest,y_pred2))"
   ]
  },
  {
   "cell_type": "markdown",
   "metadata": {},
   "source": [
    "### Challenge 5\n",
    "\n",
    "Draw the ROC curve (and calculate AUC) for the logistic regression classifier from challenge 12."
   ]
  },
  {
   "cell_type": "code",
   "execution_count": 158,
   "metadata": {},
   "outputs": [],
   "source": [
    "cancer = pd.read_pickle('cancer.pkl')"
   ]
  },
  {
   "cell_type": "code",
   "execution_count": 166,
   "metadata": {},
   "outputs": [],
   "source": [
    "y = cancer['outcome']\n",
    "X = cancer.drop('outcome',axis=1)\n",
    "Xtrain, Xtest, ytrain, ytest = train_test_split(X,y,test_size=.30, random_state=4444)"
   ]
  },
  {
   "cell_type": "code",
   "execution_count": 170,
   "metadata": {},
   "outputs": [
    {
     "data": {
      "text/plain": [
       "1    74\n",
       "0    18\n",
       "Name: outcome, dtype: int64"
      ]
     },
     "execution_count": 170,
     "metadata": {},
     "output_type": "execute_result"
    }
   ],
   "source": [
    "ytrain = ytrain.replace(2,0)\n",
    "ytest = ytest.replace(2,0)\n",
    "ytest.value_counts()"
   ]
  },
  {
   "cell_type": "code",
   "execution_count": 173,
   "metadata": {},
   "outputs": [],
   "source": [
    "logreg = LogisticRegression(C=1).fit(Xtrain,ytrain)\n",
    "logreg.predict_proba(Xtest)\n",
    "logreg_auc = roc_auc_score(ytest,logreg.predict_proba(Xtest)[:,1])"
   ]
  },
  {
   "cell_type": "code",
   "execution_count": 174,
   "metadata": {},
   "outputs": [],
   "source": [
    "fpr_logreg, tpr_logreg, threshold_logreg = roc_curve(ytest,logreg.predict_proba(Xtest)[:,1])"
   ]
  },
  {
   "cell_type": "code",
   "execution_count": 176,
   "metadata": {},
   "outputs": [
    {
     "data": {
      "text/plain": [
       "<matplotlib.legend.Legend at 0x1a153cd9e8>"
      ]
     },
     "execution_count": 176,
     "metadata": {},
     "output_type": "execute_result"
    },
    {
     "data": {
      "image/png": "[encoded data removed]",
      "text/plain": [
       "<matplotlib.figure.Figure at 0x1a1522a7b8>"
      ]
     },
     "metadata": {},
     "output_type": "display_data"
    }
   ],
   "source": [
    "fig, ax = plt.subplots(figsize=(10,8))\n",
    "lw=3\n",
    "ax.plot(fpr_logreg,tpr_logreg,'-',label='logistic regression',linewidth=lw)\n",
    "ax.set_xlabel('False Positive Rate', fontsize=14)\n",
    "ax.set_ylabel('True Positive Rate', fontsize=14)\n",
    "ax.set_title('ROC curve for logistic regression classifier of cancer dataset', fontsize=14)\n",
    "ax.legend()"
   ]
  },
  {
   "cell_type": "code",
   "execution_count": 177,
   "metadata": {},
   "outputs": [
    {
     "name": "stdout",
     "output_type": "stream",
     "text": [
      "The logistic regression AUC is: 0.648\n"
     ]
    }
   ],
   "source": [
    "print(\"The logistic regression AUC is: {:.3f}\".format(logreg_auc))"
   ]
  },
  {
   "cell_type": "code",
   "execution_count": 194,
   "metadata": {},
   "outputs": [
    {
     "data": {
      "text/plain": [
       "array([[0.28522137, 0.71477863],\n",
       "       [0.20472187, 0.79527813],\n",
       "       [0.23092165, 0.76907835],\n",
       "       [0.22461738, 0.77538262],\n",
       "       [0.22982224, 0.77017776],\n",
       "       [0.1947697 , 0.8052303 ],\n",
       "       [0.22720051, 0.77279949],\n",
       "       [0.18628371, 0.81371629],\n",
       "       [0.19136073, 0.80863927],\n",
       "       [0.29982626, 0.70017374],\n",
       "       [0.2617701 , 0.7382299 ],\n",
       "       [0.28694532, 0.71305468],\n",
       "       [0.1975649 , 0.8024351 ],\n",
       "       [0.58627849, 0.41372151],\n",
       "       [0.23195515, 0.76804485],\n",
       "       [0.30714902, 0.69285098],\n",
       "       [0.18318847, 0.81681153],\n",
       "       [0.1947697 , 0.8052303 ],\n",
       "       [0.25151401, 0.74848599],\n",
       "       [0.29040569, 0.70959431],\n",
       "       [0.18756658, 0.81243342],\n",
       "       [0.25072032, 0.74927968],\n",
       "       [0.23473722, 0.76526278],\n",
       "       [0.33199728, 0.66800272],\n",
       "       [0.23157942, 0.76842058],\n",
       "       [0.25085469, 0.74914531],\n",
       "       [0.34227753, 0.65772247],\n",
       "       [0.27281383, 0.72718617],\n",
       "       [0.2243519 , 0.7756481 ],\n",
       "       [0.21610632, 0.78389368],\n",
       "       [0.29803011, 0.70196989],\n",
       "       [0.28522137, 0.71477863],\n",
       "       [0.46035409, 0.53964591],\n",
       "       [0.28894259, 0.71105741],\n",
       "       [0.24414308, 0.75585692],\n",
       "       [0.22192047, 0.77807953],\n",
       "       [0.25270765, 0.74729235],\n",
       "       [0.20343535, 0.79656465],\n",
       "       [0.23008077, 0.76991923],\n",
       "       [0.21206959, 0.78793041],\n",
       "       [0.20390895, 0.79609105],\n",
       "       [0.25111696, 0.74888304],\n",
       "       [0.23973099, 0.76026901],\n",
       "       [0.27464695, 0.72535305],\n",
       "       [0.47995572, 0.52004428],\n",
       "       [0.25111696, 0.74888304],\n",
       "       [0.21205875, 0.78794125],\n",
       "       [0.26725865, 0.73274135],\n",
       "       [0.36026064, 0.63973936],\n",
       "       [0.24819161, 0.75180839],\n",
       "       [0.3784679 , 0.6215321 ],\n",
       "       [0.22032122, 0.77967878],\n",
       "       [0.36458887, 0.63541113],\n",
       "       [0.30772295, 0.69227705],\n",
       "       [0.19789965, 0.80210035],\n",
       "       [0.17951082, 0.82048918],\n",
       "       [0.18255781, 0.81744219],\n",
       "       [0.23830757, 0.76169243],\n",
       "       [0.25338911, 0.74661089],\n",
       "       [0.22845142, 0.77154858],\n",
       "       [0.27171995, 0.72828005],\n",
       "       [0.21552406, 0.78447594],\n",
       "       [0.23360192, 0.76639808],\n",
       "       [0.21100289, 0.78899711],\n",
       "       [0.18821056, 0.81178944],\n",
       "       [0.23017297, 0.76982703],\n",
       "       [0.1721394 , 0.8278606 ],\n",
       "       [0.18788836, 0.81211164],\n",
       "       [0.22781132, 0.77218868],\n",
       "       [0.24609539, 0.75390461],\n",
       "       [0.30133479, 0.69866521],\n",
       "       [0.25416377, 0.74583623],\n",
       "       [0.18756658, 0.81243342],\n",
       "       [0.2091334 , 0.7908666 ],\n",
       "       [0.22461738, 0.77538262],\n",
       "       [0.25191147, 0.74808853],\n",
       "       [0.28420303, 0.71579697],\n",
       "       [0.30326591, 0.69673409],\n",
       "       [0.19835883, 0.80164117],\n",
       "       [0.26533687, 0.73466313],\n",
       "       [0.25540273, 0.74459727],\n",
       "       [0.22265007, 0.77734993],\n",
       "       [0.23921642, 0.76078358],\n",
       "       [0.2344867 , 0.7655133 ],\n",
       "       [0.40176863, 0.59823137],\n",
       "       [0.18865255, 0.81134745],\n",
       "       [0.20878459, 0.79121541],\n",
       "       [0.30578968, 0.69421032],\n",
       "       [0.23818416, 0.76181584],\n",
       "       [0.19235234, 0.80764766],\n",
       "       [0.24361012, 0.75638988],\n",
       "       [0.21550212, 0.78449788]])"
      ]
     },
     "execution_count": 194,
     "metadata": {},
     "output_type": "execute_result"
    }
   ],
   "source": [
    "logreg.predict_proba(Xtest)"
   ]
  },
  {
   "cell_type": "code",
   "execution_count": null,
   "metadata": {},
   "outputs": [],
   "source": []
  }
 ],
 "metadata": {
  "kernelspec": {
   "display_name": "Python 3",
   "language": "python",
   "name": "python3"
  },
  "language_info": {
   "codemirror_mode": {
    "name": "ipython",
    "version": 3
   },
   "file_extension": ".py",
   "mimetype": "text/x-python",
   "name": "python",
   "nbconvert_exporter": "python",
   "pygments_lexer": "ipython3",
   "version": "3.6.4"
  }
 },
 "nbformat": 4,
 "nbformat_minor": 2
}
