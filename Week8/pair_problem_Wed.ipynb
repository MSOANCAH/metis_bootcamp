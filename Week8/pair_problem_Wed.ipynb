{
 "cells": [
  {
   "cell_type": "code",
   "execution_count": 4,
   "metadata": {},
   "outputs": [],
   "source": [
    "from numpy.random import normal\n",
    "from functools import reduce\n",
    "\n",
    "numbers = normal(loc=27, scale=3, size=12000)"
   ]
  },
  {
   "cell_type": "code",
   "execution_count": 5,
   "metadata": {},
   "outputs": [],
   "source": [
    "def get_mean(nums):\n",
    "    sum_nums = reduce((lambda x, y: x+y),nums)\n",
    "    num_nums = len(nums)\n",
    "    return sum_nums/num_nums"
   ]
  },
  {
   "cell_type": "code",
   "execution_count": 6,
   "metadata": {},
   "outputs": [
    {
     "data": {
      "text/plain": [
       "26.982242079723974"
      ]
     },
     "execution_count": 6,
     "metadata": {},
     "output_type": "execute_result"
    }
   ],
   "source": [
    "get_mean(numbers)"
   ]
  },
  {
   "cell_type": "code",
   "execution_count": 7,
   "metadata": {},
   "outputs": [],
   "source": [
    "def squared_distance(num, mean):\n",
    "    squared_distance = (num-mean)**2\n",
    "    return squared_distance"
   ]
  },
  {
   "cell_type": "code",
   "execution_count": 25,
   "metadata": {},
   "outputs": [],
   "source": [
    "import numpy as np\n",
    "\n",
    "def get_stdev(nums):\n",
    "    mean = get_mean(nums)\n",
    "    squared_distance_list = list(map(lambda x: (x-mean)**2, nums))\n",
    "    sum_squared_distance = reduce((lambda x,y: x+y),squared_distance_list)\n",
    "    num_nums = len(nums)\n",
    "    var = sum_squared_distance/num_nums\n",
    "    stdev = var**(1/2)\n",
    "    \n",
    "    return stdev"
   ]
  },
  {
   "cell_type": "code",
   "execution_count": 26,
   "metadata": {},
   "outputs": [
    {
     "data": {
      "text/plain": [
       "2.9857748064557192"
      ]
     },
     "execution_count": 26,
     "metadata": {},
     "output_type": "execute_result"
    }
   ],
   "source": [
    "get_stdev(numbers)"
   ]
  },
  {
   "cell_type": "code",
   "execution_count": null,
   "metadata": {},
   "outputs": [],
   "source": []
  }
 ],
 "metadata": {
  "kernelspec": {
   "display_name": "Python 3",
   "language": "python",
   "name": "python3"
  },
  "language_info": {
   "codemirror_mode": {
    "name": "ipython",
    "version": 3
   },
   "file_extension": ".py",
   "mimetype": "text/x-python",
   "name": "python",
   "nbconvert_exporter": "python",
   "pygments_lexer": "ipython3",
   "version": "3.6.4"
  }
 },
 "nbformat": 4,
 "nbformat_minor": 2
}
