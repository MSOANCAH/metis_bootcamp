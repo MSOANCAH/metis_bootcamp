{
 "cells": [
  {
   "cell_type": "markdown",
   "metadata": {},
   "source": [
    "## Zero-R\n",
    "\n",
    "Today, we'll be implementing a standard baseline algorithm, ZeroR.\n",
    "\n",
    "ZeroR ignores all predictors, and simply guesses the most commonly seen response. In class imbalanced cases, it is equivalent to guessing the majority case."
   ]
  },
  {
   "cell_type": "markdown",
   "metadata": {},
   "source": [
    "### Interface\n",
    "\n",
    "We'll be using SKLearn's interface for estimators. Follow their Roll your own section to implement the necessary methods to be considered an SKLearn estimator.\n",
    "\n",
    "We'll also use the check_estimator method to confirm that your estimator meets the standards.\n",
    "\n",
    "n.b.: It is not necessary to use the project template, which includes a lot of extra stuff we don't need."
   ]
  },
  {
   "cell_type": "code",
   "execution_count": null,
   "metadata": {},
   "outputs": [],
   "source": [
    "import numpy as np\n",
    "from sklearn.base import BaseEstimator, ClassifierMixin\n",
    "from sklearn.utils.validation import check_X_y, check_array, check_is_fitted\n",
    "from sklearn.utils.multiclass import unique_labels\n",
    "from sklearn.metrics import euclidean_distances\n",
    "class ZeroR(BaseEstimator, ClassifierMixin):\n",
    "    \n",
    "    def __init__(self, demo_param='demo'):\n",
    "        self.demo_param = demo_param\n",
    "        \n",
    "    def fit(self, X, y):\n",
    "\n",
    "         # Check that X and y have correct shape\n",
    "         X, y = check_X_y(X, y)\n",
    "         # Store the classes seen during fit\n",
    "         self.classes_ = unique_labels(y)\n",
    "\n",
    "         self.X_ = X\n",
    "         self.y_ = y\n",
    "         # Return the classifier\n",
    "         return self\n",
    "\n",
    "     def predict(self, X):\n",
    "\n",
    "        # Check is fit had been called\n",
    "        check_is_fitted(self, ['X_', 'y_'])\n",
    "\n",
    "         # Input validation\n",
    "         X = check_array(X)\n",
    "\n",
    "         closest = np.argmin(euclidean_distances(X, self.X_), axis=1)\n",
    "         return self.y_[closest]\n",
    "\n"
   ]
  },
  {
   "cell_type": "code",
   "execution_count": 6,
   "metadata": {},
   "outputs": [],
   "source": [
    "from sklearn.neighbors import KNeighborsClassifier"
   ]
  },
  {
   "cell_type": "code",
   "execution_count": 3,
   "metadata": {},
   "outputs": [],
   "source": [
    "KNeighborsClassifier??"
   ]
  },
  {
   "cell_type": "code",
   "execution_count": null,
   "metadata": {},
   "outputs": [],
   "source": []
  }
 ],
 "metadata": {
  "kernelspec": {
   "display_name": "Python 3",
   "language": "python",
   "name": "python3"
  },
  "language_info": {
   "codemirror_mode": {
    "name": "ipython",
    "version": 3
   },
   "file_extension": ".py",
   "mimetype": "text/x-python",
   "name": "python",
   "nbconvert_exporter": "python",
   "pygments_lexer": "ipython3",
   "version": "3.6.4"
  }
 },
 "nbformat": 4,
 "nbformat_minor": 2
}
