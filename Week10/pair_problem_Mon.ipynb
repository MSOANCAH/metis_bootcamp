{
 "cells": [
  {
   "cell_type": "markdown",
   "metadata": {},
   "source": [
    "## Pair Problem\n",
    "\n",
    "Write a simple function that takes two matrices of equal dimensions (a target and a filter), multiplies together their entries element by element, then sums across all the results. You can think of this as a sort of 2-dimensional dot product.\n",
    "\n",
    "For example, with these matrices: you should get 8 when running your function with the below: 1 * 1 + 0 * 0 + 2 * 1 + 2 * 0 ...\n",
    "\n",
    "mat = np.array([[1,0,2],\n",
    "                [2,1,1],\n",
    "                [1,1,3]])\n",
    "\n",
    "filt = np.array([[1,0,1],\n",
    "                 [0,1,0],\n",
    "                 [1,0,1]])\n"
   ]
  },
  {
   "cell_type": "code",
   "execution_count": 9,
   "metadata": {},
   "outputs": [],
   "source": [
    "import numpy as np\n",
    "\n",
    "def matrix_mult(mat,filt):\n",
    "    mat_flat = np.ravel(mat)\n",
    "    filt_flat = np.ravel(filt)\n",
    "    return sum(mat_flat*filt_flat)"
   ]
  },
  {
   "cell_type": "code",
   "execution_count": 10,
   "metadata": {},
   "outputs": [],
   "source": [
    "A = np.arange(0,5)\n",
    "B = np.arange(5,10)"
   ]
  },
  {
   "cell_type": "code",
   "execution_count": 11,
   "metadata": {},
   "outputs": [
    {
     "data": {
      "text/plain": [
       "80"
      ]
     },
     "execution_count": 11,
     "metadata": {},
     "output_type": "execute_result"
    }
   ],
   "source": [
    "matrix_mult(A,B)"
   ]
  },
  {
   "cell_type": "code",
   "execution_count": 12,
   "metadata": {},
   "outputs": [],
   "source": [
    "mat = np.array([[1,0,2],\n",
    "                [2,1,1],\n",
    "                [1,1,3]])"
   ]
  },
  {
   "cell_type": "code",
   "execution_count": 13,
   "metadata": {},
   "outputs": [],
   "source": [
    "filt = np.array([[1,0,1],\n",
    "                 [0,1,0],\n",
    "                 [1,0,1]])"
   ]
  },
  {
   "cell_type": "code",
   "execution_count": 14,
   "metadata": {},
   "outputs": [
    {
     "data": {
      "text/plain": [
       "8"
      ]
     },
     "execution_count": 14,
     "metadata": {},
     "output_type": "execute_result"
    }
   ],
   "source": [
    "matrix_mult(mat,filt)"
   ]
  },
  {
   "cell_type": "markdown",
   "metadata": {},
   "source": [
    "Now write a function that utilizes the first as follows: assume the filter matrix has odd dimensions hence has a center (e.g. 3x3). Starting from the top left corner of the target matrix and moving right then down, find all entries that can be aligned with the center of the filter matrix such that you can call the function you just wrote (i.e. you can fit the filter into that part of the matrix)."
   ]
  },
  {
   "cell_type": "code",
   "execution_count": 26,
   "metadata": {},
   "outputs": [],
   "source": [
    "def matrix_convolution(target,filt):\n",
    "    target_size = np.shape(target)\n",
    "    filter_size = np.shape(filt)\n",
    "    rows = target_size[0]-filter_size[0]+1\n",
    "    cols = target_size[1]-filter_size[1]+1\n",
    "    conv_mat = np.zeros((rows,cols))\n",
    "    for j in range(cols):\n",
    "        for i in range(rows):\n",
    "            mat = target[i:i+filter_size[0],j:j+filter_size[1]]\n",
    "            conv_mat[i,j]=matrix_mult(mat,filt)\n",
    "    return conv_mat"
   ]
  },
  {
   "cell_type": "code",
   "execution_count": 27,
   "metadata": {},
   "outputs": [],
   "source": [
    "target = np.array([[1,0,2,3,3],\n",
    "                [2,1,1,4,1],\n",
    "                [1,1,3,1,7],\n",
    "                [1,1,1,0,0]])"
   ]
  },
  {
   "cell_type": "code",
   "execution_count": 28,
   "metadata": {},
   "outputs": [],
   "source": [
    "filt = np.array([[1,0,0],\n",
    "                 [0,1,0],\n",
    "                 [0,0,1]])"
   ]
  },
  {
   "cell_type": "code",
   "execution_count": 29,
   "metadata": {},
   "outputs": [
    {
     "data": {
      "text/plain": [
       "array([[ 5.,  2., 13.],\n",
       "       [ 4.,  4.,  2.]])"
      ]
     },
     "execution_count": 29,
     "metadata": {},
     "output_type": "execute_result"
    }
   ],
   "source": [
    "matrix_convolution(target,filt)"
   ]
  },
  {
   "cell_type": "code",
   "execution_count": 30,
   "metadata": {},
   "outputs": [
    {
     "data": {
      "text/plain": [
       "4"
      ]
     },
     "execution_count": 30,
     "metadata": {},
     "output_type": "execute_result"
    }
   ],
   "source": [
    "len(target)"
   ]
  },
  {
   "cell_type": "code",
   "execution_count": null,
   "metadata": {},
   "outputs": [],
   "source": []
  }
 ],
 "metadata": {
  "kernelspec": {
   "display_name": "Python 3",
   "language": "python",
   "name": "python3"
  },
  "language_info": {
   "codemirror_mode": {
    "name": "ipython",
    "version": 3
   },
   "file_extension": ".py",
   "mimetype": "text/x-python",
   "name": "python",
   "nbconvert_exporter": "python",
   "pygments_lexer": "ipython3",
   "version": "3.6.4"
  }
 },
 "nbformat": 4,
 "nbformat_minor": 2
}
