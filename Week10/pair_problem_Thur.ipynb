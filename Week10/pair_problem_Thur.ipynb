{
 "cells": [
  {
   "cell_type": "markdown",
   "metadata": {},
   "source": [
    "### Pair Problem\n",
    "\n",
    "You are given a square matrix T. T[x,y] gives the time it takes to go from city x to city y. T[x,x] is zero. All other values are positive integers. T[x,y]=T[y,x]. Naturally, when traveling from x to y, sometimes its faster to go through another city than going directly from x to y.\n",
    "\n",
    "Here is an example matrix for 6 cities. Your function can take the input matrix T as a list of lists or a numpy array/matrix."
   ]
  },
  {
   "cell_type": "markdown",
   "metadata": {},
   "source": [
    "* Write a function that will give you the shortest travel time from city A to city B, with at most one stop-over (Ex. A->E->B)."
   ]
  },
  {
   "cell_type": "code",
   "execution_count": 1,
   "metadata": {},
   "outputs": [],
   "source": [
    "import numpy as np"
   ]
  },
  {
   "cell_type": "code",
   "execution_count": 4,
   "metadata": {},
   "outputs": [],
   "source": [
    "T = np.zeros([6,6])"
   ]
  },
  {
   "cell_type": "code",
   "execution_count": 7,
   "metadata": {},
   "outputs": [],
   "source": [
    "T[0,:] = [0,4,9,3,1,2]\n",
    "T[1,:] = [4,0,2,1,4,2]\n",
    "T[2,:] = [9,2,0,7,2,1]\n",
    "T[3,:] = [3,1,7,0,6,6]\n",
    "T[4,:] = [1,4,2,6,0,2]\n",
    "T[5,:] = [2,2,1,6,2,0]"
   ]
  },
  {
   "cell_type": "code",
   "execution_count": 18,
   "metadata": {},
   "outputs": [
    {
     "data": {
      "text/plain": [
       "numpy.ndarray"
      ]
     },
     "execution_count": 18,
     "metadata": {},
     "output_type": "execute_result"
    }
   ],
   "source": [
    "type(T)"
   ]
  },
  {
   "cell_type": "code",
   "execution_count": 11,
   "metadata": {},
   "outputs": [],
   "source": [
    "def get_shortest_path_AB(T):\n",
    "    time_AB = T[0,1]\n",
    "    shortest_time = time_AB\n",
    "    for i in range(2,2+len(T[0,2:])):\n",
    "        if T[0,i] < shortest_time:\n",
    "            time_stopover = T[0,i]\n",
    "            if (time_stopover + T[i,1]) < shortest_time:\n",
    "                shortest_time = time_stopover + T[i,1]\n",
    "    \n",
    "    return shortest_time\n",
    "                "
   ]
  },
  {
   "cell_type": "code",
   "execution_count": 12,
   "metadata": {},
   "outputs": [
    {
     "data": {
      "text/plain": [
       "4.0"
      ]
     },
     "execution_count": 12,
     "metadata": {},
     "output_type": "execute_result"
    }
   ],
   "source": [
    "get_shortest_path_AB(T)"
   ]
  },
  {
   "cell_type": "markdown",
   "metadata": {},
   "source": [
    "Modify the function to give the shortest travel time from city A to city B, with at most two stop-overs."
   ]
  },
  {
   "cell_type": "code",
   "execution_count": null,
   "metadata": {},
   "outputs": [],
   "source": [
    "def get_shortest_path_AB_2stops(T):\n",
    "    time_AM = T[0,1]\n",
    "    shortest_time = time_AB\n",
    "    for i in range(2,2+len(T[0,2:])):\n",
    "        if T[0,i] < shortest_time:\n",
    "            time_stopover = T[0,i]\n",
    "            cities_to_check = np.arange(2,6)\n",
    "            cities_to_check = np.\n",
    "            "
   ]
  },
  {
   "cell_type": "code",
   "execution_count": 17,
   "metadata": {},
   "outputs": [
    {
     "data": {
      "text/plain": [
       "array([2, 3, 4, 5])"
      ]
     },
     "execution_count": 17,
     "metadata": {},
     "output_type": "execute_result"
    }
   ],
   "source": [
    "cities_to_check = np.arange(2,6)\n",
    "cities_to_check.drop()"
   ]
  },
  {
   "cell_type": "code",
   "execution_count": null,
   "metadata": {},
   "outputs": [],
   "source": []
  }
 ],
 "metadata": {
  "kernelspec": {
   "display_name": "Python 3",
   "language": "python",
   "name": "python3"
  },
  "language_info": {
   "codemirror_mode": {
    "name": "ipython",
    "version": 3
   },
   "file_extension": ".py",
   "mimetype": "text/x-python",
   "name": "python",
   "nbconvert_exporter": "python",
   "pygments_lexer": "ipython3",
   "version": "3.6.4"
  }
 },
 "nbformat": 4,
 "nbformat_minor": 2
}
