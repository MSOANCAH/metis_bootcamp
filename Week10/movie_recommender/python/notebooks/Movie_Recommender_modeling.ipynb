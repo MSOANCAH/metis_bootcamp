{
 "cells": [
  {
   "cell_type": "markdown",
   "metadata": {},
   "source": [
    "# Movie Recommender Modeling"
   ]
  },
  {
   "cell_type": "markdown",
   "metadata": {},
   "source": [
    "author: Ben Sturm <br />\n",
    "contact: bwsturm@gmail.com <br />\n",
    "date: 6/16/2018"
   ]
  },
  {
   "cell_type": "markdown",
   "metadata": {},
   "source": [
    "In this notebook, I plan to implement Andrew Ng's Collaborative Filtering method.  This is basically doing gradient descent using a method called Low rank matrix factorization."
   ]
  },
  {
   "cell_type": "code",
   "execution_count": 1,
   "metadata": {},
   "outputs": [],
   "source": [
    "import pandas as pd\n",
    "import numpy as np"
   ]
  },
  {
   "cell_type": "code",
   "execution_count": 2,
   "metadata": {},
   "outputs": [
    {
     "name": "stdout",
     "output_type": "stream",
     "text": [
      "npzfile.files: ['Y', 'R']\n"
     ]
    }
   ],
   "source": [
    "npzfile = np.load('Movie_data.npz')\n",
    "print('npzfile.files: {}'.format(npzfile.files))"
   ]
  },
  {
   "cell_type": "code",
   "execution_count": 3,
   "metadata": {},
   "outputs": [],
   "source": [
    "Y = npzfile['Y']\n",
    "R = npzfile['R']"
   ]
  },
  {
   "cell_type": "code",
   "execution_count": 4,
   "metadata": {},
   "outputs": [],
   "source": [
    "# The \"parameters\" we are minimizing are both the elements of the\n",
    "# X matrix (nm*nf) and of the Theta matrix (nu*nf)\n",
    "# To use off-the-shelf minimizers we need to flatten these matrices\n",
    "# into one long array\n",
    "def flattenParams(myX, myTheta):\n",
    "    \"\"\"\n",
    "    Hand this function an X matrix and a Theta matrix and it will flatten\n",
    "    it into into one long (nm*nf + nu*nf,1) shaped numpy array\n",
    "    \"\"\"\n",
    "    return np.concatenate((myX.flatten(),myTheta.flatten()))\n",
    "\n",
    "# A utility function to re-shape the X and Theta will probably come in handy\n",
    "def reshapeParams(flattened_XandTheta, mynm, mynu, mynf):\n",
    "    assert flattened_XandTheta.shape[0] == int(nm*nf+nu*nf)\n",
    "    \n",
    "    reX = flattened_XandTheta[:int(mynm*mynf)].reshape((mynm,mynf))\n",
    "    reTheta = flattened_XandTheta[int(mynm*mynf):].reshape((mynu,mynf))\n",
    "    \n",
    "    return reX, reTheta"
   ]
  },
  {
   "cell_type": "markdown",
   "metadata": {},
   "source": [
    "Regularized cost function for collaborative filtering"
   ]
  },
  {
   "cell_type": "code",
   "execution_count": 5,
   "metadata": {},
   "outputs": [],
   "source": [
    "def cofiCostFunc(myparams, myY, myR, mynu, mynm, mynf, mylambda = 0.):\n",
    "    \n",
    "    # Unfold the X and Theta matrices from the flattened params\n",
    "    myX, myTheta = reshapeParams(myparams, mynm, mynu, mynf)\n",
    "  \n",
    "    # Note: \n",
    "    # X Shape is (nm x nf), Theta shape is (nu x nf), Y and R shape is (nm x nu)\n",
    "    # Behold! Complete vectorization\n",
    "    \n",
    "    # First dot theta and X together such that you get a matrix the same shape as Y\n",
    "    term1 = myX.dot(myTheta.T)\n",
    "    \n",
    "    # Then element-wise multiply that matrix by the R matrix\n",
    "    # so only terms from movies which that user rated are counted in the cost\n",
    "    term1 = np.multiply(term1,myR)\n",
    "    \n",
    "    # Then subtract the Y- matrix (which has 0 entries for non-rated\n",
    "    # movies by each user, so no need to multiply that by myR... though, if\n",
    "    # a user could rate a movie \"0 stars\" then myY would have to be element-\n",
    "    # wise multiplied by myR as well) \n",
    "    # also square that whole term, sum all elements in the resulting matrix,\n",
    "    # and multiply by 0.5 to get the cost\n",
    "    cost = 0.5 * np.sum( np.square(term1-myY) )\n",
    "    \n",
    "    # Regularization stuff\n",
    "    cost += (mylambda/2.) * np.sum(np.square(myTheta))\n",
    "    cost += (mylambda/2.) * np.sum(np.square(myX))\n",
    "    \n",
    "    return cost"
   ]
  },
  {
   "cell_type": "markdown",
   "metadata": {},
   "source": [
    "Regularized gradient function for collaborative filtering"
   ]
  },
  {
   "cell_type": "code",
   "execution_count": 6,
   "metadata": {},
   "outputs": [],
   "source": [
    "# Remember: use the exact same input arguments for gradient function\n",
    "# as for the cost function (the off-the-shelf minimizer requires this)\n",
    "def cofiGrad(myparams, myY, myR, mynu, mynm, mynf, mylambda = 0.):\n",
    "    \n",
    "    # Unfold the X and Theta matrices from the flattened params\n",
    "    myX, myTheta = reshapeParams(myparams, mynm, mynu, mynf)\n",
    "\n",
    "    # First the X gradient term \n",
    "    # First dot theta and X together such that you get a matrix the same shape as Y\n",
    "    term1 = myX.dot(myTheta.T)\n",
    "    # Then multiply this term by myR to remove any components from movies that\n",
    "    # weren't rated by that user\n",
    "    term1 = np.multiply(term1,myR)\n",
    "    # Now subtract the y matrix (which already has 0 for nonrated movies)\n",
    "    term1 -= myY\n",
    "    # Lastly dot this with Theta such that the resulting matrix has the\n",
    "    # same shape as the X matrix\n",
    "    Xgrad = term1.dot(myTheta)\n",
    "    \n",
    "    # Now the Theta gradient term (reusing the \"term1\" variable)\n",
    "    Thetagrad = term1.T.dot(myX)\n",
    "\n",
    "    # Regularization stuff\n",
    "    Xgrad += mylambda * myX\n",
    "    Thetagrad += mylambda * myTheta\n",
    "    \n",
    "    return flattenParams(Xgrad, Thetagrad)"
   ]
  },
  {
   "cell_type": "markdown",
   "metadata": {},
   "source": [
    "Now reading in the movies csv file using pandas."
   ]
  },
  {
   "cell_type": "code",
   "execution_count": 7,
   "metadata": {},
   "outputs": [],
   "source": [
    "movies = pd.read_csv('movie_ids.csv')"
   ]
  },
  {
   "cell_type": "code",
   "execution_count": 8,
   "metadata": {},
   "outputs": [
    {
     "data": {
      "text/html": [
       "<div>\n",
       "<style scoped>\n",
       "    .dataframe tbody tr th:only-of-type {\n",
       "        vertical-align: middle;\n",
       "    }\n",
       "\n",
       "    .dataframe tbody tr th {\n",
       "        vertical-align: top;\n",
       "    }\n",
       "\n",
       "    .dataframe thead th {\n",
       "        text-align: right;\n",
       "    }\n",
       "</style>\n",
       "<table border=\"1\" class=\"dataframe\">\n",
       "  <thead>\n",
       "    <tr style=\"text-align: right;\">\n",
       "      <th></th>\n",
       "      <th>index</th>\n",
       "      <th>movieId</th>\n",
       "      <th>title</th>\n",
       "      <th>genres</th>\n",
       "    </tr>\n",
       "  </thead>\n",
       "  <tbody>\n",
       "    <tr>\n",
       "      <th>3491</th>\n",
       "      <td>3491</td>\n",
       "      <td>142488</td>\n",
       "      <td>Spotlight (2015)</td>\n",
       "      <td>Thriller</td>\n",
       "    </tr>\n",
       "    <tr>\n",
       "      <th>3492</th>\n",
       "      <td>3492</td>\n",
       "      <td>146656</td>\n",
       "      <td>Creed (2015)</td>\n",
       "      <td>Drama</td>\n",
       "    </tr>\n",
       "    <tr>\n",
       "      <th>3493</th>\n",
       "      <td>3493</td>\n",
       "      <td>148626</td>\n",
       "      <td>Big Short, The (2015)</td>\n",
       "      <td>Drama</td>\n",
       "    </tr>\n",
       "    <tr>\n",
       "      <th>3494</th>\n",
       "      <td>3494</td>\n",
       "      <td>152077</td>\n",
       "      <td>10 Cloverfield Lane (2016)</td>\n",
       "      <td>Thriller</td>\n",
       "    </tr>\n",
       "    <tr>\n",
       "      <th>3495</th>\n",
       "      <td>3495</td>\n",
       "      <td>152081</td>\n",
       "      <td>Zootopia (2016)</td>\n",
       "      <td>Action|Adventure|Animation|Children|Comedy</td>\n",
       "    </tr>\n",
       "  </tbody>\n",
       "</table>\n",
       "</div>"
      ],
      "text/plain": [
       "      index  movieId                       title  \\\n",
       "3491   3491   142488            Spotlight (2015)   \n",
       "3492   3492   146656                Creed (2015)   \n",
       "3493   3493   148626       Big Short, The (2015)   \n",
       "3494   3494   152077  10 Cloverfield Lane (2016)   \n",
       "3495   3495   152081             Zootopia (2016)   \n",
       "\n",
       "                                          genres  \n",
       "3491                                    Thriller  \n",
       "3492                                       Drama  \n",
       "3493                                       Drama  \n",
       "3494                                    Thriller  \n",
       "3495  Action|Adventure|Animation|Children|Comedy  "
      ]
     },
     "execution_count": 8,
     "metadata": {},
     "output_type": "execute_result"
    }
   ],
   "source": [
    "movies.tail()"
   ]
  },
  {
   "cell_type": "code",
   "execution_count": 9,
   "metadata": {},
   "outputs": [],
   "source": [
    "# I'm now going to rate some movies\n",
    "\n",
    "nm, nu = np.shape(Y)"
   ]
  },
  {
   "cell_type": "code",
   "execution_count": 11,
   "metadata": {},
   "outputs": [],
   "source": [
    "my_ratings = np.zeros((nm,1))\n",
    "\n",
    "# My first set of ratings\n",
    "'''\n",
    "my_ratings[16] = 4.5\n",
    "my_ratings[58] = 4\n",
    "my_ratings[7182] = 4\n",
    "my_ratings[203] = 1\n",
    "my_ratings[302] = 4\n",
    "my_ratings[3854] = 5\n",
    "my_ratings[3871] = 4\n",
    "my_ratings[4601] = 5\n",
    "my_ratings[1001] = 4.5\n",
    "my_ratings[535] = 2\n",
    "my_ratings[866] = 5\n",
    "my_ratings[1000] = 4\n",
    "my_ratings[237] = 4.5\n",
    "my_ratings[5604] = 3.5\n",
    "my_ratings[7594] = 3\n",
    "my_ratings[4098] = 4\n",
    "my_ratings[1484] = 4\n",
    "my_ratings[1479] = 4.5\n",
    "my_ratings[2492] = 4.5\n",
    "my_ratings[4512] = 4.5\n",
    "my_ratings[3228] = 4\n",
    "my_ratings[5523] = 4.5\n",
    "my_ratings[6684] = 5\n",
    "my_ratings[5913] = 1\n",
    "'''\n",
    "\n",
    "# Second set of ratings to check if I get similar results to the tutorial notebook\n",
    "my_ratings[52] = 4\n",
    "my_ratings[104] = 4\n",
    "my_ratings[211] = 3\n",
    "my_ratings[232] = 4\n",
    "my_ratings[248] = 3\n",
    "my_ratings[613] = 5\n",
    "my_ratings[724] = 4\n",
    "my_ratings[725] = 5\n",
    "my_ratings[160] = 1"
   ]
  },
  {
   "cell_type": "code",
   "execution_count": 12,
   "metadata": {},
   "outputs": [],
   "source": [
    "# Add my ratings to the Y matrix, and the relevant row to the R matrix\n",
    "myR_row = my_ratings > 0\n",
    "Y = np.hstack((Y,my_ratings))\n",
    "R = np.hstack((R,myR_row))"
   ]
  },
  {
   "cell_type": "code",
   "execution_count": 13,
   "metadata": {},
   "outputs": [],
   "source": [
    "nm, nu = np.shape(Y)"
   ]
  },
  {
   "cell_type": "code",
   "execution_count": 14,
   "metadata": {},
   "outputs": [],
   "source": [
    "def normalizeRatings(myY, myR):\n",
    "    \"\"\"\n",
    "    Preprocess data by subtracting mean rating for every movie (every row)\n",
    "    This is important because without this, a user who hasn't rated any movies\n",
    "    will have a predicted score of 0 for every movie, when in reality\n",
    "    they should have a predicted score of [average score of that movie].\n",
    "    \"\"\"\n",
    "\n",
    "    # The mean is only counting movies that were rated\n",
    "    Ymean = np.sum(myY,axis=1)/np.sum(myR,axis=1)\n",
    "    Ymean = Ymean.reshape((Ymean.shape[0],1))\n",
    "    \n",
    "    return myY-Ymean, Ymean    "
   ]
  },
  {
   "cell_type": "code",
   "execution_count": 15,
   "metadata": {},
   "outputs": [],
   "source": [
    "Ynorm, Ymean = normalizeRatings(Y,R)"
   ]
  },
  {
   "cell_type": "code",
   "execution_count": 16,
   "metadata": {},
   "outputs": [],
   "source": [
    "import scipy.optimize"
   ]
  },
  {
   "cell_type": "code",
   "execution_count": 17,
   "metadata": {},
   "outputs": [],
   "source": [
    "nf = 10\n",
    "X = np.random.rand(nm,nf)\n",
    "Theta = np.random.rand(nu,nf)"
   ]
  },
  {
   "cell_type": "code",
   "execution_count": 29,
   "metadata": {},
   "outputs": [
    {
     "name": "stdout",
     "output_type": "stream",
     "text": [
      "Warning: Desired error not necessarily achieved due to precision loss.\n",
      "         Current function value: 13775482.461996\n",
      "         Iterations: 1\n",
      "         Function evaluations: 24\n",
      "         Gradient evaluations: 19\n",
      "         Hessian evaluations: 0\n"
     ]
    }
   ],
   "source": [
    "myflat = flattenParams(X, Theta)\n",
    "\n",
    "# Regularization parameter of 10 is used (as used in the homework assignment)\n",
    "mylambda = 10.\n",
    "\n",
    "# Training the actual model with fmin_cg\n",
    "result = scipy.optimize.fmin_ncg(cofiCostFunc, x0=myflat, fprime=cofiGrad, \\\n",
    "                               args=(Ynorm,R,nu,nm,nf,mylambda), \\\n",
    "                                maxiter=10,disp=True,full_output=True)"
   ]
  },
  {
   "cell_type": "code",
   "execution_count": null,
   "metadata": {},
   "outputs": [],
   "source": []
  },
  {
   "cell_type": "code",
   "execution_count": 30,
   "metadata": {},
   "outputs": [],
   "source": [
    "# Reshape the trained output into sensible \"X\" and \"Theta\" matrices\n",
    "resX, resTheta = reshapeParams(result[0], nm, nu, nf)"
   ]
  },
  {
   "cell_type": "code",
   "execution_count": 31,
   "metadata": {},
   "outputs": [],
   "source": [
    "# After training the model, now make recommendations by computing\n",
    "# the predictions matrix\n",
    "prediction_matrix = resX.dot(resTheta.T)"
   ]
  },
  {
   "cell_type": "code",
   "execution_count": 32,
   "metadata": {},
   "outputs": [],
   "source": [
    "#prediction_matrix[0:5,0:5]\n",
    "#Ymean[0:100]"
   ]
  },
  {
   "cell_type": "code",
   "execution_count": 33,
   "metadata": {},
   "outputs": [],
   "source": [
    "# Grab the last user's predictions (since I put my predictions at the\n",
    "# end of the Y matrix, not the front)\n",
    "# Add back in the mean movie ratings\n",
    "my_predictions = prediction_matrix[:,-1] + Ymean.flatten()"
   ]
  },
  {
   "cell_type": "code",
   "execution_count": 34,
   "metadata": {},
   "outputs": [
    {
     "name": "stdout",
     "output_type": "stream",
     "text": [
      "Top recommendations for you:\n",
      "Predicting rating 5.3 for movie Inherit the Wind (1960).\n",
      "Predicting rating 5.0 for movie Anne Frank Remembered (1995).\n",
      "Predicting rating 4.7 for movie The Martian (2015).\n",
      "Predicting rating 4.6 for movie Mister Roberts (1955).\n",
      "Predicting rating 4.5 for movie Missing (1982).\n",
      "Predicting rating 4.5 for movie Carnal Knowledge (1971).\n",
      "Predicting rating 4.5 for movie Body of Lies (2008).\n",
      "Predicting rating 4.5 for movie Her (2013).\n",
      "Predicting rating 4.5 for movie Rush (2013).\n",
      "Predicting rating 4.5 for movie Clear and Present Danger (1994).\n",
      "Predicting rating 4.4 for movie Roman Holiday (1953).\n",
      "Predicting rating 4.3 for movie To Have and Have Not (1944).\n",
      "Predicting rating 4.3 for movie Trip to the Moon, A (Voyage dans la lune, Le) (1902).\n",
      "Predicting rating 4.3 for movie Autumn Sonata (Höstsonaten) (1978).\n",
      "Predicting rating 4.3 for movie Discreet Charm of the Bourgeoisie, The (Charme discret de la bourgeoisie, Le) (1972).\n",
      "Predicting rating 4.3 for movie Coming Home (1978).\n",
      "Predicting rating 4.3 for movie Hachiko: A Dog's Story (a.k.a. Hachi: A Dog's Tale) (2009).\n",
      "Predicting rating 4.2 for movie Departures (Okuribito) (2008).\n",
      "Predicting rating 4.2 for movie Creed (2015).\n",
      "Predicting rating 4.2 for movie Cries and Whispers (Viskningar och rop) (1972).\n",
      "Predicting rating 4.2 for movie Boy in the Striped Pajamas, The (Boy in the Striped Pyjamas, The) (2008).\n",
      "Predicting rating 4.1 for movie Fame (1980).\n",
      "Predicting rating 4.0 for movie Sea Inside, The (Mar adentro) (2004).\n",
      "Predicting rating 4.0 for movie Religulous (2008).\n",
      "Predicting rating 4.0 for movie Hurricane, The (1999).\n",
      "Predicting rating 4.0 for movie Princess Bride, The (1987).\n",
      "Predicting rating 4.0 for movie Separation, A (Jodaeiye Nader az Simin) (2011).\n",
      "Predicting rating 4.0 for movie I Shot Andy Warhol (1996).\n",
      "Predicting rating 3.9 for movie Paperman (2012).\n",
      "Predicting rating 3.9 for movie Unforgiven, The (1960).\n",
      "\n",
      "Original ratings provided:\n",
      "Rated 4.0 for movie Mr. Holland's Opus (1995).\n",
      "Rated 4.0 for movie Apollo 13 (1995).\n",
      "Rated 1.0 for movie Dumb & Dumber (Dumb and Dumber) (1994).\n",
      "Rated 3.0 for movie Three Colors: Blue (Trois couleurs: Bleu) (1993).\n",
      "Rated 4.0 for movie What's Eating Gilbert Grape (1993).\n",
      "Rated 3.0 for movie Forrest Gump (1994).\n",
      "Rated 5.0 for movie Willy Wonka & the Chocolate Factory (1971).\n",
      "Rated 4.0 for movie Dead Poets Society (1989).\n",
      "Rated 5.0 for movie Graduate, The (1967).\n"
     ]
    }
   ],
   "source": [
    "# Sort my predictions from highest to lowest\n",
    "pred_idxs_sorted = np.argsort(my_predictions)\n",
    "pred_idxs_sorted[:] = pred_idxs_sorted[::-1]\n",
    "\n",
    "print(\"Top recommendations for you:\")\n",
    "for i in range(30):\n",
    "    print('Predicting rating {0:.1f} for movie {1}.'.format(\\\n",
    "    my_predictions[pred_idxs_sorted[i]],movies.loc[pred_idxs_sorted[i],'title']))\n",
    "    \n",
    "print(\"\\nOriginal ratings provided:\")\n",
    "for i in range(len(my_ratings)):\n",
    "    if my_ratings[i] > 0:\n",
    "        print('Rated {0:.1f} for movie {1}.'.format(my_ratings[i][0],movies.loc[i,'title']))\n",
    "        "
   ]
  },
  {
   "cell_type": "code",
   "execution_count": 41,
   "metadata": {},
   "outputs": [],
   "source": [
    "# Grab a user's predictions \n",
    "# Add back in the mean movie ratings\n",
    "user1_predictions = prediction_matrix[:,1] + Ymean.flatten()"
   ]
  },
  {
   "cell_type": "code",
   "execution_count": 44,
   "metadata": {},
   "outputs": [
    {
     "name": "stdout",
     "output_type": "stream",
     "text": [
      "Top recommendations for User1:\n",
      "Predicting rating 5.3 for movie Inherit the Wind (1960).\n",
      "Predicting rating 4.6 for movie Mister Roberts (1955).\n",
      "Predicting rating 4.3 for movie Autumn Sonata (Höstsonaten) (1978).\n",
      "Predicting rating 4.3 for movie Trip to the Moon, A (Voyage dans la lune, Le) (1902).\n",
      "Predicting rating 4.4 for movie Roman Holiday (1953).\n",
      "Predicting rating 3.9 for movie Jeffrey (1995).\n",
      "Predicting rating 4.5 for movie Carnal Knowledge (1971).\n",
      "Predicting rating 4.7 for movie The Martian (2015).\n",
      "Predicting rating 4.1 for movie Fame (1980).\n",
      "Predicting rating 3.9 for movie Paperman (2012).\n",
      "\n",
      "Original ratings provided:\n",
      "Rated 4.0 for movie GoldenEye (1995).\n",
      "Rated 5.0 for movie Sense and Sensibility (1995).\n",
      "Rated 5.0 for movie Clueless (1995).\n",
      "Rated 4.0 for movie Seven (a.k.a. Se7en) (1995).\n",
      "Rated 4.0 for movie Usual Suspects, The (1995).\n",
      "Rated 3.0 for movie Mighty Aphrodite (1995).\n",
      "Rated 3.0 for movie Mr. Holland's Opus (1995).\n",
      "Rated 4.0 for movie Braveheart (1995).\n",
      "Rated 3.0 for movie Brothers McMullen, The (1995).\n",
      "Rated 5.0 for movie Apollo 13 (1995).\n",
      "Rated 4.0 for movie Batman Forever (1995).\n",
      "Rated 3.0 for movie Crimson Tide (1995).\n",
      "Rated 3.0 for movie Die Hard: With a Vengeance (1995).\n",
      "Rated 3.0 for movie First Knight (1995).\n",
      "Rated 3.0 for movie Net, The (1995).\n",
      "Rated 3.0 for movie Nine Months (1995).\n",
      "Rated 3.0 for movie Waterworld (1995).\n",
      "Rated 5.0 for movie Circle of Friends (1995).\n",
      "Rated 1.0 for movie Clerks (1994).\n",
      "Rated 3.0 for movie Disclosure (1994).\n",
      "Rated 3.0 for movie Ed Wood (1994).\n",
      "Rated 3.0 for movie Houseguest (1994).\n",
      "Rated 4.0 for movie Interview with the Vampire: The Vampire Chronicles (1994).\n",
      "Rated 4.0 for movie Little Women (1994).\n",
      "Rated 5.0 for movie Like Water for Chocolate (Como agua para chocolate) (1992).\n",
      "Rated 5.0 for movie Legends of the Fall (1994).\n",
      "Rated 3.0 for movie Madness of King George, The (1994).\n",
      "Rated 4.0 for movie Mary Shelley's Frankenstein (Frankenstein) (1994).\n",
      "Rated 3.0 for movie Outbreak (1995).\n",
      "Rated 4.0 for movie Pulp Fiction (1994).\n",
      "Rated 3.0 for movie Quiz Show (1994).\n",
      "Rated 4.0 for movie Secret of Roan Inish, The (1994).\n",
      "Rated 2.0 for movie Santa Clause, The (1994).\n",
      "Rated 1.0 for movie Shallow Grave (1994).\n",
      "Rated 3.0 for movie While You Were Sleeping (1995).\n",
      "Rated 4.0 for movie Clear and Present Danger (1994).\n",
      "Rated 4.0 for movie Client, The (1994).\n",
      "Rated 3.0 for movie Forrest Gump (1994).\n",
      "Rated 3.0 for movie Four Weddings and a Funeral (1994).\n",
      "Rated 3.0 for movie Lion King, The (1994).\n",
      "Rated 3.0 for movie Mask, The (1994).\n",
      "Rated 2.0 for movie Naked Gun 33 1/3: The Final Insult (1994).\n",
      "Rated 3.0 for movie Paper, The (1994).\n",
      "Rated 3.0 for movie Reality Bites (1994).\n",
      "Rated 3.0 for movie Speed (1994).\n",
      "Rated 3.0 for movie Wolf (1994).\n",
      "Rated 2.0 for movie Highlander III: The Sorcerer (a.k.a. Highlander: The Final Dimension) (1994).\n",
      "Rated 3.0 for movie Addams Family Values (1993).\n",
      "Rated 4.0 for movie Firm, The (1993).\n",
      "Rated 3.0 for movie Fugitive, The (1993).\n",
      "Rated 4.0 for movie Englishman Who Went Up a Hill But Came Down a Mountain, The (1995).\n",
      "Rated 2.0 for movie In the Line of Fire (1993).\n",
      "Rated 4.0 for movie Jurassic Park (1993).\n",
      "Rated 3.0 for movie Last Action Hero (1993).\n",
      "Rated 3.0 for movie Much Ado About Nothing (1993).\n",
      "Rated 4.0 for movie Mrs. Doubtfire (1993).\n",
      "Rated 4.0 for movie Philadelphia (1993).\n",
      "Rated 4.0 for movie Piano, The (1993).\n",
      "Rated 4.0 for movie Remains of the Day, The (1993).\n",
      "Rated 4.0 for movie Schindler's List (1993).\n",
      "Rated 4.0 for movie Sirens (1994).\n",
      "Rated 3.0 for movie Sleepless in Seattle (1993).\n",
      "Rated 3.0 for movie Threesome (1994).\n",
      "Rated 5.0 for movie Nightmare Before Christmas, The (1993).\n",
      "Rated 3.0 for movie Three Musketeers, The (1993).\n",
      "Rated 5.0 for movie Brady Bunch Movie, The (1995).\n",
      "Rated 3.0 for movie Home Alone (1990).\n",
      "Rated 3.0 for movie Ghost (1990).\n",
      "Rated 3.0 for movie Aladdin (1992).\n",
      "Rated 5.0 for movie Terminator 2: Judgment Day (1991).\n",
      "Rated 5.0 for movie Dances with Wolves (1990).\n",
      "Rated 5.0 for movie Batman (1989).\n",
      "Rated 3.0 for movie Silence of the Lambs, The (1991).\n",
      "Rated 3.0 for movie Aristocats, The (1970).\n",
      "Rated 4.0 for movie James and the Giant Peach (1996).\n",
      "Rated 4.0 for movie Wallace & Gromit: The Best of Aardman Animation (1996).\n"
     ]
    }
   ],
   "source": [
    "# Sort my predictions from highest to lowest\n",
    "pred_idxs_sorted = np.argsort(user1_predictions)\n",
    "pred_idxs_sorted[:] = pred_idxs_sorted[::-1]\n",
    "\n",
    "print(\"Top recommendations for User1:\")\n",
    "for i in range(10):\n",
    "    print('Predicting rating {0:.1f} for movie {1}.'.format(\\\n",
    "    my_predictions[pred_idxs_sorted[i]],movies.loc[pred_idxs_sorted[i],'title']))\n",
    "    \n",
    "print(\"\\nOriginal ratings provided:\")\n",
    "for i in range(len(Y[:,1])):\n",
    "    if Y[i,1] > 0:\n",
    "        print('Rated {0:.1f} for movie {1}.'.format(Y[i][1],movies.loc[i,'title']))"
   ]
  },
  {
   "cell_type": "markdown",
   "metadata": {},
   "source": [
    "Observations about my recommender system:\n",
    "\n",
    "1. I recommended the move \"Bandit Queen\" even though only one user had given it a rating.  I think I should throw out any movie that hasn't been rated more than X times.  Perhaps X=5?  The only problem is that once I filter out these movies, then my Y and R matrices will have a new index to movie mapping.  Try to find a solution to this problem.\n",
    "1. To be a decent recommender system, I need to be able to take into account the actual user preferences.  For instance, since I don't like violence, I really don't want my recommender system to recommend any violent films.  How to implement this?\n",
    "1. I'm getting different results every time I run my recommender system.  I think the reason for this is (a) I'm using a different seed for theta and X every time and (b) it doesn't appear that my gradient decent algorithm is converging.  Ask Robert his thoughts on this."
   ]
  },
  {
   "cell_type": "code",
   "execution_count": 39,
   "metadata": {},
   "outputs": [
    {
     "data": {
      "text/plain": [
       "(41680,)"
      ]
     },
     "execution_count": 39,
     "metadata": {},
     "output_type": "execute_result"
    }
   ],
   "source": [
    "result[0].shape"
   ]
  },
  {
   "cell_type": "code",
   "execution_count": 40,
   "metadata": {},
   "outputs": [
    {
     "data": {
      "text/plain": [
       "41680"
      ]
     },
     "execution_count": 40,
     "metadata": {},
     "output_type": "execute_result"
    }
   ],
   "source": [
    "nu*nf+nm*nf"
   ]
  },
  {
   "cell_type": "code",
   "execution_count": null,
   "metadata": {},
   "outputs": [],
   "source": []
  }
 ],
 "metadata": {
  "kernelspec": {
   "display_name": "Python 3",
   "language": "python",
   "name": "python3"
  },
  "language_info": {
   "codemirror_mode": {
    "name": "ipython",
    "version": 3
   },
   "file_extension": ".py",
   "mimetype": "text/x-python",
   "name": "python",
   "nbconvert_exporter": "python",
   "pygments_lexer": "ipython3",
   "version": "3.6.4"
  }
 },
 "nbformat": 4,
 "nbformat_minor": 2
}
