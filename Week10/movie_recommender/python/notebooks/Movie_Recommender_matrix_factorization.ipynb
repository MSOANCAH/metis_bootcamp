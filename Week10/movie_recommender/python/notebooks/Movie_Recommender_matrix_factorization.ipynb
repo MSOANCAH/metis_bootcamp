{
 "cells": [
  {
   "cell_type": "markdown",
   "metadata": {},
   "source": [
    "# Movie Recommender Modeling"
   ]
  },
  {
   "cell_type": "markdown",
   "metadata": {},
   "source": [
    "author: Ben Sturm <br />\n",
    "contact: bwsturm@gmail.com <br />\n",
    "date: 6/18/2018"
   ]
  },
  {
   "cell_type": "markdown",
   "metadata": {},
   "source": [
    "In this notebook, I'm going to implement Nick Becker's Matrix factorization method.  The major difference is that I'm going to try to implement it using sparse matrices."
   ]
  },
  {
   "cell_type": "code",
   "execution_count": 1,
   "metadata": {},
   "outputs": [],
   "source": [
    "import pandas as pd\n",
    "import numpy as np\n",
    "from scipy.sparse import csr_matrix\n",
    "import scipy.sparse"
   ]
  },
  {
   "cell_type": "markdown",
   "metadata": {},
   "source": [
    "First I'm going to load in the MovieLens 20M Dataset."
   ]
  },
  {
   "cell_type": "code",
   "execution_count": 2,
   "metadata": {},
   "outputs": [],
   "source": [
    "ratings_df = pd.read_csv('/Users/bwsturm/ds/metis/metisbc/Week10/movie_recommender/data/ml-20M/ratings.csv')\n",
    "movies_df = pd.read_csv('/Users/bwsturm/ds/metis/metisbc/Week10/movie_recommender/data/ml-20M/movies.csv')\n",
    "movies_df['movieId'] = movies_df['movieId'].apply(pd.to_numeric)"
   ]
  },
  {
   "cell_type": "code",
   "execution_count": 3,
   "metadata": {},
   "outputs": [
    {
     "data": {
      "text/html": [
       "<div>\n",
       "<style scoped>\n",
       "    .dataframe tbody tr th:only-of-type {\n",
       "        vertical-align: middle;\n",
       "    }\n",
       "\n",
       "    .dataframe tbody tr th {\n",
       "        vertical-align: top;\n",
       "    }\n",
       "\n",
       "    .dataframe thead th {\n",
       "        text-align: right;\n",
       "    }\n",
       "</style>\n",
       "<table border=\"1\" class=\"dataframe\">\n",
       "  <thead>\n",
       "    <tr style=\"text-align: right;\">\n",
       "      <th></th>\n",
       "      <th>movieId</th>\n",
       "      <th>title</th>\n",
       "      <th>genres</th>\n",
       "    </tr>\n",
       "  </thead>\n",
       "  <tbody>\n",
       "    <tr>\n",
       "      <th>0</th>\n",
       "      <td>1</td>\n",
       "      <td>Toy Story (1995)</td>\n",
       "      <td>Adventure|Animation|Children|Comedy|Fantasy</td>\n",
       "    </tr>\n",
       "    <tr>\n",
       "      <th>1</th>\n",
       "      <td>2</td>\n",
       "      <td>Jumanji (1995)</td>\n",
       "      <td>Adventure|Children|Fantasy</td>\n",
       "    </tr>\n",
       "    <tr>\n",
       "      <th>2</th>\n",
       "      <td>3</td>\n",
       "      <td>Grumpier Old Men (1995)</td>\n",
       "      <td>Comedy|Romance</td>\n",
       "    </tr>\n",
       "    <tr>\n",
       "      <th>3</th>\n",
       "      <td>4</td>\n",
       "      <td>Waiting to Exhale (1995)</td>\n",
       "      <td>Comedy|Drama|Romance</td>\n",
       "    </tr>\n",
       "    <tr>\n",
       "      <th>4</th>\n",
       "      <td>5</td>\n",
       "      <td>Father of the Bride Part II (1995)</td>\n",
       "      <td>Comedy</td>\n",
       "    </tr>\n",
       "  </tbody>\n",
       "</table>\n",
       "</div>"
      ],
      "text/plain": [
       "   movieId                               title  \\\n",
       "0        1                    Toy Story (1995)   \n",
       "1        2                      Jumanji (1995)   \n",
       "2        3             Grumpier Old Men (1995)   \n",
       "3        4            Waiting to Exhale (1995)   \n",
       "4        5  Father of the Bride Part II (1995)   \n",
       "\n",
       "                                        genres  \n",
       "0  Adventure|Animation|Children|Comedy|Fantasy  \n",
       "1                   Adventure|Children|Fantasy  \n",
       "2                               Comedy|Romance  \n",
       "3                         Comedy|Drama|Romance  \n",
       "4                                       Comedy  "
      ]
     },
     "execution_count": 3,
     "metadata": {},
     "output_type": "execute_result"
    }
   ],
   "source": [
    "movies_df.head()"
   ]
  },
  {
   "cell_type": "code",
   "execution_count": 4,
   "metadata": {},
   "outputs": [
    {
     "data": {
      "text/html": [
       "<div>\n",
       "<style scoped>\n",
       "    .dataframe tbody tr th:only-of-type {\n",
       "        vertical-align: middle;\n",
       "    }\n",
       "\n",
       "    .dataframe tbody tr th {\n",
       "        vertical-align: top;\n",
       "    }\n",
       "\n",
       "    .dataframe thead th {\n",
       "        text-align: right;\n",
       "    }\n",
       "</style>\n",
       "<table border=\"1\" class=\"dataframe\">\n",
       "  <thead>\n",
       "    <tr style=\"text-align: right;\">\n",
       "      <th></th>\n",
       "      <th>userId</th>\n",
       "      <th>movieId</th>\n",
       "      <th>rating</th>\n",
       "      <th>timestamp</th>\n",
       "    </tr>\n",
       "  </thead>\n",
       "  <tbody>\n",
       "    <tr>\n",
       "      <th>0</th>\n",
       "      <td>1</td>\n",
       "      <td>2</td>\n",
       "      <td>3.5</td>\n",
       "      <td>1112486027</td>\n",
       "    </tr>\n",
       "    <tr>\n",
       "      <th>1</th>\n",
       "      <td>1</td>\n",
       "      <td>29</td>\n",
       "      <td>3.5</td>\n",
       "      <td>1112484676</td>\n",
       "    </tr>\n",
       "    <tr>\n",
       "      <th>2</th>\n",
       "      <td>1</td>\n",
       "      <td>32</td>\n",
       "      <td>3.5</td>\n",
       "      <td>1112484819</td>\n",
       "    </tr>\n",
       "    <tr>\n",
       "      <th>3</th>\n",
       "      <td>1</td>\n",
       "      <td>47</td>\n",
       "      <td>3.5</td>\n",
       "      <td>1112484727</td>\n",
       "    </tr>\n",
       "    <tr>\n",
       "      <th>4</th>\n",
       "      <td>1</td>\n",
       "      <td>50</td>\n",
       "      <td>3.5</td>\n",
       "      <td>1112484580</td>\n",
       "    </tr>\n",
       "  </tbody>\n",
       "</table>\n",
       "</div>"
      ],
      "text/plain": [
       "   userId  movieId  rating   timestamp\n",
       "0       1        2     3.5  1112486027\n",
       "1       1       29     3.5  1112484676\n",
       "2       1       32     3.5  1112484819\n",
       "3       1       47     3.5  1112484727\n",
       "4       1       50     3.5  1112484580"
      ]
     },
     "execution_count": 4,
     "metadata": {},
     "output_type": "execute_result"
    }
   ],
   "source": [
    "ratings_df.head()"
   ]
  },
  {
   "cell_type": "code",
   "execution_count": 5,
   "metadata": {},
   "outputs": [
    {
     "data": {
      "text/plain": [
       "dtype('int64')"
      ]
     },
     "execution_count": 5,
     "metadata": {},
     "output_type": "execute_result"
    }
   ],
   "source": [
    "ratings_df.movieId.dtype"
   ]
  },
  {
   "cell_type": "markdown",
   "metadata": {},
   "source": [
    "Now I'm going to write a function that allows me to append another user's ratings."
   ]
  },
  {
   "cell_type": "code",
   "execution_count": 6,
   "metadata": {},
   "outputs": [],
   "source": [
    "import csv\n",
    "\n",
    "def read_rating_data(file_path):\n",
    "    with open(file_path, newline='') as csvfile:\n",
    "        reader = csv.DictReader(csvfile)\n",
    "        my_ratings_dict = {}\n",
    "        firstline=True\n",
    "        for row in reader:\n",
    "            my_ratings_dict[str(row['movieId'])]=float(row['rating'])\n",
    "            \n",
    "    return my_ratings_dict"
   ]
  },
  {
   "cell_type": "code",
   "execution_count": 7,
   "metadata": {},
   "outputs": [],
   "source": [
    "#Add Ben's ratings\n",
    "file_path= '/Users/bwsturm/ds/metis/metisbc/Week10/movie_recommender/data/user_ratings/Ben_movie_ratings.csv'\n",
    "my_ratings_dict1 = read_rating_data(file_path)"
   ]
  },
  {
   "cell_type": "code",
   "execution_count": 8,
   "metadata": {},
   "outputs": [],
   "source": [
    "#Add Ruth's ratings\n",
    "file_path= '/Users/bwsturm/ds/metis/metisbc/Week10/movie_recommender/data/user_ratings/Ruth_movie_ratings.csv'\n",
    "my_ratings_dict2 = read_rating_data(file_path)"
   ]
  },
  {
   "cell_type": "code",
   "execution_count": 9,
   "metadata": {},
   "outputs": [],
   "source": [
    "def add_user_rating(df,my_ratings_dict):\n",
    "    last_user_id = max(df['userId'])\n",
    "    new_user_id = last_user_id + 1\n",
    "    for key, value in my_ratings_dict.items():\n",
    "        df = df.append({'userId':new_user_id,'movieId':int(key),'rating':value},ignore_index=True)\n",
    "    \n",
    "    df = df.astype({'userId':int,'movieId':int})\n",
    "    return df"
   ]
  },
  {
   "cell_type": "code",
   "execution_count": 10,
   "metadata": {},
   "outputs": [],
   "source": [
    "#ratings_df['userId']\n",
    "ratings_df2 = add_user_rating(ratings_df,my_ratings_dict1)\n",
    "ratings_df2 = add_user_rating(ratings_df2,my_ratings_dict2)"
   ]
  },
  {
   "cell_type": "code",
   "execution_count": 11,
   "metadata": {},
   "outputs": [
    {
     "data": {
      "text/html": [
       "<div>\n",
       "<style scoped>\n",
       "    .dataframe tbody tr th:only-of-type {\n",
       "        vertical-align: middle;\n",
       "    }\n",
       "\n",
       "    .dataframe tbody tr th {\n",
       "        vertical-align: top;\n",
       "    }\n",
       "\n",
       "    .dataframe thead th {\n",
       "        text-align: right;\n",
       "    }\n",
       "</style>\n",
       "<table border=\"1\" class=\"dataframe\">\n",
       "  <thead>\n",
       "    <tr style=\"text-align: right;\">\n",
       "      <th></th>\n",
       "      <th>userId</th>\n",
       "      <th>movieId</th>\n",
       "      <th>rating</th>\n",
       "      <th>timestamp</th>\n",
       "    </tr>\n",
       "  </thead>\n",
       "  <tbody>\n",
       "    <tr>\n",
       "      <th>0</th>\n",
       "      <td>1</td>\n",
       "      <td>2</td>\n",
       "      <td>3.5</td>\n",
       "      <td>1.112486e+09</td>\n",
       "    </tr>\n",
       "    <tr>\n",
       "      <th>1</th>\n",
       "      <td>1</td>\n",
       "      <td>29</td>\n",
       "      <td>3.5</td>\n",
       "      <td>1.112485e+09</td>\n",
       "    </tr>\n",
       "    <tr>\n",
       "      <th>2</th>\n",
       "      <td>1</td>\n",
       "      <td>32</td>\n",
       "      <td>3.5</td>\n",
       "      <td>1.112485e+09</td>\n",
       "    </tr>\n",
       "    <tr>\n",
       "      <th>3</th>\n",
       "      <td>1</td>\n",
       "      <td>47</td>\n",
       "      <td>3.5</td>\n",
       "      <td>1.112485e+09</td>\n",
       "    </tr>\n",
       "    <tr>\n",
       "      <th>4</th>\n",
       "      <td>1</td>\n",
       "      <td>50</td>\n",
       "      <td>3.5</td>\n",
       "      <td>1.112485e+09</td>\n",
       "    </tr>\n",
       "  </tbody>\n",
       "</table>\n",
       "</div>"
      ],
      "text/plain": [
       "   userId  movieId  rating     timestamp\n",
       "0       1        2     3.5  1.112486e+09\n",
       "1       1       29     3.5  1.112485e+09\n",
       "2       1       32     3.5  1.112485e+09\n",
       "3       1       47     3.5  1.112485e+09\n",
       "4       1       50     3.5  1.112485e+09"
      ]
     },
     "execution_count": 11,
     "metadata": {},
     "output_type": "execute_result"
    }
   ],
   "source": [
    "ratings_df2.head()"
   ]
  },
  {
   "cell_type": "code",
   "execution_count": 12,
   "metadata": {},
   "outputs": [
    {
     "data": {
      "text/plain": [
       "20000306"
      ]
     },
     "execution_count": 12,
     "metadata": {},
     "output_type": "execute_result"
    }
   ],
   "source": [
    "ratings_df2.index[-1]"
   ]
  },
  {
   "cell_type": "code",
   "execution_count": 13,
   "metadata": {},
   "outputs": [
    {
     "data": {
      "text/html": [
       "<div>\n",
       "<style scoped>\n",
       "    .dataframe tbody tr th:only-of-type {\n",
       "        vertical-align: middle;\n",
       "    }\n",
       "\n",
       "    .dataframe tbody tr th {\n",
       "        vertical-align: top;\n",
       "    }\n",
       "\n",
       "    .dataframe thead th {\n",
       "        text-align: right;\n",
       "    }\n",
       "</style>\n",
       "<table border=\"1\" class=\"dataframe\">\n",
       "  <thead>\n",
       "    <tr style=\"text-align: right;\">\n",
       "      <th></th>\n",
       "      <th>userId</th>\n",
       "      <th>movieId</th>\n",
       "      <th>rating</th>\n",
       "      <th>timestamp</th>\n",
       "    </tr>\n",
       "  </thead>\n",
       "  <tbody>\n",
       "    <tr>\n",
       "      <th>20000302</th>\n",
       "      <td>138495</td>\n",
       "      <td>6942</td>\n",
       "      <td>4.0</td>\n",
       "      <td>NaN</td>\n",
       "    </tr>\n",
       "    <tr>\n",
       "      <th>20000303</th>\n",
       "      <td>138495</td>\n",
       "      <td>2075</td>\n",
       "      <td>4.5</td>\n",
       "      <td>NaN</td>\n",
       "    </tr>\n",
       "    <tr>\n",
       "      <th>20000304</th>\n",
       "      <td>138495</td>\n",
       "      <td>3556</td>\n",
       "      <td>4.5</td>\n",
       "      <td>NaN</td>\n",
       "    </tr>\n",
       "    <tr>\n",
       "      <th>20000305</th>\n",
       "      <td>138495</td>\n",
       "      <td>1172</td>\n",
       "      <td>5.0</td>\n",
       "      <td>NaN</td>\n",
       "    </tr>\n",
       "    <tr>\n",
       "      <th>20000306</th>\n",
       "      <td>138495</td>\n",
       "      <td>2324</td>\n",
       "      <td>5.0</td>\n",
       "      <td>NaN</td>\n",
       "    </tr>\n",
       "  </tbody>\n",
       "</table>\n",
       "</div>"
      ],
      "text/plain": [
       "          userId  movieId  rating  timestamp\n",
       "20000302  138495     6942     4.0        NaN\n",
       "20000303  138495     2075     4.5        NaN\n",
       "20000304  138495     3556     4.5        NaN\n",
       "20000305  138495     1172     5.0        NaN\n",
       "20000306  138495     2324     5.0        NaN"
      ]
     },
     "execution_count": 13,
     "metadata": {},
     "output_type": "execute_result"
    }
   ],
   "source": [
    "ratings_df2.tail()"
   ]
  },
  {
   "cell_type": "markdown",
   "metadata": {},
   "source": [
    "Now I want to filter out movies that don't have many ratings.  If I don't do this, then I tend to recommend films that have only a few very high ratings."
   ]
  },
  {
   "cell_type": "code",
   "execution_count": 14,
   "metadata": {},
   "outputs": [],
   "source": [
    "# first I want to see what percentage of films have more than 5 ratings\n",
    "num_ratings_S = ratings_df2.groupby('movieId')['rating'].count()\n",
    "nmr = num_ratings_S.shape[0]  #nmr stands for number of movies rated\n",
    "nmr_5 = sum(num_ratings_S >=5) #numr_5 stands for number of movies rated with 5 or more ratings\n",
    "nmr_10 = sum(num_ratings_S >=10) #numr_10 stands for number of movies rated with 10 or more ratings\n",
    "nmr_20 = sum(num_ratings_S >=20) #numr_20 stands for number of movies rated with 20 or more ratings"
   ]
  },
  {
   "cell_type": "code",
   "execution_count": 15,
   "metadata": {},
   "outputs": [
    {
     "name": "stdout",
     "output_type": "stream",
     "text": [
      "The fraction of movies rated with 5 or more ratings is 0.686\n",
      "The fraction of movies rated with 10 or more ratings is 0.578\n",
      "The fraction of movies rated with 20 or more ratings is 0.491\n"
     ]
    }
   ],
   "source": [
    "print('The fraction of movies rated with 5 or more ratings is {:.3f}'.format(nmr_5/nmr))\n",
    "print('The fraction of movies rated with 10 or more ratings is {:.3f}'.format(nmr_10/nmr))\n",
    "print('The fraction of movies rated with 20 or more ratings is {:.3f}'.format(nmr_20/nmr))"
   ]
  },
  {
   "cell_type": "code",
   "execution_count": 16,
   "metadata": {},
   "outputs": [],
   "source": [
    "def filter_rated_movies(df, min_ratings=10):\n",
    "    df2 = df.groupby('movieId').filter(lambda row: len(row) >= min_ratings)\n",
    "    df2.reset_index(drop=True, inplace=True)\n",
    "    return df2"
   ]
  },
  {
   "cell_type": "code",
   "execution_count": 17,
   "metadata": {},
   "outputs": [],
   "source": [
    "ratings_df3 = filter_rated_movies(ratings_df2,10)"
   ]
  },
  {
   "cell_type": "code",
   "execution_count": 18,
   "metadata": {},
   "outputs": [
    {
     "data": {
      "text/plain": [
       "(19964877, 4)"
      ]
     },
     "execution_count": 18,
     "metadata": {},
     "output_type": "execute_result"
    }
   ],
   "source": [
    "ratings_df3.shape"
   ]
  },
  {
   "cell_type": "code",
   "execution_count": 19,
   "metadata": {},
   "outputs": [
    {
     "data": {
      "text/html": [
       "<div>\n",
       "<style scoped>\n",
       "    .dataframe tbody tr th:only-of-type {\n",
       "        vertical-align: middle;\n",
       "    }\n",
       "\n",
       "    .dataframe tbody tr th {\n",
       "        vertical-align: top;\n",
       "    }\n",
       "\n",
       "    .dataframe thead th {\n",
       "        text-align: right;\n",
       "    }\n",
       "</style>\n",
       "<table border=\"1\" class=\"dataframe\">\n",
       "  <thead>\n",
       "    <tr style=\"text-align: right;\">\n",
       "      <th></th>\n",
       "      <th>userId</th>\n",
       "      <th>movieId</th>\n",
       "      <th>rating</th>\n",
       "      <th>timestamp</th>\n",
       "    </tr>\n",
       "  </thead>\n",
       "  <tbody>\n",
       "    <tr>\n",
       "      <th>19964872</th>\n",
       "      <td>138495</td>\n",
       "      <td>6942</td>\n",
       "      <td>4.0</td>\n",
       "      <td>NaN</td>\n",
       "    </tr>\n",
       "    <tr>\n",
       "      <th>19964873</th>\n",
       "      <td>138495</td>\n",
       "      <td>2075</td>\n",
       "      <td>4.5</td>\n",
       "      <td>NaN</td>\n",
       "    </tr>\n",
       "    <tr>\n",
       "      <th>19964874</th>\n",
       "      <td>138495</td>\n",
       "      <td>3556</td>\n",
       "      <td>4.5</td>\n",
       "      <td>NaN</td>\n",
       "    </tr>\n",
       "    <tr>\n",
       "      <th>19964875</th>\n",
       "      <td>138495</td>\n",
       "      <td>1172</td>\n",
       "      <td>5.0</td>\n",
       "      <td>NaN</td>\n",
       "    </tr>\n",
       "    <tr>\n",
       "      <th>19964876</th>\n",
       "      <td>138495</td>\n",
       "      <td>2324</td>\n",
       "      <td>5.0</td>\n",
       "      <td>NaN</td>\n",
       "    </tr>\n",
       "  </tbody>\n",
       "</table>\n",
       "</div>"
      ],
      "text/plain": [
       "          userId  movieId  rating  timestamp\n",
       "19964872  138495     6942     4.0        NaN\n",
       "19964873  138495     2075     4.5        NaN\n",
       "19964874  138495     3556     4.5        NaN\n",
       "19964875  138495     1172     5.0        NaN\n",
       "19964876  138495     2324     5.0        NaN"
      ]
     },
     "execution_count": 19,
     "metadata": {},
     "output_type": "execute_result"
    }
   ],
   "source": [
    "ratings_df3.tail()"
   ]
  },
  {
   "cell_type": "markdown",
   "metadata": {},
   "source": [
    "Now I want to calculate the mean rating for each user and subtract that value from each user's rating.  Then, I'll assign that to a new column."
   ]
  },
  {
   "cell_type": "code",
   "execution_count": 20,
   "metadata": {},
   "outputs": [],
   "source": [
    "# This function does the mean normalization per user\n",
    "def user_mean_normalization(df):\n",
    "    mean_rating = df.groupby('userId')['rating'].mean()\n",
    "    mean_rating_df = mean_rating.to_frame('rating_mean')\n",
    "    df2 = pd.merge(df,mean_rating_df,left_on='userId',right_index=True)\n",
    "    df2['rating_normalized'] = df2['rating']-df2['rating_mean']\n",
    "    return df2"
   ]
  },
  {
   "cell_type": "code",
   "execution_count": 21,
   "metadata": {},
   "outputs": [],
   "source": [
    "# This function does the mean normalization per movie\n",
    "def movie_mean_normalization(df):\n",
    "    mean_rating = df.groupby('movieId')['rating'].mean()\n",
    "    mean_rating_df = mean_rating.to_frame('rating_movie_mean')\n",
    "    df2 = pd.merge(df,mean_rating_df,left_on='movieId',right_index=True)\n",
    "    df2['rating_normalized'] = df2['rating']-df2['rating_movie_mean']\n",
    "    return df2"
   ]
  },
  {
   "cell_type": "code",
   "execution_count": 22,
   "metadata": {},
   "outputs": [],
   "source": [
    "ratings_df3 = movie_mean_normalization(ratings_df3)"
   ]
  },
  {
   "cell_type": "code",
   "execution_count": 23,
   "metadata": {},
   "outputs": [
    {
     "data": {
      "text/html": [
       "<div>\n",
       "<style scoped>\n",
       "    .dataframe tbody tr th:only-of-type {\n",
       "        vertical-align: middle;\n",
       "    }\n",
       "\n",
       "    .dataframe tbody tr th {\n",
       "        vertical-align: top;\n",
       "    }\n",
       "\n",
       "    .dataframe thead th {\n",
       "        text-align: right;\n",
       "    }\n",
       "</style>\n",
       "<table border=\"1\" class=\"dataframe\">\n",
       "  <thead>\n",
       "    <tr style=\"text-align: right;\">\n",
       "      <th></th>\n",
       "      <th>userId</th>\n",
       "      <th>movieId</th>\n",
       "      <th>rating</th>\n",
       "      <th>timestamp</th>\n",
       "      <th>rating_movie_mean</th>\n",
       "      <th>rating_normalized</th>\n",
       "    </tr>\n",
       "  </thead>\n",
       "  <tbody>\n",
       "    <tr>\n",
       "      <th>0</th>\n",
       "      <td>1</td>\n",
       "      <td>2</td>\n",
       "      <td>3.5</td>\n",
       "      <td>1.112486e+09</td>\n",
       "      <td>3.211977</td>\n",
       "      <td>0.288023</td>\n",
       "    </tr>\n",
       "    <tr>\n",
       "      <th>451</th>\n",
       "      <td>5</td>\n",
       "      <td>2</td>\n",
       "      <td>3.0</td>\n",
       "      <td>8.515276e+08</td>\n",
       "      <td>3.211977</td>\n",
       "      <td>-0.211977</td>\n",
       "    </tr>\n",
       "    <tr>\n",
       "      <th>1500</th>\n",
       "      <td>13</td>\n",
       "      <td>2</td>\n",
       "      <td>3.0</td>\n",
       "      <td>8.490827e+08</td>\n",
       "      <td>3.211977</td>\n",
       "      <td>-0.211977</td>\n",
       "    </tr>\n",
       "    <tr>\n",
       "      <th>3325</th>\n",
       "      <td>29</td>\n",
       "      <td>2</td>\n",
       "      <td>3.0</td>\n",
       "      <td>8.355622e+08</td>\n",
       "      <td>3.211977</td>\n",
       "      <td>-0.211977</td>\n",
       "    </tr>\n",
       "    <tr>\n",
       "      <th>3903</th>\n",
       "      <td>34</td>\n",
       "      <td>2</td>\n",
       "      <td>3.0</td>\n",
       "      <td>8.465094e+08</td>\n",
       "      <td>3.211977</td>\n",
       "      <td>-0.211977</td>\n",
       "    </tr>\n",
       "  </tbody>\n",
       "</table>\n",
       "</div>"
      ],
      "text/plain": [
       "      userId  movieId  rating     timestamp  rating_movie_mean  \\\n",
       "0          1        2     3.5  1.112486e+09           3.211977   \n",
       "451        5        2     3.0  8.515276e+08           3.211977   \n",
       "1500      13        2     3.0  8.490827e+08           3.211977   \n",
       "3325      29        2     3.0  8.355622e+08           3.211977   \n",
       "3903      34        2     3.0  8.465094e+08           3.211977   \n",
       "\n",
       "      rating_normalized  \n",
       "0              0.288023  \n",
       "451           -0.211977  \n",
       "1500          -0.211977  \n",
       "3325          -0.211977  \n",
       "3903          -0.211977  "
      ]
     },
     "execution_count": 23,
     "metadata": {},
     "output_type": "execute_result"
    }
   ],
   "source": [
    "ratings_df3.head()"
   ]
  },
  {
   "cell_type": "markdown",
   "metadata": {},
   "source": [
    "Next, I will find the number of unique movies after the filtering step I did previously."
   ]
  },
  {
   "cell_type": "code",
   "execution_count": 24,
   "metadata": {},
   "outputs": [
    {
     "data": {
      "text/plain": [
       "(15451,)"
      ]
     },
     "execution_count": 24,
     "metadata": {},
     "output_type": "execute_result"
    }
   ],
   "source": [
    "unique_rated_movie_ids = ratings_df3['movieId'].unique()\n",
    "unique_rated_movie_ids.shape"
   ]
  },
  {
   "cell_type": "code",
   "execution_count": 25,
   "metadata": {},
   "outputs": [],
   "source": [
    "unique_rated_movie_ids.sort()"
   ]
  },
  {
   "cell_type": "code",
   "execution_count": 26,
   "metadata": {},
   "outputs": [
    {
     "data": {
      "text/html": [
       "<div>\n",
       "<style scoped>\n",
       "    .dataframe tbody tr th:only-of-type {\n",
       "        vertical-align: middle;\n",
       "    }\n",
       "\n",
       "    .dataframe tbody tr th {\n",
       "        vertical-align: top;\n",
       "    }\n",
       "\n",
       "    .dataframe thead th {\n",
       "        text-align: right;\n",
       "    }\n",
       "</style>\n",
       "<table border=\"1\" class=\"dataframe\">\n",
       "  <thead>\n",
       "    <tr style=\"text-align: right;\">\n",
       "      <th></th>\n",
       "      <th>movieId</th>\n",
       "    </tr>\n",
       "  </thead>\n",
       "  <tbody>\n",
       "    <tr>\n",
       "      <th>0</th>\n",
       "      <td>1</td>\n",
       "    </tr>\n",
       "    <tr>\n",
       "      <th>1</th>\n",
       "      <td>2</td>\n",
       "    </tr>\n",
       "    <tr>\n",
       "      <th>2</th>\n",
       "      <td>3</td>\n",
       "    </tr>\n",
       "    <tr>\n",
       "      <th>3</th>\n",
       "      <td>4</td>\n",
       "    </tr>\n",
       "    <tr>\n",
       "      <th>4</th>\n",
       "      <td>5</td>\n",
       "    </tr>\n",
       "  </tbody>\n",
       "</table>\n",
       "</div>"
      ],
      "text/plain": [
       "   movieId\n",
       "0        1\n",
       "1        2\n",
       "2        3\n",
       "3        4\n",
       "4        5"
      ]
     },
     "execution_count": 26,
     "metadata": {},
     "output_type": "execute_result"
    }
   ],
   "source": [
    "movie_mapping_df = pd.DataFrame(unique_rated_movie_ids,columns=['movieId'])\n",
    "movie_mapping_df.head()"
   ]
  },
  {
   "cell_type": "markdown",
   "metadata": {},
   "source": [
    "Now, I'm going to map each movie to a unique index."
   ]
  },
  {
   "cell_type": "code",
   "execution_count": 27,
   "metadata": {},
   "outputs": [
    {
     "data": {
      "text/html": [
       "<div>\n",
       "<style scoped>\n",
       "    .dataframe tbody tr th:only-of-type {\n",
       "        vertical-align: middle;\n",
       "    }\n",
       "\n",
       "    .dataframe tbody tr th {\n",
       "        vertical-align: top;\n",
       "    }\n",
       "\n",
       "    .dataframe thead th {\n",
       "        text-align: right;\n",
       "    }\n",
       "</style>\n",
       "<table border=\"1\" class=\"dataframe\">\n",
       "  <thead>\n",
       "    <tr style=\"text-align: right;\">\n",
       "      <th></th>\n",
       "      <th>index</th>\n",
       "      <th>movieId</th>\n",
       "    </tr>\n",
       "  </thead>\n",
       "  <tbody>\n",
       "    <tr>\n",
       "      <th>0</th>\n",
       "      <td>0</td>\n",
       "      <td>1</td>\n",
       "    </tr>\n",
       "    <tr>\n",
       "      <th>1</th>\n",
       "      <td>1</td>\n",
       "      <td>2</td>\n",
       "    </tr>\n",
       "    <tr>\n",
       "      <th>2</th>\n",
       "      <td>2</td>\n",
       "      <td>3</td>\n",
       "    </tr>\n",
       "    <tr>\n",
       "      <th>3</th>\n",
       "      <td>3</td>\n",
       "      <td>4</td>\n",
       "    </tr>\n",
       "    <tr>\n",
       "      <th>4</th>\n",
       "      <td>4</td>\n",
       "      <td>5</td>\n",
       "    </tr>\n",
       "  </tbody>\n",
       "</table>\n",
       "</div>"
      ],
      "text/plain": [
       "   index  movieId\n",
       "0      0        1\n",
       "1      1        2\n",
       "2      2        3\n",
       "3      3        4\n",
       "4      4        5"
      ]
     },
     "execution_count": 27,
     "metadata": {},
     "output_type": "execute_result"
    }
   ],
   "source": [
    "movie_mapping_df.reset_index(inplace=True)\n",
    "movie_mapping_df.head()"
   ]
  },
  {
   "cell_type": "code",
   "execution_count": 28,
   "metadata": {},
   "outputs": [],
   "source": [
    "movie_mapping_df.rename(columns={'index':'movie_idx'},inplace=True)"
   ]
  },
  {
   "cell_type": "code",
   "execution_count": 29,
   "metadata": {},
   "outputs": [
    {
     "data": {
      "text/html": [
       "<div>\n",
       "<style scoped>\n",
       "    .dataframe tbody tr th:only-of-type {\n",
       "        vertical-align: middle;\n",
       "    }\n",
       "\n",
       "    .dataframe tbody tr th {\n",
       "        vertical-align: top;\n",
       "    }\n",
       "\n",
       "    .dataframe thead th {\n",
       "        text-align: right;\n",
       "    }\n",
       "</style>\n",
       "<table border=\"1\" class=\"dataframe\">\n",
       "  <thead>\n",
       "    <tr style=\"text-align: right;\">\n",
       "      <th></th>\n",
       "      <th>movie_idx</th>\n",
       "      <th>movieId</th>\n",
       "    </tr>\n",
       "  </thead>\n",
       "  <tbody>\n",
       "    <tr>\n",
       "      <th>15446</th>\n",
       "      <td>15446</td>\n",
       "      <td>129428</td>\n",
       "    </tr>\n",
       "    <tr>\n",
       "      <th>15447</th>\n",
       "      <td>15447</td>\n",
       "      <td>129937</td>\n",
       "    </tr>\n",
       "    <tr>\n",
       "      <th>15448</th>\n",
       "      <td>15448</td>\n",
       "      <td>130073</td>\n",
       "    </tr>\n",
       "    <tr>\n",
       "      <th>15449</th>\n",
       "      <td>15449</td>\n",
       "      <td>130075</td>\n",
       "    </tr>\n",
       "    <tr>\n",
       "      <th>15450</th>\n",
       "      <td>15450</td>\n",
       "      <td>130490</td>\n",
       "    </tr>\n",
       "  </tbody>\n",
       "</table>\n",
       "</div>"
      ],
      "text/plain": [
       "       movie_idx  movieId\n",
       "15446      15446   129428\n",
       "15447      15447   129937\n",
       "15448      15448   130073\n",
       "15449      15449   130075\n",
       "15450      15450   130490"
      ]
     },
     "execution_count": 29,
     "metadata": {},
     "output_type": "execute_result"
    }
   ],
   "source": [
    "movie_mapping_df.tail()"
   ]
  },
  {
   "cell_type": "markdown",
   "metadata": {},
   "source": [
    "Now I need to merge my movie_mapping_df with my ratings_df3 "
   ]
  },
  {
   "cell_type": "code",
   "execution_count": 30,
   "metadata": {},
   "outputs": [],
   "source": [
    "ratings_df3 = pd.merge(ratings_df3,movie_mapping_df,on='movieId')"
   ]
  },
  {
   "cell_type": "code",
   "execution_count": 31,
   "metadata": {},
   "outputs": [],
   "source": [
    "ratings_df3.sort_values(by=['userId','movieId'],inplace=True)"
   ]
  },
  {
   "cell_type": "code",
   "execution_count": 32,
   "metadata": {},
   "outputs": [],
   "source": [
    "ratings_df3.reset_index(drop=True,inplace=True)"
   ]
  },
  {
   "cell_type": "code",
   "execution_count": 33,
   "metadata": {},
   "outputs": [
    {
     "data": {
      "text/html": [
       "<div>\n",
       "<style scoped>\n",
       "    .dataframe tbody tr th:only-of-type {\n",
       "        vertical-align: middle;\n",
       "    }\n",
       "\n",
       "    .dataframe tbody tr th {\n",
       "        vertical-align: top;\n",
       "    }\n",
       "\n",
       "    .dataframe thead th {\n",
       "        text-align: right;\n",
       "    }\n",
       "</style>\n",
       "<table border=\"1\" class=\"dataframe\">\n",
       "  <thead>\n",
       "    <tr style=\"text-align: right;\">\n",
       "      <th></th>\n",
       "      <th>userId</th>\n",
       "      <th>movieId</th>\n",
       "      <th>rating</th>\n",
       "      <th>timestamp</th>\n",
       "      <th>rating_movie_mean</th>\n",
       "      <th>rating_normalized</th>\n",
       "      <th>movie_idx</th>\n",
       "    </tr>\n",
       "  </thead>\n",
       "  <tbody>\n",
       "    <tr>\n",
       "      <th>19964872</th>\n",
       "      <td>138495</td>\n",
       "      <td>2393</td>\n",
       "      <td>1.0</td>\n",
       "      <td>NaN</td>\n",
       "      <td>3.202037</td>\n",
       "      <td>-2.202037</td>\n",
       "      <td>2299</td>\n",
       "    </tr>\n",
       "    <tr>\n",
       "      <th>19964873</th>\n",
       "      <td>138495</td>\n",
       "      <td>3556</td>\n",
       "      <td>4.5</td>\n",
       "      <td>NaN</td>\n",
       "      <td>3.651373</td>\n",
       "      <td>0.848627</td>\n",
       "      <td>3433</td>\n",
       "    </tr>\n",
       "    <tr>\n",
       "      <th>19964874</th>\n",
       "      <td>138495</td>\n",
       "      <td>3844</td>\n",
       "      <td>4.0</td>\n",
       "      <td>NaN</td>\n",
       "      <td>3.510980</td>\n",
       "      <td>0.489020</td>\n",
       "      <td>3712</td>\n",
       "    </tr>\n",
       "    <tr>\n",
       "      <th>19964875</th>\n",
       "      <td>138495</td>\n",
       "      <td>6942</td>\n",
       "      <td>4.0</td>\n",
       "      <td>NaN</td>\n",
       "      <td>3.799759</td>\n",
       "      <td>0.200241</td>\n",
       "      <td>6723</td>\n",
       "    </tr>\n",
       "    <tr>\n",
       "      <th>19964876</th>\n",
       "      <td>138495</td>\n",
       "      <td>59615</td>\n",
       "      <td>1.0</td>\n",
       "      <td>NaN</td>\n",
       "      <td>2.944857</td>\n",
       "      <td>-1.944857</td>\n",
       "      <td>11301</td>\n",
       "    </tr>\n",
       "  </tbody>\n",
       "</table>\n",
       "</div>"
      ],
      "text/plain": [
       "          userId  movieId  rating  timestamp  rating_movie_mean  \\\n",
       "19964872  138495     2393     1.0        NaN           3.202037   \n",
       "19964873  138495     3556     4.5        NaN           3.651373   \n",
       "19964874  138495     3844     4.0        NaN           3.510980   \n",
       "19964875  138495     6942     4.0        NaN           3.799759   \n",
       "19964876  138495    59615     1.0        NaN           2.944857   \n",
       "\n",
       "          rating_normalized  movie_idx  \n",
       "19964872          -2.202037       2299  \n",
       "19964873           0.848627       3433  \n",
       "19964874           0.489020       3712  \n",
       "19964875           0.200241       6723  \n",
       "19964876          -1.944857      11301  "
      ]
     },
     "execution_count": 33,
     "metadata": {},
     "output_type": "execute_result"
    }
   ],
   "source": [
    "ratings_df3.tail()"
   ]
  },
  {
   "cell_type": "markdown",
   "metadata": {},
   "source": [
    "Now I want to get the ratings data into a sparse matrix"
   ]
  },
  {
   "cell_type": "code",
   "execution_count": 34,
   "metadata": {},
   "outputs": [],
   "source": [
    "# Initialize sparse matrix of ratings\n",
    "item_user_data = csr_matrix((ratings_df3['rating_normalized'].astype(np.double),\n",
    "                       (ratings_df3['userId'], #row_id\n",
    "                        ratings_df3['movie_idx']))) #column_id\n",
    "\n",
    "#print(item_user_data)"
   ]
  },
  {
   "cell_type": "code",
   "execution_count": 35,
   "metadata": {},
   "outputs": [
    {
     "name": "stdout",
     "output_type": "stream",
     "text": [
      "  (1, 1)\t0.2880231983095807\n",
      "  (1, 28)\t-0.4522300469483569\n",
      "  (1, 31)\t-0.39805469097376633\n",
      "  (1, 46)\t-0.5534797687861275\n",
      "  (1, 49)\t-0.8343722078032592\n",
      "  (1, 110)\t0.08742640874684593\n",
      "  (1, 149)\t0.46096227013316415\n",
      "  (1, 220)\t0.13044946191179552\n",
      "  (1, 250)\t0.5033553395240857\n",
      "  (1, 257)\t-0.19067190194855232\n",
      "  (1, 290)\t-0.0505735544876762\n",
      "  (1, 293)\t-0.17423116921705528\n",
      "  (1, 315)\t-0.4469904996370291\n",
      "  (1, 333)\t-0.2558438653394477\n",
      "  (1, 363)\t0.3252821079571895\n",
      "  (1, 537)\t-0.13370569350717432\n",
      "  (1, 583)\t-0.4318882189683224\n",
      "  (1, 587)\t-0.6770565095815098\n",
      "  (1, 644)\t-0.21684751972942484\n",
      "  (1, 901)\t-0.4816805288974195\n",
      "  (1, 906)\t-0.4557478319407595\n",
      "  (1, 989)\t0.3623271889400921\n",
      "  (1, 1016)\t0.06615349189118058\n",
      "  (1, 1056)\t0.15037613093422797\n",
      "  (1, 1057)\t-0.4811256506299557\n",
      "  :\t:\n",
      "  (138494, 6183)\t1.1898846495119786\n",
      "  (138494, 7934)\t0.6721311475409837\n",
      "  (138494, 8090)\t-0.721558476038763\n",
      "  (138494, 8936)\t-2.3729281767955803\n",
      "  (138494, 13098)\t-0.8431149097815767\n",
      "  (138495, 16)\t0.031423871498379\n",
      "  (138495, 24)\t0.31047601373294986\n",
      "  (138495, 30)\t-0.7502649427723611\n",
      "  (138495, 46)\t-0.5534797687861275\n",
      "  (138495, 57)\t0.5215584415584416\n",
      "  (138495, 228)\t-1.95234830305108\n",
      "  (138495, 304)\t0.00681443762168632\n",
      "  (138495, 580)\t-2.586563899961198\n",
      "  (138495, 583)\t-3.4318882189683224\n",
      "  (138495, 1147)\t0.84589605537853\n",
      "  (138495, 1592)\t0.2331484871325511\n",
      "  (138495, 1869)\t-0.12896153079529604\n",
      "  (138495, 1872)\t-1.2177206059148835\n",
      "  (138495, 1985)\t0.7378151260504202\n",
      "  (138495, 2230)\t0.8241174202786805\n",
      "  (138495, 2299)\t-2.202036508133615\n",
      "  (138495, 3433)\t0.8486267661533575\n",
      "  (138495, 3712)\t0.48901973265436016\n",
      "  (138495, 6723)\t0.20024090856946186\n",
      "  (138495, 11301)\t-1.944857209194335\n"
     ]
    }
   ],
   "source": [
    "print(item_user_data)"
   ]
  },
  {
   "cell_type": "markdown",
   "metadata": {},
   "source": [
    "### Singular Value Decomposition"
   ]
  },
  {
   "cell_type": "markdown",
   "metadata": {},
   "source": [
    "Now I'm going to use scipy's SVD method.  What's great is that it can do this operation on a sparse matrix. "
   ]
  },
  {
   "cell_type": "code",
   "execution_count": 36,
   "metadata": {},
   "outputs": [],
   "source": [
    "from scipy.sparse.linalg import svds\n",
    "U, sigma, Vt = svds(item_user_data, k = 50)"
   ]
  },
  {
   "cell_type": "code",
   "execution_count": 37,
   "metadata": {},
   "outputs": [],
   "source": [
    "sigma = np.diag(sigma)"
   ]
  },
  {
   "cell_type": "code",
   "execution_count": 38,
   "metadata": {},
   "outputs": [
    {
     "name": "stdout",
     "output_type": "stream",
     "text": [
      "The size of U is: (138496, 50)\n",
      "The size of Vt is: (50, 15451)\n",
      "The size of sigma is: (50, 50)\n"
     ]
    }
   ],
   "source": [
    "print('The size of U is: {}'.format(U.shape))\n",
    "print('The size of Vt is: {}'.format(Vt.shape))\n",
    "print('The size of sigma is: {}'.format(sigma.shape))"
   ]
  },
  {
   "cell_type": "code",
   "execution_count": 39,
   "metadata": {},
   "outputs": [],
   "source": [
    "def get_user_rating_normalized_by_user(userId):\n",
    "    user_idx = userId-1  \n",
    "    user_mean_rating =  ratings_df3.loc[ratings_df3['userId']==userId,'rating_mean'].get_values()[0]\n",
    "    user_predicted_rating = np.dot(np.dot(U[user_idx],sigma),Vt) + user_mean_rating\n",
    "    return user_predicted_rating"
   ]
  },
  {
   "cell_type": "code",
   "execution_count": 40,
   "metadata": {},
   "outputs": [],
   "source": [
    "def get_user_rating_normalized_by_movie(df,userId):\n",
    "    user_idx = userId-1\n",
    "    mean_rating = df.groupby('movieId')['rating'].mean()\n",
    "    user_predicted_rating = np.dot(np.dot(U[user_idx],sigma),Vt) + mean_rating.values\n",
    "    return user_predicted_rating"
   ]
  },
  {
   "cell_type": "code",
   "execution_count": 41,
   "metadata": {},
   "outputs": [
    {
     "data": {
      "text/plain": [
       "(15451,)"
      ]
     },
     "execution_count": 41,
     "metadata": {},
     "output_type": "execute_result"
    }
   ],
   "source": [
    "user_predictions = get_user_rating_normalized_by_movie(ratings_df3,138494)\n",
    "user_predictions.shape"
   ]
  },
  {
   "cell_type": "code",
   "execution_count": 42,
   "metadata": {},
   "outputs": [],
   "source": [
    "def has_rated_movie(userId, movie_idx):\n",
    "    mask = ratings_df3['userId']==userId\n",
    "    mask_rated = ratings_df3.loc[mask,'movie_idx'].isin([movie_idx])\n",
    "    if sum(mask_rated)>0:\n",
    "        return True\n",
    "    else:\n",
    "        return False "
   ]
  },
  {
   "cell_type": "code",
   "execution_count": 43,
   "metadata": {},
   "outputs": [],
   "source": [
    "def recommend_movies2(movies_df, ratings_df, userId, num_recommendations=5):\n",
    "    \n",
    "    # get user_predictions\n",
    "    user_predictions = get_user_rating_normalized_by_movie(ratings_df,userId)\n",
    "    \n",
    "    # Sort my predictions from highest to lowest\n",
    "    pred_idxs_sorted = np.argsort(user_predictions)\n",
    "    pred_idxs_sorted[:] = pred_idxs_sorted[::-1]\n",
    "    \n",
    "    nm = unique_rated_movie_ids.shape[0] #get num_movies\n",
    "    print(\"Top recommendations for UserId: {}\".format(userId))\n",
    "    i=0; j=0\n",
    "    while i < num_recommendations:\n",
    "        movie_idx = pred_idxs_sorted[j]\n",
    "        if not has_rated_movie(userId, movie_idx):\n",
    "            movieId = movie_mapping_df.loc[movie_mapping_df['movie_idx']==movie_idx,'movieId']\n",
    "            movieTitle = movies_df.loc[movies_df['movieId']==movieId.values[0],'title']\n",
    "            print('Predicting rating {0:.1f} for movie {1}'.format(\\\n",
    "                    user_predictions[pred_idxs_sorted[i]],movieTitle.values[0]))\n",
    "            i=i+1\n",
    "        j=j+1\n",
    "        \n",
    "    nm_rated = sum(ratings_df['userId'] == userId)\n",
    "    num_to_return = min(30,nm_rated)\n",
    "    movieId = ratings_df.loc[ratings_df['userId'] == userId,'movieId']\n",
    "    movieId_array = movieId.sample(num_to_return).values\n",
    "    user_ratings_df = ratings_df[ratings_df['userId']==userId]\n",
    "    print(\"\\nA subset of original ratings provided for UserId: {}\".format(userId))\n",
    "    for i in range(num_to_return):\n",
    "        movieTitle = movies_df.loc[movies_df['movieId']==movieId_array[i],'title']\n",
    "        rating = user_ratings_df.loc[user_ratings_df['movieId']==movieId_array[i],'rating']\n",
    "        print('Rated {0:.1f} for movie {1}'.format(rating.values[0],movieTitle.values[0]))    "
   ]
  },
  {
   "cell_type": "code",
   "execution_count": 44,
   "metadata": {},
   "outputs": [
    {
     "name": "stdout",
     "output_type": "stream",
     "text": [
      "Top recommendations for UserId: 138494\n",
      "Predicting rating 5.0 for movie Forrest Gump (1994)\n",
      "Predicting rating 5.0 for movie Natural Born Killers (1994)\n",
      "Predicting rating 4.9 for movie Schindler's List (1993)\n",
      "Predicting rating 4.9 for movie Fight Club (1999)\n",
      "Predicting rating 4.8 for movie American Beauty (1999)\n",
      "Predicting rating 4.8 for movie Dances with Wolves (1990)\n",
      "Predicting rating 4.8 for movie Kill Bill: Vol. 1 (2003)\n",
      "Predicting rating 4.8 for movie Clockwork Orange, A (1971)\n",
      "Predicting rating 4.7 for movie Monty Python and the Holy Grail (1975)\n",
      "Predicting rating 4.7 for movie Star Wars: Episode V - The Empire Strikes Back (1980)\n",
      "Predicting rating 4.7 for movie Star Wars: Episode IV - A New Hope (1977)\n",
      "Predicting rating 4.7 for movie Raiders of the Lost Ark (Indiana Jones and the Raiders of the Lost Ark) (1981)\n",
      "Predicting rating 4.6 for movie Star Wars: Episode VI - Return of the Jedi (1983)\n",
      "Predicting rating 4.6 for movie Indiana Jones and the Last Crusade (1989)\n",
      "Predicting rating 4.6 for movie Eternal Sunshine of the Spotless Mind (2004)\n",
      "Predicting rating 4.6 for movie Kill Bill: Vol. 2 (2004)\n",
      "Predicting rating 4.6 for movie Spirited Away (Sen to Chihiro no kamikakushi) (2001)\n",
      "Predicting rating 4.5 for movie Zero Motivation (Efes beyahasei enosh) (2014)\n",
      "Predicting rating 4.5 for movie Trainspotting (1996)\n",
      "Predicting rating 4.5 for movie Being John Malkovich (1999)\n",
      "Predicting rating 4.5 for movie Seven (a.k.a. Se7en) (1995)\n",
      "Predicting rating 4.5 for movie American History X (1998)\n",
      "Predicting rating 4.5 for movie Pulp Fiction (1994)\n",
      "Predicting rating 4.5 for movie Apocalypse Now (1979)\n",
      "Predicting rating 4.5 for movie Memento (2000)\n",
      "Predicting rating 4.5 for movie Shrek (2001)\n",
      "Predicting rating 4.5 for movie Requiem for a Dream (2000)\n",
      "Predicting rating 4.5 for movie City of God (Cidade de Deus) (2002)\n",
      "Predicting rating 4.5 for movie Alien (1979)\n",
      "Predicting rating 4.5 for movie Dr. Strangelove or: How I Learned to Stop Worrying and Love the Bomb (1964)\n",
      "\n",
      "A subset of original ratings provided for UserId: 138494\n",
      "Rated 4.5 for movie Mission, The (1986)\n",
      "Rated 5.0 for movie Spanish Apartment, The (L'auberge espagnole) (2002)\n",
      "Rated 4.0 for movie O Brother, Where Art Thou? (2000)\n",
      "Rated 4.0 for movie Apollo 13 (1995)\n",
      "Rated 4.0 for movie What's Eating Gilbert Grape (1993)\n",
      "Rated 1.0 for movie Lemony Snicket's A Series of Unfortunate Events (2004)\n",
      "Rated 4.0 for movie Sense and Sensibility (1995)\n",
      "Rated 4.0 for movie Dead Poets Society (1989)\n",
      "Rated 4.5 for movie River Runs Through It, A (1992)\n",
      "Rated 4.5 for movie Graduate, The (1967)\n",
      "Rated 3.0 for movie Social Network, The (2010)\n",
      "Rated 4.0 for movie Beautiful Mind, A (2001)\n",
      "Rated 4.0 for movie Pi (1998)\n",
      "Rated 4.0 for movie Bend It Like Beckham (2002)\n",
      "Rated 4.5 for movie Like Water for Chocolate (Como agua para chocolate) (1992)\n",
      "Rated 4.5 for movie Buffalo '66 (a.k.a. Buffalo 66) (1998)\n",
      "Rated 3.0 for movie Sideways (2004)\n",
      "Rated 4.5 for movie Garden State (2004)\n",
      "Rated 4.0 for movie About a Boy (2002)\n",
      "Rated 4.0 for movie Mr. Holland's Opus (1995)\n",
      "Rated 2.0 for movie Fargo (1996)\n",
      "Rated 1.0 for movie Dumb & Dumber (Dumb and Dumber) (1994)\n",
      "Rated 5.0 for movie Amelie (Fabuleux destin d'Amélie Poulain, Le) (2001)\n",
      "Rated 5.0 for movie Willy Wonka & the Chocolate Factory (1971)\n"
     ]
    }
   ],
   "source": [
    "recommend_movies2(movies_df,ratings_df3,138494,30)"
   ]
  },
  {
   "cell_type": "code",
   "execution_count": 45,
   "metadata": {},
   "outputs": [
    {
     "name": "stdout",
     "output_type": "stream",
     "text": [
      "Top recommendations for UserId: 138495\n",
      "Predicting rating 4.5 for movie Zero Motivation (Efes beyahasei enosh) (2014)\n",
      "Predicting rating 4.5 for movie Shawshank Redemption, The (1994)\n",
      "Predicting rating 4.5 for movie Fight Club (1999)\n",
      "Predicting rating 4.4 for movie Schindler's List (1993)\n",
      "Predicting rating 4.4 for movie Godfather, The (1972)\n",
      "Predicting rating 4.3 for movie Casablanca (1942)\n",
      "Predicting rating 4.3 for movie Godfather: Part II, The (1974)\n",
      "Predicting rating 4.3 for movie Princess Bride, The (1987)\n",
      "Predicting rating 4.3 for movie Seven Samurai (Shichinin no samurai) (1954)\n",
      "Predicting rating 4.3 for movie Death on the Staircase (Soupçons) (2004)\n",
      "Predicting rating 4.3 for movie Monty Python and the Holy Grail (1975)\n",
      "Predicting rating 4.3 for movie Rear Window (1954)\n",
      "Predicting rating 4.3 for movie Usual Suspects, The (1995)\n",
      "Predicting rating 4.3 for movie Band of Brothers (2001)\n",
      "Predicting rating 4.3 for movie Amelie (Fabuleux destin d'Amélie Poulain, Le) (2001)\n",
      "Predicting rating 4.3 for movie O Auto da Compadecida (Dog's Will, A) (2000)\n",
      "Predicting rating 4.3 for movie Sunset Blvd. (a.k.a. Sunset Boulevard) (1950)\n",
      "Predicting rating 4.3 for movie One Flew Over the Cuckoo's Nest (1975)\n",
      "Predicting rating 4.3 for movie City of God (Cidade de Deus) (2002)\n",
      "Predicting rating 4.3 for movie The War (2007)\n",
      "Predicting rating 4.2 for movie Third Man, The (1949)\n",
      "Predicting rating 4.2 for movie Dr. Strangelove or: How I Learned to Stop Worrying and Love the Bomb (1964)\n",
      "Predicting rating 4.2 for movie Matrix, The (1999)\n",
      "Predicting rating 4.2 for movie Lives of Others, The (Das leben der Anderen) (2006)\n",
      "Predicting rating 4.2 for movie North by Northwest (1959)\n",
      "Predicting rating 4.2 for movie 12 Angry Men (1957)\n",
      "Predicting rating 4.2 for movie Paths of Glory (1957)\n",
      "Predicting rating 4.2 for movie TT3D: Closer to the Edge (2011)\n",
      "Predicting rating 4.2 for movie Spirited Away (Sen to Chihiro no kamikakushi) (2001)\n",
      "Predicting rating 4.2 for movie Double Indemnity (1944)\n",
      "\n",
      "A subset of original ratings provided for UserId: 138495\n",
      "Rated 4.5 for movie Mephisto (1981)\n",
      "Rated 4.0 for movie Gattaca (1997)\n",
      "Rated 4.0 for movie Leaving Las Vegas (1995)\n",
      "Rated 1.0 for movie Star Trek: Insurrection (1998)\n",
      "Rated 3.5 for movie Out of Africa (1985)\n",
      "Rated 4.0 for movie Sense and Sensibility (1995)\n",
      "Rated 2.5 for movie Dangerous Minds (1995)\n",
      "Rated 4.0 for movie Love Actually (2003)\n",
      "Rated 1.0 for movie Dumb & Dumber (Dumb and Dumber) (1994)\n",
      "Rated 5.0 for movie Cinema Paradiso (Nuovo cinema Paradiso) (1989)\n",
      "Rated 1.0 for movie Indiana Jones and the Kingdom of the Crystal Skull (2008)\n",
      "Rated 5.0 for movie Life Is Beautiful (La Vita è bella) (1997)\n",
      "Rated 4.5 for movie Virgin Suicides, The (1999)\n",
      "Rated 4.0 for movie Steel Magnolias (1989)\n",
      "Rated 0.5 for movie Terminator 2: Judgment Day (1991)\n",
      "Rated 4.0 for movie Three Colors: Blue (Trois couleurs: Bleu) (1993)\n",
      "Rated 2.5 for movie Driving Miss Daisy (1989)\n",
      "Rated 0.5 for movie Home Alone (1990)\n",
      "Rated 4.5 for movie Postman, The (Postino, Il) (1994)\n",
      "Rated 3.5 for movie Seven (a.k.a. Se7en) (1995)\n"
     ]
    }
   ],
   "source": [
    "recommend_movies2(movies_df,ratings_df3,138495,30)"
   ]
  },
  {
   "cell_type": "code",
   "execution_count": 46,
   "metadata": {},
   "outputs": [],
   "source": [
    "def get_group_rating(user_predictions1, user_predictions2):\n",
    "    '''\n",
    "    Takes the predictions from two users and returns the average minus a penalty term based on the absolute value\n",
    "    of the difference in the predicted score.  I divided this penalty term by 5, which was arbitrarily chosen.\n",
    "    '''\n",
    "    group_prediction = (user_predictions1+user_predictions2)/2 - np.abs(user_predictions1-user_predictions2)/5\n",
    "    return group_prediction"
   ]
  },
  {
   "cell_type": "code",
   "execution_count": 47,
   "metadata": {},
   "outputs": [],
   "source": [
    "def recommender_2users(movies_df, ratings_df, userId1, userId2, num_recommendations=5):\n",
    "    \n",
    "    #get user predictions\n",
    "    user_predictions1 = get_user_rating_normalized_by_movie(ratings_df, userId1)\n",
    "    user_predictions2 = get_user_rating_normalized_by_movie(ratings_df, userId2)\n",
    "    \n",
    "    #get the weighted average prediction\n",
    "    group_predictions = get_group_rating(user_predictions1, user_predictions2)\n",
    "    \n",
    "    # Sort my predictions from highest to lowest\n",
    "    pred_idxs_sorted = np.argsort(group_predictions)\n",
    "    pred_idxs_sorted[:] = pred_idxs_sorted[::-1]\n",
    "    \n",
    "    nm = unique_rated_movie_ids.shape[0] #get num_movies\n",
    "    print(\"Top combinded recommendations for UserIds: {} and {}\".format(userId1,userId2))\n",
    "    i=0; j=0\n",
    "    while i < num_recommendations:\n",
    "        movie_idx = pred_idxs_sorted[j]\n",
    "        if not (has_rated_movie(userId1, movie_idx) or has_rated_movie(userId2, movie_idx)):\n",
    "            movieId = movie_mapping_df.loc[movie_mapping_df['movie_idx']==movie_idx,'movieId']\n",
    "            movieTitle = movies_df.loc[movies_df['movieId']==movieId.values[0],'title']\n",
    "            print('Predicting rating {0:.1f} for movie {1}'.format(\\\n",
    "                    group_predictions[pred_idxs_sorted[i]],movieTitle.values[0]))\n",
    "            i=i+1\n",
    "        j=j+1"
   ]
  },
  {
   "cell_type": "code",
   "execution_count": 48,
   "metadata": {},
   "outputs": [
    {
     "ename": "NameError",
     "evalue": "name 'get_user_rating' is not defined",
     "output_type": "error",
     "traceback": [
      "\u001b[0;31m---------------------------------------------------------------------------\u001b[0m",
      "\u001b[0;31mNameError\u001b[0m                                 Traceback (most recent call last)",
      "\u001b[0;32m<ipython-input-48-2284ef25dc59>\u001b[0m in \u001b[0;36m<module>\u001b[0;34m()\u001b[0m\n\u001b[0;32m----> 1\u001b[0;31m \u001b[0muser_predictionsA\u001b[0m \u001b[0;34m=\u001b[0m \u001b[0mget_user_rating\u001b[0m\u001b[0;34m(\u001b[0m\u001b[0;36m138494\u001b[0m\u001b[0;34m)\u001b[0m\u001b[0;34m\u001b[0m\u001b[0m\n\u001b[0m\u001b[1;32m      2\u001b[0m \u001b[0muser_predictionsB\u001b[0m \u001b[0;34m=\u001b[0m \u001b[0mget_user_rating\u001b[0m\u001b[0;34m(\u001b[0m\u001b[0;36m138493\u001b[0m\u001b[0;34m)\u001b[0m\u001b[0;34m\u001b[0m\u001b[0m\n",
      "\u001b[0;31mNameError\u001b[0m: name 'get_user_rating' is not defined"
     ]
    }
   ],
   "source": [
    "user_predictionsA = get_user_rating(138494)\n",
    "user_predictionsB = get_user_rating(138493)"
   ]
  },
  {
   "cell_type": "code",
   "execution_count": 49,
   "metadata": {},
   "outputs": [
    {
     "name": "stdout",
     "output_type": "stream",
     "text": [
      "Top combinded recommendations for UserIds: 138494 and 138495\n",
      "Predicting rating 4.6 for movie Fight Club (1999)\n",
      "Predicting rating 4.6 for movie Schindler's List (1993)\n",
      "Predicting rating 4.5 for movie Zero Motivation (Efes beyahasei enosh) (2014)\n",
      "Predicting rating 4.4 for movie Monty Python and the Holy Grail (1975)\n",
      "Predicting rating 4.4 for movie Godfather, The (1972)\n",
      "Predicting rating 4.4 for movie Star Wars: Episode V - The Empire Strikes Back (1980)\n",
      "Predicting rating 4.3 for movie Star Wars: Episode IV - A New Hope (1977)\n",
      "Predicting rating 4.3 for movie Forrest Gump (1994)\n",
      "Predicting rating 4.3 for movie Seven Samurai (Shichinin no samurai) (1954)\n",
      "Predicting rating 4.3 for movie Spirited Away (Sen to Chihiro no kamikakushi) (2001)\n",
      "Predicting rating 4.3 for movie Raiders of the Lost Ark (Indiana Jones and the Raiders of the Lost Ark) (1981)\n",
      "Predicting rating 4.3 for movie City of God (Cidade de Deus) (2002)\n",
      "Predicting rating 4.3 for movie Princess Bride, The (1987)\n",
      "Predicting rating 4.3 for movie Dr. Strangelove or: How I Learned to Stop Worrying and Love the Bomb (1964)\n",
      "Predicting rating 4.3 for movie Godfather: Part II, The (1974)\n",
      "Predicting rating 4.3 for movie One Flew Over the Cuckoo's Nest (1975)\n",
      "Predicting rating 4.3 for movie Casablanca (1942)\n",
      "Predicting rating 4.3 for movie American History X (1998)\n",
      "Predicting rating 4.3 for movie Death on the Staircase (Soupçons) (2004)\n",
      "Predicting rating 4.3 for movie Band of Brothers (2001)\n",
      "Predicting rating 4.3 for movie Clockwork Orange, A (1971)\n",
      "Predicting rating 4.3 for movie American Beauty (1999)\n",
      "Predicting rating 4.3 for movie O Auto da Compadecida (Dog's Will, A) (2000)\n",
      "Predicting rating 4.3 for movie Lives of Others, The (Das leben der Anderen) (2006)\n",
      "Predicting rating 4.3 for movie Memento (2000)\n",
      "Predicting rating 4.3 for movie Shawshank Redemption, The (1994)\n",
      "Predicting rating 4.3 for movie Wallace & Gromit: The Wrong Trousers (1993)\n",
      "Predicting rating 4.3 for movie Rear Window (1954)\n",
      "Predicting rating 4.3 for movie Dark Knight, The (2008)\n",
      "Predicting rating 4.3 for movie Eternal Sunshine of the Spotless Mind (2004)\n"
     ]
    }
   ],
   "source": [
    "recommender_2users(movies_df,ratings_df3,138494,138495,30)"
   ]
  },
  {
   "cell_type": "code",
   "execution_count": 50,
   "metadata": {},
   "outputs": [
    {
     "name": "stdout",
     "output_type": "stream",
     "text": [
      "Top recommendations for UserId: 138493\n",
      "Predicting rating 4.9 for movie Godfather, The (1972)\n",
      "Predicting rating 4.9 for movie Godfather: Part II, The (1974)\n",
      "Predicting rating 4.8 for movie Usual Suspects, The (1995)\n",
      "Predicting rating 4.6 for movie Zero Motivation (Efes beyahasei enosh) (2014)\n",
      "Predicting rating 4.6 for movie Princess Bride, The (1987)\n",
      "Predicting rating 4.5 for movie Memento (2000)\n",
      "Predicting rating 4.5 for movie Shawshank Redemption, The (1994)\n",
      "Predicting rating 4.5 for movie Goodfellas (1990)\n",
      "Predicting rating 4.4 for movie Dr. Strangelove or: How I Learned to Stop Worrying and Love the Bomb (1964)\n",
      "Predicting rating 4.4 for movie Blade Runner (1982)\n",
      "Predicting rating 4.4 for movie Death on the Staircase (Soupçons) (2004)\n",
      "Predicting rating 4.3 for movie City of God (Cidade de Deus) (2002)\n",
      "Predicting rating 4.3 for movie Fargo (1996)\n",
      "Predicting rating 4.3 for movie Seven Samurai (Shichinin no samurai) (1954)\n",
      "Predicting rating 4.3 for movie O Auto da Compadecida (Dog's Will, A) (2000)\n",
      "Predicting rating 4.3 for movie Wallace & Gromit: The Wrong Trousers (1993)\n",
      "Predicting rating 4.3 for movie Ferris Bueller's Day Off (1986)\n",
      "Predicting rating 4.3 for movie Band of Brothers (2001)\n",
      "Predicting rating 4.3 for movie Life Is Beautiful (La Vita è bella) (1997)\n",
      "Predicting rating 4.3 for movie Reservoir Dogs (1992)\n",
      "Predicting rating 4.3 for movie Apocalypse Now (1979)\n",
      "Predicting rating 4.3 for movie The War (2007)\n",
      "Predicting rating 4.3 for movie Wallace & Gromit: A Close Shave (1995)\n",
      "Predicting rating 4.3 for movie L.A. Confidential (1997)\n",
      "Predicting rating 4.3 for movie Sunset Blvd. (a.k.a. Sunset Boulevard) (1950)\n",
      "Predicting rating 4.3 for movie TT3D: Closer to the Edge (2011)\n",
      "Predicting rating 4.3 for movie Rear Window (1954)\n",
      "Predicting rating 4.3 for movie Chinatown (1974)\n",
      "Predicting rating 4.2 for movie Third Man, The (1949)\n",
      "Predicting rating 4.2 for movie Cosmos (1980)\n",
      "\n",
      "A subset of original ratings provided for UserId: 138493\n",
      "Rated 4.0 for movie Passion of the Christ, The (2004)\n",
      "Rated 4.5 for movie Falling Down (1993)\n",
      "Rated 4.5 for movie Manhattan (1979)\n",
      "Rated 4.5 for movie Cube 2: Hypercube (2002)\n",
      "Rated 4.0 for movie Ice Age 2: The Meltdown (2006)\n",
      "Rated 4.0 for movie Home Alone 2: Lost in New York (1992)\n",
      "Rated 5.0 for movie Darjeeling Limited, The (2007)\n",
      "Rated 5.0 for movie Love Actually (2003)\n",
      "Rated 4.0 for movie Little Mermaid, The (1989)\n",
      "Rated 4.5 for movie Crimson Rivers, The (Rivières pourpres, Les) (2000)\n",
      "Rated 3.0 for movie Sweeney Todd: The Demon Barber of Fleet Street (2007)\n",
      "Rated 4.5 for movie Astronaut's Wife, The (1999)\n",
      "Rated 4.5 for movie Indochine (1992)\n",
      "Rated 4.0 for movie Ghost (1990)\n",
      "Rated 4.0 for movie Spider-Man 2 (2004)\n",
      "Rated 5.0 for movie Once Upon a Time in the West (C'era una volta il West) (1968)\n",
      "Rated 3.5 for movie Batman Beyond: Return of the Joker (2000)\n",
      "Rated 4.5 for movie Time Machine, The (2002)\n",
      "Rated 3.0 for movie Highlander III: The Sorcerer (a.k.a. Highlander: The Final Dimension) (1994)\n",
      "Rated 4.0 for movie Kramer vs. Kramer (1979)\n",
      "Rated 4.0 for movie Year of Living Dangerously, The (1982)\n",
      "Rated 5.0 for movie Ghost in the Shell (Kôkaku kidôtai) (1995)\n",
      "Rated 4.0 for movie Jungle Book, The (1967)\n",
      "Rated 5.0 for movie American Beauty (1999)\n",
      "Rated 5.0 for movie Lost Highway (1997)\n",
      "Rated 5.0 for movie My Neighbor Totoro (Tonari no Totoro) (1988)\n",
      "Rated 5.0 for movie Clockwork Orange, A (1971)\n",
      "Rated 4.0 for movie Star Wars: The Clone Wars (2008)\n",
      "Rated 5.0 for movie Spirited Away (Sen to Chihiro no kamikakushi) (2001)\n",
      "Rated 3.5 for movie Star Wars: Episode II - Attack of the Clones (2002)\n"
     ]
    }
   ],
   "source": [
    "recommend_movies2(movies_df,ratings_df3,138493,30)"
   ]
  },
  {
   "cell_type": "code",
   "execution_count": 51,
   "metadata": {},
   "outputs": [],
   "source": [
    "user_predictions_sorted = np.sort(user_predictions)"
   ]
  },
  {
   "cell_type": "markdown",
   "metadata": {},
   "source": [
    "I'd like to save the DataFrame with Ruth's and my information so that I can do further processing on it.  In addition, I want to use the same filtering technique where I filter on movies that have been rated 10 or more times. "
   ]
  },
  {
   "cell_type": "code",
   "execution_count": null,
   "metadata": {},
   "outputs": [],
   "source": [
    "ratings_df_to_save = filter_rated_movies(ratings_df2,10)"
   ]
  },
  {
   "cell_type": "code",
   "execution_count": null,
   "metadata": {},
   "outputs": [],
   "source": [
    "ratings_df_to_save.tail()"
   ]
  },
  {
   "cell_type": "code",
   "execution_count": null,
   "metadata": {},
   "outputs": [],
   "source": [
    "ratings_df_to_save.to_csv('ratings_with_Ben_Ruth.csv',index=False)"
   ]
  },
  {
   "cell_type": "code",
   "execution_count": null,
   "metadata": {},
   "outputs": [],
   "source": [
    "movie_mapping_df.to_csv('movie_mapping.csv',index=False)"
   ]
  },
  {
   "cell_type": "code",
   "execution_count": null,
   "metadata": {},
   "outputs": [],
   "source": [
    "#movie_mapping_df.index\n",
    "movie_mapping_df.loc[0,:]"
   ]
  },
  {
   "cell_type": "code",
   "execution_count": null,
   "metadata": {},
   "outputs": [],
   "source": [
    "user_predictions = get_user_rating_normalized_by_movie(ratings_df3,138493)"
   ]
  },
  {
   "cell_type": "code",
   "execution_count": null,
   "metadata": {},
   "outputs": [],
   "source": [
    "user_predictions.shape"
   ]
  },
  {
   "cell_type": "code",
   "execution_count": null,
   "metadata": {},
   "outputs": [],
   "source": [
    "#recommend_movies2(movies_df,ratings_df3,12,30)"
   ]
  },
  {
   "cell_type": "code",
   "execution_count": null,
   "metadata": {},
   "outputs": [],
   "source": [
    "#Add Rom-com fan ratings\n",
    "file_path= '/Users/bwsturm/ds/metis/metisbc/Week10/movie_recommender/data/user_ratings/Rom-com_fan_ratings.csv'\n",
    "my_ratings_dict3 = read_rating_data(file_path)"
   ]
  },
  {
   "cell_type": "code",
   "execution_count": null,
   "metadata": {},
   "outputs": [],
   "source": [
    "my_ratings_dict3"
   ]
  },
  {
   "cell_type": "code",
   "execution_count": null,
   "metadata": {},
   "outputs": [],
   "source": [
    "ratings_df2.tail()"
   ]
  },
  {
   "cell_type": "markdown",
   "metadata": {},
   "source": [
    "The romantic comedy fan is a profile I made up just to demonstrate my recommender.  The userId for this fan is 138496."
   ]
  },
  {
   "cell_type": "code",
   "execution_count": null,
   "metadata": {},
   "outputs": [],
   "source": [
    "ratings_df2 = add_user_rating(ratings_df2,my_ratings_dict3)"
   ]
  },
  {
   "cell_type": "code",
   "execution_count": null,
   "metadata": {},
   "outputs": [],
   "source": [
    "ratings_df2.tail()"
   ]
  },
  {
   "cell_type": "code",
   "execution_count": null,
   "metadata": {},
   "outputs": [],
   "source": [
    "ratings_df_to_save2 = filter_rated_movies(ratings_df2,10)"
   ]
  },
  {
   "cell_type": "code",
   "execution_count": null,
   "metadata": {},
   "outputs": [],
   "source": [
    "ratings_df_to_save2.to_csv('ratings_with_Ben_Ruth_RomcomFan.csv',index=False)"
   ]
  },
  {
   "cell_type": "markdown",
   "metadata": {},
   "source": [
    "How sparse is the item_user_data sparse matrix?"
   ]
  },
  {
   "cell_type": "code",
   "execution_count": null,
   "metadata": {},
   "outputs": [],
   "source": [
    "item_user_data.shape"
   ]
  },
  {
   "cell_type": "code",
   "execution_count": null,
   "metadata": {},
   "outputs": [],
   "source": []
  }
 ],
 "metadata": {
  "kernelspec": {
   "display_name": "Python 3",
   "language": "python",
   "name": "python3"
  },
  "language_info": {
   "codemirror_mode": {
    "name": "ipython",
    "version": 3
   },
   "file_extension": ".py",
   "mimetype": "text/x-python",
   "name": "python",
   "nbconvert_exporter": "python",
   "pygments_lexer": "ipython3",
   "version": "3.6.4"
  }
 },
 "nbformat": 4,
 "nbformat_minor": 2
}
