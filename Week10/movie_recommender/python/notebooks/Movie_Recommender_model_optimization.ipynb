{
 "cells": [
  {
   "cell_type": "markdown",
   "metadata": {},
   "source": [
    "# Movie Recommender Optimization"
   ]
  },
  {
   "cell_type": "markdown",
   "metadata": {},
   "source": [
    "author: Ben Sturm <br />\n",
    "contact: bwsturm@gmail.com <br />\n",
    "date: 6/21/2018"
   ]
  },
  {
   "cell_type": "markdown",
   "metadata": {},
   "source": [
    "This notebook is an extension of what I previously did in the Movie_Recommender_matrix_factorization.ipynb notebook.  However, my goal in this notebook is to try and optimize my recommendation model.  In order to do that optimization, I'm going to attempt to do a train/test split on my data, so that I can build me recommender on the train data and score it on the test data. "
   ]
  },
  {
   "cell_type": "markdown",
   "metadata": {},
   "source": [
    "### Reading in the data and doing the train/test split"
   ]
  },
  {
   "cell_type": "code",
   "execution_count": 1,
   "metadata": {},
   "outputs": [],
   "source": [
    "#first step is to import some libraries\n",
    "import pandas as pd\n",
    "import numpy as np\n",
    "from scipy.sparse import csr_matrix\n",
    "import scipy.sparse\n",
    "\n",
    "from sklearn.model_selection import train_test_split"
   ]
  },
  {
   "cell_type": "markdown",
   "metadata": {},
   "source": [
    "Now I'm going to read in the data that I generated in the previous notebook.  This data includes the ratings of Ben (userId=138494), Ruth (userId=138495), and Rom-Com fan (userId=138496).\n"
   ]
  },
  {
   "cell_type": "code",
   "execution_count": 2,
   "metadata": {},
   "outputs": [],
   "source": [
    "ratings_df = pd.read_csv('/Users/bwsturm/ds/metis/metisbc/Week10/movie_recommender/data/user_ratings/20Mratings_with_Ben_Ruth_RomcomFan.csv')\n",
    "movies_df = pd.read_csv('/Users/bwsturm/ds/metis/metisbc/Week10/movie_recommender/data/ml-20m/movies.csv')\n",
    "movie_mapping_df = pd.read_csv('/Users/bwsturm/ds/metis/metisbc/Week10/movie_recommender/data/user_ratings/movie_mapping.csv')"
   ]
  },
  {
   "cell_type": "code",
   "execution_count": 3,
   "metadata": {},
   "outputs": [
    {
     "data": {
      "text/html": [
       "<div>\n",
       "<style scoped>\n",
       "    .dataframe tbody tr th:only-of-type {\n",
       "        vertical-align: middle;\n",
       "    }\n",
       "\n",
       "    .dataframe tbody tr th {\n",
       "        vertical-align: top;\n",
       "    }\n",
       "\n",
       "    .dataframe thead th {\n",
       "        text-align: right;\n",
       "    }\n",
       "</style>\n",
       "<table border=\"1\" class=\"dataframe\">\n",
       "  <thead>\n",
       "    <tr style=\"text-align: right;\">\n",
       "      <th></th>\n",
       "      <th>userId</th>\n",
       "      <th>movieId</th>\n",
       "      <th>rating</th>\n",
       "      <th>timestamp</th>\n",
       "    </tr>\n",
       "  </thead>\n",
       "  <tbody>\n",
       "    <tr>\n",
       "      <th>0</th>\n",
       "      <td>1</td>\n",
       "      <td>2</td>\n",
       "      <td>3.5</td>\n",
       "      <td>1.112486e+09</td>\n",
       "    </tr>\n",
       "    <tr>\n",
       "      <th>1</th>\n",
       "      <td>1</td>\n",
       "      <td>29</td>\n",
       "      <td>3.5</td>\n",
       "      <td>1.112485e+09</td>\n",
       "    </tr>\n",
       "    <tr>\n",
       "      <th>2</th>\n",
       "      <td>1</td>\n",
       "      <td>32</td>\n",
       "      <td>3.5</td>\n",
       "      <td>1.112485e+09</td>\n",
       "    </tr>\n",
       "    <tr>\n",
       "      <th>3</th>\n",
       "      <td>1</td>\n",
       "      <td>47</td>\n",
       "      <td>3.5</td>\n",
       "      <td>1.112485e+09</td>\n",
       "    </tr>\n",
       "    <tr>\n",
       "      <th>4</th>\n",
       "      <td>1</td>\n",
       "      <td>50</td>\n",
       "      <td>3.5</td>\n",
       "      <td>1.112485e+09</td>\n",
       "    </tr>\n",
       "  </tbody>\n",
       "</table>\n",
       "</div>"
      ],
      "text/plain": [
       "   userId  movieId  rating     timestamp\n",
       "0       1        2     3.5  1.112486e+09\n",
       "1       1       29     3.5  1.112485e+09\n",
       "2       1       32     3.5  1.112485e+09\n",
       "3       1       47     3.5  1.112485e+09\n",
       "4       1       50     3.5  1.112485e+09"
      ]
     },
     "execution_count": 3,
     "metadata": {},
     "output_type": "execute_result"
    }
   ],
   "source": [
    "ratings_df.head()"
   ]
  },
  {
   "cell_type": "code",
   "execution_count": 4,
   "metadata": {},
   "outputs": [
    {
     "data": {
      "text/html": [
       "<div>\n",
       "<style scoped>\n",
       "    .dataframe tbody tr th:only-of-type {\n",
       "        vertical-align: middle;\n",
       "    }\n",
       "\n",
       "    .dataframe tbody tr th {\n",
       "        vertical-align: top;\n",
       "    }\n",
       "\n",
       "    .dataframe thead th {\n",
       "        text-align: right;\n",
       "    }\n",
       "</style>\n",
       "<table border=\"1\" class=\"dataframe\">\n",
       "  <thead>\n",
       "    <tr style=\"text-align: right;\">\n",
       "      <th></th>\n",
       "      <th>movieId</th>\n",
       "      <th>title</th>\n",
       "      <th>genres</th>\n",
       "    </tr>\n",
       "  </thead>\n",
       "  <tbody>\n",
       "    <tr>\n",
       "      <th>0</th>\n",
       "      <td>1</td>\n",
       "      <td>Toy Story (1995)</td>\n",
       "      <td>Adventure|Animation|Children|Comedy|Fantasy</td>\n",
       "    </tr>\n",
       "    <tr>\n",
       "      <th>1</th>\n",
       "      <td>2</td>\n",
       "      <td>Jumanji (1995)</td>\n",
       "      <td>Adventure|Children|Fantasy</td>\n",
       "    </tr>\n",
       "    <tr>\n",
       "      <th>2</th>\n",
       "      <td>3</td>\n",
       "      <td>Grumpier Old Men (1995)</td>\n",
       "      <td>Comedy|Romance</td>\n",
       "    </tr>\n",
       "    <tr>\n",
       "      <th>3</th>\n",
       "      <td>4</td>\n",
       "      <td>Waiting to Exhale (1995)</td>\n",
       "      <td>Comedy|Drama|Romance</td>\n",
       "    </tr>\n",
       "    <tr>\n",
       "      <th>4</th>\n",
       "      <td>5</td>\n",
       "      <td>Father of the Bride Part II (1995)</td>\n",
       "      <td>Comedy</td>\n",
       "    </tr>\n",
       "  </tbody>\n",
       "</table>\n",
       "</div>"
      ],
      "text/plain": [
       "   movieId                               title  \\\n",
       "0        1                    Toy Story (1995)   \n",
       "1        2                      Jumanji (1995)   \n",
       "2        3             Grumpier Old Men (1995)   \n",
       "3        4            Waiting to Exhale (1995)   \n",
       "4        5  Father of the Bride Part II (1995)   \n",
       "\n",
       "                                        genres  \n",
       "0  Adventure|Animation|Children|Comedy|Fantasy  \n",
       "1                   Adventure|Children|Fantasy  \n",
       "2                               Comedy|Romance  \n",
       "3                         Comedy|Drama|Romance  \n",
       "4                                       Comedy  "
      ]
     },
     "execution_count": 4,
     "metadata": {},
     "output_type": "execute_result"
    }
   ],
   "source": [
    "movies_df.head()"
   ]
  },
  {
   "cell_type": "markdown",
   "metadata": {},
   "source": [
    "Now that the data has been read in, I'm going to use sklearn's train/test split method."
   ]
  },
  {
   "cell_type": "code",
   "execution_count": 5,
   "metadata": {},
   "outputs": [],
   "source": [
    "train, test = train_test_split(ratings_df, test_size=0.2, random_state=7)"
   ]
  },
  {
   "cell_type": "code",
   "execution_count": 6,
   "metadata": {},
   "outputs": [
    {
     "data": {
      "text/html": [
       "<div>\n",
       "<style scoped>\n",
       "    .dataframe tbody tr th:only-of-type {\n",
       "        vertical-align: middle;\n",
       "    }\n",
       "\n",
       "    .dataframe tbody tr th {\n",
       "        vertical-align: top;\n",
       "    }\n",
       "\n",
       "    .dataframe thead th {\n",
       "        text-align: right;\n",
       "    }\n",
       "</style>\n",
       "<table border=\"1\" class=\"dataframe\">\n",
       "  <thead>\n",
       "    <tr style=\"text-align: right;\">\n",
       "      <th></th>\n",
       "      <th>userId</th>\n",
       "      <th>movieId</th>\n",
       "      <th>rating</th>\n",
       "      <th>timestamp</th>\n",
       "    </tr>\n",
       "  </thead>\n",
       "  <tbody>\n",
       "    <tr>\n",
       "      <th>11278380</th>\n",
       "      <td>78041</td>\n",
       "      <td>2188</td>\n",
       "      <td>3.0</td>\n",
       "      <td>9.652499e+08</td>\n",
       "    </tr>\n",
       "    <tr>\n",
       "      <th>6512657</th>\n",
       "      <td>44818</td>\n",
       "      <td>555</td>\n",
       "      <td>4.0</td>\n",
       "      <td>8.416635e+08</td>\n",
       "    </tr>\n",
       "    <tr>\n",
       "      <th>1036722</th>\n",
       "      <td>7036</td>\n",
       "      <td>53129</td>\n",
       "      <td>4.5</td>\n",
       "      <td>1.203873e+09</td>\n",
       "    </tr>\n",
       "    <tr>\n",
       "      <th>18009814</th>\n",
       "      <td>124776</td>\n",
       "      <td>1208</td>\n",
       "      <td>4.0</td>\n",
       "      <td>1.013812e+09</td>\n",
       "    </tr>\n",
       "    <tr>\n",
       "      <th>18276911</th>\n",
       "      <td>126661</td>\n",
       "      <td>4079</td>\n",
       "      <td>2.0</td>\n",
       "      <td>1.001536e+09</td>\n",
       "    </tr>\n",
       "  </tbody>\n",
       "</table>\n",
       "</div>"
      ],
      "text/plain": [
       "          userId  movieId  rating     timestamp\n",
       "11278380   78041     2188     3.0  9.652499e+08\n",
       "6512657    44818      555     4.0  8.416635e+08\n",
       "1036722     7036    53129     4.5  1.203873e+09\n",
       "18009814  124776     1208     4.0  1.013812e+09\n",
       "18276911  126661     4079     2.0  1.001536e+09"
      ]
     },
     "execution_count": 6,
     "metadata": {},
     "output_type": "execute_result"
    }
   ],
   "source": [
    "train.head()"
   ]
  },
  {
   "cell_type": "markdown",
   "metadata": {},
   "source": [
    "A few things I need to check however, is that every user in the test data is also in the train data.  Also, I need to check that every movie in the test data is also in the train data."
   ]
  },
  {
   "cell_type": "code",
   "execution_count": 7,
   "metadata": {},
   "outputs": [],
   "source": [
    "def find_test_users_not_in_train(train_df,test_df):\n",
    "    all_train_users = train_df['userId'].unique()\n",
    "    all_test_users = test_df['userId'].unique()\n",
    "    \n",
    "    missing_users = []\n",
    "    for user in all_test_users:\n",
    "        if user not in all_train_users:\n",
    "            missing_users.append(user)\n",
    "    \n",
    "    if len(missing_users)>0:\n",
    "        print('Some users in test set were not in train set.')\n",
    "    else:\n",
    "        print('All users accounted for.')\n",
    "        \n",
    "    return missing_users\n",
    "    "
   ]
  },
  {
   "cell_type": "code",
   "execution_count": 8,
   "metadata": {},
   "outputs": [
    {
     "name": "stdout",
     "output_type": "stream",
     "text": [
      "All users accounted for.\n"
     ]
    }
   ],
   "source": [
    "missing_users = find_test_users_not_in_train(train,test)"
   ]
  },
  {
   "cell_type": "code",
   "execution_count": 9,
   "metadata": {},
   "outputs": [],
   "source": [
    "def find_test_movies_not_in_train(train_df,test_df):\n",
    "    all_train_movies = train_df['movieId'].unique()\n",
    "    all_test_movies = test_df['movieId'].unique()\n",
    "    \n",
    "    missing_movies = []\n",
    "    for movie in all_test_movies:\n",
    "        if movie not in all_train_movies:\n",
    "            missing_movies.append(movie)\n",
    "    \n",
    "    if len(missing_movies)>0:\n",
    "        print('Some movies in test set were not in train set.')\n",
    "    else:\n",
    "        print('All movies accounted for.')\n",
    "        \n",
    "    return missing_movies"
   ]
  },
  {
   "cell_type": "code",
   "execution_count": 10,
   "metadata": {},
   "outputs": [
    {
     "name": "stdout",
     "output_type": "stream",
     "text": [
      "All movies accounted for.\n"
     ]
    }
   ],
   "source": [
    "missing_movies = find_test_movies_not_in_train(train,test)"
   ]
  },
  {
   "cell_type": "markdown",
   "metadata": {},
   "source": [
    "Awesome, I don't have to do any special house cleaning to account for any movies or users missing in the training data."
   ]
  },
  {
   "cell_type": "markdown",
   "metadata": {},
   "source": [
    "Now I'm going to copy and paste some of the functions from the previous notebook.  A better method would be to put all of these functions in a '.py' file, but I'll have to save that task for later."
   ]
  },
  {
   "cell_type": "code",
   "execution_count": 11,
   "metadata": {},
   "outputs": [],
   "source": [
    "def movie_mean_normalization(df):\n",
    "    mean_rating = df.groupby('movieId')['rating'].mean()\n",
    "    mean_rating_df = mean_rating.to_frame('rating_movie_mean')\n",
    "    df2 = pd.merge(df,mean_rating_df,left_on='movieId',right_index=True)\n",
    "    df2['rating_normalized'] = df2['rating']-df2['rating_movie_mean']\n",
    "    return df2"
   ]
  },
  {
   "cell_type": "code",
   "execution_count": 12,
   "metadata": {},
   "outputs": [],
   "source": [
    "train2 = movie_mean_normalization(train)"
   ]
  },
  {
   "cell_type": "code",
   "execution_count": 13,
   "metadata": {},
   "outputs": [
    {
     "data": {
      "text/html": [
       "<div>\n",
       "<style scoped>\n",
       "    .dataframe tbody tr th:only-of-type {\n",
       "        vertical-align: middle;\n",
       "    }\n",
       "\n",
       "    .dataframe tbody tr th {\n",
       "        vertical-align: top;\n",
       "    }\n",
       "\n",
       "    .dataframe thead th {\n",
       "        text-align: right;\n",
       "    }\n",
       "</style>\n",
       "<table border=\"1\" class=\"dataframe\">\n",
       "  <thead>\n",
       "    <tr style=\"text-align: right;\">\n",
       "      <th></th>\n",
       "      <th>userId</th>\n",
       "      <th>movieId</th>\n",
       "      <th>rating</th>\n",
       "      <th>timestamp</th>\n",
       "      <th>rating_movie_mean</th>\n",
       "      <th>rating_normalized</th>\n",
       "    </tr>\n",
       "  </thead>\n",
       "  <tbody>\n",
       "    <tr>\n",
       "      <th>11278380</th>\n",
       "      <td>78041</td>\n",
       "      <td>2188</td>\n",
       "      <td>3.0</td>\n",
       "      <td>9.652499e+08</td>\n",
       "      <td>2.797983</td>\n",
       "      <td>0.202017</td>\n",
       "    </tr>\n",
       "    <tr>\n",
       "      <th>6767671</th>\n",
       "      <td>46632</td>\n",
       "      <td>2188</td>\n",
       "      <td>2.0</td>\n",
       "      <td>9.061053e+08</td>\n",
       "      <td>2.797983</td>\n",
       "      <td>-0.797983</td>\n",
       "    </tr>\n",
       "    <tr>\n",
       "      <th>17899552</th>\n",
       "      <td>123981</td>\n",
       "      <td>2188</td>\n",
       "      <td>2.0</td>\n",
       "      <td>1.230784e+09</td>\n",
       "      <td>2.797983</td>\n",
       "      <td>-0.797983</td>\n",
       "    </tr>\n",
       "    <tr>\n",
       "      <th>18729403</th>\n",
       "      <td>129910</td>\n",
       "      <td>2188</td>\n",
       "      <td>3.0</td>\n",
       "      <td>1.023747e+09</td>\n",
       "      <td>2.797983</td>\n",
       "      <td>0.202017</td>\n",
       "    </tr>\n",
       "    <tr>\n",
       "      <th>5141332</th>\n",
       "      <td>35246</td>\n",
       "      <td>2188</td>\n",
       "      <td>3.0</td>\n",
       "      <td>1.003047e+09</td>\n",
       "      <td>2.797983</td>\n",
       "      <td>0.202017</td>\n",
       "    </tr>\n",
       "  </tbody>\n",
       "</table>\n",
       "</div>"
      ],
      "text/plain": [
       "          userId  movieId  rating     timestamp  rating_movie_mean  \\\n",
       "11278380   78041     2188     3.0  9.652499e+08           2.797983   \n",
       "6767671    46632     2188     2.0  9.061053e+08           2.797983   \n",
       "17899552  123981     2188     2.0  1.230784e+09           2.797983   \n",
       "18729403  129910     2188     3.0  1.023747e+09           2.797983   \n",
       "5141332    35246     2188     3.0  1.003047e+09           2.797983   \n",
       "\n",
       "          rating_normalized  \n",
       "11278380           0.202017  \n",
       "6767671           -0.797983  \n",
       "17899552          -0.797983  \n",
       "18729403           0.202017  \n",
       "5141332            0.202017  "
      ]
     },
     "execution_count": 13,
     "metadata": {},
     "output_type": "execute_result"
    }
   ],
   "source": [
    "train2.head()"
   ]
  },
  {
   "cell_type": "code",
   "execution_count": 14,
   "metadata": {},
   "outputs": [
    {
     "data": {
      "text/plain": [
       "(15451,)"
      ]
     },
     "execution_count": 14,
     "metadata": {},
     "output_type": "execute_result"
    }
   ],
   "source": [
    "all_train_movie_ids = train2['movieId'].unique()\n",
    "all_train_movie_ids.shape"
   ]
  },
  {
   "cell_type": "markdown",
   "metadata": {},
   "source": [
    "Since this shape is the same as what I calculated in the previous notebook for the full ratings dataset, I'm confident all movies are accounted for.  This means I can use the movie_mapping_df DataFrame that I read in previously."
   ]
  },
  {
   "cell_type": "markdown",
   "metadata": {},
   "source": [
    "Now I can merge my train and test data with the movie_mapping_df."
   ]
  },
  {
   "cell_type": "code",
   "execution_count": 15,
   "metadata": {},
   "outputs": [],
   "source": [
    "train2 = pd.merge(train2,movie_mapping_df,on='movieId')"
   ]
  },
  {
   "cell_type": "code",
   "execution_count": 16,
   "metadata": {},
   "outputs": [],
   "source": [
    "test2 = pd.merge(test,movie_mapping_df,on='movieId')"
   ]
  },
  {
   "cell_type": "code",
   "execution_count": 17,
   "metadata": {},
   "outputs": [
    {
     "data": {
      "text/html": [
       "<div>\n",
       "<style scoped>\n",
       "    .dataframe tbody tr th:only-of-type {\n",
       "        vertical-align: middle;\n",
       "    }\n",
       "\n",
       "    .dataframe tbody tr th {\n",
       "        vertical-align: top;\n",
       "    }\n",
       "\n",
       "    .dataframe thead th {\n",
       "        text-align: right;\n",
       "    }\n",
       "</style>\n",
       "<table border=\"1\" class=\"dataframe\">\n",
       "  <thead>\n",
       "    <tr style=\"text-align: right;\">\n",
       "      <th></th>\n",
       "      <th>userId</th>\n",
       "      <th>movieId</th>\n",
       "      <th>rating</th>\n",
       "      <th>timestamp</th>\n",
       "      <th>rating_movie_mean</th>\n",
       "      <th>rating_normalized</th>\n",
       "      <th>movie_idx</th>\n",
       "    </tr>\n",
       "  </thead>\n",
       "  <tbody>\n",
       "    <tr>\n",
       "      <th>0</th>\n",
       "      <td>78041</td>\n",
       "      <td>2188</td>\n",
       "      <td>3.0</td>\n",
       "      <td>9.652499e+08</td>\n",
       "      <td>2.797983</td>\n",
       "      <td>0.202017</td>\n",
       "      <td>2098</td>\n",
       "    </tr>\n",
       "    <tr>\n",
       "      <th>1</th>\n",
       "      <td>46632</td>\n",
       "      <td>2188</td>\n",
       "      <td>2.0</td>\n",
       "      <td>9.061053e+08</td>\n",
       "      <td>2.797983</td>\n",
       "      <td>-0.797983</td>\n",
       "      <td>2098</td>\n",
       "    </tr>\n",
       "    <tr>\n",
       "      <th>2</th>\n",
       "      <td>123981</td>\n",
       "      <td>2188</td>\n",
       "      <td>2.0</td>\n",
       "      <td>1.230784e+09</td>\n",
       "      <td>2.797983</td>\n",
       "      <td>-0.797983</td>\n",
       "      <td>2098</td>\n",
       "    </tr>\n",
       "    <tr>\n",
       "      <th>3</th>\n",
       "      <td>129910</td>\n",
       "      <td>2188</td>\n",
       "      <td>3.0</td>\n",
       "      <td>1.023747e+09</td>\n",
       "      <td>2.797983</td>\n",
       "      <td>0.202017</td>\n",
       "      <td>2098</td>\n",
       "    </tr>\n",
       "    <tr>\n",
       "      <th>4</th>\n",
       "      <td>35246</td>\n",
       "      <td>2188</td>\n",
       "      <td>3.0</td>\n",
       "      <td>1.003047e+09</td>\n",
       "      <td>2.797983</td>\n",
       "      <td>0.202017</td>\n",
       "      <td>2098</td>\n",
       "    </tr>\n",
       "  </tbody>\n",
       "</table>\n",
       "</div>"
      ],
      "text/plain": [
       "   userId  movieId  rating     timestamp  rating_movie_mean  \\\n",
       "0   78041     2188     3.0  9.652499e+08           2.797983   \n",
       "1   46632     2188     2.0  9.061053e+08           2.797983   \n",
       "2  123981     2188     2.0  1.230784e+09           2.797983   \n",
       "3  129910     2188     3.0  1.023747e+09           2.797983   \n",
       "4   35246     2188     3.0  1.003047e+09           2.797983   \n",
       "\n",
       "   rating_normalized  movie_idx  \n",
       "0           0.202017       2098  \n",
       "1          -0.797983       2098  \n",
       "2          -0.797983       2098  \n",
       "3           0.202017       2098  \n",
       "4           0.202017       2098  "
      ]
     },
     "execution_count": 17,
     "metadata": {},
     "output_type": "execute_result"
    }
   ],
   "source": [
    "train2.head()"
   ]
  },
  {
   "cell_type": "code",
   "execution_count": 18,
   "metadata": {},
   "outputs": [
    {
     "data": {
      "text/html": [
       "<div>\n",
       "<style scoped>\n",
       "    .dataframe tbody tr th:only-of-type {\n",
       "        vertical-align: middle;\n",
       "    }\n",
       "\n",
       "    .dataframe tbody tr th {\n",
       "        vertical-align: top;\n",
       "    }\n",
       "\n",
       "    .dataframe thead th {\n",
       "        text-align: right;\n",
       "    }\n",
       "</style>\n",
       "<table border=\"1\" class=\"dataframe\">\n",
       "  <thead>\n",
       "    <tr style=\"text-align: right;\">\n",
       "      <th></th>\n",
       "      <th>userId</th>\n",
       "      <th>movieId</th>\n",
       "      <th>rating</th>\n",
       "      <th>timestamp</th>\n",
       "      <th>movie_idx</th>\n",
       "    </tr>\n",
       "  </thead>\n",
       "  <tbody>\n",
       "    <tr>\n",
       "      <th>0</th>\n",
       "      <td>2155</td>\n",
       "      <td>410</td>\n",
       "      <td>4.0</td>\n",
       "      <td>8.452451e+08</td>\n",
       "      <td>406</td>\n",
       "    </tr>\n",
       "    <tr>\n",
       "      <th>1</th>\n",
       "      <td>58771</td>\n",
       "      <td>410</td>\n",
       "      <td>3.0</td>\n",
       "      <td>8.366002e+08</td>\n",
       "      <td>406</td>\n",
       "    </tr>\n",
       "    <tr>\n",
       "      <th>2</th>\n",
       "      <td>84042</td>\n",
       "      <td>410</td>\n",
       "      <td>4.0</td>\n",
       "      <td>8.372720e+08</td>\n",
       "      <td>406</td>\n",
       "    </tr>\n",
       "    <tr>\n",
       "      <th>3</th>\n",
       "      <td>28876</td>\n",
       "      <td>410</td>\n",
       "      <td>3.0</td>\n",
       "      <td>8.471780e+08</td>\n",
       "      <td>406</td>\n",
       "    </tr>\n",
       "    <tr>\n",
       "      <th>4</th>\n",
       "      <td>24914</td>\n",
       "      <td>410</td>\n",
       "      <td>4.0</td>\n",
       "      <td>1.267855e+09</td>\n",
       "      <td>406</td>\n",
       "    </tr>\n",
       "  </tbody>\n",
       "</table>\n",
       "</div>"
      ],
      "text/plain": [
       "   userId  movieId  rating     timestamp  movie_idx\n",
       "0    2155      410     4.0  8.452451e+08        406\n",
       "1   58771      410     3.0  8.366002e+08        406\n",
       "2   84042      410     4.0  8.372720e+08        406\n",
       "3   28876      410     3.0  8.471780e+08        406\n",
       "4   24914      410     4.0  1.267855e+09        406"
      ]
     },
     "execution_count": 18,
     "metadata": {},
     "output_type": "execute_result"
    }
   ],
   "source": [
    "test2.head()"
   ]
  },
  {
   "cell_type": "code",
   "execution_count": 19,
   "metadata": {},
   "outputs": [],
   "source": [
    "train2.sort_values(by=['userId','movieId'],inplace=True)\n",
    "train2.reset_index(drop=True,inplace=True)"
   ]
  },
  {
   "cell_type": "code",
   "execution_count": 20,
   "metadata": {},
   "outputs": [],
   "source": [
    "test2.sort_values(by=['userId','movieId'],inplace=True)\n",
    "test2.reset_index(drop=True,inplace=True)"
   ]
  },
  {
   "cell_type": "code",
   "execution_count": 21,
   "metadata": {},
   "outputs": [
    {
     "data": {
      "text/html": [
       "<div>\n",
       "<style scoped>\n",
       "    .dataframe tbody tr th:only-of-type {\n",
       "        vertical-align: middle;\n",
       "    }\n",
       "\n",
       "    .dataframe tbody tr th {\n",
       "        vertical-align: top;\n",
       "    }\n",
       "\n",
       "    .dataframe thead th {\n",
       "        text-align: right;\n",
       "    }\n",
       "</style>\n",
       "<table border=\"1\" class=\"dataframe\">\n",
       "  <thead>\n",
       "    <tr style=\"text-align: right;\">\n",
       "      <th></th>\n",
       "      <th>userId</th>\n",
       "      <th>movieId</th>\n",
       "      <th>rating</th>\n",
       "      <th>timestamp</th>\n",
       "      <th>rating_movie_mean</th>\n",
       "      <th>rating_normalized</th>\n",
       "      <th>movie_idx</th>\n",
       "    </tr>\n",
       "  </thead>\n",
       "  <tbody>\n",
       "    <tr>\n",
       "      <th>15971910</th>\n",
       "      <td>138496</td>\n",
       "      <td>5299</td>\n",
       "      <td>5.0</td>\n",
       "      <td>NaN</td>\n",
       "      <td>3.463000</td>\n",
       "      <td>1.537000</td>\n",
       "      <td>5146</td>\n",
       "    </tr>\n",
       "    <tr>\n",
       "      <th>15971911</th>\n",
       "      <td>138496</td>\n",
       "      <td>6155</td>\n",
       "      <td>5.0</td>\n",
       "      <td>NaN</td>\n",
       "      <td>3.182139</td>\n",
       "      <td>1.817861</td>\n",
       "      <td>5980</td>\n",
       "    </tr>\n",
       "    <tr>\n",
       "      <th>15971912</th>\n",
       "      <td>138496</td>\n",
       "      <td>6942</td>\n",
       "      <td>5.0</td>\n",
       "      <td>NaN</td>\n",
       "      <td>3.793812</td>\n",
       "      <td>1.206188</td>\n",
       "      <td>6723</td>\n",
       "    </tr>\n",
       "    <tr>\n",
       "      <th>15971913</th>\n",
       "      <td>138496</td>\n",
       "      <td>58559</td>\n",
       "      <td>1.5</td>\n",
       "      <td>NaN</td>\n",
       "      <td>4.222062</td>\n",
       "      <td>-2.722062</td>\n",
       "      <td>11199</td>\n",
       "    </tr>\n",
       "    <tr>\n",
       "      <th>15971914</th>\n",
       "      <td>138496</td>\n",
       "      <td>69757</td>\n",
       "      <td>4.0</td>\n",
       "      <td>NaN</td>\n",
       "      <td>3.791008</td>\n",
       "      <td>0.208992</td>\n",
       "      <td>12108</td>\n",
       "    </tr>\n",
       "  </tbody>\n",
       "</table>\n",
       "</div>"
      ],
      "text/plain": [
       "          userId  movieId  rating  timestamp  rating_movie_mean  \\\n",
       "15971910  138496     5299     5.0        NaN           3.463000   \n",
       "15971911  138496     6155     5.0        NaN           3.182139   \n",
       "15971912  138496     6942     5.0        NaN           3.793812   \n",
       "15971913  138496    58559     1.5        NaN           4.222062   \n",
       "15971914  138496    69757     4.0        NaN           3.791008   \n",
       "\n",
       "          rating_normalized  movie_idx  \n",
       "15971910           1.537000       5146  \n",
       "15971911           1.817861       5980  \n",
       "15971912           1.206188       6723  \n",
       "15971913          -2.722062      11199  \n",
       "15971914           0.208992      12108  "
      ]
     },
     "execution_count": 21,
     "metadata": {},
     "output_type": "execute_result"
    }
   ],
   "source": [
    "train2.tail()"
   ]
  },
  {
   "cell_type": "code",
   "execution_count": 22,
   "metadata": {},
   "outputs": [
    {
     "data": {
      "text/html": [
       "<div>\n",
       "<style scoped>\n",
       "    .dataframe tbody tr th:only-of-type {\n",
       "        vertical-align: middle;\n",
       "    }\n",
       "\n",
       "    .dataframe tbody tr th {\n",
       "        vertical-align: top;\n",
       "    }\n",
       "\n",
       "    .dataframe thead th {\n",
       "        text-align: right;\n",
       "    }\n",
       "</style>\n",
       "<table border=\"1\" class=\"dataframe\">\n",
       "  <thead>\n",
       "    <tr style=\"text-align: right;\">\n",
       "      <th></th>\n",
       "      <th>userId</th>\n",
       "      <th>movieId</th>\n",
       "      <th>rating</th>\n",
       "      <th>timestamp</th>\n",
       "      <th>movie_idx</th>\n",
       "    </tr>\n",
       "  </thead>\n",
       "  <tbody>\n",
       "    <tr>\n",
       "      <th>3992974</th>\n",
       "      <td>138494</td>\n",
       "      <td>27706</td>\n",
       "      <td>1.0</td>\n",
       "      <td>NaN</td>\n",
       "      <td>8936</td>\n",
       "    </tr>\n",
       "    <tr>\n",
       "      <th>3992975</th>\n",
       "      <td>138495</td>\n",
       "      <td>589</td>\n",
       "      <td>0.5</td>\n",
       "      <td>NaN</td>\n",
       "      <td>583</td>\n",
       "    </tr>\n",
       "    <tr>\n",
       "      <th>3992976</th>\n",
       "      <td>138496</td>\n",
       "      <td>2571</td>\n",
       "      <td>2.0</td>\n",
       "      <td>NaN</td>\n",
       "      <td>2476</td>\n",
       "    </tr>\n",
       "    <tr>\n",
       "      <th>3992977</th>\n",
       "      <td>138496</td>\n",
       "      <td>69406</td>\n",
       "      <td>4.5</td>\n",
       "      <td>NaN</td>\n",
       "      <td>12064</td>\n",
       "    </tr>\n",
       "    <tr>\n",
       "      <th>3992978</th>\n",
       "      <td>138496</td>\n",
       "      <td>88163</td>\n",
       "      <td>4.5</td>\n",
       "      <td>NaN</td>\n",
       "      <td>13670</td>\n",
       "    </tr>\n",
       "  </tbody>\n",
       "</table>\n",
       "</div>"
      ],
      "text/plain": [
       "         userId  movieId  rating  timestamp  movie_idx\n",
       "3992974  138494    27706     1.0        NaN       8936\n",
       "3992975  138495      589     0.5        NaN        583\n",
       "3992976  138496     2571     2.0        NaN       2476\n",
       "3992977  138496    69406     4.5        NaN      12064\n",
       "3992978  138496    88163     4.5        NaN      13670"
      ]
     },
     "execution_count": 22,
     "metadata": {},
     "output_type": "execute_result"
    }
   ],
   "source": [
    "test2.tail()"
   ]
  },
  {
   "cell_type": "markdown",
   "metadata": {},
   "source": [
    "Now I want to get the train2 data into a sparse matrix in order to feed into an SVD model."
   ]
  },
  {
   "cell_type": "code",
   "execution_count": 23,
   "metadata": {},
   "outputs": [],
   "source": [
    "# Initialize sparse matrix of ratings\n",
    "item_user_data = csr_matrix((train2['rating_normalized'].astype(np.double),\n",
    "                       (train2['userId'], #row_id\n",
    "                        train2['movie_idx']))) #column_id"
   ]
  },
  {
   "cell_type": "code",
   "execution_count": 24,
   "metadata": {},
   "outputs": [
    {
     "data": {
      "text/plain": [
       "(138497, 15451)"
      ]
     },
     "execution_count": 24,
     "metadata": {},
     "output_type": "execute_result"
    }
   ],
   "source": [
    "item_user_data.shape"
   ]
  },
  {
   "cell_type": "code",
   "execution_count": 25,
   "metadata": {},
   "outputs": [
    {
     "name": "stdout",
     "output_type": "stream",
     "text": [
      "  (1, 1)\t0.28951354990742306\n",
      "  (1, 28)\t-0.4599616575726295\n",
      "  (1, 46)\t-0.5521891876197662\n",
      "  (1, 49)\t-0.83589866283861\n",
      "  (1, 110)\t0.08826004628655593\n",
      "  (1, 220)\t0.12683454756625467\n",
      "  (1, 250)\t0.503198149156233\n",
      "  (1, 290)\t-0.05423408584439482\n",
      "  (1, 293)\t-0.17691792170076504\n",
      "  (1, 333)\t-0.2575736423286332\n",
      "  (1, 363)\t0.3300751331242249\n",
      "  (1, 537)\t-0.136426819296811\n",
      "  (1, 583)\t-0.4307955170024136\n",
      "  (1, 644)\t-0.21562088635366372\n",
      "  (1, 901)\t-0.47645458908858185\n",
      "  (1, 906)\t-0.45618505690252364\n",
      "  (1, 989)\t0.3586749285033366\n",
      "  (1, 1016)\t0.06698348969642343\n",
      "  (1, 1056)\t0.15714013224821954\n",
      "  (1, 1057)\t-0.4797210497338962\n",
      "  (1, 1067)\t0.08012057750277624\n",
      "  (1, 1074)\t0.24658939768193067\n",
      "  (1, 1112)\t-0.6728927746868019\n",
      "  (1, 1169)\t0.3094321329639893\n",
      "  (1, 1171)\t0.2777247897338073\n",
      "  :\t:\n",
      "  (138495, 1147)\t0.8457345325701828\n",
      "  (138495, 1592)\t0.2321560713084425\n",
      "  (138495, 1869)\t-0.12279393487447177\n",
      "  (138495, 1872)\t-1.22204759766502\n",
      "  (138495, 1985)\t0.7095744680851066\n",
      "  (138495, 2230)\t0.8236225895316807\n",
      "  (138495, 2299)\t-2.2024506781750923\n",
      "  (138495, 3433)\t0.85447908445146\n",
      "  (138495, 3712)\t0.5004008016032064\n",
      "  (138495, 6723)\t0.20618776671408234\n",
      "  (138495, 11301)\t-1.9523188405797103\n",
      "  (138496, 108)\t-2.0422326271382873\n",
      "  (138496, 591)\t1.582454847032805\n",
      "  (138496, 1276)\t1.1550818923700281\n",
      "  (138496, 1514)\t1.7190904484418548\n",
      "  (138496, 2330)\t1.846465881306957\n",
      "  (138496, 2477)\t1.0225543769420335\n",
      "  (138496, 2666)\t-1.0534293596817657\n",
      "  (138496, 3454)\t-2.958258852165976\n",
      "  (138496, 3664)\t-2.602182308873482\n",
      "  (138496, 5146)\t1.537000493339911\n",
      "  (138496, 5980)\t1.817860924814684\n",
      "  (138496, 6723)\t1.2061877667140823\n",
      "  (138496, 11199)\t-2.7220620706575076\n",
      "  (138496, 12108)\t0.20899241603466967\n"
     ]
    }
   ],
   "source": [
    "print(item_user_data)"
   ]
  },
  {
   "cell_type": "markdown",
   "metadata": {},
   "source": [
    "### Singular Value Decomposition"
   ]
  },
  {
   "cell_type": "code",
   "execution_count": 26,
   "metadata": {},
   "outputs": [],
   "source": [
    "from scipy.sparse.linalg import svds\n",
    "U, sigma, Vt = svds(item_user_data, k = 15)"
   ]
  },
  {
   "cell_type": "code",
   "execution_count": 27,
   "metadata": {},
   "outputs": [],
   "source": [
    "sigma = np.diag(sigma)"
   ]
  },
  {
   "cell_type": "code",
   "execution_count": 28,
   "metadata": {},
   "outputs": [
    {
     "name": "stdout",
     "output_type": "stream",
     "text": [
      "The size of U is: (138497, 15)\n",
      "The size of Vt is: (15, 15451)\n",
      "The size of sigma is: (15, 15)\n"
     ]
    }
   ],
   "source": [
    "print('The size of U is: {}'.format(U.shape))\n",
    "print('The size of Vt is: {}'.format(Vt.shape))\n",
    "print('The size of sigma is: {}'.format(sigma.shape))"
   ]
  },
  {
   "cell_type": "code",
   "execution_count": 29,
   "metadata": {},
   "outputs": [],
   "source": [
    "def get_mean_movie_rating(df):\n",
    "    mean_rating = df.groupby('movieId')['rating'].mean()\n",
    "    return mean_rating"
   ]
  },
  {
   "cell_type": "code",
   "execution_count": 30,
   "metadata": {},
   "outputs": [],
   "source": [
    "def get_user_rating_normalized_by_movie(df,userId,mean_rating,U,sigma,Vt):\n",
    "    user_idx = userId-1\n",
    "    user_predicted_rating = np.dot(np.dot(U[user_idx],sigma),Vt) + mean_rating.values\n",
    "    return user_predicted_rating"
   ]
  },
  {
   "cell_type": "code",
   "execution_count": 31,
   "metadata": {},
   "outputs": [],
   "source": [
    "def has_rated_movie(userId, movie_idx):\n",
    "    mask = ratings_df2['userId']==userId\n",
    "    mask_rated = ratings_df2.loc[mask,'movie_idx'].isin([movie_idx])\n",
    "    if sum(mask_rated)>0:\n",
    "        return True\n",
    "    else:\n",
    "        return False "
   ]
  },
  {
   "cell_type": "code",
   "execution_count": 32,
   "metadata": {},
   "outputs": [],
   "source": [
    "def get_errors_test(train_df,test_df,U,sigma,Vt,userId_list=None,allusers=False):\n",
    "    if allusers:\n",
    "        userId_array = test['userId'].unique()\n",
    "        userId_list = userId_array.tolist()\n",
    "    error_list = []\n",
    "    mean_rating = get_mean_movie_rating(train_df)\n",
    "    for userId in userId_list:\n",
    "        user_predicted_rating = get_user_rating_normalized_by_movie(train_df,userId,mean_rating,U,sigma,Vt)\n",
    "        test_userid_df = test_df[test_df['userId']==userId]\n",
    "        for index, row in test_userid_df.iterrows():\n",
    "            movie_idx = int(row['movie_idx'])\n",
    "            actual_rating = row['rating']\n",
    "            predicted_rating = user_predicted_rating[movie_idx]\n",
    "            error = np.abs(predicted_rating-actual_rating)\n",
    "            error_list.append(error)\n",
    "    error_array = np.array(error_list)\n",
    "    num_samples = len(error_array)\n",
    "    mae = (1/num_samples)*sum(error_array)\n",
    "    rmse = np.sqrt((1/num_samples*sum(error_array**2)))\n",
    "    return mae, rmse, num_samples"
   ]
  },
  {
   "cell_type": "code",
   "execution_count": 33,
   "metadata": {},
   "outputs": [
    {
     "data": {
      "text/plain": [
       "(0.737481311782031, 0.9462910472554306, 295016)"
      ]
     },
     "execution_count": 33,
     "metadata": {},
     "output_type": "execute_result"
    }
   ],
   "source": [
    "user_array = np.arange(1,10000)\n",
    "user_list = user_array.tolist()\n",
    "get_errors_test(train2,test2,U,sigma,Vt,user_list)"
   ]
  },
  {
   "cell_type": "markdown",
   "metadata": {},
   "source": [
    "Cool!  Now I have a way to evaluate my model.  Unfortunately, it takes too long to do it for my complete test set.  I'm not sure where the bottleneck is, but I will wait to evaluate that for later."
   ]
  },
  {
   "cell_type": "markdown",
   "metadata": {},
   "source": [
    "My next step is to go through different values of k for my SVD and generate a score of my model for each value of k."
   ]
  },
  {
   "cell_type": "markdown",
   "metadata": {},
   "source": [
    "First starting with k=5."
   ]
  },
  {
   "cell_type": "code",
   "execution_count": null,
   "metadata": {},
   "outputs": [],
   "source": [
    "def get_recommender_score(k):\n",
    "    U, sigma, Vt = svds(item_user_data, k = k)\n",
    "    sigma = np.diag(sigma)\n",
    "    user_array = np.arange(1,10000)\n",
    "    user_list = user_array.tolist()\n",
    "    return get_errors_test(train2,test2,U,sigma,Vt,user_list)"
   ]
  },
  {
   "cell_type": "code",
   "execution_count": null,
   "metadata": {},
   "outputs": [],
   "source": [
    "(mae_k5,rmse_k5,num_samples_k5) = get_recommender_score(5)\n",
    "print(mae_k5,rmse_k5,num_samples_k5)"
   ]
  },
  {
   "cell_type": "code",
   "execution_count": null,
   "metadata": {},
   "outputs": [],
   "source": [
    "#now let's try k=10\n",
    "(mae_k10,rmse_k10,num_samples_k10) = get_recommender_score(10)\n",
    "print(mae_k10,rmse_k10,num_samples_k10)"
   ]
  },
  {
   "cell_type": "code",
   "execution_count": null,
   "metadata": {},
   "outputs": [],
   "source": [
    "#now let's try k=20\n",
    "(mae_k20,rmse_k20,num_samples_k20) = get_recommender_score(20)\n",
    "print(mae_k20,rmse_k20,num_samples_k20)"
   ]
  },
  {
   "cell_type": "code",
   "execution_count": null,
   "metadata": {},
   "outputs": [],
   "source": [
    "#now let's try k=50\n",
    "(mae_k50,rmse_k50,num_samples_k50) = get_recommender_score(50)\n",
    "print(mae_k50,rmse_k50,num_samples_k50)"
   ]
  },
  {
   "cell_type": "code",
   "execution_count": null,
   "metadata": {},
   "outputs": [],
   "source": [
    "#now let's try k=100\n",
    "(mae_k100,rmse_k100,num_samples_k100) = get_recommender_score(100)\n",
    "print(mae_k100,rmse_k100,num_samples_k100)"
   ]
  },
  {
   "cell_type": "markdown",
   "metadata": {},
   "source": [
    "So far we have tested k=5,10,20,50,&100.  The best mae and rmse scores were for k=5.  Now I'm going to try a few values below and above that value."
   ]
  },
  {
   "cell_type": "code",
   "execution_count": null,
   "metadata": {},
   "outputs": [],
   "source": [
    "(mae_k3,rmse_k3,num_samples_k3) = get_recommender_score(3)\n",
    "print(mae_k3,rmse_k3,num_samples_k3)"
   ]
  },
  {
   "cell_type": "code",
   "execution_count": null,
   "metadata": {},
   "outputs": [],
   "source": [
    "(mae_k1,rmse_k1,num_samples_k1) = get_recommender_score(1)\n",
    "print(mae_k1,rmse_k1,num_samples_k1)"
   ]
  },
  {
   "cell_type": "code",
   "execution_count": null,
   "metadata": {},
   "outputs": [],
   "source": [
    "(mae_k2,rmse_k2,num_samples_k2) = get_recommender_score(2)\n",
    "print(mae_k2,rmse_k2,num_samples_k2)"
   ]
  },
  {
   "cell_type": "code",
   "execution_count": null,
   "metadata": {},
   "outputs": [],
   "source": [
    "(mae_k15,rmse_k15,num_samples_k15) = get_recommender_score(15)\n",
    "print(mae_k15,rmse_k15,num_samples_k15)"
   ]
  },
  {
   "cell_type": "markdown",
   "metadata": {},
   "source": [
    "This is surprising to me, but the best result is with k=1.  The next thing I'm going to do the same analysis with the training data."
   ]
  },
  {
   "cell_type": "code",
   "execution_count": null,
   "metadata": {},
   "outputs": [],
   "source": [
    "def get_errors_train(train_df,test_df,U,sigma,Vt,userId_list=None,allusers=False):\n",
    "    if allusers:\n",
    "        userId_array = test['userId'].unique()\n",
    "        userId_list = userId_array.tolist()\n",
    "    error_list = []\n",
    "    mean_rating = get_mean_movie_rating(train_df)\n",
    "    for userId in userId_list:\n",
    "        user_predicted_rating = get_user_rating_normalized_by_movie(train_df,userId,mean_rating,U,sigma,Vt)\n",
    "        train_userid_df = train_df[train_df['userId']==userId]\n",
    "        for index, row in train_userid_df.iterrows():\n",
    "            movie_idx = int(row['movie_idx'])\n",
    "            actual_rating = row['rating']\n",
    "            predicted_rating = user_predicted_rating[movie_idx]\n",
    "            error = np.abs(predicted_rating-actual_rating)\n",
    "            error_list.append(error)\n",
    "    error_array = np.array(error_list)\n",
    "    num_samples = len(error_array)\n",
    "    mae = (1/num_samples)*sum(error_array)\n",
    "    rmse = np.sqrt((1/num_samples*sum(error_array**2)))\n",
    "    return mae, rmse, num_samples"
   ]
  },
  {
   "cell_type": "code",
   "execution_count": null,
   "metadata": {},
   "outputs": [],
   "source": [
    "def get_recommender_score_train(k):\n",
    "    U, sigma, Vt = svds(item_user_data, k = k)\n",
    "    sigma = np.diag(sigma)\n",
    "    user_array = np.arange(1,2500)\n",
    "    user_list = user_array.tolist()\n",
    "    return get_errors_train(train2,test2,U,sigma,Vt,user_list)"
   ]
  },
  {
   "cell_type": "code",
   "execution_count": null,
   "metadata": {},
   "outputs": [],
   "source": [
    "(mae_k1_train,rmse_k1_train,num_samples_k1_train) = get_recommender_score_train(1)\n",
    "print(mae_k1_train,rmse_k1_train,num_samples_k1_train)"
   ]
  },
  {
   "cell_type": "code",
   "execution_count": null,
   "metadata": {},
   "outputs": [],
   "source": [
    "(mae_k2_train,rmse_k2_train,num_samples_k2_train) = get_recommender_score_train(2)\n",
    "print(mae_k2_train,rmse_k2_train,num_samples_k2_train)"
   ]
  },
  {
   "cell_type": "code",
   "execution_count": null,
   "metadata": {},
   "outputs": [],
   "source": [
    "(mae_k3_train,rmse_k3_train,num_samples_k3_train) = get_recommender_score_train(3)\n",
    "print(mae_k3_train,rmse_k3_train,num_samples_k3_train)"
   ]
  },
  {
   "cell_type": "code",
   "execution_count": null,
   "metadata": {},
   "outputs": [],
   "source": [
    "(mae_k4_train,rmse_k4_train,num_samples_k4_train) = get_recommender_score_train(4)\n",
    "print(mae_k4_train,rmse_k4_train,num_samples_k4_train)"
   ]
  },
  {
   "cell_type": "code",
   "execution_count": null,
   "metadata": {},
   "outputs": [],
   "source": [
    "(mae_k5_train,rmse_k5_train,num_samples_k5_train) = get_recommender_score_train(5)\n",
    "print(mae_k5_train,rmse_k5_train,num_samples_k5_train)"
   ]
  },
  {
   "cell_type": "code",
   "execution_count": null,
   "metadata": {},
   "outputs": [],
   "source": [
    "(mae_k10_train,rmse_k10_train,num_samples_k10_train) = get_recommender_score_train(10)\n",
    "print(mae_k10_train,rmse_k10_train,num_samples_k10_train)"
   ]
  },
  {
   "cell_type": "code",
   "execution_count": null,
   "metadata": {},
   "outputs": [],
   "source": [
    "(mae_k100_train,rmse_k100_train,num_samples_k100_train) = get_recommender_score_train(100)\n",
    "print(mae_k100_train,rmse_k100_train,num_samples_k100_train)"
   ]
  },
  {
   "cell_type": "code",
   "execution_count": null,
   "metadata": {},
   "outputs": [],
   "source": [
    "(mae_k1000_train,rmse_k1000_train,num_samples_k1000_train) = get_recommender_score_train(1000)\n",
    "print(mae_k1000_train,rmse_k1000_train,num_samples_k1000_train)"
   ]
  },
  {
   "cell_type": "markdown",
   "metadata": {},
   "source": [
    "The above results are also surprising to me, because I would expect that the error would go down with more components (increasing k).  However, the opposite was true.  For now, I'm going to use k=15 as my optimal, which is based on some results I found in a paper I read."
   ]
  },
  {
   "cell_type": "code",
   "execution_count": 34,
   "metadata": {},
   "outputs": [],
   "source": [
    "def recommend_movies3(movies_df, ratings_df, userId, U, sigma, Vt, num_recommendations=5):\n",
    "    \n",
    "    mean_rating = get_mean_movie_rating(ratings_df)\n",
    "    # get user_predictions\n",
    "    user_predictions = get_user_rating_normalized_by_movie(ratings_df,userId,mean_rating, U, sigma, Vt)\n",
    "    \n",
    "    # Sort my predictions from highest to lowest\n",
    "    pred_idxs_sorted = np.argsort(user_predictions)\n",
    "    pred_idxs_sorted[:] = pred_idxs_sorted[::-1]\n",
    "    \n",
    "    unique_rated_movie_ids = ratings_df['movieId'].unique()\n",
    "    nm = unique_rated_movie_ids.shape[0] #get num_movies\n",
    "    print(\"Top recommendations for UserId: {}\".format(userId))\n",
    "    i=0; j=0\n",
    "    while i < num_recommendations:\n",
    "        movie_idx = pred_idxs_sorted[j]\n",
    "        if not has_rated_movie(userId, movie_idx):\n",
    "            movieId = movie_mapping_df.loc[movie_mapping_df['movie_idx']==movie_idx,'movieId']\n",
    "            movieTitle = movies_df.loc[movies_df['movieId']==movieId.values[0],'title']\n",
    "            print('Predicting rating {0:.1f} for movie {1}'.format(\\\n",
    "                    user_predictions[pred_idxs_sorted[i]],movieTitle.values[0]))\n",
    "            i=i+1\n",
    "        j=j+1\n",
    "        \n",
    "    nm_rated = sum(ratings_df['userId'] == userId)\n",
    "    num_to_return = min(20,nm_rated)\n",
    "    movieId = ratings_df.loc[ratings_df['userId'] == userId,'movieId']\n",
    "    movieId_array = movieId.sample(num_to_return).values\n",
    "    user_ratings_df = ratings_df[ratings_df['userId']==userId]\n",
    "    print(\"\\nA subset of original ratings provided for UserId: {}\".format(userId))\n",
    "    for i in range(num_to_return):\n",
    "        movieTitle = movies_df.loc[movies_df['movieId']==movieId_array[i],'title']\n",
    "        rating = user_ratings_df.loc[user_ratings_df['movieId']==movieId_array[i],'rating']\n",
    "        print('Rated {0:.1f} for movie {1}'.format(rating.values[0],movieTitle.values[0]))    "
   ]
  },
  {
   "cell_type": "code",
   "execution_count": 35,
   "metadata": {},
   "outputs": [],
   "source": [
    "def get_recommended_movies(movies_df,ratings_df,userId):\n",
    "    U, sigma, Vt = svds(item_user_data2, k = 15)\n",
    "    sigma = np.diag(sigma)\n",
    "    recommend_movies3(movies_df,ratings_df,userId,U,sigma,Vt,20)"
   ]
  },
  {
   "cell_type": "code",
   "execution_count": 36,
   "metadata": {},
   "outputs": [],
   "source": [
    "ratings_df2 = movie_mean_normalization(ratings_df)"
   ]
  },
  {
   "cell_type": "code",
   "execution_count": 37,
   "metadata": {},
   "outputs": [],
   "source": [
    "ratings_df2 = pd.merge(ratings_df2,movie_mapping_df,on='movieId')\n",
    "ratings_df2.sort_values(by=['userId','movieId'],inplace=True)\n",
    "ratings_df2.reset_index(drop=True,inplace=True)"
   ]
  },
  {
   "cell_type": "code",
   "execution_count": 38,
   "metadata": {},
   "outputs": [
    {
     "data": {
      "text/html": [
       "<div>\n",
       "<style scoped>\n",
       "    .dataframe tbody tr th:only-of-type {\n",
       "        vertical-align: middle;\n",
       "    }\n",
       "\n",
       "    .dataframe tbody tr th {\n",
       "        vertical-align: top;\n",
       "    }\n",
       "\n",
       "    .dataframe thead th {\n",
       "        text-align: right;\n",
       "    }\n",
       "</style>\n",
       "<table border=\"1\" class=\"dataframe\">\n",
       "  <thead>\n",
       "    <tr style=\"text-align: right;\">\n",
       "      <th></th>\n",
       "      <th>userId</th>\n",
       "      <th>movieId</th>\n",
       "      <th>rating</th>\n",
       "      <th>timestamp</th>\n",
       "      <th>rating_movie_mean</th>\n",
       "      <th>rating_normalized</th>\n",
       "      <th>movie_idx</th>\n",
       "    </tr>\n",
       "  </thead>\n",
       "  <tbody>\n",
       "    <tr>\n",
       "      <th>0</th>\n",
       "      <td>1</td>\n",
       "      <td>2</td>\n",
       "      <td>3.5</td>\n",
       "      <td>1.112486e+09</td>\n",
       "      <td>3.211977</td>\n",
       "      <td>0.288023</td>\n",
       "      <td>1</td>\n",
       "    </tr>\n",
       "    <tr>\n",
       "      <th>1</th>\n",
       "      <td>1</td>\n",
       "      <td>29</td>\n",
       "      <td>3.5</td>\n",
       "      <td>1.112485e+09</td>\n",
       "      <td>3.952230</td>\n",
       "      <td>-0.452230</td>\n",
       "      <td>28</td>\n",
       "    </tr>\n",
       "    <tr>\n",
       "      <th>2</th>\n",
       "      <td>1</td>\n",
       "      <td>32</td>\n",
       "      <td>3.5</td>\n",
       "      <td>1.112485e+09</td>\n",
       "      <td>3.898055</td>\n",
       "      <td>-0.398055</td>\n",
       "      <td>31</td>\n",
       "    </tr>\n",
       "    <tr>\n",
       "      <th>3</th>\n",
       "      <td>1</td>\n",
       "      <td>47</td>\n",
       "      <td>3.5</td>\n",
       "      <td>1.112485e+09</td>\n",
       "      <td>4.053480</td>\n",
       "      <td>-0.553480</td>\n",
       "      <td>46</td>\n",
       "    </tr>\n",
       "    <tr>\n",
       "      <th>4</th>\n",
       "      <td>1</td>\n",
       "      <td>50</td>\n",
       "      <td>3.5</td>\n",
       "      <td>1.112485e+09</td>\n",
       "      <td>4.334372</td>\n",
       "      <td>-0.834372</td>\n",
       "      <td>49</td>\n",
       "    </tr>\n",
       "  </tbody>\n",
       "</table>\n",
       "</div>"
      ],
      "text/plain": [
       "   userId  movieId  rating     timestamp  rating_movie_mean  \\\n",
       "0       1        2     3.5  1.112486e+09           3.211977   \n",
       "1       1       29     3.5  1.112485e+09           3.952230   \n",
       "2       1       32     3.5  1.112485e+09           3.898055   \n",
       "3       1       47     3.5  1.112485e+09           4.053480   \n",
       "4       1       50     3.5  1.112485e+09           4.334372   \n",
       "\n",
       "   rating_normalized  movie_idx  \n",
       "0           0.288023          1  \n",
       "1          -0.452230         28  \n",
       "2          -0.398055         31  \n",
       "3          -0.553480         46  \n",
       "4          -0.834372         49  "
      ]
     },
     "execution_count": 38,
     "metadata": {},
     "output_type": "execute_result"
    }
   ],
   "source": [
    "ratings_df2.head()"
   ]
  },
  {
   "cell_type": "code",
   "execution_count": 40,
   "metadata": {},
   "outputs": [],
   "source": [
    "# Initialize sparse matrix of ratings\n",
    "item_user_data2 = csr_matrix((ratings_df2['rating_normalized'].astype(np.double),\n",
    "                       (ratings_df2['userId'], #row_id\n",
    "                        ratings_df2['movie_idx']))) #column_id"
   ]
  },
  {
   "cell_type": "code",
   "execution_count": 41,
   "metadata": {},
   "outputs": [
    {
     "name": "stdout",
     "output_type": "stream",
     "text": [
      "Top recommendations for UserId: 138495\n",
      "Predicting rating 4.5 for movie Zero Motivation (Efes beyahasei enosh) (2014)\n",
      "Predicting rating 4.5 for movie Shawshank Redemption, The (1994)\n",
      "Predicting rating 4.3 for movie Usual Suspects, The (1995)\n",
      "Predicting rating 4.3 for movie Schindler's List (1993)\n",
      "Predicting rating 4.3 for movie Death on the Staircase (Soupçons) (2004)\n",
      "Predicting rating 4.3 for movie O Auto da Compadecida (Dog's Will, A) (2000)\n",
      "Predicting rating 4.3 for movie Band of Brothers (2001)\n",
      "Predicting rating 4.3 for movie Seven Samurai (Shichinin no samurai) (1954)\n",
      "Predicting rating 4.3 for movie Fight Club (1999)\n",
      "Predicting rating 4.3 for movie Godfather, The (1972)\n",
      "Predicting rating 4.2 for movie The War (2007)\n",
      "Predicting rating 4.2 for movie Rear Window (1954)\n",
      "Predicting rating 4.2 for movie Sunset Blvd. (a.k.a. Sunset Boulevard) (1950)\n",
      "Predicting rating 4.2 for movie Princess Bride, The (1987)\n",
      "Predicting rating 4.2 for movie Matrix, The (1999)\n",
      "Predicting rating 4.2 for movie Lives of Others, The (Das leben der Anderen) (2006)\n",
      "Predicting rating 4.2 for movie Amelie (Fabuleux destin d'Amélie Poulain, Le) (2001)\n",
      "Predicting rating 4.2 for movie City of God (Cidade de Deus) (2002)\n",
      "Predicting rating 4.2 for movie TT3D: Closer to the Edge (2011)\n",
      "Predicting rating 4.2 for movie Raiders of the Lost Ark (Indiana Jones and the Raiders of the Lost Ark) (1981)\n",
      "\n",
      "A subset of original ratings provided for UserId: 138495\n",
      "Rated 1.0 for movie Indiana Jones and the Kingdom of the Crystal Skull (2008)\n",
      "Rated 4.5 for movie Mephisto (1981)\n",
      "Rated 5.0 for movie Life Is Beautiful (La Vita è bella) (1997)\n",
      "Rated 3.5 for movie Out of Africa (1985)\n",
      "Rated 4.0 for movie Sense and Sensibility (1995)\n",
      "Rated 4.5 for movie Virgin Suicides, The (1999)\n",
      "Rated 1.0 for movie Dumb & Dumber (Dumb and Dumber) (1994)\n",
      "Rated 4.0 for movie Three Colors: Blue (Trois couleurs: Bleu) (1993)\n",
      "Rated 1.0 for movie Star Trek: Insurrection (1998)\n",
      "Rated 4.5 for movie Postman, The (Postino, Il) (1994)\n",
      "Rated 4.0 for movie Steel Magnolias (1989)\n",
      "Rated 4.0 for movie Gattaca (1997)\n",
      "Rated 2.5 for movie Dangerous Minds (1995)\n",
      "Rated 3.5 for movie Seven (a.k.a. Se7en) (1995)\n",
      "Rated 0.5 for movie Terminator 2: Judgment Day (1991)\n",
      "Rated 2.5 for movie Driving Miss Daisy (1989)\n",
      "Rated 0.5 for movie Home Alone (1990)\n",
      "Rated 4.0 for movie Love Actually (2003)\n",
      "Rated 4.0 for movie Leaving Las Vegas (1995)\n",
      "Rated 5.0 for movie Cinema Paradiso (Nuovo cinema Paradiso) (1989)\n"
     ]
    }
   ],
   "source": [
    "get_recommended_movies(movies_df,ratings_df2,138495)"
   ]
  },
  {
   "cell_type": "code",
   "execution_count": 42,
   "metadata": {},
   "outputs": [
    {
     "name": "stdout",
     "output_type": "stream",
     "text": [
      "Top recommendations for UserId: 138494\n",
      "Predicting rating 5.1 for movie Forrest Gump (1994)\n",
      "Predicting rating 4.9 for movie Fight Club (1999)\n",
      "Predicting rating 4.6 for movie American Beauty (1999)\n",
      "Predicting rating 4.6 for movie Shawshank Redemption, The (1994)\n",
      "Predicting rating 4.6 for movie Seven (a.k.a. Se7en) (1995)\n",
      "Predicting rating 4.6 for movie Matrix, The (1999)\n",
      "Predicting rating 4.5 for movie Memento (2000)\n",
      "Predicting rating 4.5 for movie Twelve Monkeys (a.k.a. 12 Monkeys) (1995)\n",
      "Predicting rating 4.5 for movie Pulp Fiction (1994)\n",
      "Predicting rating 4.5 for movie Zero Motivation (Efes beyahasei enosh) (2014)\n",
      "Predicting rating 4.5 for movie Clockwork Orange, A (1971)\n",
      "Predicting rating 4.5 for movie Eternal Sunshine of the Spotless Mind (2004)\n",
      "Predicting rating 4.5 for movie American History X (1998)\n",
      "Predicting rating 4.4 for movie Monty Python and the Holy Grail (1975)\n",
      "Predicting rating 4.4 for movie Lion King, The (1994)\n",
      "Predicting rating 4.4 for movie Donnie Darko (2001)\n",
      "Predicting rating 4.4 for movie Usual Suspects, The (1995)\n",
      "Predicting rating 4.4 for movie Reservoir Dogs (1992)\n",
      "Predicting rating 4.4 for movie Shining, The (1980)\n",
      "Predicting rating 4.4 for movie Trainspotting (1996)\n",
      "\n",
      "A subset of original ratings provided for UserId: 138494\n",
      "Rated 4.5 for movie Like Water for Chocolate (Como agua para chocolate) (1992)\n",
      "Rated 4.0 for movie Mr. Holland's Opus (1995)\n",
      "Rated 4.0 for movie Sense and Sensibility (1995)\n",
      "Rated 2.0 for movie Fargo (1996)\n",
      "Rated 4.0 for movie Pi (1998)\n",
      "Rated 4.5 for movie Garden State (2004)\n",
      "Rated 4.0 for movie What's Eating Gilbert Grape (1993)\n",
      "Rated 1.0 for movie Lemony Snicket's A Series of Unfortunate Events (2004)\n",
      "Rated 4.0 for movie Apollo 13 (1995)\n",
      "Rated 4.5 for movie Buffalo '66 (a.k.a. Buffalo 66) (1998)\n",
      "Rated 4.5 for movie Mission, The (1986)\n",
      "Rated 4.5 for movie River Runs Through It, A (1992)\n",
      "Rated 5.0 for movie Spanish Apartment, The (L'auberge espagnole) (2002)\n",
      "Rated 5.0 for movie Willy Wonka & the Chocolate Factory (1971)\n",
      "Rated 3.0 for movie Sideways (2004)\n",
      "Rated 5.0 for movie Amelie (Fabuleux destin d'Amélie Poulain, Le) (2001)\n",
      "Rated 4.0 for movie Bend It Like Beckham (2002)\n",
      "Rated 1.0 for movie Dumb & Dumber (Dumb and Dumber) (1994)\n",
      "Rated 4.0 for movie Dead Poets Society (1989)\n",
      "Rated 4.0 for movie O Brother, Where Art Thou? (2000)\n"
     ]
    }
   ],
   "source": [
    "get_recommended_movies(movies_df,ratings_df2,138494)"
   ]
  },
  {
   "cell_type": "code",
   "execution_count": 43,
   "metadata": {},
   "outputs": [
    {
     "name": "stdout",
     "output_type": "stream",
     "text": [
      "Top recommendations for UserId: 138496\n",
      "Predicting rating 4.5 for movie Zero Motivation (Efes beyahasei enosh) (2014)\n",
      "Predicting rating 4.4 for movie Shawshank Redemption, The (1994)\n",
      "Predicting rating 4.4 for movie Usual Suspects, The (1995)\n",
      "Predicting rating 4.3 for movie Schindler's List (1993)\n",
      "Predicting rating 4.3 for movie Death on the Staircase (Soupçons) (2004)\n",
      "Predicting rating 4.3 for movie Godfather, The (1972)\n",
      "Predicting rating 4.3 for movie Rear Window (1954)\n",
      "Predicting rating 4.3 for movie O Auto da Compadecida (Dog's Will, A) (2000)\n",
      "Predicting rating 4.3 for movie American Beauty (1999)\n",
      "Predicting rating 4.3 for movie Amelie (Fabuleux destin d'Amélie Poulain, Le) (2001)\n",
      "Predicting rating 4.3 for movie Seven Samurai (Shichinin no samurai) (1954)\n",
      "Predicting rating 4.3 for movie Band of Brothers (2001)\n",
      "Predicting rating 4.3 for movie Casablanca (1942)\n",
      "Predicting rating 4.3 for movie Sunset Blvd. (a.k.a. Sunset Boulevard) (1950)\n",
      "Predicting rating 4.2 for movie The War (2007)\n",
      "Predicting rating 4.2 for movie Third Man, The (1949)\n",
      "Predicting rating 4.2 for movie Lives of Others, The (Das leben der Anderen) (2006)\n",
      "Predicting rating 4.2 for movie City of God (Cidade de Deus) (2002)\n",
      "Predicting rating 4.2 for movie Fight Club (1999)\n",
      "Predicting rating 4.2 for movie Dr. Strangelove or: How I Learned to Stop Worrying and Love the Bomb (1964)\n",
      "\n",
      "A subset of original ratings provided for UserId: 138496\n",
      "Rated 5.0 for movie My Big Fat Greek Wedding (2002)\n",
      "Rated 5.0 for movie You've Got Mail (1998)\n",
      "Rated 5.0 for movie When Harry Met Sally... (1989)\n",
      "Rated 5.0 for movie Pretty Woman (1990)\n",
      "Rated 2.0 for movie Braveheart (1995)\n",
      "Rated 5.0 for movie Love Actually (2003)\n",
      "Rated 1.0 for movie X-Men (2000)\n",
      "Rated 3.0 for movie Sixth Sense, The (1999)\n",
      "Rated 5.0 for movie How to Lose a Guy in 10 Days (2003)\n",
      "Rated 1.0 for movie Gladiator (2000)\n",
      "Rated 4.5 for movie Proposal, The (2009)\n",
      "Rated 4.0 for movie (500) Days of Summer (2009)\n",
      "Rated 4.5 for movie Crazy, Stupid, Love. (2011)\n",
      "Rated 4.5 for movie 10 Things I Hate About You (1999)\n",
      "Rated 2.0 for movie Matrix, The (1999)\n",
      "Rated 5.0 for movie My Best Friend's Wedding (1997)\n",
      "Rated 1.5 for movie Dark Knight, The (2008)\n"
     ]
    }
   ],
   "source": [
    "get_recommended_movies(movies_df,ratings_df2,138496)"
   ]
  },
  {
   "cell_type": "code",
   "execution_count": 52,
   "metadata": {},
   "outputs": [
    {
     "name": "stdout",
     "output_type": "stream",
     "text": [
      "Top recommendations for UserId: 9\n",
      "Predicting rating 5.0 for movie Shawshank Redemption, The (1994)\n",
      "Predicting rating 5.0 for movie Silence of the Lambs, The (1991)\n",
      "Predicting rating 4.9 for movie Pulp Fiction (1994)\n",
      "Predicting rating 4.9 for movie Braveheart (1995)\n",
      "Predicting rating 4.8 for movie Schindler's List (1993)\n",
      "Predicting rating 4.7 for movie Usual Suspects, The (1995)\n",
      "Predicting rating 4.6 for movie Seven (a.k.a. Se7en) (1995)\n",
      "Predicting rating 4.6 for movie Zero Motivation (Efes beyahasei enosh) (2014)\n",
      "Predicting rating 4.5 for movie Fugitive, The (1993)\n",
      "Predicting rating 4.5 for movie Terminator 2: Judgment Day (1991)\n",
      "Predicting rating 4.5 for movie Godfather: Part II, The (1974)\n",
      "Predicting rating 4.4 for movie Saving Private Ryan (1998)\n",
      "Predicting rating 4.4 for movie Dances with Wolves (1990)\n",
      "Predicting rating 4.4 for movie Matrix, The (1999)\n",
      "Predicting rating 4.4 for movie American Beauty (1999)\n",
      "Predicting rating 4.4 for movie One Flew Over the Cuckoo's Nest (1975)\n",
      "Predicting rating 4.4 for movie Goodfellas (1990)\n",
      "Predicting rating 4.3 for movie Apollo 13 (1995)\n",
      "Predicting rating 4.3 for movie Raiders of the Lost Ark (Indiana Jones and the Raiders of the Lost Ark) (1981)\n",
      "Predicting rating 4.3 for movie American History X (1998)\n",
      "\n",
      "A subset of original ratings provided for UserId: 9\n",
      "Rated 5.0 for movie What Lies Beneath (2000)\n",
      "Rated 3.0 for movie General's Daughter, The (1999)\n",
      "Rated 2.0 for movie Entrapment (1999)\n",
      "Rated 3.0 for movie Austin Powers: The Spy Who Shagged Me (1999)\n",
      "Rated 3.0 for movie Return of the Living Dead, The (1985)\n",
      "Rated 3.0 for movie Psycho (1960)\n",
      "Rated 3.0 for movie Stigmata (1999)\n",
      "Rated 4.0 for movie American Pie (1999)\n",
      "Rated 2.0 for movie Vertical Limit (2000)\n",
      "Rated 1.0 for movie Traffic (2000)\n",
      "Rated 2.0 for movie Deep Blue Sea (1999)\n",
      "Rated 4.0 for movie Fast and the Furious, The (2001)\n",
      "Rated 4.0 for movie Cast Away (2000)\n",
      "Rated 2.0 for movie Scary Movie (2000)\n",
      "Rated 5.0 for movie Hannibal (2001)\n",
      "Rated 2.0 for movie Creepshow (1982)\n",
      "Rated 2.0 for movie Urban Legends: Final Cut (2000)\n",
      "Rated 5.0 for movie Fight Club (1999)\n",
      "Rated 5.0 for movie Exorcist, The (1973)\n",
      "Rated 4.0 for movie There's Something About Mary (1998)\n"
     ]
    }
   ],
   "source": [
    "get_recommended_movies(movies_df,ratings_df2,9)"
   ]
  },
  {
   "cell_type": "code",
   "execution_count": 53,
   "metadata": {},
   "outputs": [],
   "source": [
    "U, sigma, Vt = svds(item_user_data, k = 15)\n",
    "sigma = np.diag(sigma)"
   ]
  },
  {
   "cell_type": "code",
   "execution_count": null,
   "metadata": {},
   "outputs": [],
   "source": [
    "get_errors_test(train2,test2,U,sigma,Vt,[138495])"
   ]
  },
  {
   "cell_type": "code",
   "execution_count": 54,
   "metadata": {},
   "outputs": [],
   "source": [
    "mean_rating = get_mean_movie_rating(train2)\n",
    "user_predicted_rating = get_user_rating_normalized_by_movie(train2,138495,mean_rating,U,sigma,Vt)"
   ]
  },
  {
   "cell_type": "code",
   "execution_count": 55,
   "metadata": {},
   "outputs": [
    {
     "data": {
      "text/plain": [
       "array([3.95337335, 3.21117353, 3.12863093, 2.87380463, 3.05554528,\n",
       "       3.82488724, 3.38346138, 3.13445603, 2.99907695, 3.39686622])"
      ]
     },
     "execution_count": 55,
     "metadata": {},
     "output_type": "execute_result"
    }
   ],
   "source": [
    "user_predicted_rating[:10]"
   ]
  },
  {
   "cell_type": "code",
   "execution_count": 56,
   "metadata": {},
   "outputs": [
    {
     "data": {
      "text/html": [
       "<div>\n",
       "<style scoped>\n",
       "    .dataframe tbody tr th:only-of-type {\n",
       "        vertical-align: middle;\n",
       "    }\n",
       "\n",
       "    .dataframe tbody tr th {\n",
       "        vertical-align: top;\n",
       "    }\n",
       "\n",
       "    .dataframe thead th {\n",
       "        text-align: right;\n",
       "    }\n",
       "</style>\n",
       "<table border=\"1\" class=\"dataframe\">\n",
       "  <thead>\n",
       "    <tr style=\"text-align: right;\">\n",
       "      <th></th>\n",
       "      <th>userId</th>\n",
       "      <th>movieId</th>\n",
       "      <th>rating</th>\n",
       "      <th>timestamp</th>\n",
       "      <th>movie_idx</th>\n",
       "    </tr>\n",
       "  </thead>\n",
       "  <tbody>\n",
       "    <tr>\n",
       "      <th>3992974</th>\n",
       "      <td>138494</td>\n",
       "      <td>27706</td>\n",
       "      <td>1.0</td>\n",
       "      <td>NaN</td>\n",
       "      <td>8936</td>\n",
       "    </tr>\n",
       "    <tr>\n",
       "      <th>3992975</th>\n",
       "      <td>138495</td>\n",
       "      <td>589</td>\n",
       "      <td>0.5</td>\n",
       "      <td>NaN</td>\n",
       "      <td>583</td>\n",
       "    </tr>\n",
       "    <tr>\n",
       "      <th>3992976</th>\n",
       "      <td>138496</td>\n",
       "      <td>2571</td>\n",
       "      <td>2.0</td>\n",
       "      <td>NaN</td>\n",
       "      <td>2476</td>\n",
       "    </tr>\n",
       "    <tr>\n",
       "      <th>3992977</th>\n",
       "      <td>138496</td>\n",
       "      <td>69406</td>\n",
       "      <td>4.5</td>\n",
       "      <td>NaN</td>\n",
       "      <td>12064</td>\n",
       "    </tr>\n",
       "    <tr>\n",
       "      <th>3992978</th>\n",
       "      <td>138496</td>\n",
       "      <td>88163</td>\n",
       "      <td>4.5</td>\n",
       "      <td>NaN</td>\n",
       "      <td>13670</td>\n",
       "    </tr>\n",
       "  </tbody>\n",
       "</table>\n",
       "</div>"
      ],
      "text/plain": [
       "         userId  movieId  rating  timestamp  movie_idx\n",
       "3992974  138494    27706     1.0        NaN       8936\n",
       "3992975  138495      589     0.5        NaN        583\n",
       "3992976  138496     2571     2.0        NaN       2476\n",
       "3992977  138496    69406     4.5        NaN      12064\n",
       "3992978  138496    88163     4.5        NaN      13670"
      ]
     },
     "execution_count": 56,
     "metadata": {},
     "output_type": "execute_result"
    }
   ],
   "source": [
    "test2.tail()"
   ]
  },
  {
   "cell_type": "code",
   "execution_count": 57,
   "metadata": {},
   "outputs": [
    {
     "data": {
      "text/plain": [
       "(3.976037464735463, 3.9166653012669257, 3.789613867151849)"
      ]
     },
     "execution_count": 57,
     "metadata": {},
     "output_type": "execute_result"
    }
   ],
   "source": [
    "user_predicted_rating[57], user_predicted_rating[583], user_predicted_rating[1985]"
   ]
  },
  {
   "cell_type": "code",
   "execution_count": null,
   "metadata": {},
   "outputs": [],
   "source": [
    "1/3*(np.abs(3.9858288202033534-4.5)+np.abs(3.9009701420966683-.5)+np.abs(3.7459672239379023-4.5))"
   ]
  },
  {
   "cell_type": "code",
   "execution_count": 58,
   "metadata": {},
   "outputs": [],
   "source": [
    "def get_group_rating(user_predictions1, user_predictions2):\n",
    "    '''\n",
    "    Takes the predictions from two users and returns the average minus a penalty term based on the absolute value\n",
    "    of the difference in the predicted score.  I divided this penalty term by 5, which was arbitrarily chosen.\n",
    "    '''\n",
    "    group_prediction = (user_predictions1+user_predictions2)/2 - np.abs(user_predictions1-user_predictions2)/5\n",
    "    return group_prediction"
   ]
  },
  {
   "cell_type": "code",
   "execution_count": 59,
   "metadata": {},
   "outputs": [],
   "source": [
    "def recommender_2users(movies_df, ratings_df, userId1, userId2, U, sigma, Vt, num_recommendations=5):\n",
    "    \n",
    "    mean_rating = get_mean_movie_rating(ratings_df)\n",
    "    #get user predictions\n",
    "    user_predictions1 = get_user_rating_normalized_by_movie(ratings_df, userId1, mean_rating, U, sigma, Vt)\n",
    "    user_predictions2 = get_user_rating_normalized_by_movie(ratings_df, userId2, mean_rating, U, sigma, Vt)\n",
    "    \n",
    "    #get the weighted average prediction\n",
    "    group_predictions = get_group_rating(user_predictions1, user_predictions2)\n",
    "    \n",
    "    # Sort my predictions from highest to lowest\n",
    "    pred_idxs_sorted = np.argsort(group_predictions)\n",
    "    pred_idxs_sorted[:] = pred_idxs_sorted[::-1]\n",
    "    \n",
    "    unique_rated_movie_ids = ratings_df['movieId'].unique()\n",
    "    nm = unique_rated_movie_ids.shape[0] #get num_movies\n",
    "    print(\"Top combinded recommendations for UserIds: {} and {}\".format(userId1,userId2))\n",
    "    i=0; j=0\n",
    "    while i < num_recommendations:\n",
    "        movie_idx = pred_idxs_sorted[j]\n",
    "        if not (has_rated_movie(userId1, movie_idx) or has_rated_movie(userId2, movie_idx)):\n",
    "            movieId = movie_mapping_df.loc[movie_mapping_df['movie_idx']==movie_idx,'movieId']\n",
    "            movieTitle = movies_df.loc[movies_df['movieId']==movieId.values[0],'title']\n",
    "            print('Predicting rating {0:.1f} for movie {1}'.format(\\\n",
    "                    group_predictions[pred_idxs_sorted[i]],movieTitle.values[0]))\n",
    "            i=i+1\n",
    "        j=j+1"
   ]
  },
  {
   "cell_type": "code",
   "execution_count": 61,
   "metadata": {},
   "outputs": [
    {
     "name": "stdout",
     "output_type": "stream",
     "text": [
      "Top combinded recommendations for UserIds: 138494 and 138495\n",
      "Predicting rating 4.5 for movie Zero Motivation (Efes beyahasei enosh) (2014)\n",
      "Predicting rating 4.5 for movie Shawshank Redemption, The (1994)\n",
      "Predicting rating 4.5 for movie Fight Club (1999)\n",
      "Predicting rating 4.4 for movie Forrest Gump (1994)\n",
      "Predicting rating 4.3 for movie Usual Suspects, The (1995)\n",
      "Predicting rating 4.3 for movie Matrix, The (1999)\n",
      "Predicting rating 4.3 for movie Schindler's List (1993)\n",
      "Predicting rating 4.3 for movie American Beauty (1999)\n",
      "Predicting rating 4.3 for movie Memento (2000)\n",
      "Predicting rating 4.3 for movie Death on the Staircase (Soupçons) (2004)\n",
      "Predicting rating 4.3 for movie City of God (Cidade de Deus) (2002)\n",
      "Predicting rating 4.3 for movie Star Wars: Episode V - The Empire Strikes Back (1980)\n",
      "Predicting rating 4.3 for movie Seven Samurai (Shichinin no samurai) (1954)\n",
      "Predicting rating 4.3 for movie Spirited Away (Sen to Chihiro no kamikakushi) (2001)\n",
      "Predicting rating 4.3 for movie Dark Knight, The (2008)\n",
      "Predicting rating 4.3 for movie Princess Bride, The (1987)\n",
      "Predicting rating 4.3 for movie O Auto da Compadecida (Dog's Will, A) (2000)\n",
      "Predicting rating 4.3 for movie Band of Brothers (2001)\n",
      "Predicting rating 4.3 for movie Rear Window (1954)\n",
      "Predicting rating 4.3 for movie One Flew Over the Cuckoo's Nest (1975)\n"
     ]
    }
   ],
   "source": [
    "U, sigma, Vt = svds(item_user_data2, k = 15)\n",
    "sigma = np.diag(sigma)\n",
    "recommender_2users(movies_df, ratings_df2, 138494, 138495, U, sigma, Vt, 20)"
   ]
  },
  {
   "cell_type": "code",
   "execution_count": null,
   "metadata": {},
   "outputs": [],
   "source": [
    "get_recommended_movies(movies_df,ratings_df2,9)"
   ]
  },
  {
   "cell_type": "code",
   "execution_count": null,
   "metadata": {},
   "outputs": [],
   "source": [
    "get_recommended_movies(movies_df,ratings_df2,138207)"
   ]
  },
  {
   "cell_type": "code",
   "execution_count": null,
   "metadata": {},
   "outputs": [],
   "source": [
    "#ratings_df2[ratings_df2['movieId']==5299]"
   ]
  },
  {
   "cell_type": "markdown",
   "metadata": {},
   "source": [
    "Now I want to build a recommender that allows the user to filter by genre."
   ]
  },
  {
   "cell_type": "code",
   "execution_count": null,
   "metadata": {},
   "outputs": [],
   "source": [
    "def recommend_movies4(movies_df, ratings_df, userId, U, sigma, Vt, genres_list=[], num_recommendations=5):\n",
    "    \n",
    "    mean_rating = get_mean_movie_rating(ratings_df)\n",
    "    # get user_predictions\n",
    "    user_predictions = get_user_rating_normalized_by_movie(ratings_df,userId,mean_rating, U, sigma, Vt)\n",
    "    \n",
    "    # Sort my predictions from highest to lowest\n",
    "    pred_idxs_sorted = np.argsort(user_predictions)\n",
    "    pred_idxs_sorted[:] = pred_idxs_sorted[::-1]\n",
    "    \n",
    "    unique_rated_movie_ids = ratings_df['movieId'].unique()\n",
    "    nm = unique_rated_movie_ids.shape[0] #get num_movies\n",
    "    print(\"Top recommendations for UserId: {}\".format(userId))\n",
    "    recommended_movies_df = pd.DataFrame(columns=['predicted rating','title','genres'])\n",
    "    i=0; j=0\n",
    "    while i < num_recommendations:\n",
    "        movie_idx = pred_idxs_sorted[j]\n",
    "        if not has_rated_movie(userId, movie_idx):\n",
    "            movieId = movie_mapping_df.loc[movie_mapping_df['movie_idx']==movie_idx,'movieId']\n",
    "            movieTitle = movies_df.loc[movies_df['movieId']==movieId.values[0],'title']\n",
    "            movieGenres = movies_df.loc[movies_df['movieId']==movieId.values[0],'genres'].values[0]\n",
    "            if movie_contains_genre(movieGenres,genres_list):\n",
    "                recommended_movies_df.loc[i] = [user_predictions[pred_idxs_sorted[i]], movieTitle.values[0], movieGenres] \n",
    "                i=i+1\n",
    "        j=j+1\n",
    "    print(recommended_movies_df)\n",
    "        \n",
    "    nm_rated = sum(ratings_df['userId'] == userId)\n",
    "    num_to_return = min(20,nm_rated)\n",
    "    movieId = ratings_df.loc[ratings_df['userId'] == userId,'movieId']\n",
    "    movieId_array = movieId.sample(num_to_return).values\n",
    "    user_ratings_df = ratings_df[ratings_df['userId']==userId]\n",
    "    print(\"\\nA subset of original ratings provided for UserId: {}\".format(userId))\n",
    "    for i in range(num_to_return):\n",
    "        movieTitle = movies_df.loc[movies_df['movieId']==movieId_array[i],'title']\n",
    "        rating = user_ratings_df.loc[user_ratings_df['movieId']==movieId_array[i],'rating']\n",
    "        print('Rated {0:.1f} for movie {1}'.format(rating.values[0],movieTitle.values[0]))    "
   ]
  },
  {
   "cell_type": "code",
   "execution_count": null,
   "metadata": {},
   "outputs": [],
   "source": [
    "def movie_contains_genre(movieGenre,genres_list):\n",
    "    movieGenre = movieGenre.lower()\n",
    "    genres_list = [val.lower() for val in genres_list]\n",
    "    if '(no genres listed)' in movieGenre:\n",
    "        return True  # returning true here because we can't make any assumptions here\n",
    "    else:\n",
    "        movieGenre_list = movieGenre.split('|')\n",
    "        for genre in movieGenre_list:\n",
    "            if genre in genres_list:\n",
    "                return True\n",
    "        return False"
   ]
  },
  {
   "cell_type": "code",
   "execution_count": null,
   "metadata": {},
   "outputs": [],
   "source": [
    "def get_recommended_movies2(movies_df,ratings_df,userId,genres_list=[]):\n",
    "    U, sigma, Vt = svds(item_user_data2, k = 15)\n",
    "    sigma = np.diag(sigma)\n",
    "    recommend_movies4(movies_df,ratings_df,userId,U,sigma,Vt,genres_list,20)"
   ]
  },
  {
   "cell_type": "code",
   "execution_count": null,
   "metadata": {},
   "outputs": [],
   "source": [
    "movie_contains_genre('(no genres listed)',['Drama','Action','fantasy'])"
   ]
  },
  {
   "cell_type": "code",
   "execution_count": null,
   "metadata": {},
   "outputs": [],
   "source": [
    "movieGenre = movies_df.loc[movies_df['movieId']==1,'genres']"
   ]
  },
  {
   "cell_type": "code",
   "execution_count": null,
   "metadata": {},
   "outputs": [],
   "source": [
    "movieGenre[0]"
   ]
  },
  {
   "cell_type": "code",
   "execution_count": null,
   "metadata": {},
   "outputs": [],
   "source": [
    "get_recommended_movies2(movies_df,ratings_df2,138494,genres_list=['comedy'])"
   ]
  },
  {
   "cell_type": "code",
   "execution_count": null,
   "metadata": {},
   "outputs": [],
   "source": [
    "movieGenres = movies_df.loc[movies_df['movieId']==125878,'genres'].values[0]"
   ]
  },
  {
   "cell_type": "code",
   "execution_count": null,
   "metadata": {},
   "outputs": [],
   "source": [
    "movieGenres"
   ]
  },
  {
   "cell_type": "code",
   "execution_count": null,
   "metadata": {},
   "outputs": [],
   "source": [
    "get_recommended_movies(movies_df,ratings_df2,9)"
   ]
  },
  {
   "cell_type": "code",
   "execution_count": null,
   "metadata": {},
   "outputs": [],
   "source": [
    "get_recommended_movies(movies_df,ratings_df2,138207)"
   ]
  },
  {
   "cell_type": "code",
   "execution_count": null,
   "metadata": {},
   "outputs": [],
   "source": []
  }
 ],
 "metadata": {
  "kernelspec": {
   "display_name": "Python 3",
   "language": "python",
   "name": "python3"
  },
  "language_info": {
   "codemirror_mode": {
    "name": "ipython",
    "version": 3
   },
   "file_extension": ".py",
   "mimetype": "text/x-python",
   "name": "python",
   "nbconvert_exporter": "python",
   "pygments_lexer": "ipython3",
   "version": "3.6.4"
  }
 },
 "nbformat": 4,
 "nbformat_minor": 2
}
