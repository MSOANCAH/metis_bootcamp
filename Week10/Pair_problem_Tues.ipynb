{
 "cells": [
  {
   "cell_type": "markdown",
   "metadata": {},
   "source": [
    "# Pair Problem\n",
    "### Part 1\n",
    "\n",
    "Write a function that will take two arguments, both lists of lists representing tables of data. The function will combine the two tables into one. Each of the inner lists represents a row of data, with the first element being the \"key\" for that row.\n",
    "\n",
    "For example, your function would take these two lists of lists:\n",
    "\n",
    "```\n",
    "[[27, 'dog', 5],\n",
    " [19, 'cat', 9],\n",
    " [33, 'bat', 3]]\n",
    "\n",
    "[[14, 8, 'elf'],\n",
    " [33, 7, 'fat'],\n",
    " [27, 2, 'rat']]\n",
    "```\n",
    "In this case, your function would return this result:\n",
    "```\n",
    "[[27, 'dog', 5, 2, 'rat'],\n",
    " [33, 'bat', 3, 7, 'fat']]\n",
    "```"
   ]
  },
  {
   "cell_type": "code",
   "execution_count": 12,
   "metadata": {},
   "outputs": [],
   "source": [
    "def inner_join(list1,list2):\n",
    "    joined_list = []\n",
    "    for lista in list1:\n",
    "        index = lista[0]\n",
    "        for listb in list2:\n",
    "            if listb[0] == index:\n",
    "                joined_list.append([index]+lista[1:]+listb[1:])\n",
    "    return joined_list"
   ]
  },
  {
   "cell_type": "code",
   "execution_count": 1,
   "metadata": {},
   "outputs": [],
   "source": [
    "list1 = [[27, 'dog', 5],\n",
    " [19, 'cat', 9],\n",
    " [33, 'bat', 3]]"
   ]
  },
  {
   "cell_type": "code",
   "execution_count": 13,
   "metadata": {},
   "outputs": [],
   "source": [
    "list2 = [[14, 8, 'elf'],\n",
    " [33, 7, 'fat'],\n",
    " [27, 2, 'rat']]"
   ]
  },
  {
   "cell_type": "code",
   "execution_count": 10,
   "metadata": {},
   "outputs": [
    {
     "data": {
      "text/plain": [
       "(3, 3)"
      ]
     },
     "execution_count": 10,
     "metadata": {},
     "output_type": "execute_result"
    }
   ],
   "source": [
    "import numpy as np\n",
    "np.shape(list1)"
   ]
  },
  {
   "cell_type": "code",
   "execution_count": 11,
   "metadata": {},
   "outputs": [
    {
     "name": "stdout",
     "output_type": "stream",
     "text": [
      "[27, 'dog', 5]\n",
      "[19, 'cat', 9]\n",
      "[33, 'bat', 3]\n"
     ]
    }
   ],
   "source": [
    "for list in list1:\n",
    "    print(list)"
   ]
  },
  {
   "cell_type": "code",
   "execution_count": 14,
   "metadata": {},
   "outputs": [
    {
     "data": {
      "text/plain": [
       "[[27, 'dog', 5, 2, 'rat'], [33, 'bat', 3, 7, 'fat']]"
      ]
     },
     "execution_count": 14,
     "metadata": {},
     "output_type": "execute_result"
    }
   ],
   "source": [
    "inner_join(list1,list2)"
   ]
  },
  {
   "cell_type": "markdown",
   "metadata": {},
   "source": [
    "### Part 2\n",
    "\n",
    "Once you have a solution working, consider how your code would perform if the inputs were large. Can you improve the performance of your solution?"
   ]
  },
  {
   "cell_type": "code",
   "execution_count": 15,
   "metadata": {},
   "outputs": [],
   "source": [
    "def inner_join2(list1,list2):\n",
    "    dict1 = {x[0]:x[1:] for x in list1}\n",
    "    dict2 = {x[0]:x[1:] for x in list2}\n",
    "    for key, value in dict1:\n",
    "        if key in dict2:\n",
    "            \n",
    "    print(master_dict)"
   ]
  },
  {
   "cell_type": "code",
   "execution_count": 16,
   "metadata": {},
   "outputs": [
    {
     "name": "stdout",
     "output_type": "stream",
     "text": [
      "{27: ['dog', 5], 19: ['cat', 9], 33: ['bat', 3]}\n"
     ]
    }
   ],
   "source": [
    "inner_join2(list1,list2)"
   ]
  },
  {
   "cell_type": "code",
   "execution_count": null,
   "metadata": {},
   "outputs": [],
   "source": []
  }
 ],
 "metadata": {
  "kernelspec": {
   "display_name": "Python 3",
   "language": "python",
   "name": "python3"
  },
  "language_info": {
   "codemirror_mode": {
    "name": "ipython",
    "version": 3
   },
   "file_extension": ".py",
   "mimetype": "text/x-python",
   "name": "python",
   "nbconvert_exporter": "python",
   "pygments_lexer": "ipython3",
   "version": "3.6.4"
  }
 },
 "nbformat": 4,
 "nbformat_minor": 2
}
