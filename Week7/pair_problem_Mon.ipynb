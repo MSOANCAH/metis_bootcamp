{
 "cells": [
  {
   "cell_type": "markdown",
   "metadata": {},
   "source": [
    "For today's pair problem we are going to build a very simple (some may say naïve) text summarizer.\n",
    "\n",
    "Using a combination of CountVectorizer and cosine_similarity we will read in the subsequent text, tokenize it, find the cosine similarity between all of the sentences, and output the 5 sentences with the highest similarity to the rest of the text. If you finish early, try different vectorizers and see if the answers change dramatically."
   ]
  },
  {
   "cell_type": "code",
   "execution_count": 1,
   "metadata": {},
   "outputs": [],
   "source": [
    "text = \"In the early days of machine learning, hiring good statisticians was the key challenge for AI projects. Now, machine learning has evolved from its early focus on statistics to more emphasis on computation. As the process of building algorithms has become simpler and the applications for AI technology have grown, human resources professionals in AI face a new challenge. Not only are data scientists in short supply, but what makes a successful data scientist has changed. As recently as six years ago, there were minimal differences between statistical models (usually logistic regressions) and neural networks. The neural network had a slightly larger separation capacity (statistical performance) at the cost of being a black box. Since they had similar potential, the choice of whether to use a neural network or a statistical model was determined by the requirements of each scenario and by the type of professional available to create the algorithm. More recently, though, neural networks have evolved to support many layers. This deep learning allows for, among other things, effective and novel exploitation of unstructured data such as text, voice, images, and videos. Increased processing capacity, image identifiers, simultaneous translators, text interpreters, and other innovations have set neural networks further apart from statistical models. With this evolution comes the need for data scientists with new skills. Despite the changes in algorithm structures and capabilities, the process of constructing high-quality predictive models still follows a series of steps that hasn’t changed much. More important than the fit and method used is the ability to perform each step of this process efficiently and creatively. Data scientists are not usually experts in the subject they are working on. Instead, they are experts on the accuracy and precision required to create the algorithms for various corporate or academic decision-making processes. However, the requirement today is that data scientists develop an understanding of the problem the algorithm was meant to solve, so interviews with subject matter experts focused on that particular problem are essential. Now, data scientists can work on neural networks that span a range of broad knowledge areas, from predicting the mortality of African butterflies to deciding when and where to publish advertising for seniors. This means that today’s data scientists must be able and eager to learn from experts on many subjects. Each prediction hinges on a wealth of factors, all of which the data scientist must know about in order to understand the causal relationships among them. These are some of the many questions to ask on this topic, and there is long lists of questions for every machine learning process. A data scientist who only wants to create algorithms without talking in depth with those involved in the phenomenon being explored will have a limited ability to create effective algorithms. As a data scientist sifts through the answers to these types of questions, he or she must also be skilled at picking out the information that may explain the phenomenon. A well-trained, inquisitive data scientist will also seek out related data online via search, crawler, and API to pinpoint the most relevant predictive factors. Statistical knowledge, on top of computational knowledge, experience, and judgment matters for the definition of the response variable, the separation of the database, the certification of past data use, the separation of data between adjustment, validation and testing, and other sampling steps. However, the computational approach supports the use of the ever-larger databases that are required for the construction of complex algorithms. Therefore, both statistical and computational skill sets are a must for today’s data scientists. This is the only step that’s been eliminated in the transition from the statistical approach to the computational one; and with my background in statistics, I miss it. The artisanal design of variables is an extremely creative stage that also generates a lot of insight about the phenomenon under study. With neural networks, this step is no longer necessary, but its elimination puts more responsibility on the data scientists to understand the phenomenon under study. This step has been transformed, requiring more connectivity and effort than academic technical knowledge. In the computational approach, adjustments and evaluations are primarily based on community research plus trial and error. With the impossibility of a mathematical understanding of the causal relationship implicit in the equations, professionals should know how to search communities for network architectures that best fit their activities. Once they find something applicable, trial and error takes over until there’s a satisfactory explanation of the phenomenon. In this step, the data scientist’s IT knowledge and rapport with subject matter experts is critical. All those APIs, internal data extractions, and crawlers aren’t easy to deploy with precision and stability and without errors. For example, if a crawler was used, it must run without production errors in the future, and if the source changes, the crawler will need maintenance. More than an algorithm, today’s data scientist designs new applications that must be monitored and maintained. Based on the new requirements for each step, it’s clear that thoroughness, creativity, and holistic vision are now the hallmarks of a great data scientist, much more than expertise in linear algebra. That doesn’t rule out experienced statisticians, of course. They often adapt easily to these changes, delving deeper into IT with their languages and architectures. The computational school also creates professionals fully capable of performing well, as long as they combine research and understanding of the problem with the ability to think probabilistically. Traditionalists may insist that statisticians make the best data-science hires. But I believe that curiosity, a breadth of academic knowledge, and the willing to engage with others in the pursuit of information are more important to the role of modern data scientist than statistical training, because neural network creation requires a focus far broader than the algorithms themselves.\""
   ]
  },
  {
   "cell_type": "code",
   "execution_count": 2,
   "metadata": {},
   "outputs": [],
   "source": [
    "from sklearn.feature_extraction.text import CountVectorizer"
   ]
  },
  {
   "cell_type": "code",
   "execution_count": 12,
   "metadata": {},
   "outputs": [],
   "source": [
    "vectorizer = CountVectorizer()"
   ]
  },
  {
   "cell_type": "code",
   "execution_count": 15,
   "metadata": {},
   "outputs": [],
   "source": [
    "text_list = text.split('.')"
   ]
  },
  {
   "cell_type": "code",
   "execution_count": 18,
   "metadata": {},
   "outputs": [
    {
     "data": {
      "text/plain": [
       "44"
      ]
     },
     "execution_count": 18,
     "metadata": {},
     "output_type": "execute_result"
    }
   ],
   "source": [
    "len(text_list)"
   ]
  },
  {
   "cell_type": "code",
   "execution_count": 19,
   "metadata": {},
   "outputs": [],
   "source": [
    "corpus = vectorizer.fit_transform(text_list)"
   ]
  },
  {
   "cell_type": "code",
   "execution_count": 23,
   "metadata": {},
   "outputs": [],
   "source": [
    "from sklearn.metrics.pairwise import cosine_similarity"
   ]
  },
  {
   "cell_type": "code",
   "execution_count": 24,
   "metadata": {},
   "outputs": [
    {
     "data": {
      "text/plain": [
       "array([[1.        , 0.16222142, 0.42601432, 0.05407381, 0.        ,\n",
       "        0.26315789, 0.36464228, 0.        , 0.14048787, 0.        ,\n",
       "        0.1839418 , 0.29821003, 0.22941573, 0.17770466, 0.23414645,\n",
       "        0.27988457, 0.19117978, 0.        , 0.29821003, 0.30348849,\n",
       "        0.15294382, 0.27144836, 0.08998425, 0.40492914, 0.4265617 ,\n",
       "        0.06362848, 0.35828718, 0.27529888, 0.17660431, 0.        ,\n",
       "        0.15789474, 0.37715714, 0.16692447, 0.1720618 , 0.        ,\n",
       "        0.34900503, 0.        , 0.27955307, 0.16222142, 0.        ,\n",
       "        0.29772917, 0.20751434, 0.33633111, 0.        ]])"
      ]
     },
     "execution_count": 24,
     "metadata": {},
     "output_type": "execute_result"
    }
   ],
   "source": [
    "cosine_similarity(corpus[0], corpus)"
   ]
  },
  {
   "cell_type": "code",
   "execution_count": 26,
   "metadata": {},
   "outputs": [],
   "source": [
    "import numpy as np"
   ]
  },
  {
   "cell_type": "code",
   "execution_count": 28,
   "metadata": {},
   "outputs": [
    {
     "name": "stdout",
     "output_type": "stream",
     "text": [
      " Statistical knowledge, on top of computational knowledge, experience, and judgment matters for the definition of the response variable, the separation of the database, the certification of past data use, the separation of data between adjustment, validation and testing, and other sampling steps\n",
      " But I believe that curiosity, a breadth of academic knowledge, and the willing to engage with others in the pursuit of information are more important to the role of modern data scientist than statistical training, because neural network creation requires a focus far broader than the algorithms themselves\n",
      " This is the only step that’s been eliminated in the transition from the statistical approach to the computational one; and with my background in statistics, I miss it\n",
      " Since they had similar potential, the choice of whether to use a neural network or a statistical model was determined by the requirements of each scenario and by the type of professional available to create the algorithm\n",
      " However, the computational approach supports the use of the ever-larger databases that are required for the construction of complex algorithms\n"
     ]
    }
   ],
   "source": [
    "sums = []\n",
    "# Sum over cosine similarity matrix\n",
    "for i in range(corpus.shape[0]):\n",
    "    sums.append(np.sum(cosine_similarity(corpus[i], corpus)))\n",
    "\n",
    "# Zip and sort by sum of cosine similarity\n",
    "tuples = sorted(zip(sums, text_list), reverse=True)\n",
    "# Print top 5 sentences\n",
    "for i in range(5):\n",
    "    print(tuples[i][1])"
   ]
  },
  {
   "cell_type": "code",
   "execution_count": null,
   "metadata": {},
   "outputs": [],
   "source": []
  }
 ],
 "metadata": {
  "kernelspec": {
   "display_name": "Python 3",
   "language": "python",
   "name": "python3"
  },
  "language_info": {
   "codemirror_mode": {
    "name": "ipython",
    "version": 3
   },
   "file_extension": ".py",
   "mimetype": "text/x-python",
   "name": "python",
   "nbconvert_exporter": "python",
   "pygments_lexer": "ipython3",
   "version": "3.6.4"
  }
 },
 "nbformat": 4,
 "nbformat_minor": 2
}
