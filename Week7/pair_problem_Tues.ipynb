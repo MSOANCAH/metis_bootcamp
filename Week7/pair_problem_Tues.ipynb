{
 "cells": [
  {
   "cell_type": "markdown",
   "metadata": {},
   "source": [
    "### Setup\n",
    "\n",
    "It may be helpful to run the following commands, downloading nltk and the stopword corpus:\n",
    "\n",
    "pip install -U nltk\n",
    "python\n",
    "nltk.download('stopwords')\n",
    "\n",
    "### Extract\n",
    "\n",
    "Given the following data:\n",
    "\n",
    "text = ['Fury said to a mouse, That he met in the house, “Let us both go to law: I will prosecute you.—Come, I’ll take no denial; We must have a trial: For really this morning I’ve nothing to do.” Said the mouse to the cur, “Such a trial, dear Sir, With no jury or judge, would be wasting our breath.” “I’ll be judge, I’ll be jury,” Said cunning old Fury: “I’ll try the whole cause, and condemn you to death.”’', \n",
    "\t'I was gonna tell a time travelling joke but you guys didn\\'t like it', \n",
    "\t'Did you know that Balluta Buildings (detail pictured), one of the finest Art Nouveau buildings in Malta, was built on the grounds of Villa St Ignatius, one of the island\\'s earliest Gothic Revival buildings?']\n",
    "\n",
    "### Create a DataFrame, with the column raw_text\n",
    "Transform\n",
    "\n",
    "   * Write a method, preprocess(input_text), which accepts a single string, and returns a list of strings. It should:\n",
    "       - Lowercase all characters\n",
    "       - Replace all non-alphabetical characters with one space (e.g. )\n",
    "       - Create a list of tokens\n",
    "       - Filter out stop words. An example method for filtering out stopwords is available here\n",
    "   * Create a new column, tokens, by apply this method to the raw_text column\n",
    "   * Create a new column num_words, with the number of words in the raw_text\n",
    "\n",
    "Load\n",
    "\n",
    "   * Save the whole dataframe to a file called observations.csv\n"
   ]
  },
  {
   "cell_type": "code",
   "execution_count": 22,
   "metadata": {},
   "outputs": [],
   "source": [
    "import re\n",
    "from nltk.corpus import stopwords\n",
    "import pandas as pd"
   ]
  },
  {
   "cell_type": "code",
   "execution_count": 19,
   "metadata": {},
   "outputs": [],
   "source": [
    "def preprocess(input_text):\n",
    "    text1 = input_text.lower()\n",
    "    text2 = re.sub('\\W+',' ',text1)\n",
    "    text_tokens = text2.split(' ')\n",
    "    \n",
    "    stopWords = set(stopwords.words('english'))\n",
    "    text_filtered = []\n",
    "    for w in text_tokens:\n",
    "        if w not in stopWords:\n",
    "            text_filtered.append(w)\n",
    "    return text_filtered"
   ]
  },
  {
   "cell_type": "code",
   "execution_count": 15,
   "metadata": {},
   "outputs": [
    {
     "data": {
      "text/plain": [
       "['hi', 'there', 'nice', 'car', '']"
      ]
     },
     "execution_count": 15,
     "metadata": {},
     "output_type": "execute_result"
    }
   ],
   "source": [
    "preprocess('Hi There!  Nice car.')"
   ]
  },
  {
   "cell_type": "code",
   "execution_count": 16,
   "metadata": {},
   "outputs": [],
   "source": [
    "text = ['Fury said to a mouse, That he met in the house, “Let us both go to law: I will prosecute you.—Come, I’ll take no denial; We must have a trial: For really this morning I’ve nothing to do.” Said the mouse to the cur, “Such a trial, dear Sir, With no jury or judge, would be wasting our breath.” “I’ll be judge, I’ll be jury,” Said cunning old Fury: “I’ll try the whole cause, and condemn you to death.”’', 'I was gonna tell a time travelling joke but you guys didn\\'t like it', 'Did you know that Balluta Buildings (detail pictured), one of the finest Art Nouveau buildings in Malta, was built on the grounds of Villa St Ignatius, one of the island\\'s earliest Gothic Revival buildings?']"
   ]
  },
  {
   "cell_type": "code",
   "execution_count": 20,
   "metadata": {},
   "outputs": [
    {
     "data": {
      "text/plain": [
       "['fury',\n",
       " 'said',\n",
       " 'mouse',\n",
       " 'met',\n",
       " 'house',\n",
       " 'let',\n",
       " 'us',\n",
       " 'go',\n",
       " 'law',\n",
       " 'prosecute',\n",
       " 'come',\n",
       " 'take',\n",
       " 'denial',\n",
       " 'must',\n",
       " 'trial',\n",
       " 'really',\n",
       " 'morning',\n",
       " 'nothing',\n",
       " 'said',\n",
       " 'mouse',\n",
       " 'cur',\n",
       " 'trial',\n",
       " 'dear',\n",
       " 'sir',\n",
       " 'jury',\n",
       " 'judge',\n",
       " 'would',\n",
       " 'wasting',\n",
       " 'breath',\n",
       " 'judge',\n",
       " 'jury',\n",
       " 'said',\n",
       " 'cunning',\n",
       " 'old',\n",
       " 'fury',\n",
       " 'try',\n",
       " 'whole',\n",
       " 'cause',\n",
       " 'condemn',\n",
       " 'death',\n",
       " '']"
      ]
     },
     "execution_count": 20,
     "metadata": {},
     "output_type": "execute_result"
    }
   ],
   "source": [
    "preprocess(text[0])"
   ]
  },
  {
   "cell_type": "code",
   "execution_count": 31,
   "metadata": {},
   "outputs": [],
   "source": [
    "df_story = pd.DataFrame(text,columns=['raw_text'])\n",
    "df_story['tokens']=df_story['raw_text'].apply(preprocess)"
   ]
  },
  {
   "cell_type": "code",
   "execution_count": 32,
   "metadata": {},
   "outputs": [
    {
     "data": {
      "text/html": [
       "<div>\n",
       "<style scoped>\n",
       "    .dataframe tbody tr th:only-of-type {\n",
       "        vertical-align: middle;\n",
       "    }\n",
       "\n",
       "    .dataframe tbody tr th {\n",
       "        vertical-align: top;\n",
       "    }\n",
       "\n",
       "    .dataframe thead th {\n",
       "        text-align: right;\n",
       "    }\n",
       "</style>\n",
       "<table border=\"1\" class=\"dataframe\">\n",
       "  <thead>\n",
       "    <tr style=\"text-align: right;\">\n",
       "      <th></th>\n",
       "      <th>raw_text</th>\n",
       "      <th>tokens</th>\n",
       "    </tr>\n",
       "  </thead>\n",
       "  <tbody>\n",
       "    <tr>\n",
       "      <th>0</th>\n",
       "      <td>Fury said to a mouse, That he met in the house...</td>\n",
       "      <td>[fury, said, mouse, met, house, let, us, go, l...</td>\n",
       "    </tr>\n",
       "    <tr>\n",
       "      <th>1</th>\n",
       "      <td>I was gonna tell a time travelling joke but yo...</td>\n",
       "      <td>[gonna, tell, time, travelling, joke, guys, like]</td>\n",
       "    </tr>\n",
       "    <tr>\n",
       "      <th>2</th>\n",
       "      <td>Did you know that Balluta Buildings (detail pi...</td>\n",
       "      <td>[know, balluta, buildings, detail, pictured, o...</td>\n",
       "    </tr>\n",
       "  </tbody>\n",
       "</table>\n",
       "</div>"
      ],
      "text/plain": [
       "                                            raw_text  \\\n",
       "0  Fury said to a mouse, That he met in the house...   \n",
       "1  I was gonna tell a time travelling joke but yo...   \n",
       "2  Did you know that Balluta Buildings (detail pi...   \n",
       "\n",
       "                                              tokens  \n",
       "0  [fury, said, mouse, met, house, let, us, go, l...  \n",
       "1  [gonna, tell, time, travelling, joke, guys, like]  \n",
       "2  [know, balluta, buildings, detail, pictured, o...  "
      ]
     },
     "execution_count": 32,
     "metadata": {},
     "output_type": "execute_result"
    }
   ],
   "source": [
    "df_story.head()"
   ]
  },
  {
   "cell_type": "code",
   "execution_count": 33,
   "metadata": {},
   "outputs": [
    {
     "data": {
      "text/plain": [
       "'Fury said to a mouse, That he met in the house, “Let us both go to law: I will prosecute you.—Come, I’ll take no denial; We must have a trial: For really this morning I’ve nothing to do.” Said the mouse to the cur, “Such a trial, dear Sir, With no jury or judge, would be wasting our breath.” “I’ll be judge, I’ll be jury,” Said cunning old Fury: “I’ll try the whole cause, and condemn you to death.”’'"
      ]
     },
     "execution_count": 33,
     "metadata": {},
     "output_type": "execute_result"
    }
   ],
   "source": [
    "df_story.loc[0,'raw_text']"
   ]
  },
  {
   "cell_type": "code",
   "execution_count": 34,
   "metadata": {},
   "outputs": [
    {
     "data": {
      "text/plain": [
       "['Fury',\n",
       " 'said',\n",
       " 'to',\n",
       " 'a',\n",
       " 'mouse',\n",
       " 'That',\n",
       " 'he',\n",
       " 'met',\n",
       " 'in',\n",
       " 'the',\n",
       " 'house',\n",
       " 'Let',\n",
       " 'us',\n",
       " 'both',\n",
       " 'go',\n",
       " 'to',\n",
       " 'law',\n",
       " 'I',\n",
       " 'will',\n",
       " 'prosecute',\n",
       " 'you',\n",
       " 'Come',\n",
       " 'I',\n",
       " 'll',\n",
       " 'take',\n",
       " 'no',\n",
       " 'denial',\n",
       " 'We',\n",
       " 'must',\n",
       " 'have',\n",
       " 'a',\n",
       " 'trial',\n",
       " 'For',\n",
       " 'really',\n",
       " 'this',\n",
       " 'morning',\n",
       " 'I',\n",
       " 've',\n",
       " 'nothing',\n",
       " 'to',\n",
       " 'do',\n",
       " 'Said',\n",
       " 'the',\n",
       " 'mouse',\n",
       " 'to',\n",
       " 'the',\n",
       " 'cur',\n",
       " 'Such',\n",
       " 'a',\n",
       " 'trial',\n",
       " 'dear',\n",
       " 'Sir',\n",
       " 'With',\n",
       " 'no',\n",
       " 'jury',\n",
       " 'or',\n",
       " 'judge',\n",
       " 'would',\n",
       " 'be',\n",
       " 'wasting',\n",
       " 'our',\n",
       " 'breath',\n",
       " 'I',\n",
       " 'll',\n",
       " 'be',\n",
       " 'judge',\n",
       " 'I',\n",
       " 'll',\n",
       " 'be',\n",
       " 'jury',\n",
       " 'Said',\n",
       " 'cunning',\n",
       " 'old',\n",
       " 'Fury',\n",
       " 'I',\n",
       " 'll',\n",
       " 'try',\n",
       " 'the',\n",
       " 'whole',\n",
       " 'cause',\n",
       " 'and',\n",
       " 'condemn',\n",
       " 'you',\n",
       " 'to',\n",
       " 'death']"
      ]
     },
     "execution_count": 34,
     "metadata": {},
     "output_type": "execute_result"
    }
   ],
   "source": [
    "re.findall(\"[a-zA-Z_]+\", df_story.loc[0,'raw_text'])"
   ]
  },
  {
   "cell_type": "code",
   "execution_count": 37,
   "metadata": {},
   "outputs": [],
   "source": [
    "df_story['num_words'] = df_story['raw_text'].apply(lambda x: len(re.findall(\"[a-zA-Z_]+\", x)))"
   ]
  },
  {
   "cell_type": "code",
   "execution_count": 38,
   "metadata": {},
   "outputs": [
    {
     "data": {
      "text/html": [
       "<div>\n",
       "<style scoped>\n",
       "    .dataframe tbody tr th:only-of-type {\n",
       "        vertical-align: middle;\n",
       "    }\n",
       "\n",
       "    .dataframe tbody tr th {\n",
       "        vertical-align: top;\n",
       "    }\n",
       "\n",
       "    .dataframe thead th {\n",
       "        text-align: right;\n",
       "    }\n",
       "</style>\n",
       "<table border=\"1\" class=\"dataframe\">\n",
       "  <thead>\n",
       "    <tr style=\"text-align: right;\">\n",
       "      <th></th>\n",
       "      <th>raw_text</th>\n",
       "      <th>tokens</th>\n",
       "      <th>num_words</th>\n",
       "    </tr>\n",
       "  </thead>\n",
       "  <tbody>\n",
       "    <tr>\n",
       "      <th>0</th>\n",
       "      <td>Fury said to a mouse, That he met in the house...</td>\n",
       "      <td>[fury, said, mouse, met, house, let, us, go, l...</td>\n",
       "      <td>85</td>\n",
       "    </tr>\n",
       "    <tr>\n",
       "      <th>1</th>\n",
       "      <td>I was gonna tell a time travelling joke but yo...</td>\n",
       "      <td>[gonna, tell, time, travelling, joke, guys, like]</td>\n",
       "      <td>15</td>\n",
       "    </tr>\n",
       "    <tr>\n",
       "      <th>2</th>\n",
       "      <td>Did you know that Balluta Buildings (detail pi...</td>\n",
       "      <td>[know, balluta, buildings, detail, pictured, o...</td>\n",
       "      <td>35</td>\n",
       "    </tr>\n",
       "  </tbody>\n",
       "</table>\n",
       "</div>"
      ],
      "text/plain": [
       "                                            raw_text  \\\n",
       "0  Fury said to a mouse, That he met in the house...   \n",
       "1  I was gonna tell a time travelling joke but yo...   \n",
       "2  Did you know that Balluta Buildings (detail pi...   \n",
       "\n",
       "                                              tokens  num_words  \n",
       "0  [fury, said, mouse, met, house, let, us, go, l...         85  \n",
       "1  [gonna, tell, time, travelling, joke, guys, like]         15  \n",
       "2  [know, balluta, buildings, detail, pictured, o...         35  "
      ]
     },
     "execution_count": 38,
     "metadata": {},
     "output_type": "execute_result"
    }
   ],
   "source": [
    "df_story.head()"
   ]
  },
  {
   "cell_type": "code",
   "execution_count": null,
   "metadata": {},
   "outputs": [],
   "source": []
  }
 ],
 "metadata": {
  "kernelspec": {
   "display_name": "Python 3",
   "language": "python",
   "name": "python3"
  },
  "language_info": {
   "codemirror_mode": {
    "name": "ipython",
    "version": 3
   },
   "file_extension": ".py",
   "mimetype": "text/x-python",
   "name": "python",
   "nbconvert_exporter": "python",
   "pygments_lexer": "ipython3",
   "version": "3.6.4"
  }
 },
 "nbformat": 4,
 "nbformat_minor": 2
}
