{
 "cells": [
  {
   "cell_type": "code",
   "execution_count": 1,
   "metadata": {},
   "outputs": [],
   "source": [
    "import requests\n",
    "import pandas as pd\n",
    "import numpy as np"
   ]
  },
  {
   "cell_type": "code",
   "execution_count": 3,
   "metadata": {},
   "outputs": [],
   "source": [
    "yummly_url1 = 'http://api.yummly.com/v1/api/recipes?_app_id=ab3c96d5&_app_key=57476e58107ffca18d1585f2b463d78e&q=pasta'"
   ]
  },
  {
   "cell_type": "code",
   "execution_count": 4,
   "metadata": {},
   "outputs": [],
   "source": [
    "resp1 = requests.get(yummly_url1)"
   ]
  },
  {
   "cell_type": "code",
   "execution_count": 11,
   "metadata": {},
   "outputs": [],
   "source": [
    "data1 = resp1.json()"
   ]
  },
  {
   "cell_type": "code",
   "execution_count": 18,
   "metadata": {},
   "outputs": [
    {
     "data": {
      "text/plain": [
       "dict_keys(['criteria', 'matches', 'facetCounts', 'totalMatchCount', 'attribution'])"
      ]
     },
     "execution_count": 18,
     "metadata": {},
     "output_type": "execute_result"
    }
   ],
   "source": [
    "data1.keys()"
   ]
  },
  {
   "cell_type": "code",
   "execution_count": 47,
   "metadata": {},
   "outputs": [
    {
     "data": {
      "text/plain": [
       "{'attributes': {'course': ['Main Dishes']},\n",
       " 'flavors': {'bitter': 0.16666666666666666,\n",
       "  'meaty': 0.6666666666666666,\n",
       "  'piquant': 0.0,\n",
       "  'salty': 0.16666666666666666,\n",
       "  'sour': 0.8333333333333334,\n",
       "  'sweet': 0.16666666666666666},\n",
       " 'id': 'Lemon-Chicken-Pasta-2236012',\n",
       " 'imageUrlsBySize': {'90': 'https://lh3.googleusercontent.com/ph6abYxDkKlr2GjUltVjS-0FAPfsD79PLxzTO3Fm9yaS6cN2FaSbVRkHRgd9puG8D_OHaObkUoo98D2wCpp40Q=s90-c'},\n",
       " 'ingredients': ['linguine',\n",
       "  'butter',\n",
       "  'chicken',\n",
       "  'chopped parsley',\n",
       "  'lemon juice',\n",
       "  'grated parmesan cheese',\n",
       "  'lemon slices'],\n",
       " 'rating': 4,\n",
       " 'recipeName': 'Lemon Chicken Pasta',\n",
       " 'smallImageUrls': ['https://lh3.googleusercontent.com/6eEhhDviHgt0rOj1sRMleu91iMs2FK9tqOyJbm5sXfy4Cpok5OjONIQ41RWzgWRFRDclvCZyeHoLtkXVRC5bIw=s90'],\n",
       " 'sourceDisplayName': 'Framed Cooks',\n",
       " 'totalTimeInSeconds': 1800}"
      ]
     },
     "execution_count": 47,
     "metadata": {},
     "output_type": "execute_result"
    }
   ],
   "source": [
    "data1['matches'][3]"
   ]
  },
  {
   "cell_type": "code",
   "execution_count": 21,
   "metadata": {},
   "outputs": [
    {
     "data": {
      "text/plain": [
       "{'allowedIngredient': None, 'excludedIngredient': None, 'q': 'pasta'}"
      ]
     },
     "execution_count": 21,
     "metadata": {},
     "output_type": "execute_result"
    }
   ],
   "source": [
    "data1['criteria']"
   ]
  },
  {
   "cell_type": "code",
   "execution_count": 22,
   "metadata": {},
   "outputs": [
    {
     "data": {
      "text/plain": [
       "{}"
      ]
     },
     "execution_count": 22,
     "metadata": {},
     "output_type": "execute_result"
    }
   ],
   "source": [
    "data1['facetCounts']"
   ]
  },
  {
   "cell_type": "code",
   "execution_count": 23,
   "metadata": {},
   "outputs": [
    {
     "data": {
      "text/plain": [
       "101657"
      ]
     },
     "execution_count": 23,
     "metadata": {},
     "output_type": "execute_result"
    }
   ],
   "source": [
    "data1['totalMatchCount']"
   ]
  },
  {
   "cell_type": "code",
   "execution_count": 42,
   "metadata": {},
   "outputs": [],
   "source": [
    "params = {'maxResult' : 10, 'start' : 1}\n",
    "resp1_b = requests.get(yummly_url1, params=params)"
   ]
  },
  {
   "cell_type": "code",
   "execution_count": 43,
   "metadata": {},
   "outputs": [],
   "source": [
    "data1_b = resp1_b.json()"
   ]
  },
  {
   "cell_type": "code",
   "execution_count": 247,
   "metadata": {},
   "outputs": [
    {
     "data": {
      "text/plain": [
       "{'attributes': {'course': ['Main Dishes']},\n",
       " 'flavors': None,\n",
       " 'id': 'Arrabbiata-Pasta-1686610',\n",
       " 'imageUrlsBySize': {'90': 'https://lh3.googleusercontent.com/9JMi7wWx77CVzo4O6OkL4f0qfiLuW3BpJJUXNv00prOJ7zsUvMvm5oLubd16jVkcYWp5Z1hQ7MHohCB3iw2N6g=s90-c'},\n",
       " 'ingredients': ['tomato sauce',\n",
       "  'garlic',\n",
       "  'red pepper flakes',\n",
       "  'olive oil',\n",
       "  'dried parsley',\n",
       "  'salt',\n",
       "  'dried pasta'],\n",
       " 'rating': 4,\n",
       " 'recipeName': 'Arrabbiata Pasta',\n",
       " 'smallImageUrls': ['https://lh3.googleusercontent.com/BOKHVGhSRJifGx2YwtXs_1HQ6xE_ue3-BNB0we3VQl0DoPs5Xa1rUhOWdHjXQpM1XRL_XnsYd7JBq7Ye2yIp=s90'],\n",
       " 'sourceDisplayName': 'Three Olives Branch',\n",
       " 'totalTimeInSeconds': 900}"
      ]
     },
     "execution_count": 247,
     "metadata": {},
     "output_type": "execute_result"
    }
   ],
   "source": [
    "data1_b['matches'][5]"
   ]
  },
  {
   "cell_type": "code",
   "execution_count": 234,
   "metadata": {},
   "outputs": [],
   "source": [
    "temp_df = pd.DataFrame(columns=['course','ingredients','recipe_name','rating','cuisine','flavors'])"
   ]
  },
  {
   "cell_type": "code",
   "execution_count": 237,
   "metadata": {},
   "outputs": [],
   "source": [
    "temp_dict = data1_b['matches'][1]\n",
    "#temp_df = pd.DataFrame.from_dict(temp_dict)\n",
    "#pd.DataFrame.from_dict(temp_dict, orient='index').T.set_index('index')\n",
    "cuisine='italian'\n",
    "temp_list = []\n",
    "temp_dict2 = {'course':temp_dict['attributes']['course'], \n",
    "              'ingredients':str(temp_dict['ingredients']), \n",
    "              'recipe_name':temp_dict['recipeName'], \n",
    "              'rating':temp_dict['rating'],\n",
    "              'cuisine':cuisine}\n",
    "if temp_dict['flavors'] != None:\n",
    "    for key,value in temp_dict['flavors'].items():\n",
    "        temp_dict2[key] = value\n",
    "\n",
    "    \n",
    "#temp_df.loc[0,'ingredients']=temp_dict['ingredients']"
   ]
  },
  {
   "cell_type": "code",
   "execution_count": 238,
   "metadata": {},
   "outputs": [
    {
     "data": {
      "text/html": [
       "<div>\n",
       "<style scoped>\n",
       "    .dataframe tbody tr th:only-of-type {\n",
       "        vertical-align: middle;\n",
       "    }\n",
       "\n",
       "    .dataframe tbody tr th {\n",
       "        vertical-align: top;\n",
       "    }\n",
       "\n",
       "    .dataframe thead th {\n",
       "        text-align: right;\n",
       "    }\n",
       "</style>\n",
       "<table border=\"1\" class=\"dataframe\">\n",
       "  <thead>\n",
       "    <tr style=\"text-align: right;\">\n",
       "      <th></th>\n",
       "      <th>course</th>\n",
       "      <th>ingredients</th>\n",
       "      <th>recipe_name</th>\n",
       "      <th>rating</th>\n",
       "      <th>cuisine</th>\n",
       "      <th>flavors</th>\n",
       "      <th>bitter</th>\n",
       "      <th>meaty</th>\n",
       "      <th>piquant</th>\n",
       "      <th>salty</th>\n",
       "      <th>sour</th>\n",
       "      <th>sweet</th>\n",
       "    </tr>\n",
       "  </thead>\n",
       "  <tbody>\n",
       "    <tr>\n",
       "      <th>0</th>\n",
       "      <td>[Main Dishes]</td>\n",
       "      <td>['smoked sausage', 'onions', 'garlic', 'sliced...</td>\n",
       "      <td>One Pot Penne Pasta</td>\n",
       "      <td>4</td>\n",
       "      <td>italian</td>\n",
       "      <td>NaN</td>\n",
       "      <td>0.833333</td>\n",
       "      <td>0.833333</td>\n",
       "      <td>0.333333</td>\n",
       "      <td>0.833333</td>\n",
       "      <td>0.500000</td>\n",
       "      <td>0.166667</td>\n",
       "    </tr>\n",
       "    <tr>\n",
       "      <th>1</th>\n",
       "      <td>[Main Dishes]</td>\n",
       "      <td>['whole wheat pasta', 'pasta sauce', 'heavy cr...</td>\n",
       "      <td>Creamy Caprese Pasta</td>\n",
       "      <td>5</td>\n",
       "      <td>italian</td>\n",
       "      <td>NaN</td>\n",
       "      <td>0.166667</td>\n",
       "      <td>0.166667</td>\n",
       "      <td>0.000000</td>\n",
       "      <td>0.333333</td>\n",
       "      <td>0.166667</td>\n",
       "      <td>0.166667</td>\n",
       "    </tr>\n",
       "  </tbody>\n",
       "</table>\n",
       "</div>"
      ],
      "text/plain": [
       "          course                                        ingredients  \\\n",
       "0  [Main Dishes]  ['smoked sausage', 'onions', 'garlic', 'sliced...   \n",
       "1  [Main Dishes]  ['whole wheat pasta', 'pasta sauce', 'heavy cr...   \n",
       "\n",
       "            recipe_name rating  cuisine flavors    bitter     meaty   piquant  \\\n",
       "0   One Pot Penne Pasta      4  italian     NaN  0.833333  0.833333  0.333333   \n",
       "1  Creamy Caprese Pasta      5  italian     NaN  0.166667  0.166667  0.000000   \n",
       "\n",
       "      salty      sour     sweet  \n",
       "0  0.833333  0.500000  0.166667  \n",
       "1  0.333333  0.166667  0.166667  "
      ]
     },
     "execution_count": 238,
     "metadata": {},
     "output_type": "execute_result"
    }
   ],
   "source": [
    "temp_df = temp_df.append(temp_dict2, ignore_index=True)\n",
    "temp_df"
   ]
  },
  {
   "cell_type": "code",
   "execution_count": 353,
   "metadata": {},
   "outputs": [],
   "source": [
    "def get_recipes(cuisine='None',num_pages=2):\n",
    "    '''\n",
    "    Function to search for recipes from the Yummly API.\n",
    "    \n",
    "    Args:\n",
    "        cuisine (str): Defaults to None.  The list of possible\n",
    "            cuisines can be found at https://developer.yummly.com/documentation\n",
    "        num_pages (int): Number of request pages to return.\n",
    "            If num_pages = 2, will return 20 recipes\n",
    "            \n",
    "    Returns: \n",
    "        Pandas DataFrame: Each row of the DataFrame will be\n",
    "            a different recipe.\n",
    "    '''\n",
    "    yummly_url = 'http://api.yummly.com/v1/api/recipes?_app_id=ab3c96d5&_app_key=57476e58107ffca18d1585f2b463d78e&your _search_parameters'\n",
    "    allowedCuisine = 'cuisine^cuisine-{}'.format(cuisine)\n",
    "    maxResult = 10\n",
    "    params = {'allowedCuisine[]' :allowedCuisine, 'maxResult' : maxResult, 'start' : 0}\n",
    "    #print(params)\n",
    "    yummly_df = pd.DataFrame(columns=['course','ingredients','recipe_name','rating','cuisine'])\n",
    "    \n",
    "    for page in range(num_pages):\n",
    "        params['start']=page*maxResult\n",
    "        try:\n",
    "            resp = requests.get(yummly_url, params=params)\n",
    "        except:\n",
    "            print('Exception raised when requesting cuisine: {}'.format(cuisine))\n",
    "            return yummly_df\n",
    "        #print(resp.status_code)\n",
    "        #if resp.raise_for_status() == None:\n",
    "        data = resp.json()\n",
    "        for i in range(len(data['matches'])):\n",
    "            yummly_dict = data['matches'][i]\n",
    "            yummly_dict2 = {'ingredients':str(yummly_dict['ingredients']), \n",
    "              'recipe_name':yummly_dict['recipeName'], \n",
    "              'rating':yummly_dict['rating'],\n",
    "              'cuisine':cuisine}\n",
    "            if yummly_dict['flavors'] != None:\n",
    "                for key,value in yummly_dict['flavors'].items():\n",
    "                    yummly_dict2[key] = value\n",
    "            if 'course' in yummly_dict['attributes'].keys():\n",
    "                yummly_dict2['course'] = yummly_dict['attributes']['course']\n",
    "            yummly_df = yummly_df.append(yummly_dict2, ignore_index=True)\n",
    "        #else:\n",
    "        #    print('Exception raised when requesting cuisine: {}'.format(cuisine))\n",
    "    return yummly_df  "
   ]
  },
  {
   "cell_type": "code",
   "execution_count": 298,
   "metadata": {},
   "outputs": [
    {
     "data": {
      "text/plain": [
       "\"['globe eggplant', 'salt', 'olive oil', 'italian seasoning', 'basil leaves', 'freshly grated parmesan', 'mozzarella cheese', 'hot red pepper flakes', 'virgin olive oil', 'large garlic cloves', 'petite diced tomatoes', 'dried oregano']\""
      ]
     },
     "execution_count": 298,
     "metadata": {},
     "output_type": "execute_result"
    }
   ],
   "source": [
    "#yummly_df_italian = get_recipes(cuisine='italian',num_pages=2)\n",
    "yummly_df_italian.loc[0,'ingredients']"
   ]
  },
  {
   "cell_type": "code",
   "execution_count": 262,
   "metadata": {},
   "outputs": [],
   "source": [
    "#yummly_df_cuban = get_recipes(cuisine='cuban',num_pages=2)\n",
    "#yummly_df_cuban"
   ]
  },
  {
   "cell_type": "code",
   "execution_count": 128,
   "metadata": {},
   "outputs": [],
   "source": [
    "yummly_url = 'http://api.yummly.com/v1/api/recipes?_app_id=ab3c96d5&_app_key=57476e58107ffca18d1585f2b463d78e&your _search_parameters'\n",
    "params = {'allowedCuisine[]' :'cuisine^cuisine-italian', 'maxResult' : 10, 'start' : 0}\n",
    "resp = requests.get(yummly_url, params=params)"
   ]
  },
  {
   "cell_type": "code",
   "execution_count": 129,
   "metadata": {},
   "outputs": [],
   "source": [
    "data = resp.json()"
   ]
  },
  {
   "cell_type": "code",
   "execution_count": 130,
   "metadata": {},
   "outputs": [
    {
     "data": {
      "text/plain": [
       "{'attributes': {'course': ['Main Dishes', 'Lunch'], 'cuisine': ['Italian']},\n",
       " 'flavors': {'bitter': 0.8333333333333334,\n",
       "  'meaty': 0.8333333333333334,\n",
       "  'piquant': 0.8333333333333334,\n",
       "  'salty': 0.8333333333333334,\n",
       "  'sour': 0.8333333333333334,\n",
       "  'sweet': 0.16666666666666666},\n",
       " 'id': 'Julia-Childs-Eggplant-Pizzas-2211869',\n",
       " 'imageUrlsBySize': {'90': 'https://lh3.googleusercontent.com/oiQR3Fo7vLWPJlNTvsJbGzeFSHyMrxeZI_mY9c8s6wngaXbc7Hwlbpw8Pggb9jqyEmg_6fVpvjNpOEI-UbQGlw=s90-c'},\n",
       " 'ingredients': ['globe eggplant',\n",
       "  'salt',\n",
       "  'olive oil',\n",
       "  'italian seasoning',\n",
       "  'basil leaves',\n",
       "  'freshly grated parmesan',\n",
       "  'mozzarella cheese',\n",
       "  'hot red pepper flakes',\n",
       "  'virgin olive oil',\n",
       "  'large garlic cloves',\n",
       "  'petite diced tomatoes',\n",
       "  'dried oregano'],\n",
       " 'rating': 4,\n",
       " 'recipeName': 'Julia Child’s Eggplant Pizzas',\n",
       " 'smallImageUrls': ['https://lh3.googleusercontent.com/6LYPkoWZBy-1TGl9k4NyVpj_mijJCOEKEXq7zIlMrxuqvzNeyBjWXrPuULd3SR3hdVweJVJQsUbdhlV_S6AoXQ=s90'],\n",
       " 'sourceDisplayName': \"Kalyn's Kitchen\",\n",
       " 'totalTimeInSeconds': 3000}"
      ]
     },
     "execution_count": 130,
     "metadata": {},
     "output_type": "execute_result"
    }
   ],
   "source": [
    "data['matches'][0]"
   ]
  },
  {
   "cell_type": "code",
   "execution_count": 349,
   "metadata": {},
   "outputs": [],
   "source": [
    "params = {'allowedCuisine[]' : 'cuisine^cuisine-italian','maxResult' : 10, 'start' : 1000}\n",
    "resp = requests.get(yummly_url1, params=params)"
   ]
  },
  {
   "cell_type": "code",
   "execution_count": 352,
   "metadata": {},
   "outputs": [
    {
     "data": {
      "text/plain": [
       "[{'attributes': {'course': ['Main Dishes'],\n",
       "   'cuisine': ['Kid-Friendly', 'Italian']},\n",
       "  'flavors': {'bitter': 0.6666666666666666,\n",
       "   'meaty': 0.16666666666666666,\n",
       "   'piquant': 0.0,\n",
       "   'salty': 0.8333333333333334,\n",
       "   'sour': 0.16666666666666666,\n",
       "   'sweet': 0.3333333333333333},\n",
       "  'id': 'Skillet-Chicken-Parmesan-Over-Pasta-1091043',\n",
       "  'imageUrlsBySize': {'90': 'http://lh3.googleusercontent.com/cIqw8GlLoYjPZ-i6m7Ki1g3fY2fkdELe23Y1BQkP54Wzs-GX1SrZTsplkexey-R48XSJXKLqP72RjYTpEUmlZCs=s90-c'},\n",
       "  'ingredients': ['chicken breasts',\n",
       "   'kosher salt',\n",
       "   'black pepper',\n",
       "   'Italian herbs',\n",
       "   'bread crumbs',\n",
       "   'grated parmesan cheese',\n",
       "   'butter',\n",
       "   'olive oil',\n",
       "   'spaghetti',\n",
       "   'marinara sauce',\n",
       "   'shredded mozzarella cheese',\n",
       "   'fresh herbs'],\n",
       "  'rating': 4,\n",
       "  'recipeName': 'Skillet Chicken Parmesan Over Pasta',\n",
       "  'smallImageUrls': ['http://lh3.googleusercontent.com/8bDFiNowrCeaJXZKOme3nUbOt3ohD_tz1IY3fJZa4eL4tm4LnYCBTsHLvjVR9iSNsUMDeFSgU0GodCLV0lo5-4g=s90'],\n",
       "  'sourceDisplayName': 'Joyously Domestic',\n",
       "  'totalTimeInSeconds': 1800},\n",
       " {'attributes': {'course': ['Main Dishes'], 'cuisine': ['Italian']},\n",
       "  'flavors': {'bitter': 0.16666666666666666,\n",
       "   'meaty': 0.16666666666666666,\n",
       "   'piquant': 0.0,\n",
       "   'salty': 0.16666666666666666,\n",
       "   'sour': 0.6666666666666666,\n",
       "   'sweet': 0.16666666666666666},\n",
       "  'id': 'Pasta-al-Pomodoro-894329',\n",
       "  'imageUrlsBySize': {'90': 'http://lh6.ggpht.com/OKbF9sA33DA0bPcIrDgbVBtw37Ov5EfycG7872j34p9q-cGhQNINadkagZUOudzRYkJplgHVLfMbtX_UXWBsSg=s90-c'},\n",
       "  'ingredients': ['extra-virgin olive oil',\n",
       "   'onions',\n",
       "   'garlic cloves',\n",
       "   'crushed red pepper flakes',\n",
       "   'peeled tomatoes',\n",
       "   'kosher salt',\n",
       "   'fresh basil',\n",
       "   'table salt',\n",
       "   'bucatini',\n",
       "   'unsalted butter',\n",
       "   'grated parmesan cheese'],\n",
       "  'rating': 3,\n",
       "  'recipeName': 'Pasta al Pomodoro',\n",
       "  'smallImageUrls': ['http://lh5.ggpht.com/HgXwBFQEbAYLWSQdApLhI23jRejXV15zyen3cQDrmbstxCsB74lF5g5cMc_tKiIkgBvFMc_ScGr6P1aybZqn=s90'],\n",
       "  'sourceDisplayName': 'Culinary Covers',\n",
       "  'totalTimeInSeconds': 4800},\n",
       " {'attributes': {'course': ['Soups'], 'cuisine': ['Italian']},\n",
       "  'flavors': {'bitter': 0.16666666666666666,\n",
       "   'meaty': 0.16666666666666666,\n",
       "   'piquant': 0.16666666666666666,\n",
       "   'salty': 0.16666666666666666,\n",
       "   'sour': 0.5,\n",
       "   'sweet': 0.16666666666666666},\n",
       "  'id': 'Pasta-e-Fagioli-2277650',\n",
       "  'imageUrlsBySize': {'90': 'https://lh3.googleusercontent.com/k6VAEDGKkprQ7Tdi8b0mUqzHSkPOXDAPqNni-oloDYEBnYQDGCcROpHLj7Vd41T5nmFN8JLBg8ml1gc1JsXHig=s90-c'},\n",
       "  'ingredients': ['olive oil',\n",
       "   'chopped onion',\n",
       "   'large carrots',\n",
       "   'celery ribs',\n",
       "   'large garlic cloves',\n",
       "   'chili flakes',\n",
       "   'italian seasoning',\n",
       "   'chicken stock',\n",
       "   'peeled tomatoes',\n",
       "   'ditalini pasta',\n",
       "   'cannellini beans',\n",
       "   'chopped parsley',\n",
       "   'salt',\n",
       "   'black pepper'],\n",
       "  'rating': 4,\n",
       "  'recipeName': 'Pasta e Fagioli',\n",
       "  'smallImageUrls': ['https://lh3.googleusercontent.com/4O6TBeFgvEOCfDvUTriLJm_yUv7KSF7BD2WEnXewiv9uKzezHXAqWbM43lNc_o8P4JBFqMKHDcKhy6kqepOu=s90'],\n",
       "  'sourceDisplayName': 'Simply Recipes',\n",
       "  'totalTimeInSeconds': 3000},\n",
       " {'attributes': {'course': ['Main Dishes'], 'cuisine': ['Italian']},\n",
       "  'flavors': {'bitter': 0.16666666666666666,\n",
       "   'meaty': 0.16666666666666666,\n",
       "   'piquant': 0.0,\n",
       "   'salty': 0.16666666666666666,\n",
       "   'sour': 0.3333333333333333,\n",
       "   'sweet': 0.16666666666666666},\n",
       "  'id': 'PASTA-CON-PESCE-SPADA-DI-PIPPO-_PIPPOS-FRESH-SWORDFISH-PASTA_-2081239',\n",
       "  'imageUrlsBySize': {'90': 'https://lh3.googleusercontent.com/rEFm1gcutkahfzavnGt43N9oRuYM1U4-6Prma56_BbuKWd4ZJoOlwCmNTX1EDreDO2BzMJSsFKA8SHx1bZCK6Bs=s90-c'},\n",
       "  'ingredients': ['eggplant',\n",
       "   'extra-virgin olive oil',\n",
       "   'garlic cloves',\n",
       "   'white wine',\n",
       "   'swordfish fillets',\n",
       "   'cherry tomatoes',\n",
       "   'fresh mint',\n",
       "   'salt',\n",
       "   'pepper',\n",
       "   'pasta'],\n",
       "  'rating': 4,\n",
       "  'recipeName': 'PASTA CON PESCE SPADA DI PIPPO (PIPPO’S FRESH SWORDFISH PASTA)',\n",
       "  'smallImageUrls': ['https://lh3.googleusercontent.com/eL0zZ63p2RVE6z08-8Ct5AQdunNTn_vsfcVj4HgDNjVreT3PqhTa8brYqsm6mKeVpH8AW8Xqc0nZi6jfcswHOy4=s90'],\n",
       "  'sourceDisplayName': 'Papricannelle',\n",
       "  'totalTimeInSeconds': 2400},\n",
       " {'attributes': {'course': ['Main Dishes'], 'cuisine': ['Italian']},\n",
       "  'flavors': {'bitter': 0.5,\n",
       "   'meaty': 0.8333333333333334,\n",
       "   'piquant': 0.0,\n",
       "   'salty': 0.6666666666666666,\n",
       "   'sour': 0.8333333333333334,\n",
       "   'sweet': 0.16666666666666666},\n",
       "  'id': 'Delicious-Italian-Pasta-With-Asparagus-_-Lemon-Pesto-1325269',\n",
       "  'imageUrlsBySize': {'90': 'https://lh3.googleusercontent.com/p3f7tok_zTn6DeMYQIbFANJswgC3o9DpmdgFYxAHOuQoSCP6CQJAMUaqE5hvSa4UvK6_F87ZKqC7rNzlI3mcDEM=s90-c'},\n",
       "  'ingredients': ['vegetable bouillon cube',\n",
       "   'penne',\n",
       "   'garlic',\n",
       "   'asparagus',\n",
       "   'lemon',\n",
       "   'basil',\n",
       "   'parsley',\n",
       "   'parmesan cheese',\n",
       "   'olive oil',\n",
       "   'pinenuts',\n",
       "   'pasta cooking water',\n",
       "   'black pepper'],\n",
       "  'rating': 4,\n",
       "  'recipeName': 'Delicious Italian Pasta With Asparagus & Lemon Pesto',\n",
       "  'smallImageUrls': ['http://lh3.googleusercontent.com/3nyBMzpxYQMS18YFSXZ_4a9dCrNk8ErUnyErbK0kqBcIh0XdALEpci2JoEzpN2iXS6J-h5nA2bqtnr9g0A2DCA=s90'],\n",
       "  'sourceDisplayName': 'All Top Food',\n",
       "  'totalTimeInSeconds': 1200},\n",
       " {'attributes': {'course': ['Main Dishes'], 'cuisine': ['Italian']},\n",
       "  'flavors': {'bitter': 0.6666666666666666,\n",
       "   'meaty': 0.6666666666666666,\n",
       "   'piquant': 0.0,\n",
       "   'salty': 0.5,\n",
       "   'sour': 0.16666666666666666,\n",
       "   'sweet': 0.16666666666666666},\n",
       "  'id': 'Pasta-alla-Carbonara-2085118',\n",
       "  'imageUrlsBySize': {'90': 'https://lh3.googleusercontent.com/OW1mofKjwSapk4Vi9KC31B-3S_spOoWi8ddQJYKElN-BSmiYnlWnxskaNI4q7yKKkKso0ApLoPWRpn6GGqzTQQ=s90-c'},\n",
       "  'ingredients': ['penne',\n",
       "   'pancetta',\n",
       "   'garlic',\n",
       "   'egg yolks',\n",
       "   'heavy cream',\n",
       "   'parmigiano reggiano cheese',\n",
       "   'parsley',\n",
       "   'pepper'],\n",
       "  'rating': 4,\n",
       "  'recipeName': 'Pasta alla Carbonara',\n",
       "  'smallImageUrls': ['https://lh3.googleusercontent.com/4MOC6asItfVn13quvdBvN3W7kX4JtOtP_tacbw2t1NSjxv89Ctno_7UGKHDmeX5FctAZNKqiHm-FDjHUwcR9s-U=s90'],\n",
       "  'sourceDisplayName': 'Closet Cooking',\n",
       "  'totalTimeInSeconds': 1800},\n",
       " {'attributes': {'course': ['Main Dishes'], 'cuisine': ['Italian']},\n",
       "  'flavors': {'bitter': 0.8333333333333334,\n",
       "   'meaty': 0.8333333333333334,\n",
       "   'piquant': 0.0,\n",
       "   'salty': 0.8333333333333334,\n",
       "   'sour': 0.16666666666666666,\n",
       "   'sweet': 0.16666666666666666},\n",
       "  'id': 'Pasta-Quattro-Formaggi-2412125',\n",
       "  'imageUrlsBySize': {'90': 'https://lh3.googleusercontent.com/MJSQVj5MITTze4aDpYpKA_plo_R_fw5-e52QHZ02BRffLznggBik_9SM1juk-uVzCjodTNy2Hz9lUxPls93pIQ=s90-c'},\n",
       "  'ingredients': ['penne',\n",
       "   'heavy whipping cream',\n",
       "   'gorgonzola',\n",
       "   'cheese',\n",
       "   'fontina cheese',\n",
       "   'asiago',\n",
       "   'extra-virgin olive oil',\n",
       "   'large garlic cloves',\n",
       "   'ground nutmeg',\n",
       "   'flat leaf parsley',\n",
       "   'sea salt',\n",
       "   'black pepper'],\n",
       "  'rating': 4,\n",
       "  'recipeName': 'Pasta Quattro Formaggi',\n",
       "  'smallImageUrls': ['https://lh3.googleusercontent.com/3yUrUKKZbyUW1KpN-gcGvx3G0DkL3sCyRh2b5v3vN6ILQayFI7kFQ0w7XCbVwqqQOZTo8d-LbhjrBbo47TN4JA=s90'],\n",
       "  'sourceDisplayName': 'La Bella Vita Cucina',\n",
       "  'totalTimeInSeconds': 1500},\n",
       " {'attributes': {'course': ['Side Dishes'], 'cuisine': ['Italian']},\n",
       "  'flavors': {'bitter': 0.8333333333333334,\n",
       "   'meaty': 0.3333333333333333,\n",
       "   'piquant': 0.0,\n",
       "   'salty': 0.6666666666666666,\n",
       "   'sour': 0.8333333333333334,\n",
       "   'sweet': 0.16666666666666666},\n",
       "  'id': 'Cheesy-Broccoli-Orzo-474860',\n",
       "  'imageUrlsBySize': {'90': 'http://lh4.ggpht.com/YFOh0qkkgFanr0GH8LwoykVB-QSvacvHHsAXP7AKE27HQ8Ef1TDicQbYGcWLhi8eR3AIW4SsyaAseelRuTlO=s90-c'},\n",
       "  'ingredients': ['orzo',\n",
       "   'broccoli florets',\n",
       "   'shredded cheddar cheese',\n",
       "   'grated parmesan cheese',\n",
       "   'butter',\n",
       "   '2% reduced-fat milk',\n",
       "   'salt'],\n",
       "  'rating': 4,\n",
       "  'recipeName': 'Cheesy Broccoli Orzo',\n",
       "  'smallImageUrls': ['http://lh6.ggpht.com/MCKdjcWgaocuVX1pNUQAaNkVfNQa4QZgK5naxa26UMhY5CRF2OhfJp6B6rVnxd3qVhLgrFZjftU9xmY_Uq1W=s90'],\n",
       "  'sourceDisplayName': 'Iowa Girl Eats',\n",
       "  'totalTimeInSeconds': 1500},\n",
       " {'attributes': {'course': ['Lunch'], 'cuisine': ['Italian']},\n",
       "  'flavors': None,\n",
       "  'id': 'Italian-Grilled-Cheese-Sandwich-2421808',\n",
       "  'imageUrlsBySize': {'90': 'https://lh3.googleusercontent.com/Dzd0CV0oJZoDadzboasQu20UYOmRtTex5zZ8_VVUdcraVBjMSIJlKfD5sYbOY3YqAwkFt4nXVFZ1f4q_K85-XQ=s90-c'},\n",
       "  'ingredients': ['french bread',\n",
       "   'provolone cheese',\n",
       "   'seasoned bread crumbs',\n",
       "   'italian seasoning',\n",
       "   'garlic powder',\n",
       "   'eggs',\n",
       "   'milk',\n",
       "   'oil',\n",
       "   'pasta sauce'],\n",
       "  'rating': 4,\n",
       "  'recipeName': 'Italian Grilled Cheese Sandwich',\n",
       "  'smallImageUrls': ['https://lh3.googleusercontent.com/SUIt0_IaxJv0RWuFtVpaUVtvZ6FIcImx2ClHkUbOBaO5UwS9FiRDL6V-ORRr7fsHCgDw2RJj23geETSaLH7jGck=s90'],\n",
       "  'sourceDisplayName': 'Countryside Cravings',\n",
       "  'totalTimeInSeconds': 1800},\n",
       " {'attributes': {'course': ['Main Dishes'], 'cuisine': ['Italian']},\n",
       "  'flavors': {'bitter': 0.5,\n",
       "   'meaty': 0.16666666666666666,\n",
       "   'piquant': 0.16666666666666666,\n",
       "   'salty': 0.5,\n",
       "   'sour': 0.5,\n",
       "   'sweet': 0.16666666666666666},\n",
       "  'id': 'Italian-Pasta-Bake-_Almost-Baked-Ziti_-But-Not-Quite_-2318973',\n",
       "  'imageUrlsBySize': {'90': 'https://lh3.googleusercontent.com/tUBe24Vgulzb53a8JaEZrbNY28UZQdQhQos0TK6jZ4-k8xmJnjwoQyXDhNvb45U6sJVWzWz8FSStXodvK1gt8Q=s90-c'},\n",
       "  'ingredients': ['pasta',\n",
       "   'pasta sauce',\n",
       "   'canned tomatoes',\n",
       "   'shredded mozzarella cheese',\n",
       "   'ricotta cheese',\n",
       "   'squash',\n",
       "   'zucchini',\n",
       "   'meatballs',\n",
       "   'sausages',\n",
       "   'pepperoni',\n",
       "   'spinach',\n",
       "   'onions',\n",
       "   'garlic',\n",
       "   'mushrooms',\n",
       "   'green pepper',\n",
       "   'olives'],\n",
       "  'rating': 4,\n",
       "  'recipeName': 'Italian Pasta Bake (Almost Baked Ziti, But Not Quite)',\n",
       "  'smallImageUrls': ['https://lh3.googleusercontent.com/AzjkdKpwmfvPMUIpLmP8hZFyfTjTGPx_kDTmYW0eDlxvH4qh_be4dZBellPRkrGT09rNzwU32iwuk_JuaauySxo=s90'],\n",
       "  'sourceDisplayName': 'Mama Loves Food',\n",
       "  'totalTimeInSeconds': 2700}]"
      ]
     },
     "execution_count": 352,
     "metadata": {},
     "output_type": "execute_result"
    }
   ],
   "source": [
    "data2 = resp.json()\n",
    "#data2.keys()\n",
    "#data2['totalMatchCount']\n",
    "data2['matches']"
   ]
  },
  {
   "cell_type": "code",
   "execution_count": 326,
   "metadata": {},
   "outputs": [
    {
     "data": {
      "text/plain": [
       "10"
      ]
     },
     "execution_count": 326,
     "metadata": {},
     "output_type": "execute_result"
    }
   ],
   "source": [
    "len(data2['matches'])"
   ]
  },
  {
   "cell_type": "code",
   "execution_count": 68,
   "metadata": {},
   "outputs": [
    {
     "data": {
      "text/plain": [
       "{'attributes': {'course': ['Main Dishes'], 'cuisine': ['Italian']},\n",
       " 'flavors': {'bitter': 0.5,\n",
       "  'meaty': 0.16666666666666666,\n",
       "  'piquant': 0.0,\n",
       "  'salty': 0.5,\n",
       "  'sour': 0.16666666666666666,\n",
       "  'sweet': 0.16666666666666666},\n",
       " 'id': 'Sweet-potato-cream-pasta-with-crispy-kale-333548',\n",
       " 'imageUrlsBySize': {'90': 'http://lh5.ggpht.com/xZOFoRq52cIC5ib-W9upZXrWzE6dWjYwIRiaUs7JvDFtwlF9Fx60IkELSiENkjQJAaBSzlDiMpy-iL9SYk357g=s90-c'},\n",
       " 'ingredients': ['sweet potatoes',\n",
       "  'olive oil',\n",
       "  'unsalted butter',\n",
       "  'shallots',\n",
       "  'garlic cloves',\n",
       "  'flour',\n",
       "  'skim milk',\n",
       "  'grated romano cheese',\n",
       "  'whole wheat pasta',\n",
       "  'kale leaves',\n",
       "  'toasted sesame oil',\n",
       "  'salt',\n",
       "  'pepper'],\n",
       " 'rating': 5,\n",
       " 'recipeName': 'Sweet Potato Cream Pasta with Crispy Kale',\n",
       " 'smallImageUrls': ['http://lh4.ggpht.com/MxUBS-3e2t_eBynY4VavzZIyCDQlBKsB8gYDwn26NLXVVcN5vyDQbVqcrHwONMK8JAMfzfVViuJgQS4kn470vg=s90'],\n",
       " 'sourceDisplayName': 'How Sweet It Is',\n",
       " 'totalTimeInSeconds': 3600}"
      ]
     },
     "execution_count": 68,
     "metadata": {},
     "output_type": "execute_result"
    }
   ],
   "source": [
    "data2['matches'][0]"
   ]
  },
  {
   "cell_type": "code",
   "execution_count": 354,
   "metadata": {},
   "outputs": [],
   "source": [
    "def merge_cuisines(cuisines_list=None, num_pages=2):\n",
    "    \n",
    "    merged_df = pd.DataFrame(columns=['course','ingredients','recipe_name','rating','cuisine'])\n",
    "    \n",
    "    for cuisine in cuisines_list:\n",
    "        print(\"loading in data for cuisine: {}\".format(cuisine))\n",
    "        df = get_recipes(cuisine=cuisine, num_pages=num_pages)\n",
    "        merged_df = merged_df.append(df, ignore_index=True)\n",
    "        \n",
    "    return merged_df"
   ]
  },
  {
   "cell_type": "code",
   "execution_count": 277,
   "metadata": {},
   "outputs": [],
   "source": [
    "S = 'American, Italian, Asian, Mexican, Southern & Soul Food, French, Southwestern, Barbecue, Indian, Chinese, Cajun & Creole, English, Mediterranean, Greek, Spanish, German, Thai, Moroccan, Irish, Japanese, Cuban, Hawaiian, Swedish, Hungarian, Portugese'\n",
    "S_list = S.split(',')"
   ]
  },
  {
   "cell_type": "code",
   "execution_count": 278,
   "metadata": {},
   "outputs": [],
   "source": [
    "S_list_new = []\n",
    "for S_i in S_list:\n",
    "    S_i_new = S_i.split('&')[0].lower().strip()\n",
    "    S_list_new.append(S_i_new)"
   ]
  },
  {
   "cell_type": "code",
   "execution_count": 279,
   "metadata": {},
   "outputs": [
    {
     "data": {
      "text/plain": [
       "'american'"
      ]
     },
     "execution_count": 279,
     "metadata": {},
     "output_type": "execute_result"
    }
   ],
   "source": [
    "A = 'American'\n",
    "A.split('&')[0].lower()"
   ]
  },
  {
   "cell_type": "code",
   "execution_count": 280,
   "metadata": {},
   "outputs": [
    {
     "data": {
      "text/plain": [
       "['american',\n",
       " 'italian',\n",
       " 'asian',\n",
       " 'mexican',\n",
       " 'southern',\n",
       " 'french',\n",
       " 'southwestern',\n",
       " 'barbecue',\n",
       " 'indian',\n",
       " 'chinese',\n",
       " 'cajun',\n",
       " 'english',\n",
       " 'mediterranean',\n",
       " 'greek',\n",
       " 'spanish',\n",
       " 'german',\n",
       " 'thai',\n",
       " 'moroccan',\n",
       " 'irish',\n",
       " 'japanese',\n",
       " 'cuban',\n",
       " 'hawaiian',\n",
       " 'swedish',\n",
       " 'hungarian',\n",
       " 'portugese']"
      ]
     },
     "execution_count": 280,
     "metadata": {},
     "output_type": "execute_result"
    }
   ],
   "source": [
    "S_list_new"
   ]
  },
  {
   "cell_type": "code",
   "execution_count": 328,
   "metadata": {},
   "outputs": [
    {
     "name": "stdout",
     "output_type": "stream",
     "text": [
      "loading in data for cuisine: american\n",
      "loading in data for cuisine: italian\n",
      "loading in data for cuisine: asian\n",
      "loading in data for cuisine: mexican\n",
      "loading in data for cuisine: southern\n",
      "loading in data for cuisine: french\n",
      "loading in data for cuisine: southwestern\n",
      "loading in data for cuisine: barbecue\n",
      "loading in data for cuisine: indian\n",
      "loading in data for cuisine: chinese\n",
      "loading in data for cuisine: cajun\n",
      "loading in data for cuisine: english\n",
      "loading in data for cuisine: mediterranean\n",
      "Exception raised when requesting cuisine: mediterranean\n",
      "loading in data for cuisine: greek\n",
      "loading in data for cuisine: spanish\n",
      "loading in data for cuisine: german\n",
      "loading in data for cuisine: thai\n",
      "loading in data for cuisine: moroccan\n",
      "loading in data for cuisine: irish\n",
      "loading in data for cuisine: japanese\n",
      "Exception raised when requesting cuisine: japanese\n",
      "loading in data for cuisine: cuban\n",
      "Exception raised when requesting cuisine: cuban\n",
      "loading in data for cuisine: hawaiian\n",
      "Exception raised when requesting cuisine: hawaiian\n",
      "loading in data for cuisine: swedish\n",
      "loading in data for cuisine: hungarian\n",
      "loading in data for cuisine: portugese\n"
     ]
    }
   ],
   "source": [
    "yummly_df_merged = merge_cuisines(S_list_new,num_pages=10)"
   ]
  },
  {
   "cell_type": "code",
   "execution_count": 338,
   "metadata": {},
   "outputs": [
    {
     "data": {
      "text/plain": [
       "60"
      ]
     },
     "execution_count": 338,
     "metadata": {},
     "output_type": "execute_result"
    }
   ],
   "source": [
    "sum(yummly_df_merged['cuisine']=='mediterranean')"
   ]
  },
  {
   "cell_type": "code",
   "execution_count": 333,
   "metadata": {},
   "outputs": [],
   "source": [
    "df_temp = get_recipes(cuisine='cuban',num_pages=2)"
   ]
  },
  {
   "cell_type": "code",
   "execution_count": 334,
   "metadata": {},
   "outputs": [
    {
     "data": {
      "text/html": [
       "<div>\n",
       "<style scoped>\n",
       "    .dataframe tbody tr th:only-of-type {\n",
       "        vertical-align: middle;\n",
       "    }\n",
       "\n",
       "    .dataframe tbody tr th {\n",
       "        vertical-align: top;\n",
       "    }\n",
       "\n",
       "    .dataframe thead th {\n",
       "        text-align: right;\n",
       "    }\n",
       "</style>\n",
       "<table border=\"1\" class=\"dataframe\">\n",
       "  <thead>\n",
       "    <tr style=\"text-align: right;\">\n",
       "      <th></th>\n",
       "      <th>course</th>\n",
       "      <th>ingredients</th>\n",
       "      <th>recipe_name</th>\n",
       "      <th>rating</th>\n",
       "      <th>cuisine</th>\n",
       "      <th>bitter</th>\n",
       "      <th>meaty</th>\n",
       "      <th>piquant</th>\n",
       "      <th>salty</th>\n",
       "      <th>sour</th>\n",
       "      <th>sweet</th>\n",
       "    </tr>\n",
       "  </thead>\n",
       "  <tbody>\n",
       "    <tr>\n",
       "      <th>0</th>\n",
       "      <td>[Beverages, Cocktails]</td>\n",
       "      <td>['lime', 'mint leaves', 'sugar', 'white rum', ...</td>\n",
       "      <td>White Christmas Mojito.</td>\n",
       "      <td>4</td>\n",
       "      <td>cuban</td>\n",
       "      <td>NaN</td>\n",
       "      <td>NaN</td>\n",
       "      <td>NaN</td>\n",
       "      <td>NaN</td>\n",
       "      <td>NaN</td>\n",
       "      <td>NaN</td>\n",
       "    </tr>\n",
       "    <tr>\n",
       "      <th>1</th>\n",
       "      <td>[Lunch]</td>\n",
       "      <td>['buns', 'mustard', 'swiss cheese', 'pork loin...</td>\n",
       "      <td>Cuban Sandwich</td>\n",
       "      <td>5</td>\n",
       "      <td>cuban</td>\n",
       "      <td>NaN</td>\n",
       "      <td>NaN</td>\n",
       "      <td>NaN</td>\n",
       "      <td>NaN</td>\n",
       "      <td>NaN</td>\n",
       "      <td>NaN</td>\n",
       "    </tr>\n",
       "    <tr>\n",
       "      <th>2</th>\n",
       "      <td>[Side Dishes]</td>\n",
       "      <td>['olive oil', 'onions', 'garlic', 'scallions',...</td>\n",
       "      <td>Cuban Style Black Beans</td>\n",
       "      <td>4</td>\n",
       "      <td>cuban</td>\n",
       "      <td>0.166667</td>\n",
       "      <td>0.166667</td>\n",
       "      <td>0.166667</td>\n",
       "      <td>0.833333</td>\n",
       "      <td>0.500000</td>\n",
       "      <td>0.166667</td>\n",
       "    </tr>\n",
       "    <tr>\n",
       "      <th>3</th>\n",
       "      <td>[Main Dishes]</td>\n",
       "      <td>['cumin', 'garlic', 'red chili peppers', 'pepp...</td>\n",
       "      <td>Cuban Chicken and Black Bean Quinoa Bowls with...</td>\n",
       "      <td>4</td>\n",
       "      <td>cuban</td>\n",
       "      <td>0.166667</td>\n",
       "      <td>0.166667</td>\n",
       "      <td>0.833333</td>\n",
       "      <td>0.166667</td>\n",
       "      <td>0.833333</td>\n",
       "      <td>0.333333</td>\n",
       "    </tr>\n",
       "    <tr>\n",
       "      <th>4</th>\n",
       "      <td>[Beverages, Cocktails]</td>\n",
       "      <td>['mint leaves', 'sugar', 'lime juice', 'lime',...</td>\n",
       "      <td>The Ultimate Mojito</td>\n",
       "      <td>5</td>\n",
       "      <td>cuban</td>\n",
       "      <td>NaN</td>\n",
       "      <td>NaN</td>\n",
       "      <td>NaN</td>\n",
       "      <td>NaN</td>\n",
       "      <td>NaN</td>\n",
       "      <td>NaN</td>\n",
       "    </tr>\n",
       "    <tr>\n",
       "      <th>5</th>\n",
       "      <td>[Lunch]</td>\n",
       "      <td>['bread', 'ham', 'pork', 'swiss cheese', 'dill...</td>\n",
       "      <td>Traditional Cuban Sandwich (Cubano)</td>\n",
       "      <td>4</td>\n",
       "      <td>cuban</td>\n",
       "      <td>NaN</td>\n",
       "      <td>NaN</td>\n",
       "      <td>NaN</td>\n",
       "      <td>NaN</td>\n",
       "      <td>NaN</td>\n",
       "      <td>NaN</td>\n",
       "    </tr>\n",
       "    <tr>\n",
       "      <th>6</th>\n",
       "      <td>[Main Dishes]</td>\n",
       "      <td>['bone in', 'garlic', 'onions', 'Seville orang...</td>\n",
       "      <td>Cuban Roast Pork (Lechon Asado)</td>\n",
       "      <td>5</td>\n",
       "      <td>cuban</td>\n",
       "      <td>NaN</td>\n",
       "      <td>NaN</td>\n",
       "      <td>NaN</td>\n",
       "      <td>NaN</td>\n",
       "      <td>NaN</td>\n",
       "      <td>NaN</td>\n",
       "    </tr>\n",
       "    <tr>\n",
       "      <th>7</th>\n",
       "      <td>[Side Dishes]</td>\n",
       "      <td>['corn husks', 'melted butter', 'grated cotija...</td>\n",
       "      <td>Cuban Grilled Corn</td>\n",
       "      <td>5</td>\n",
       "      <td>cuban</td>\n",
       "      <td>NaN</td>\n",
       "      <td>NaN</td>\n",
       "      <td>NaN</td>\n",
       "      <td>NaN</td>\n",
       "      <td>NaN</td>\n",
       "      <td>NaN</td>\n",
       "    </tr>\n",
       "    <tr>\n",
       "      <th>8</th>\n",
       "      <td>[Lunch]</td>\n",
       "      <td>['boiled ham', 'pork loin roast', 'swiss chees...</td>\n",
       "      <td>Cubano Sandwich</td>\n",
       "      <td>4</td>\n",
       "      <td>cuban</td>\n",
       "      <td>NaN</td>\n",
       "      <td>NaN</td>\n",
       "      <td>NaN</td>\n",
       "      <td>NaN</td>\n",
       "      <td>NaN</td>\n",
       "      <td>NaN</td>\n",
       "    </tr>\n",
       "    <tr>\n",
       "      <th>9</th>\n",
       "      <td>[Beverages, Cocktails]</td>\n",
       "      <td>['sugar', 'mint leaves', 'lime', 'light rum', ...</td>\n",
       "      <td>Red Mojitos</td>\n",
       "      <td>5</td>\n",
       "      <td>cuban</td>\n",
       "      <td>NaN</td>\n",
       "      <td>NaN</td>\n",
       "      <td>NaN</td>\n",
       "      <td>NaN</td>\n",
       "      <td>NaN</td>\n",
       "      <td>NaN</td>\n",
       "    </tr>\n",
       "    <tr>\n",
       "      <th>10</th>\n",
       "      <td>[Main Dishes]</td>\n",
       "      <td>['onions', 'garlic', 'tomatoes', 'pepper', 'ci...</td>\n",
       "      <td>Cuban Picadillo</td>\n",
       "      <td>5</td>\n",
       "      <td>cuban</td>\n",
       "      <td>0.166667</td>\n",
       "      <td>0.500000</td>\n",
       "      <td>0.333333</td>\n",
       "      <td>0.500000</td>\n",
       "      <td>0.166667</td>\n",
       "      <td>0.166667</td>\n",
       "    </tr>\n",
       "    <tr>\n",
       "      <th>11</th>\n",
       "      <td>[Lunch]</td>\n",
       "      <td>['buns', 'mustard', 'swiss', 'pork', 'corned b...</td>\n",
       "      <td>Corned Beef Cuban Grilled Cheese Sandwich</td>\n",
       "      <td>5</td>\n",
       "      <td>cuban</td>\n",
       "      <td>NaN</td>\n",
       "      <td>NaN</td>\n",
       "      <td>NaN</td>\n",
       "      <td>NaN</td>\n",
       "      <td>NaN</td>\n",
       "      <td>NaN</td>\n",
       "    </tr>\n",
       "    <tr>\n",
       "      <th>12</th>\n",
       "      <td>[Main Dishes]</td>\n",
       "      <td>['olive oil', 'skirt steak', 'bay leaves', 'gr...</td>\n",
       "      <td>Ropa vieja Cubana (Cuban Shredded beef)</td>\n",
       "      <td>4</td>\n",
       "      <td>cuban</td>\n",
       "      <td>NaN</td>\n",
       "      <td>NaN</td>\n",
       "      <td>NaN</td>\n",
       "      <td>NaN</td>\n",
       "      <td>NaN</td>\n",
       "      <td>NaN</td>\n",
       "    </tr>\n",
       "    <tr>\n",
       "      <th>13</th>\n",
       "      <td>[Main Dishes]</td>\n",
       "      <td>['pork leg', 'sour orange juice', 'garlic', 'o...</td>\n",
       "      <td>My Cuban mother in law’s “killer” Xmas Lechon ...</td>\n",
       "      <td>4</td>\n",
       "      <td>cuban</td>\n",
       "      <td>NaN</td>\n",
       "      <td>NaN</td>\n",
       "      <td>NaN</td>\n",
       "      <td>NaN</td>\n",
       "      <td>NaN</td>\n",
       "      <td>NaN</td>\n",
       "    </tr>\n",
       "    <tr>\n",
       "      <th>14</th>\n",
       "      <td>NaN</td>\n",
       "      <td>['boneless beef chuck', 'garlic cloves', 'onio...</td>\n",
       "      <td>Cuban Shredded Beef Recipe</td>\n",
       "      <td>3</td>\n",
       "      <td>cuban</td>\n",
       "      <td>NaN</td>\n",
       "      <td>NaN</td>\n",
       "      <td>NaN</td>\n",
       "      <td>NaN</td>\n",
       "      <td>NaN</td>\n",
       "      <td>NaN</td>\n",
       "    </tr>\n",
       "    <tr>\n",
       "      <th>15</th>\n",
       "      <td>[Beverages, Cocktails]</td>\n",
       "      <td>['watermelon', 'simple syrup', 'fresh mint', '...</td>\n",
       "      <td>Fresh Watermelon Mojitos</td>\n",
       "      <td>4</td>\n",
       "      <td>cuban</td>\n",
       "      <td>NaN</td>\n",
       "      <td>NaN</td>\n",
       "      <td>NaN</td>\n",
       "      <td>NaN</td>\n",
       "      <td>NaN</td>\n",
       "      <td>NaN</td>\n",
       "    </tr>\n",
       "    <tr>\n",
       "      <th>16</th>\n",
       "      <td>[Beverages, Cocktails]</td>\n",
       "      <td>['fresh lime juice', 'leaves', 'rocket leaves'...</td>\n",
       "      <td>Iced Green Tea Mojito</td>\n",
       "      <td>4</td>\n",
       "      <td>cuban</td>\n",
       "      <td>NaN</td>\n",
       "      <td>NaN</td>\n",
       "      <td>NaN</td>\n",
       "      <td>NaN</td>\n",
       "      <td>NaN</td>\n",
       "      <td>NaN</td>\n",
       "    </tr>\n",
       "    <tr>\n",
       "      <th>17</th>\n",
       "      <td>[Main Dishes]</td>\n",
       "      <td>['olive oil', 'boneless skinless chicken breas...</td>\n",
       "      <td>Mango Mojito Chicken</td>\n",
       "      <td>3</td>\n",
       "      <td>cuban</td>\n",
       "      <td>0.166667</td>\n",
       "      <td>0.166667</td>\n",
       "      <td>0.166667</td>\n",
       "      <td>0.166667</td>\n",
       "      <td>0.833333</td>\n",
       "      <td>0.333333</td>\n",
       "    </tr>\n",
       "    <tr>\n",
       "      <th>18</th>\n",
       "      <td>NaN</td>\n",
       "      <td>['sofrito', 'virgin olive oil', 'rice', 'water...</td>\n",
       "      <td>Easy Cuban Rice</td>\n",
       "      <td>4</td>\n",
       "      <td>cuban</td>\n",
       "      <td>0.166667</td>\n",
       "      <td>0.166667</td>\n",
       "      <td>0.000000</td>\n",
       "      <td>0.166667</td>\n",
       "      <td>0.166667</td>\n",
       "      <td>0.000000</td>\n",
       "    </tr>\n",
       "    <tr>\n",
       "      <th>19</th>\n",
       "      <td>NaN</td>\n",
       "      <td>['clove', 'salt', 'black peppercorns', 'oregan...</td>\n",
       "      <td>Mojo -- Cuban Marinade</td>\n",
       "      <td>4</td>\n",
       "      <td>cuban</td>\n",
       "      <td>0.500000</td>\n",
       "      <td>0.166667</td>\n",
       "      <td>0.500000</td>\n",
       "      <td>0.166667</td>\n",
       "      <td>0.833333</td>\n",
       "      <td>0.166667</td>\n",
       "    </tr>\n",
       "  </tbody>\n",
       "</table>\n",
       "</div>"
      ],
      "text/plain": [
       "                    course                                        ingredients  \\\n",
       "0   [Beverages, Cocktails]  ['lime', 'mint leaves', 'sugar', 'white rum', ...   \n",
       "1                  [Lunch]  ['buns', 'mustard', 'swiss cheese', 'pork loin...   \n",
       "2            [Side Dishes]  ['olive oil', 'onions', 'garlic', 'scallions',...   \n",
       "3            [Main Dishes]  ['cumin', 'garlic', 'red chili peppers', 'pepp...   \n",
       "4   [Beverages, Cocktails]  ['mint leaves', 'sugar', 'lime juice', 'lime',...   \n",
       "5                  [Lunch]  ['bread', 'ham', 'pork', 'swiss cheese', 'dill...   \n",
       "6            [Main Dishes]  ['bone in', 'garlic', 'onions', 'Seville orang...   \n",
       "7            [Side Dishes]  ['corn husks', 'melted butter', 'grated cotija...   \n",
       "8                  [Lunch]  ['boiled ham', 'pork loin roast', 'swiss chees...   \n",
       "9   [Beverages, Cocktails]  ['sugar', 'mint leaves', 'lime', 'light rum', ...   \n",
       "10           [Main Dishes]  ['onions', 'garlic', 'tomatoes', 'pepper', 'ci...   \n",
       "11                 [Lunch]  ['buns', 'mustard', 'swiss', 'pork', 'corned b...   \n",
       "12           [Main Dishes]  ['olive oil', 'skirt steak', 'bay leaves', 'gr...   \n",
       "13           [Main Dishes]  ['pork leg', 'sour orange juice', 'garlic', 'o...   \n",
       "14                     NaN  ['boneless beef chuck', 'garlic cloves', 'onio...   \n",
       "15  [Beverages, Cocktails]  ['watermelon', 'simple syrup', 'fresh mint', '...   \n",
       "16  [Beverages, Cocktails]  ['fresh lime juice', 'leaves', 'rocket leaves'...   \n",
       "17           [Main Dishes]  ['olive oil', 'boneless skinless chicken breas...   \n",
       "18                     NaN  ['sofrito', 'virgin olive oil', 'rice', 'water...   \n",
       "19                     NaN  ['clove', 'salt', 'black peppercorns', 'oregan...   \n",
       "\n",
       "                                          recipe_name rating cuisine  \\\n",
       "0                             White Christmas Mojito.      4   cuban   \n",
       "1                                      Cuban Sandwich      5   cuban   \n",
       "2                             Cuban Style Black Beans      4   cuban   \n",
       "3   Cuban Chicken and Black Bean Quinoa Bowls with...      4   cuban   \n",
       "4                                 The Ultimate Mojito      5   cuban   \n",
       "5                 Traditional Cuban Sandwich (Cubano)      4   cuban   \n",
       "6                     Cuban Roast Pork (Lechon Asado)      5   cuban   \n",
       "7                                  Cuban Grilled Corn      5   cuban   \n",
       "8                                     Cubano Sandwich      4   cuban   \n",
       "9                                         Red Mojitos      5   cuban   \n",
       "10                                    Cuban Picadillo      5   cuban   \n",
       "11          Corned Beef Cuban Grilled Cheese Sandwich      5   cuban   \n",
       "12            Ropa vieja Cubana (Cuban Shredded beef)      4   cuban   \n",
       "13  My Cuban mother in law’s “killer” Xmas Lechon ...      4   cuban   \n",
       "14                         Cuban Shredded Beef Recipe      3   cuban   \n",
       "15                           Fresh Watermelon Mojitos      4   cuban   \n",
       "16                              Iced Green Tea Mojito      4   cuban   \n",
       "17                               Mango Mojito Chicken      3   cuban   \n",
       "18                                    Easy Cuban Rice      4   cuban   \n",
       "19                             Mojo -- Cuban Marinade      4   cuban   \n",
       "\n",
       "      bitter     meaty   piquant     salty      sour     sweet  \n",
       "0        NaN       NaN       NaN       NaN       NaN       NaN  \n",
       "1        NaN       NaN       NaN       NaN       NaN       NaN  \n",
       "2   0.166667  0.166667  0.166667  0.833333  0.500000  0.166667  \n",
       "3   0.166667  0.166667  0.833333  0.166667  0.833333  0.333333  \n",
       "4        NaN       NaN       NaN       NaN       NaN       NaN  \n",
       "5        NaN       NaN       NaN       NaN       NaN       NaN  \n",
       "6        NaN       NaN       NaN       NaN       NaN       NaN  \n",
       "7        NaN       NaN       NaN       NaN       NaN       NaN  \n",
       "8        NaN       NaN       NaN       NaN       NaN       NaN  \n",
       "9        NaN       NaN       NaN       NaN       NaN       NaN  \n",
       "10  0.166667  0.500000  0.333333  0.500000  0.166667  0.166667  \n",
       "11       NaN       NaN       NaN       NaN       NaN       NaN  \n",
       "12       NaN       NaN       NaN       NaN       NaN       NaN  \n",
       "13       NaN       NaN       NaN       NaN       NaN       NaN  \n",
       "14       NaN       NaN       NaN       NaN       NaN       NaN  \n",
       "15       NaN       NaN       NaN       NaN       NaN       NaN  \n",
       "16       NaN       NaN       NaN       NaN       NaN       NaN  \n",
       "17  0.166667  0.166667  0.166667  0.166667  0.833333  0.333333  \n",
       "18  0.166667  0.166667  0.000000  0.166667  0.166667  0.000000  \n",
       "19  0.500000  0.166667  0.500000  0.166667  0.833333  0.166667  "
      ]
     },
     "execution_count": 334,
     "metadata": {},
     "output_type": "execute_result"
    }
   ],
   "source": [
    "df_temp"
   ]
  },
  {
   "cell_type": "code",
   "execution_count": 356,
   "metadata": {},
   "outputs": [
    {
     "name": "stdout",
     "output_type": "stream",
     "text": [
      "loading in data for cuisine: american\n",
      "loading in data for cuisine: italian\n",
      "loading in data for cuisine: asian\n",
      "Exception raised when requesting cuisine: asian\n",
      "loading in data for cuisine: mexican\n",
      "loading in data for cuisine: southern\n",
      "loading in data for cuisine: french\n",
      "Exception raised when requesting cuisine: french\n",
      "loading in data for cuisine: southwestern\n",
      "loading in data for cuisine: barbecue\n",
      "loading in data for cuisine: indian\n",
      "loading in data for cuisine: chinese\n",
      "loading in data for cuisine: cajun\n",
      "loading in data for cuisine: english\n",
      "loading in data for cuisine: mediterranean\n",
      "loading in data for cuisine: greek\n",
      "loading in data for cuisine: spanish\n",
      "Exception raised when requesting cuisine: spanish\n",
      "loading in data for cuisine: german\n",
      "Exception raised when requesting cuisine: german\n",
      "loading in data for cuisine: thai\n",
      "Exception raised when requesting cuisine: thai\n",
      "loading in data for cuisine: moroccan\n",
      "loading in data for cuisine: irish\n",
      "Exception raised when requesting cuisine: irish\n",
      "loading in data for cuisine: japanese\n",
      "Exception raised when requesting cuisine: japanese\n",
      "loading in data for cuisine: cuban\n",
      "Exception raised when requesting cuisine: cuban\n",
      "loading in data for cuisine: hawaiian\n",
      "loading in data for cuisine: swedish\n",
      "Exception raised when requesting cuisine: swedish\n",
      "loading in data for cuisine: hungarian\n",
      "Exception raised when requesting cuisine: hungarian\n",
      "loading in data for cuisine: portugese\n"
     ]
    }
   ],
   "source": [
    "yummly_df_merged_large = merge_cuisines(S_list_new,num_pages=20)"
   ]
  },
  {
   "cell_type": "code",
   "execution_count": 370,
   "metadata": {},
   "outputs": [
    {
     "data": {
      "text/plain": [
       "20"
      ]
     },
     "execution_count": 370,
     "metadata": {},
     "output_type": "execute_result"
    }
   ],
   "source": [
    "sum(yummly_df_merged_large['cuisine']=='swedish')"
   ]
  },
  {
   "cell_type": "code",
   "execution_count": 371,
   "metadata": {},
   "outputs": [
    {
     "data": {
      "text/plain": [
       "'swedish'"
      ]
     },
     "execution_count": 371,
     "metadata": {},
     "output_type": "execute_result"
    }
   ],
   "source": [
    "S_list_new[-3]"
   ]
  },
  {
   "cell_type": "code",
   "execution_count": 379,
   "metadata": {},
   "outputs": [],
   "source": [
    "yummly_df_swedish = get_recipes(cuisine='swedish',num_pages=100)"
   ]
  },
  {
   "cell_type": "code",
   "execution_count": 380,
   "metadata": {},
   "outputs": [
    {
     "data": {
      "text/plain": [
       "(929, 11)"
      ]
     },
     "execution_count": 380,
     "metadata": {},
     "output_type": "execute_result"
    }
   ],
   "source": [
    "yummly_df_swedish.shape"
   ]
  },
  {
   "cell_type": "code",
   "execution_count": 381,
   "metadata": {},
   "outputs": [
    {
     "name": "stdout",
     "output_type": "stream",
     "text": [
      "loading in data for cuisine: swedish\n",
      "loading in data for cuisine: hungarian\n",
      "loading in data for cuisine: portugese\n"
     ]
    }
   ],
   "source": [
    "yummly_df_merged_last3 = merge_cuisines(S_list_new[-3:],num_pages=20)"
   ]
  },
  {
   "cell_type": "code",
   "execution_count": 382,
   "metadata": {},
   "outputs": [
    {
     "data": {
      "text/plain": [
       "(599, 11)"
      ]
     },
     "execution_count": 382,
     "metadata": {},
     "output_type": "execute_result"
    }
   ],
   "source": [
    "yummly_df_merged_last3.shape"
   ]
  },
  {
   "cell_type": "code",
   "execution_count": 383,
   "metadata": {},
   "outputs": [
    {
     "name": "stdout",
     "output_type": "stream",
     "text": [
      "loading in data for cuisine: american\n",
      "loading in data for cuisine: italian\n",
      "loading in data for cuisine: asian\n",
      "loading in data for cuisine: mexican\n",
      "loading in data for cuisine: southern\n"
     ]
    }
   ],
   "source": [
    "yummly_df_merged_first5 = merge_cuisines(S_list_new[:5],num_pages=50)"
   ]
  },
  {
   "cell_type": "code",
   "execution_count": 384,
   "metadata": {},
   "outputs": [
    {
     "data": {
      "text/plain": [
       "(2500, 11)"
      ]
     },
     "execution_count": 384,
     "metadata": {},
     "output_type": "execute_result"
    }
   ],
   "source": [
    "yummly_df_merged_first5.shape"
   ]
  },
  {
   "cell_type": "code",
   "execution_count": 386,
   "metadata": {},
   "outputs": [
    {
     "name": "stdout",
     "output_type": "stream",
     "text": [
      "loading in data for cuisine: french\n",
      "loading in data for cuisine: southwestern\n",
      "loading in data for cuisine: barbecue\n",
      "loading in data for cuisine: indian\n",
      "loading in data for cuisine: chinese\n"
     ]
    }
   ],
   "source": [
    "# %load 383\n",
    "yummly_df_merged_second5 = merge_cuisines(S_list_new[5:10],num_pages=50)"
   ]
  },
  {
   "cell_type": "code",
   "execution_count": 388,
   "metadata": {},
   "outputs": [
    {
     "name": "stdout",
     "output_type": "stream",
     "text": [
      "loading in data for cuisine: cajun\n",
      "loading in data for cuisine: english\n",
      "loading in data for cuisine: mediterranean\n",
      "loading in data for cuisine: greek\n",
      "loading in data for cuisine: spanish\n"
     ]
    }
   ],
   "source": [
    "yummly_df_merged_third5 = merge_cuisines(S_list_new[10:15],num_pages=50)"
   ]
  },
  {
   "cell_type": "code",
   "execution_count": 390,
   "metadata": {},
   "outputs": [
    {
     "name": "stdout",
     "output_type": "stream",
     "text": [
      "loading in data for cuisine: german\n",
      "loading in data for cuisine: thai\n",
      "loading in data for cuisine: moroccan\n",
      "loading in data for cuisine: irish\n",
      "loading in data for cuisine: japanese\n"
     ]
    }
   ],
   "source": [
    "# %load 388\n",
    "yummly_df_merged_fouth5 = merge_cuisines(S_list_new[15:20],num_pages=50)"
   ]
  },
  {
   "cell_type": "code",
   "execution_count": 392,
   "metadata": {},
   "outputs": [
    {
     "data": {
      "text/plain": [
       "(25,)"
      ]
     },
     "execution_count": 392,
     "metadata": {},
     "output_type": "execute_result"
    }
   ],
   "source": [
    "np.shape(S_list_new)"
   ]
  },
  {
   "cell_type": "code",
   "execution_count": 394,
   "metadata": {},
   "outputs": [
    {
     "name": "stdout",
     "output_type": "stream",
     "text": [
      "loading in data for cuisine: cuban\n",
      "loading in data for cuisine: hawaiian\n",
      "loading in data for cuisine: swedish\n",
      "loading in data for cuisine: hungarian\n",
      "loading in data for cuisine: portugese\n"
     ]
    }
   ],
   "source": [
    "yummly_df_merged_fifth5 = merge_cuisines(S_list_new[20:25],num_pages=50)"
   ]
  },
  {
   "cell_type": "code",
   "execution_count": 409,
   "metadata": {},
   "outputs": [],
   "source": [
    "yummly_df_merged_large2 = pd.concat([yummly_df_merged_first5,yummly_df_merged_second5,\n",
    "                                    yummly_df_merged_third5,yummly_df_merged_fouth5,\n",
    "                                    yummly_df_merged_fifth5], ignore_index=True)"
   ]
  },
  {
   "cell_type": "code",
   "execution_count": 410,
   "metadata": {},
   "outputs": [
    {
     "data": {
      "text/plain": [
       "(12492, 11)"
      ]
     },
     "execution_count": 410,
     "metadata": {},
     "output_type": "execute_result"
    }
   ],
   "source": [
    "yummly_df_merged_large2.shape"
   ]
  },
  {
   "cell_type": "code",
   "execution_count": 411,
   "metadata": {},
   "outputs": [],
   "source": [
    "yummly_df_merged_large2.to_pickle('yummly_df.pkl')"
   ]
  },
  {
   "cell_type": "code",
   "execution_count": 412,
   "metadata": {},
   "outputs": [],
   "source": [
    "yummly_df = pd.read_pickle('yummly_df.pkl')"
   ]
  },
  {
   "cell_type": "code",
   "execution_count": 413,
   "metadata": {},
   "outputs": [
    {
     "data": {
      "text/html": [
       "<div>\n",
       "<style scoped>\n",
       "    .dataframe tbody tr th:only-of-type {\n",
       "        vertical-align: middle;\n",
       "    }\n",
       "\n",
       "    .dataframe tbody tr th {\n",
       "        vertical-align: top;\n",
       "    }\n",
       "\n",
       "    .dataframe thead th {\n",
       "        text-align: right;\n",
       "    }\n",
       "</style>\n",
       "<table border=\"1\" class=\"dataframe\">\n",
       "  <thead>\n",
       "    <tr style=\"text-align: right;\">\n",
       "      <th></th>\n",
       "      <th>bitter</th>\n",
       "      <th>course</th>\n",
       "      <th>cuisine</th>\n",
       "      <th>ingredients</th>\n",
       "      <th>meaty</th>\n",
       "      <th>piquant</th>\n",
       "      <th>rating</th>\n",
       "      <th>recipe_name</th>\n",
       "      <th>salty</th>\n",
       "      <th>sour</th>\n",
       "      <th>sweet</th>\n",
       "    </tr>\n",
       "  </thead>\n",
       "  <tbody>\n",
       "    <tr>\n",
       "      <th>0</th>\n",
       "      <td>0.666667</td>\n",
       "      <td>[Main Dishes]</td>\n",
       "      <td>american</td>\n",
       "      <td>['dried pasta', 'milk', 'shredded cheddar chee...</td>\n",
       "      <td>0.166667</td>\n",
       "      <td>0.166667</td>\n",
       "      <td>4</td>\n",
       "      <td>Revolutionary Mac &amp; Cheese</td>\n",
       "      <td>0.833333</td>\n",
       "      <td>0.166667</td>\n",
       "      <td>0.166667</td>\n",
       "    </tr>\n",
       "    <tr>\n",
       "      <th>1</th>\n",
       "      <td>0.500000</td>\n",
       "      <td>[Salads]</td>\n",
       "      <td>american</td>\n",
       "      <td>['tomatoes', 'avocado', 'red onion', 'chopped ...</td>\n",
       "      <td>0.166667</td>\n",
       "      <td>0.000000</td>\n",
       "      <td>4</td>\n",
       "      <td>Avocado and Tomato Salad</td>\n",
       "      <td>0.166667</td>\n",
       "      <td>0.833333</td>\n",
       "      <td>0.166667</td>\n",
       "    </tr>\n",
       "    <tr>\n",
       "      <th>2</th>\n",
       "      <td>NaN</td>\n",
       "      <td>[Breakfast and Brunch, Breads]</td>\n",
       "      <td>american</td>\n",
       "      <td>['melted butter', 'biscuit dough', 'fresh mozz...</td>\n",
       "      <td>NaN</td>\n",
       "      <td>NaN</td>\n",
       "      <td>5</td>\n",
       "      <td>Easy Cheesy Bacon Biscuit Pull-Aparts</td>\n",
       "      <td>NaN</td>\n",
       "      <td>NaN</td>\n",
       "      <td>NaN</td>\n",
       "    </tr>\n",
       "    <tr>\n",
       "      <th>3</th>\n",
       "      <td>NaN</td>\n",
       "      <td>[Side Dishes]</td>\n",
       "      <td>american</td>\n",
       "      <td>['cauliflower', 'extra-virgin olive oil', 'red...</td>\n",
       "      <td>NaN</td>\n",
       "      <td>NaN</td>\n",
       "      <td>5</td>\n",
       "      <td>Roasted Spicy Cauliflower</td>\n",
       "      <td>NaN</td>\n",
       "      <td>NaN</td>\n",
       "      <td>NaN</td>\n",
       "    </tr>\n",
       "    <tr>\n",
       "      <th>4</th>\n",
       "      <td>0.833333</td>\n",
       "      <td>NaN</td>\n",
       "      <td>american</td>\n",
       "      <td>['yukon gold potatoes', 'salt', 'smoked paprik...</td>\n",
       "      <td>0.166667</td>\n",
       "      <td>0.166667</td>\n",
       "      <td>5</td>\n",
       "      <td>Shakin’ Hash Browns</td>\n",
       "      <td>0.166667</td>\n",
       "      <td>0.666667</td>\n",
       "      <td>0.000000</td>\n",
       "    </tr>\n",
       "  </tbody>\n",
       "</table>\n",
       "</div>"
      ],
      "text/plain": [
       "     bitter                          course   cuisine  \\\n",
       "0  0.666667                   [Main Dishes]  american   \n",
       "1  0.500000                        [Salads]  american   \n",
       "2       NaN  [Breakfast and Brunch, Breads]  american   \n",
       "3       NaN                   [Side Dishes]  american   \n",
       "4  0.833333                             NaN  american   \n",
       "\n",
       "                                         ingredients     meaty   piquant  \\\n",
       "0  ['dried pasta', 'milk', 'shredded cheddar chee...  0.166667  0.166667   \n",
       "1  ['tomatoes', 'avocado', 'red onion', 'chopped ...  0.166667  0.000000   \n",
       "2  ['melted butter', 'biscuit dough', 'fresh mozz...       NaN       NaN   \n",
       "3  ['cauliflower', 'extra-virgin olive oil', 'red...       NaN       NaN   \n",
       "4  ['yukon gold potatoes', 'salt', 'smoked paprik...  0.166667  0.166667   \n",
       "\n",
       "  rating                            recipe_name     salty      sour     sweet  \n",
       "0      4             Revolutionary Mac & Cheese  0.833333  0.166667  0.166667  \n",
       "1      4               Avocado and Tomato Salad  0.166667  0.833333  0.166667  \n",
       "2      5  Easy Cheesy Bacon Biscuit Pull-Aparts       NaN       NaN       NaN  \n",
       "3      5              Roasted Spicy Cauliflower       NaN       NaN       NaN  \n",
       "4      5                    Shakin’ Hash Browns  0.166667  0.666667  0.000000  "
      ]
     },
     "execution_count": 413,
     "metadata": {},
     "output_type": "execute_result"
    }
   ],
   "source": [
    "yummly_df.head()"
   ]
  },
  {
   "cell_type": "code",
   "execution_count": 414,
   "metadata": {},
   "outputs": [
    {
     "data": {
      "text/html": [
       "<div>\n",
       "<style scoped>\n",
       "    .dataframe tbody tr th:only-of-type {\n",
       "        vertical-align: middle;\n",
       "    }\n",
       "\n",
       "    .dataframe tbody tr th {\n",
       "        vertical-align: top;\n",
       "    }\n",
       "\n",
       "    .dataframe thead th {\n",
       "        text-align: right;\n",
       "    }\n",
       "</style>\n",
       "<table border=\"1\" class=\"dataframe\">\n",
       "  <thead>\n",
       "    <tr style=\"text-align: right;\">\n",
       "      <th></th>\n",
       "      <th>bitter</th>\n",
       "      <th>course</th>\n",
       "      <th>cuisine</th>\n",
       "      <th>ingredients</th>\n",
       "      <th>meaty</th>\n",
       "      <th>piquant</th>\n",
       "      <th>rating</th>\n",
       "      <th>recipe_name</th>\n",
       "      <th>salty</th>\n",
       "      <th>sour</th>\n",
       "      <th>sweet</th>\n",
       "    </tr>\n",
       "  </thead>\n",
       "  <tbody>\n",
       "    <tr>\n",
       "      <th>12487</th>\n",
       "      <td>0.333333</td>\n",
       "      <td>[Salads]</td>\n",
       "      <td>portugese</td>\n",
       "      <td>['cherry tomatoes', 'fresh mozzarella cheese',...</td>\n",
       "      <td>0.166667</td>\n",
       "      <td>0.0</td>\n",
       "      <td>4</td>\n",
       "      <td>Caprese Salad Skewers</td>\n",
       "      <td>0.166667</td>\n",
       "      <td>0.666667</td>\n",
       "      <td>0.333333</td>\n",
       "    </tr>\n",
       "    <tr>\n",
       "      <th>12488</th>\n",
       "      <td>NaN</td>\n",
       "      <td>NaN</td>\n",
       "      <td>portugese</td>\n",
       "      <td>['pie crust', 'large egg yolks', 'unsalted mar...</td>\n",
       "      <td>NaN</td>\n",
       "      <td>NaN</td>\n",
       "      <td>4</td>\n",
       "      <td>Perfect Pecan Pie</td>\n",
       "      <td>NaN</td>\n",
       "      <td>NaN</td>\n",
       "      <td>NaN</td>\n",
       "    </tr>\n",
       "    <tr>\n",
       "      <th>12489</th>\n",
       "      <td>NaN</td>\n",
       "      <td>[Breads]</td>\n",
       "      <td>portugese</td>\n",
       "      <td>['warm water', 'sugar', 'active dry yeast', 'g...</td>\n",
       "      <td>NaN</td>\n",
       "      <td>NaN</td>\n",
       "      <td>4</td>\n",
       "      <td>Super Easy Gluten-Free Naan Bread</td>\n",
       "      <td>NaN</td>\n",
       "      <td>NaN</td>\n",
       "      <td>NaN</td>\n",
       "    </tr>\n",
       "    <tr>\n",
       "      <th>12490</th>\n",
       "      <td>NaN</td>\n",
       "      <td>[Appetizers]</td>\n",
       "      <td>portugese</td>\n",
       "      <td>['chicken wings', 'dijon mustard', 'honey', 'r...</td>\n",
       "      <td>NaN</td>\n",
       "      <td>NaN</td>\n",
       "      <td>4</td>\n",
       "      <td>5-Ingredient Slow Cooker Honey-Dijon Chicken W...</td>\n",
       "      <td>NaN</td>\n",
       "      <td>NaN</td>\n",
       "      <td>NaN</td>\n",
       "    </tr>\n",
       "    <tr>\n",
       "      <th>12491</th>\n",
       "      <td>0.166667</td>\n",
       "      <td>[Condiments and Sauces]</td>\n",
       "      <td>portugese</td>\n",
       "      <td>['white wine', 'cream', 'butter', 'fresh lemon...</td>\n",
       "      <td>0.166667</td>\n",
       "      <td>0.0</td>\n",
       "      <td>4</td>\n",
       "      <td>Lemon Butter Sauce</td>\n",
       "      <td>0.166667</td>\n",
       "      <td>0.333333</td>\n",
       "      <td>0.166667</td>\n",
       "    </tr>\n",
       "  </tbody>\n",
       "</table>\n",
       "</div>"
      ],
      "text/plain": [
       "         bitter                   course    cuisine  \\\n",
       "12487  0.333333                 [Salads]  portugese   \n",
       "12488       NaN                      NaN  portugese   \n",
       "12489       NaN                 [Breads]  portugese   \n",
       "12490       NaN             [Appetizers]  portugese   \n",
       "12491  0.166667  [Condiments and Sauces]  portugese   \n",
       "\n",
       "                                             ingredients     meaty  piquant  \\\n",
       "12487  ['cherry tomatoes', 'fresh mozzarella cheese',...  0.166667      0.0   \n",
       "12488  ['pie crust', 'large egg yolks', 'unsalted mar...       NaN      NaN   \n",
       "12489  ['warm water', 'sugar', 'active dry yeast', 'g...       NaN      NaN   \n",
       "12490  ['chicken wings', 'dijon mustard', 'honey', 'r...       NaN      NaN   \n",
       "12491  ['white wine', 'cream', 'butter', 'fresh lemon...  0.166667      0.0   \n",
       "\n",
       "      rating                                        recipe_name     salty  \\\n",
       "12487      4                              Caprese Salad Skewers  0.166667   \n",
       "12488      4                                  Perfect Pecan Pie       NaN   \n",
       "12489      4                  Super Easy Gluten-Free Naan Bread       NaN   \n",
       "12490      4  5-Ingredient Slow Cooker Honey-Dijon Chicken W...       NaN   \n",
       "12491      4                                 Lemon Butter Sauce  0.166667   \n",
       "\n",
       "           sour     sweet  \n",
       "12487  0.666667  0.333333  \n",
       "12488       NaN       NaN  \n",
       "12489       NaN       NaN  \n",
       "12490       NaN       NaN  \n",
       "12491  0.333333  0.166667  "
      ]
     },
     "execution_count": 414,
     "metadata": {},
     "output_type": "execute_result"
    }
   ],
   "source": [
    "yummly_df.tail()"
   ]
  },
  {
   "cell_type": "markdown",
   "metadata": {},
   "source": [
    "Let's look at our class balance."
   ]
  },
  {
   "cell_type": "code",
   "execution_count": 415,
   "metadata": {},
   "outputs": [
    {
     "data": {
      "text/html": [
       "<div>\n",
       "<style scoped>\n",
       "    .dataframe tbody tr th:only-of-type {\n",
       "        vertical-align: middle;\n",
       "    }\n",
       "\n",
       "    .dataframe tbody tr th {\n",
       "        vertical-align: top;\n",
       "    }\n",
       "\n",
       "    .dataframe thead th {\n",
       "        text-align: right;\n",
       "    }\n",
       "</style>\n",
       "<table border=\"1\" class=\"dataframe\">\n",
       "  <thead>\n",
       "    <tr style=\"text-align: right;\">\n",
       "      <th></th>\n",
       "      <th>bitter</th>\n",
       "      <th>course</th>\n",
       "      <th>ingredients</th>\n",
       "      <th>meaty</th>\n",
       "      <th>piquant</th>\n",
       "      <th>rating</th>\n",
       "      <th>recipe_name</th>\n",
       "      <th>salty</th>\n",
       "      <th>sour</th>\n",
       "      <th>sweet</th>\n",
       "    </tr>\n",
       "    <tr>\n",
       "      <th>cuisine</th>\n",
       "      <th></th>\n",
       "      <th></th>\n",
       "      <th></th>\n",
       "      <th></th>\n",
       "      <th></th>\n",
       "      <th></th>\n",
       "      <th></th>\n",
       "      <th></th>\n",
       "      <th></th>\n",
       "      <th></th>\n",
       "    </tr>\n",
       "  </thead>\n",
       "  <tbody>\n",
       "    <tr>\n",
       "      <th>american</th>\n",
       "      <td>315</td>\n",
       "      <td>467</td>\n",
       "      <td>500</td>\n",
       "      <td>315</td>\n",
       "      <td>315</td>\n",
       "      <td>500</td>\n",
       "      <td>500</td>\n",
       "      <td>315</td>\n",
       "      <td>315</td>\n",
       "      <td>315</td>\n",
       "    </tr>\n",
       "    <tr>\n",
       "      <th>asian</th>\n",
       "      <td>336</td>\n",
       "      <td>433</td>\n",
       "      <td>500</td>\n",
       "      <td>336</td>\n",
       "      <td>336</td>\n",
       "      <td>500</td>\n",
       "      <td>500</td>\n",
       "      <td>336</td>\n",
       "      <td>336</td>\n",
       "      <td>336</td>\n",
       "    </tr>\n",
       "    <tr>\n",
       "      <th>barbecue</th>\n",
       "      <td>336</td>\n",
       "      <td>449</td>\n",
       "      <td>500</td>\n",
       "      <td>336</td>\n",
       "      <td>336</td>\n",
       "      <td>500</td>\n",
       "      <td>500</td>\n",
       "      <td>336</td>\n",
       "      <td>336</td>\n",
       "      <td>336</td>\n",
       "    </tr>\n",
       "    <tr>\n",
       "      <th>cajun</th>\n",
       "      <td>380</td>\n",
       "      <td>443</td>\n",
       "      <td>500</td>\n",
       "      <td>380</td>\n",
       "      <td>380</td>\n",
       "      <td>500</td>\n",
       "      <td>500</td>\n",
       "      <td>380</td>\n",
       "      <td>380</td>\n",
       "      <td>380</td>\n",
       "    </tr>\n",
       "    <tr>\n",
       "      <th>chinese</th>\n",
       "      <td>364</td>\n",
       "      <td>437</td>\n",
       "      <td>500</td>\n",
       "      <td>364</td>\n",
       "      <td>364</td>\n",
       "      <td>500</td>\n",
       "      <td>500</td>\n",
       "      <td>364</td>\n",
       "      <td>364</td>\n",
       "      <td>364</td>\n",
       "    </tr>\n",
       "    <tr>\n",
       "      <th>cuban</th>\n",
       "      <td>273</td>\n",
       "      <td>465</td>\n",
       "      <td>500</td>\n",
       "      <td>273</td>\n",
       "      <td>273</td>\n",
       "      <td>500</td>\n",
       "      <td>500</td>\n",
       "      <td>273</td>\n",
       "      <td>273</td>\n",
       "      <td>273</td>\n",
       "    </tr>\n",
       "    <tr>\n",
       "      <th>english</th>\n",
       "      <td>336</td>\n",
       "      <td>481</td>\n",
       "      <td>500</td>\n",
       "      <td>336</td>\n",
       "      <td>336</td>\n",
       "      <td>500</td>\n",
       "      <td>500</td>\n",
       "      <td>336</td>\n",
       "      <td>336</td>\n",
       "      <td>336</td>\n",
       "    </tr>\n",
       "    <tr>\n",
       "      <th>french</th>\n",
       "      <td>368</td>\n",
       "      <td>470</td>\n",
       "      <td>500</td>\n",
       "      <td>368</td>\n",
       "      <td>368</td>\n",
       "      <td>500</td>\n",
       "      <td>500</td>\n",
       "      <td>368</td>\n",
       "      <td>368</td>\n",
       "      <td>368</td>\n",
       "    </tr>\n",
       "    <tr>\n",
       "      <th>german</th>\n",
       "      <td>370</td>\n",
       "      <td>401</td>\n",
       "      <td>500</td>\n",
       "      <td>370</td>\n",
       "      <td>370</td>\n",
       "      <td>500</td>\n",
       "      <td>500</td>\n",
       "      <td>370</td>\n",
       "      <td>370</td>\n",
       "      <td>370</td>\n",
       "    </tr>\n",
       "    <tr>\n",
       "      <th>greek</th>\n",
       "      <td>362</td>\n",
       "      <td>465</td>\n",
       "      <td>500</td>\n",
       "      <td>362</td>\n",
       "      <td>362</td>\n",
       "      <td>500</td>\n",
       "      <td>500</td>\n",
       "      <td>362</td>\n",
       "      <td>362</td>\n",
       "      <td>362</td>\n",
       "    </tr>\n",
       "    <tr>\n",
       "      <th>hawaiian</th>\n",
       "      <td>323</td>\n",
       "      <td>474</td>\n",
       "      <td>500</td>\n",
       "      <td>323</td>\n",
       "      <td>323</td>\n",
       "      <td>500</td>\n",
       "      <td>500</td>\n",
       "      <td>323</td>\n",
       "      <td>323</td>\n",
       "      <td>323</td>\n",
       "    </tr>\n",
       "    <tr>\n",
       "      <th>hungarian</th>\n",
       "      <td>396</td>\n",
       "      <td>478</td>\n",
       "      <td>500</td>\n",
       "      <td>396</td>\n",
       "      <td>396</td>\n",
       "      <td>500</td>\n",
       "      <td>500</td>\n",
       "      <td>396</td>\n",
       "      <td>396</td>\n",
       "      <td>396</td>\n",
       "    </tr>\n",
       "    <tr>\n",
       "      <th>indian</th>\n",
       "      <td>291</td>\n",
       "      <td>389</td>\n",
       "      <td>500</td>\n",
       "      <td>291</td>\n",
       "      <td>291</td>\n",
       "      <td>500</td>\n",
       "      <td>500</td>\n",
       "      <td>291</td>\n",
       "      <td>291</td>\n",
       "      <td>291</td>\n",
       "    </tr>\n",
       "    <tr>\n",
       "      <th>irish</th>\n",
       "      <td>340</td>\n",
       "      <td>464</td>\n",
       "      <td>500</td>\n",
       "      <td>340</td>\n",
       "      <td>340</td>\n",
       "      <td>500</td>\n",
       "      <td>500</td>\n",
       "      <td>340</td>\n",
       "      <td>340</td>\n",
       "      <td>340</td>\n",
       "    </tr>\n",
       "    <tr>\n",
       "      <th>italian</th>\n",
       "      <td>303</td>\n",
       "      <td>441</td>\n",
       "      <td>500</td>\n",
       "      <td>303</td>\n",
       "      <td>303</td>\n",
       "      <td>500</td>\n",
       "      <td>500</td>\n",
       "      <td>303</td>\n",
       "      <td>303</td>\n",
       "      <td>303</td>\n",
       "    </tr>\n",
       "    <tr>\n",
       "      <th>japanese</th>\n",
       "      <td>275</td>\n",
       "      <td>400</td>\n",
       "      <td>499</td>\n",
       "      <td>275</td>\n",
       "      <td>275</td>\n",
       "      <td>499</td>\n",
       "      <td>499</td>\n",
       "      <td>275</td>\n",
       "      <td>275</td>\n",
       "      <td>275</td>\n",
       "    </tr>\n",
       "    <tr>\n",
       "      <th>mediterranean</th>\n",
       "      <td>347</td>\n",
       "      <td>475</td>\n",
       "      <td>500</td>\n",
       "      <td>347</td>\n",
       "      <td>347</td>\n",
       "      <td>500</td>\n",
       "      <td>500</td>\n",
       "      <td>347</td>\n",
       "      <td>347</td>\n",
       "      <td>347</td>\n",
       "    </tr>\n",
       "    <tr>\n",
       "      <th>mexican</th>\n",
       "      <td>322</td>\n",
       "      <td>417</td>\n",
       "      <td>500</td>\n",
       "      <td>322</td>\n",
       "      <td>322</td>\n",
       "      <td>500</td>\n",
       "      <td>500</td>\n",
       "      <td>322</td>\n",
       "      <td>322</td>\n",
       "      <td>322</td>\n",
       "    </tr>\n",
       "    <tr>\n",
       "      <th>moroccan</th>\n",
       "      <td>358</td>\n",
       "      <td>427</td>\n",
       "      <td>499</td>\n",
       "      <td>358</td>\n",
       "      <td>358</td>\n",
       "      <td>499</td>\n",
       "      <td>499</td>\n",
       "      <td>358</td>\n",
       "      <td>358</td>\n",
       "      <td>358</td>\n",
       "    </tr>\n",
       "    <tr>\n",
       "      <th>portugese</th>\n",
       "      <td>336</td>\n",
       "      <td>449</td>\n",
       "      <td>500</td>\n",
       "      <td>336</td>\n",
       "      <td>336</td>\n",
       "      <td>500</td>\n",
       "      <td>500</td>\n",
       "      <td>336</td>\n",
       "      <td>336</td>\n",
       "      <td>336</td>\n",
       "    </tr>\n",
       "    <tr>\n",
       "      <th>southern</th>\n",
       "      <td>373</td>\n",
       "      <td>418</td>\n",
       "      <td>500</td>\n",
       "      <td>373</td>\n",
       "      <td>373</td>\n",
       "      <td>500</td>\n",
       "      <td>500</td>\n",
       "      <td>373</td>\n",
       "      <td>373</td>\n",
       "      <td>373</td>\n",
       "    </tr>\n",
       "    <tr>\n",
       "      <th>southwestern</th>\n",
       "      <td>354</td>\n",
       "      <td>477</td>\n",
       "      <td>500</td>\n",
       "      <td>354</td>\n",
       "      <td>354</td>\n",
       "      <td>500</td>\n",
       "      <td>500</td>\n",
       "      <td>354</td>\n",
       "      <td>354</td>\n",
       "      <td>354</td>\n",
       "    </tr>\n",
       "    <tr>\n",
       "      <th>spanish</th>\n",
       "      <td>375</td>\n",
       "      <td>424</td>\n",
       "      <td>498</td>\n",
       "      <td>375</td>\n",
       "      <td>375</td>\n",
       "      <td>498</td>\n",
       "      <td>498</td>\n",
       "      <td>375</td>\n",
       "      <td>375</td>\n",
       "      <td>375</td>\n",
       "    </tr>\n",
       "    <tr>\n",
       "      <th>swedish</th>\n",
       "      <td>396</td>\n",
       "      <td>481</td>\n",
       "      <td>499</td>\n",
       "      <td>396</td>\n",
       "      <td>396</td>\n",
       "      <td>499</td>\n",
       "      <td>499</td>\n",
       "      <td>396</td>\n",
       "      <td>396</td>\n",
       "      <td>396</td>\n",
       "    </tr>\n",
       "    <tr>\n",
       "      <th>thai</th>\n",
       "      <td>268</td>\n",
       "      <td>448</td>\n",
       "      <td>497</td>\n",
       "      <td>268</td>\n",
       "      <td>268</td>\n",
       "      <td>497</td>\n",
       "      <td>497</td>\n",
       "      <td>268</td>\n",
       "      <td>268</td>\n",
       "      <td>268</td>\n",
       "    </tr>\n",
       "  </tbody>\n",
       "</table>\n",
       "</div>"
      ],
      "text/plain": [
       "               bitter  course  ingredients  meaty  piquant  rating  \\\n",
       "cuisine                                                              \n",
       "american          315     467          500    315      315     500   \n",
       "asian             336     433          500    336      336     500   \n",
       "barbecue          336     449          500    336      336     500   \n",
       "cajun             380     443          500    380      380     500   \n",
       "chinese           364     437          500    364      364     500   \n",
       "cuban             273     465          500    273      273     500   \n",
       "english           336     481          500    336      336     500   \n",
       "french            368     470          500    368      368     500   \n",
       "german            370     401          500    370      370     500   \n",
       "greek             362     465          500    362      362     500   \n",
       "hawaiian          323     474          500    323      323     500   \n",
       "hungarian         396     478          500    396      396     500   \n",
       "indian            291     389          500    291      291     500   \n",
       "irish             340     464          500    340      340     500   \n",
       "italian           303     441          500    303      303     500   \n",
       "japanese          275     400          499    275      275     499   \n",
       "mediterranean     347     475          500    347      347     500   \n",
       "mexican           322     417          500    322      322     500   \n",
       "moroccan          358     427          499    358      358     499   \n",
       "portugese         336     449          500    336      336     500   \n",
       "southern          373     418          500    373      373     500   \n",
       "southwestern      354     477          500    354      354     500   \n",
       "spanish           375     424          498    375      375     498   \n",
       "swedish           396     481          499    396      396     499   \n",
       "thai              268     448          497    268      268     497   \n",
       "\n",
       "               recipe_name  salty  sour  sweet  \n",
       "cuisine                                         \n",
       "american               500    315   315    315  \n",
       "asian                  500    336   336    336  \n",
       "barbecue               500    336   336    336  \n",
       "cajun                  500    380   380    380  \n",
       "chinese                500    364   364    364  \n",
       "cuban                  500    273   273    273  \n",
       "english                500    336   336    336  \n",
       "french                 500    368   368    368  \n",
       "german                 500    370   370    370  \n",
       "greek                  500    362   362    362  \n",
       "hawaiian               500    323   323    323  \n",
       "hungarian              500    396   396    396  \n",
       "indian                 500    291   291    291  \n",
       "irish                  500    340   340    340  \n",
       "italian                500    303   303    303  \n",
       "japanese               499    275   275    275  \n",
       "mediterranean          500    347   347    347  \n",
       "mexican                500    322   322    322  \n",
       "moroccan               499    358   358    358  \n",
       "portugese              500    336   336    336  \n",
       "southern               500    373   373    373  \n",
       "southwestern           500    354   354    354  \n",
       "spanish                498    375   375    375  \n",
       "swedish                499    396   396    396  \n",
       "thai                   497    268   268    268  "
      ]
     },
     "execution_count": 415,
     "metadata": {},
     "output_type": "execute_result"
    }
   ],
   "source": [
    "yummly_df.groupby('cuisine').count()"
   ]
  },
  {
   "cell_type": "markdown",
   "metadata": {},
   "source": [
    "The above shows that we are evenly balanced with approximately 500 recipes for each cuisine type."
   ]
  },
  {
   "cell_type": "code",
   "execution_count": 416,
   "metadata": {},
   "outputs": [
    {
     "data": {
      "text/plain": [
       "\"['tomatoes', 'avocado', 'red onion', 'chopped cilantro', 'lime', 'extra-virgin olive oil', 'salt']\""
      ]
     },
     "execution_count": 416,
     "metadata": {},
     "output_type": "execute_result"
    }
   ],
   "source": [
    "yummly_df['ingredients'][1]"
   ]
  },
  {
   "cell_type": "code",
   "execution_count": null,
   "metadata": {},
   "outputs": [],
   "source": []
  }
 ],
 "metadata": {
  "kernelspec": {
   "display_name": "Python 3",
   "language": "python",
   "name": "python3"
  },
  "language_info": {
   "codemirror_mode": {
    "name": "ipython",
    "version": 3
   },
   "file_extension": ".py",
   "mimetype": "text/x-python",
   "name": "python",
   "nbconvert_exporter": "python",
   "pygments_lexer": "ipython3",
   "version": "3.6.4"
  }
 },
 "nbformat": 4,
 "nbformat_minor": 2
}
