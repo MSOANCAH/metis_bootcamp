{
 "cells": [
  {
   "cell_type": "code",
   "execution_count": 1,
   "metadata": {},
   "outputs": [],
   "source": [
    "import requests\n",
    "import pandas as pd\n",
    "import numpy as np"
   ]
  },
  {
   "cell_type": "code",
   "execution_count": 3,
   "metadata": {},
   "outputs": [],
   "source": [
    "yummly_url1 = 'http://api.yummly.com/v1/api/recipes?_app_id=ab3c96d5&_app_key=57476e58107ffca18d1585f2b463d78e&q=pasta'"
   ]
  },
  {
   "cell_type": "code",
   "execution_count": 4,
   "metadata": {},
   "outputs": [],
   "source": [
    "resp1 = requests.get(yummly_url1)"
   ]
  },
  {
   "cell_type": "code",
   "execution_count": 11,
   "metadata": {},
   "outputs": [],
   "source": [
    "data1 = resp1.json()"
   ]
  },
  {
   "cell_type": "code",
   "execution_count": 18,
   "metadata": {},
   "outputs": [
    {
     "data": {
      "text/plain": [
       "dict_keys(['criteria', 'matches', 'facetCounts', 'totalMatchCount', 'attribution'])"
      ]
     },
     "execution_count": 18,
     "metadata": {},
     "output_type": "execute_result"
    }
   ],
   "source": [
    "data1.keys()"
   ]
  },
  {
   "cell_type": "code",
   "execution_count": 36,
   "metadata": {},
   "outputs": [
    {
     "data": {
      "text/plain": [
       "{'attributes': {'course': ['Main Dishes']},\n",
       " 'flavors': {'bitter': 0.16666666666666666,\n",
       "  'meaty': 0.6666666666666666,\n",
       "  'piquant': 0.0,\n",
       "  'salty': 0.16666666666666666,\n",
       "  'sour': 0.8333333333333334,\n",
       "  'sweet': 0.16666666666666666},\n",
       " 'id': 'Lemon-Chicken-Pasta-2236012',\n",
       " 'imageUrlsBySize': {'90': 'https://lh3.googleusercontent.com/ph6abYxDkKlr2GjUltVjS-0FAPfsD79PLxzTO3Fm9yaS6cN2FaSbVRkHRgd9puG8D_OHaObkUoo98D2wCpp40Q=s90-c'},\n",
       " 'ingredients': ['linguine',\n",
       "  'butter',\n",
       "  'chicken',\n",
       "  'chopped parsley',\n",
       "  'lemon juice',\n",
       "  'grated parmesan cheese',\n",
       "  'lemon slices'],\n",
       " 'rating': 4,\n",
       " 'recipeName': 'Lemon Chicken Pasta',\n",
       " 'smallImageUrls': ['https://lh3.googleusercontent.com/6eEhhDviHgt0rOj1sRMleu91iMs2FK9tqOyJbm5sXfy4Cpok5OjONIQ41RWzgWRFRDclvCZyeHoLtkXVRC5bIw=s90'],\n",
       " 'sourceDisplayName': 'Framed Cooks',\n",
       " 'totalTimeInSeconds': 1800}"
      ]
     },
     "execution_count": 36,
     "metadata": {},
     "output_type": "execute_result"
    }
   ],
   "source": [
    "data1['matches'][3]"
   ]
  },
  {
   "cell_type": "code",
   "execution_count": 21,
   "metadata": {},
   "outputs": [
    {
     "data": {
      "text/plain": [
       "{'allowedIngredient': None, 'excludedIngredient': None, 'q': 'pasta'}"
      ]
     },
     "execution_count": 21,
     "metadata": {},
     "output_type": "execute_result"
    }
   ],
   "source": [
    "data1['criteria']"
   ]
  },
  {
   "cell_type": "code",
   "execution_count": 22,
   "metadata": {},
   "outputs": [
    {
     "data": {
      "text/plain": [
       "{}"
      ]
     },
     "execution_count": 22,
     "metadata": {},
     "output_type": "execute_result"
    }
   ],
   "source": [
    "data1['facetCounts']"
   ]
  },
  {
   "cell_type": "code",
   "execution_count": 23,
   "metadata": {},
   "outputs": [
    {
     "data": {
      "text/plain": [
       "101657"
      ]
     },
     "execution_count": 23,
     "metadata": {},
     "output_type": "execute_result"
    }
   ],
   "source": [
    "data1['totalMatchCount']"
   ]
  },
  {
   "cell_type": "code",
   "execution_count": 29,
   "metadata": {},
   "outputs": [
    {
     "ename": "IndexError",
     "evalue": "list index out of range",
     "output_type": "error",
     "traceback": [
      "\u001b[0;31m---------------------------------------------------------------------------\u001b[0m",
      "\u001b[0;31mIndexError\u001b[0m                                Traceback (most recent call last)",
      "\u001b[0;32m<ipython-input-29-6b418ccee99e>\u001b[0m in \u001b[0;36m<module>\u001b[0;34m()\u001b[0m\n\u001b[0;32m----> 1\u001b[0;31m \u001b[0mdata1\u001b[0m\u001b[0;34m[\u001b[0m\u001b[0;34m'matches'\u001b[0m\u001b[0;34m]\u001b[0m\u001b[0;34m[\u001b[0m\u001b[0;36m10\u001b[0m\u001b[0;34m]\u001b[0m\u001b[0;34m\u001b[0m\u001b[0m\n\u001b[0m",
      "\u001b[0;31mIndexError\u001b[0m: list index out of range"
     ]
    }
   ],
   "source": []
  },
  {
   "cell_type": "code",
   "execution_count": null,
   "metadata": {},
   "outputs": [],
   "source": []
  }
 ],
 "metadata": {
  "kernelspec": {
   "display_name": "Python 3",
   "language": "python",
   "name": "python3"
  },
  "language_info": {
   "codemirror_mode": {
    "name": "ipython",
    "version": 3
   },
   "file_extension": ".py",
   "mimetype": "text/x-python",
   "name": "python",
   "nbconvert_exporter": "python",
   "pygments_lexer": "ipython3",
   "version": "3.6.4"
  }
 },
 "nbformat": 4,
 "nbformat_minor": 2
}
